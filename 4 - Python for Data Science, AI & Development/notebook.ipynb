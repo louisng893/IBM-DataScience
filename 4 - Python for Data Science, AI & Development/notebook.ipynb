{
 "cells": [
  {
   "cell_type": "markdown",
   "id": "1aae7500",
   "metadata": {},
   "source": [
    "# Python for Data Science, AI & Development"
   ]
  },
  {
   "cell_type": "markdown",
   "id": "350ae353",
   "metadata": {},
   "source": [
    "## Module 1: Python Basics"
   ]
  },
  {
   "cell_type": "markdown",
   "id": "631bd481",
   "metadata": {},
   "source": [
    "## Module 2: Python Data Structures"
   ]
  },
  {
   "cell_type": "markdown",
   "id": "b237a4d1",
   "metadata": {},
   "source": [
    "## Module 3: Python Programming Fundamentals"
   ]
  },
  {
   "cell_type": "markdown",
   "id": "81197b08",
   "metadata": {},
   "source": [
    "## Module 4: How to Work with Data"
   ]
  },
  {
   "cell_type": "markdown",
   "id": "bae8fb85",
   "metadata": {},
   "source": [
    "## Read, Write, Append and others with files"
   ]
  },
  {
   "cell_type": "code",
   "execution_count": 1,
   "id": "747ffe9e",
   "metadata": {},
   "outputs": [
    {
     "name": "stdout",
     "output_type": "stream",
     "text": [
      "TXT test file\n",
      "Purpose: Provide example of this file type\n",
      "Document file type: TXT\n",
      "Version: 1.0\n",
      "Remark:\n",
      "\n",
      "Example content:\n",
      "The names \"John Doe\" for males, \"Jane Doe\" or \"Jane Roe\" for females, or \"Jonnie Doe\" and \"Janie Doe\" for children, or just \"Doe\" non-gender-specifically are used as placeholder names for a party whose true identity is unknown or must be withheld in a legal action, case, or discussion. The names are also used to refer to acorpse or hospital patient whose identity is unknown. This practice is widely used in the United States and Canada, but is rarely used in other English-speaking countries including the United Kingdom itself, from where the use of \"John Doe\" in a legal context originates. The names Joe Bloggs or John Smith are used in the UK instead, as well as in Australia and New Zealand.\n",
      "\n",
      "John Doe is sometimes used to refer to a typical male in other contexts as well, in a similar manner to John Q. Public, known in Great Britain as Joe Public, John Smith or Joe Bloggs. For example, the first name listed on a form is often John Doe, along with a fictional address or other fictional information to provide an example of how to fill in the form. The name is also used frequently in popular culture, for example in the Frank Capra film Meet John Doe. John Doe was also the name of a 2002 American television series.\n",
      "\n",
      "Similarly, a child or baby whose identity is unknown may be referred to as Baby Doe. A notorious murder case in Kansas City, Missouri, referred to the baby victim as Precious Doe. Other unidentified female murder victims are Cali Doe and Princess Doe. Additional persons may be called James Doe, Judy Doe, etc. However, to avoid possible confusion, if two anonymous or unknown parties are cited in a specific case or action, the surnames Doe and Roe may be used simultaneously; for example, \"John Doe v. Jane Roe\". If several anonymous parties are referenced, they may simply be labelled John Doe #1, John Doe #2, etc. (the U.S. Operation Delego cited 21 (numbered) \"John Doe\"s) or labelled with other variants of Doe / Roe / Poe / etc. Other early alternatives such as John Stiles and Richard Miles are now rarely used, and Mary Major has been used in some American federal cases.\n",
      "\n",
      "\n",
      "\n",
      "File created by https://www.online-convert.com\n",
      "More example files: https://www.online-convert.com/file-type\n",
      "Text of Example content: Wikipedia (https://en.wikipedia.org/wiki/John_Doe)\n",
      "License: Attribution-ShareAlike 4.0 (https://creativecommons.org/licenses/by-sa/4.0/)\n",
      "\n",
      "Feel free to use and share the file according to the license above.\n"
     ]
    }
   ],
   "source": [
    "%load_ext autoreload\n",
    "%autoreload 2\n",
    "\n",
    "# Open the file that I want to read\n",
    "with open('file.txt','r') as file:\n",
    "    # Use the read method to read the entire content of the file\n",
    "    file_stuff = file.read()\n",
    "    # Manupulate or display the file content\n",
    "    print(file_stuff)\n",
    "# The 'with' statement automatically closes file when it's done\n",
    "\n"
   ]
  },
  {
   "cell_type": "code",
   "execution_count": 2,
   "id": "d2c9263f",
   "metadata": {},
   "outputs": [
    {
     "name": "stdout",
     "output_type": "stream",
     "text": [
      "TXT test file\n",
      "\n",
      "Purpose: Provide example of this file type\n",
      "\n",
      "This is a garbage\n"
     ]
    }
   ],
   "source": [
    "file1 = open('file.txt', 'r')\n",
    "line1 = file1.readline()\n",
    "line2 = file1.readline()\n",
    "print(line1)\n",
    "print(line2)\n",
    "if 'important' in line2:\n",
    "    print('This is important')\n",
    "else:\n",
    "    print('This is a garbage')\n"
   ]
  },
  {
   "cell_type": "code",
   "execution_count": 3,
   "id": "3816f6a7",
   "metadata": {},
   "outputs": [
    {
     "name": "stdout",
     "output_type": "stream",
     "text": [
      "Document file type: TXT\n",
      "\n",
      "Version: 1.0\n",
      "\n",
      "Remark:\n",
      "\n",
      "\n",
      "\n",
      "Example content:\n",
      "\n",
      "The names \"John Doe\" for males, \"Jane Doe\" or \"Jane Roe\" for females, or \"Jonnie Doe\" and \"Janie Doe\" for children, or just \"Doe\" non-gender-specifically are used as placeholder names for a party whose true identity is unknown or must be withheld in a legal action, case, or discussion. The names are also used to refer to acorpse or hospital patient whose identity is unknown. This practice is widely used in the United States and Canada, but is rarely used in other English-speaking countries including the United Kingdom itself, from where the use of \"John Doe\" in a legal context originates. The names Joe Bloggs or John Smith are used in the UK instead, as well as in Australia and New Zealand.\n",
      "\n",
      "\n",
      "\n",
      "John Doe is sometimes used to refer to a typical male in other contexts as well, in a similar manner to John Q. Public, known in Great Britain as Joe Public, John Smith or Joe Bloggs. For example, the first name listed on a form is often John Doe, along with a fictional address or other fictional information to provide an example of how to fill in the form. The name is also used frequently in popular culture, for example in the Frank Capra film Meet John Doe. John Doe was also the name of a 2002 American television series.\n",
      "\n",
      "\n",
      "\n",
      "Similarly, a child or baby whose identity is unknown may be referred to as Baby Doe. A notorious murder case in Kansas City, Missouri, referred to the baby victim as Precious Doe. Other unidentified female murder victims are Cali Doe and Princess Doe. Additional persons may be called James Doe, Judy Doe, etc. However, to avoid possible confusion, if two anonymous or unknown parties are cited in a specific case or action, the surnames Doe and Roe may be used simultaneously; for example, \"John Doe v. Jane Roe\". If several anonymous parties are referenced, they may simply be labelled John Doe #1, John Doe #2, etc. (the U.S. Operation Delego cited 21 (numbered) \"John Doe\"s) or labelled with other variants of Doe / Roe / Poe / etc. Other early alternatives such as John Stiles and Richard Miles are now rarely used, and Mary Major has been used in some American federal cases.\n",
      "\n",
      "\n",
      "\n",
      "\n",
      "\n",
      "\n",
      "\n",
      "File created by https://www.online-convert.com\n",
      "\n",
      "More example files: https://www.online-convert.com/file-type\n",
      "\n",
      "Text of Example content: Wikipedia (https://en.wikipedia.org/wiki/John_Doe)\n",
      "\n",
      "License: Attribution-ShareAlike 4.0 (https://creativecommons.org/licenses/by-sa/4.0/)\n",
      "\n",
      "\n",
      "\n",
      "Feel free to use and share the file according to the license above.\n"
     ]
    }
   ],
   "source": [
    "# Using loops to read lines until the end\n",
    "while True:\n",
    "    line = file1.readline()\n",
    "    if not line:\n",
    "        break # Stop when no more lines to read\n",
    "    print(line)"
   ]
  },
  {
   "cell_type": "code",
   "execution_count": 4,
   "id": "1a265393",
   "metadata": {},
   "outputs": [],
   "source": [
    "file.close()\n",
    "file1.close()"
   ]
  },
  {
   "cell_type": "code",
   "execution_count": 5,
   "id": "d3b38163",
   "metadata": {},
   "outputs": [
    {
     "data": {
      "text/plain": [
       "10"
      ]
     },
     "execution_count": 5,
     "metadata": {},
     "output_type": "execute_result"
    }
   ],
   "source": [
    "file2 = open('file.txt', 'r')\n",
    "file2.seek(10)"
   ]
  },
  {
   "cell_type": "code",
   "execution_count": 6,
   "id": "83b7b401",
   "metadata": {},
   "outputs": [
    {
     "name": "stdout",
     "output_type": "stream",
     "text": [
      "ile\n",
      "P\n"
     ]
    }
   ],
   "source": [
    "character = file2.read(5)\n",
    "print(character)\n"
   ]
  },
  {
   "cell_type": "code",
   "execution_count": 7,
   "id": "c25b97d0",
   "metadata": {},
   "outputs": [],
   "source": [
    "file2.close()"
   ]
  },
  {
   "cell_type": "markdown",
   "id": "b064975c",
   "metadata": {},
   "source": [
    "### Labs"
   ]
  },
  {
   "cell_type": "code",
   "execution_count": 8,
   "id": "bb63874a",
   "metadata": {},
   "outputs": [
    {
     "name": "stderr",
     "output_type": "stream",
     "text": [
      "'wget' is not recognized as an internal or external command,\n",
      "operable program or batch file.\n"
     ]
    }
   ],
   "source": [
    "## Uncomment these if working locally, else let the following code cell run.\n",
    "\n",
    "import urllib.request\n",
    "url = 'https://cf-courses-data.s3.us.cloud-object-storage.appdomain.cloud/IBMDeveloperSkillsNetwork-PY0101EN-SkillsNetwork/labs/Module%204/data/example1.txt'\n",
    "filename = 'Example1.txt'\n",
    "urllib.request.urlretrieve(url, filename)\n",
    "\n",
    "## Download Example file\n",
    "!wget Example1.txt https://cf-courses-data.s3.us.cloud-object-storage.appdomain.cloud/IBMDeveloperSkillsNetwork-PY0101EN-SkillsNetwork/labs/Module%204/data/example1.txt"
   ]
  },
  {
   "cell_type": "markdown",
   "id": "24a9617b",
   "metadata": {},
   "source": [
    "### Write to a file"
   ]
  },
  {
   "cell_type": "code",
   "execution_count": 9,
   "id": "7b62c844",
   "metadata": {},
   "outputs": [],
   "source": [
    "# Create a  new file Example2.txt for writing\n",
    "with open('Example2.txt', 'w') as file1:\n",
    "    file1.write('This is line A\\n')\n",
    "    file1.write('This is line B\\n')\n",
    "    # file1 is automatically closed when the 'with' block exits"
   ]
  },
  {
   "cell_type": "code",
   "execution_count": 10,
   "id": "3ceeaf56",
   "metadata": {},
   "outputs": [],
   "source": [
    "# List of lines to write to the file\n",
    "Lines = ['This is line 1', 'This is line 2', 'This is line 3']\n",
    "\n",
    "# Create a new file Example3.txt for writing\n",
    "with open('Example3.txt', 'w') as file2:\n",
    "    for line in Lines:\n",
    "        file2.write(line + '\\n')\n",
    "    # file2 is automatically close when the 'with' block exits"
   ]
  },
  {
   "cell_type": "markdown",
   "id": "5530a996",
   "metadata": {},
   "source": [
    "### Append data to an existing file\n"
   ]
  },
  {
   "cell_type": "code",
   "execution_count": 11,
   "id": "eae9b38e",
   "metadata": {},
   "outputs": [],
   "source": [
    "# Data to append to the existing file\n",
    "new_data = 'This is line C'\n",
    "\n",
    "# Open an existing file Example2.txt for appending\n",
    "with open('Example2.txt', 'a') as file1: # ì the file does not exist, it will be created\n",
    "    file1.write(new_data + '\\n')\n",
    "    # file1 is automatically closed when the 'with' block exists"
   ]
  },
  {
   "cell_type": "markdown",
   "id": "7d20da43",
   "metadata": {},
   "source": [
    "### Copying contents from one file to another"
   ]
  },
  {
   "cell_type": "code",
   "execution_count": 12,
   "id": "73f6a475",
   "metadata": {},
   "outputs": [],
   "source": [
    "# Open the source file for reading\n",
    "with open('file.txt', 'r') as source_file:\n",
    "    # Open/ Create a new destination file for writing\n",
    "    with open('destination.txt', 'w') as des_file:\n",
    "        # Read line from the source file and write it to the destination file\n",
    "        for line in source_file:\n",
    "            des_file.write(line)\n",
    "    # Destination file is automatically closed when the 'with' block exits\n",
    "# Source file is automatically closed when the 'with' block exits"
   ]
  },
  {
   "cell_type": "markdown",
   "id": "e42b3c4e",
   "metadata": {},
   "source": [
    "### File modes in Python (syntax and use cases)\n",
    "| Mode | Syntax | Description |\n",
    "|------|--------|-------------|\n",
    "| 'r' | 'r' | Read mode. Open an existing file for reading. Raises an error if the file doesn't exist.|\n",
    "| 'w' | 'w' | Write mode. Creates a new file for writing. Overwrites the file if it already exists. |\n",
    "| 'a' | 'a' | Append mode. Opens a file for appending data. Creates the file if it doesn't exist. |\n",
    "| 'x' | 'x' | Exclusive creation mode. Creates a new file for writing but raises an error if the file already exists. |\n",
    "| 'rb' | 'rb' | Read binary mode. Opens an existing binary file for reading. |\n",
    "| 'wb' | 'wb' | Write binary mode. Creates a new binary file for writing. |\n",
    "| 'ab' | 'ab' | Append binary mode. Opens a binary file for appending data. |\n",
    "| 'xb' | 'xb' | Exclusive binary creation mode. Creates a new binary file for writing but raises an error if it already exists. |\n",
    "| 'rt' | 'rt' | Read text mode. Opens an existing text file for reading. (Default for text files) |\n",
    "| 'r+' | 'r+' | Read and write mode. Opens an existing file for both reading and writing. |\n",
    "| 'w+' | 'w+' | Write and read mode. Creates a new file for reading and writing. Overwrites the file if it already exists.|\n",
    "| 'a+' | 'a+' | Append and read mode. Opens a file for both appending and reading. Creates the file if it doesn't exist. |\n",
    "| 'x+' | 'x+' | Exclusive creation and read/write mode. Creates a new file for reading and writing but raises an error if it already exists. |"
   ]
  },
  {
   "cell_type": "markdown",
   "id": "0e5d8424",
   "metadata": {},
   "source": [
    "### Working with Pandas"
   ]
  },
  {
   "cell_type": "code",
   "execution_count": 13,
   "id": "bebf9223",
   "metadata": {},
   "outputs": [
    {
     "data": {
      "text/html": [
       "<div>\n",
       "<style scoped>\n",
       "    .dataframe tbody tr th:only-of-type {\n",
       "        vertical-align: middle;\n",
       "    }\n",
       "\n",
       "    .dataframe tbody tr th {\n",
       "        vertical-align: top;\n",
       "    }\n",
       "\n",
       "    .dataframe thead th {\n",
       "        text-align: right;\n",
       "    }\n",
       "</style>\n",
       "<table border=\"1\" class=\"dataframe\">\n",
       "  <thead>\n",
       "    <tr style=\"text-align: right;\">\n",
       "      <th></th>\n",
       "      <th>Year</th>\n",
       "      <th>Industry_aggregation_NZSIOC</th>\n",
       "      <th>Industry_code_NZSIOC</th>\n",
       "      <th>Industry_name_NZSIOC</th>\n",
       "      <th>Units</th>\n",
       "      <th>Variable_code</th>\n",
       "      <th>Variable_name</th>\n",
       "      <th>Variable_category</th>\n",
       "      <th>Value</th>\n",
       "      <th>Industry_code_ANZSIC06</th>\n",
       "    </tr>\n",
       "  </thead>\n",
       "  <tbody>\n",
       "    <tr>\n",
       "      <th>0</th>\n",
       "      <td>2023</td>\n",
       "      <td>Level 1</td>\n",
       "      <td>99999</td>\n",
       "      <td>All industries</td>\n",
       "      <td>Dollars (millions)</td>\n",
       "      <td>H01</td>\n",
       "      <td>Total income</td>\n",
       "      <td>Financial performance</td>\n",
       "      <td>930995</td>\n",
       "      <td>ANZSIC06 divisions A-S (excluding classes K633...</td>\n",
       "    </tr>\n",
       "    <tr>\n",
       "      <th>1</th>\n",
       "      <td>2023</td>\n",
       "      <td>Level 1</td>\n",
       "      <td>99999</td>\n",
       "      <td>All industries</td>\n",
       "      <td>Dollars (millions)</td>\n",
       "      <td>H04</td>\n",
       "      <td>Sales, government funding, grants and subsidies</td>\n",
       "      <td>Financial performance</td>\n",
       "      <td>821630</td>\n",
       "      <td>ANZSIC06 divisions A-S (excluding classes K633...</td>\n",
       "    </tr>\n",
       "    <tr>\n",
       "      <th>2</th>\n",
       "      <td>2023</td>\n",
       "      <td>Level 1</td>\n",
       "      <td>99999</td>\n",
       "      <td>All industries</td>\n",
       "      <td>Dollars (millions)</td>\n",
       "      <td>H05</td>\n",
       "      <td>Interest, dividends and donations</td>\n",
       "      <td>Financial performance</td>\n",
       "      <td>84354</td>\n",
       "      <td>ANZSIC06 divisions A-S (excluding classes K633...</td>\n",
       "    </tr>\n",
       "    <tr>\n",
       "      <th>3</th>\n",
       "      <td>2023</td>\n",
       "      <td>Level 1</td>\n",
       "      <td>99999</td>\n",
       "      <td>All industries</td>\n",
       "      <td>Dollars (millions)</td>\n",
       "      <td>H07</td>\n",
       "      <td>Non-operating income</td>\n",
       "      <td>Financial performance</td>\n",
       "      <td>25010</td>\n",
       "      <td>ANZSIC06 divisions A-S (excluding classes K633...</td>\n",
       "    </tr>\n",
       "    <tr>\n",
       "      <th>4</th>\n",
       "      <td>2023</td>\n",
       "      <td>Level 1</td>\n",
       "      <td>99999</td>\n",
       "      <td>All industries</td>\n",
       "      <td>Dollars (millions)</td>\n",
       "      <td>H08</td>\n",
       "      <td>Total expenditure</td>\n",
       "      <td>Financial performance</td>\n",
       "      <td>832964</td>\n",
       "      <td>ANZSIC06 divisions A-S (excluding classes K633...</td>\n",
       "    </tr>\n",
       "  </tbody>\n",
       "</table>\n",
       "</div>"
      ],
      "text/plain": [
       "   Year Industry_aggregation_NZSIOC Industry_code_NZSIOC Industry_name_NZSIOC  \\\n",
       "0  2023                     Level 1                99999       All industries   \n",
       "1  2023                     Level 1                99999       All industries   \n",
       "2  2023                     Level 1                99999       All industries   \n",
       "3  2023                     Level 1                99999       All industries   \n",
       "4  2023                     Level 1                99999       All industries   \n",
       "\n",
       "                Units Variable_code  \\\n",
       "0  Dollars (millions)           H01   \n",
       "1  Dollars (millions)           H04   \n",
       "2  Dollars (millions)           H05   \n",
       "3  Dollars (millions)           H07   \n",
       "4  Dollars (millions)           H08   \n",
       "\n",
       "                                     Variable_name      Variable_category  \\\n",
       "0                                     Total income  Financial performance   \n",
       "1  Sales, government funding, grants and subsidies  Financial performance   \n",
       "2                Interest, dividends and donations  Financial performance   \n",
       "3                             Non-operating income  Financial performance   \n",
       "4                                Total expenditure  Financial performance   \n",
       "\n",
       "    Value                             Industry_code_ANZSIC06  \n",
       "0  930995  ANZSIC06 divisions A-S (excluding classes K633...  \n",
       "1  821630  ANZSIC06 divisions A-S (excluding classes K633...  \n",
       "2   84354  ANZSIC06 divisions A-S (excluding classes K633...  \n",
       "3   25010  ANZSIC06 divisions A-S (excluding classes K633...  \n",
       "4  832964  ANZSIC06 divisions A-S (excluding classes K633...  "
      ]
     },
     "execution_count": 13,
     "metadata": {},
     "output_type": "execute_result"
    }
   ],
   "source": [
    "# Importing Pandas\n",
    "import pandas as pd\n",
    "# Data loading\n",
    "df = pd.read_csv('csvsample1.csv')\n",
    "df.head()"
   ]
  },
  {
   "cell_type": "code",
   "execution_count": 14,
   "id": "68316fe1",
   "metadata": {},
   "outputs": [
    {
     "name": "stdout",
     "output_type": "stream",
     "text": [
      "30\n",
      "40\n",
      "1    20\n",
      "2    30\n",
      "3    40\n",
      "dtype: int64\n"
     ]
    }
   ],
   "source": [
    "# Create a Series from a list\n",
    "data = [10, 20, 30, 40, 50]\n",
    "s = pd.Series(data)\n",
    "\n",
    "# Accessing elements in a Series\n",
    "## Accessing by label\n",
    "print(s[2])\n",
    "## Accessing by position\n",
    "print(s.iloc[3])\n",
    "## Accessing multiple elements\n",
    "print(s[1:4])"
   ]
  },
  {
   "cell_type": "markdown",
   "id": "f67376e0",
   "metadata": {},
   "source": [
    "### DataFrame\n"
   ]
  },
  {
   "cell_type": "code",
   "execution_count": 15,
   "id": "451da737",
   "metadata": {},
   "outputs": [
    {
     "name": "stdout",
     "output_type": "stream",
     "text": [
      "      Name  Age           City\n",
      "0    Alice   25       New York\n",
      "1      Bob   30  San Francisco\n",
      "2  Charlie   35    Los Angeles\n",
      "3    David   28        Chicago\n"
     ]
    }
   ],
   "source": [
    "# Create DataFrame from Dictionaries\n",
    "data = {'Name': ['Alice', 'Bob', 'Charlie', 'David'],\n",
    "        'Age': [25, 30, 35, 28],\n",
    "        'City': ['New York', 'San Francisco', 'Los Angeles', 'Chicago']}\n",
    "\n",
    "df = pd.DataFrame(data)\n",
    "print(df)"
   ]
  },
  {
   "cell_type": "code",
   "execution_count": 16,
   "id": "66f7abf8",
   "metadata": {},
   "outputs": [
    {
     "name": "stdout",
     "output_type": "stream",
     "text": [
      "0      Alice\n",
      "1        Bob\n",
      "2    Charlie\n",
      "3      David\n",
      "Name: Name, dtype: object\n",
      "Name        Charlie\n",
      "Age              35\n",
      "City    Los Angeles\n",
      "Name: 2, dtype: object\n",
      "Name              Bob\n",
      "Age                30\n",
      "City    San Francisco\n",
      "Name: 1, dtype: object\n"
     ]
    }
   ],
   "source": [
    "# Column Selection\n",
    "print(df['Name'])\n",
    "\n",
    "# Accessing Rows\n",
    "print(df.iloc[2])\n",
    "print(df.loc[1])"
   ]
  },
  {
   "cell_type": "code",
   "execution_count": 17,
   "id": "41f06e0a",
   "metadata": {},
   "outputs": [
    {
     "name": "stdout",
     "output_type": "stream",
     "text": [
      "      Name  Age\n",
      "0    Alice   25\n",
      "1      Bob   30\n",
      "2  Charlie   35\n",
      "3    David   28\n",
      "\n",
      "\n",
      "      Name  Age           City\n",
      "0    Alice   25       New York\n",
      "1      Bob   30  San Francisco\n",
      "2  Charlie   35    Los Angeles\n",
      "3    David   28        Chicago\n",
      "\n",
      "\n",
      "      Name  Age           City\n",
      "1      Bob   30  San Francisco\n",
      "2  Charlie   35    Los Angeles\n"
     ]
    }
   ],
   "source": [
    "# Slicing\n",
    "print(df[['Name', 'Age']])\n",
    "print('\\n')\n",
    "print(df)\n",
    "print('\\n')\n",
    "print(df[1:3])\n"
   ]
  },
  {
   "cell_type": "code",
   "execution_count": 18,
   "id": "e7dcfb1d",
   "metadata": {},
   "outputs": [
    {
     "name": "stdout",
     "output_type": "stream",
     "text": [
      "[25 30 35 28]\n"
     ]
    }
   ],
   "source": [
    "# Finding Unique Elements\n",
    "unique_dates = df['Age'].unique()\n",
    "print(unique_dates)"
   ]
  },
  {
   "cell_type": "code",
   "execution_count": 19,
   "id": "9fa8ac9e",
   "metadata": {},
   "outputs": [
    {
     "data": {
      "text/html": [
       "<div>\n",
       "<style scoped>\n",
       "    .dataframe tbody tr th:only-of-type {\n",
       "        vertical-align: middle;\n",
       "    }\n",
       "\n",
       "    .dataframe tbody tr th {\n",
       "        vertical-align: top;\n",
       "    }\n",
       "\n",
       "    .dataframe thead th {\n",
       "        text-align: right;\n",
       "    }\n",
       "</style>\n",
       "<table border=\"1\" class=\"dataframe\">\n",
       "  <thead>\n",
       "    <tr style=\"text-align: right;\">\n",
       "      <th></th>\n",
       "      <th>Name</th>\n",
       "      <th>Age</th>\n",
       "      <th>City</th>\n",
       "    </tr>\n",
       "  </thead>\n",
       "  <tbody>\n",
       "    <tr>\n",
       "      <th>1</th>\n",
       "      <td>Bob</td>\n",
       "      <td>30</td>\n",
       "      <td>San Francisco</td>\n",
       "    </tr>\n",
       "    <tr>\n",
       "      <th>2</th>\n",
       "      <td>Charlie</td>\n",
       "      <td>35</td>\n",
       "      <td>Los Angeles</td>\n",
       "    </tr>\n",
       "    <tr>\n",
       "      <th>3</th>\n",
       "      <td>David</td>\n",
       "      <td>28</td>\n",
       "      <td>Chicago</td>\n",
       "    </tr>\n",
       "  </tbody>\n",
       "</table>\n",
       "</div>"
      ],
      "text/plain": [
       "      Name  Age           City\n",
       "1      Bob   30  San Francisco\n",
       "2  Charlie   35    Los Angeles\n",
       "3    David   28        Chicago"
      ]
     },
     "execution_count": 19,
     "metadata": {},
     "output_type": "execute_result"
    }
   ],
   "source": [
    "# Conditional Filtering \n",
    "high_above_102 = df[df['Age']>25]\n",
    "high_above_102"
   ]
  },
  {
   "cell_type": "code",
   "execution_count": 20,
   "id": "364718ba",
   "metadata": {},
   "outputs": [],
   "source": [
    "# Saving DataFrame\n",
    "df.to_csv('trading_data.csv', index=False)"
   ]
  },
  {
   "cell_type": "code",
   "execution_count": 21,
   "id": "ec272df4",
   "metadata": {},
   "outputs": [
    {
     "data": {
      "text/plain": [
       "np.int64(0)"
      ]
     },
     "execution_count": 21,
     "metadata": {},
     "output_type": "execute_result"
    }
   ],
   "source": [
    "import numpy as np\n",
    "a = np.array([0, 1])\n",
    "b = np.array([1, 0])\n",
    "np.dot(a, b)"
   ]
  },
  {
   "cell_type": "code",
   "execution_count": 22,
   "id": "93b9441d",
   "metadata": {},
   "outputs": [
    {
     "data": {
      "text/plain": [
       "array([1, 2])"
      ]
     },
     "execution_count": 22,
     "metadata": {},
     "output_type": "execute_result"
    }
   ],
   "source": [
    "x = np.array([[1,0,1], [2,2,2]])\n",
    "x[0:2,2]"
   ]
  },
  {
   "cell_type": "markdown",
   "id": "f1266c6e",
   "metadata": {},
   "source": [
    "## Module 5: APIs and Data Collection"
   ]
  },
  {
   "cell_type": "markdown",
   "id": "db878482",
   "metadata": {},
   "source": [
    "### Introduction to API"
   ]
  },
  {
   "cell_type": "code",
   "execution_count": 23,
   "id": "1c8d90a8",
   "metadata": {},
   "outputs": [
    {
     "data": {
      "text/plain": [
       "{'User-Agent': 'python-requests/2.32.3', 'Accept-Encoding': 'gzip, deflate', 'Accept': '*/*', 'Connection': 'keep-alive', 'Cookie': '_abck=814D4AEEE86F6396594CCFD13FF9273E~-1~YAAQhFJNG8yi2omWAQAAl1pjqQ30fCtcoqX85SRzHoHEEN6Cl9z69rPTIM7KZTUxLsSgqxmgH/6no+f6ymhfMZNcM1w+njUE2H5GALpzHdSZRFi06Rmz2GMAP7kGtsxLW/YLphJ6MYZm+9ie3QJ4K5vyoKYQdPUisXbRt7BNRCWZRVwODZHtoQPz/aEs45xPfCTSB5pYyCVLYQAPugJJtVLju7U3KId6RDrsKsS83ZzOPQN0aJTu0GKrTVwW/GBGKiITjgVu0hda4jOkBPRFmpI9lV9GKBYdslqjpsup6OIqc8jSHhfcKwpR6iYJgnbRKrPX6tMAHVODskIWnGpB/Aq2cg+ergtndnPW0p18CN869DdP+FGdB/kR17U++xqTi+PeOhXB0GGgfNrnpojYIZqe8dueSao=~-1~-1~-1; bm_sz=F928594A042B009728AF7DB7E902BCC8~YAAQhFJNG82i2omWAQAAl1pjqRtCKLfQMgCGlP/NdmTPqLWAFkU26G9fbVRQPq0I8vlSDIkzfVjDJGCPGsBWWqGv2+eF2nB/Iaj9uaKaafOA5IWvohLVVCHtrPEJc5+TFaOen6YtY9/sHkFLNM/ZgfYMXVeHnvkrZPtC+bUOGwltwYAG3mUTBr4gwwQwaw42Kkd0orUjKb6AhTLrvgHsw/j2Emc99A1YYOfDRNIqLBlRjVKoCIoDqPn9Y6YvIEa9hJxALpdyD4uJK9mTwx1t/2pRrOcqhu5x4jOcyQNmIEg8QB4rYYkoGOVu0DHvxRz4uIzja5nQEhkOtZM4Qtr4mkQeFo9RCGHpUfWQOI7dWrFKCmIofqTBbod+QrcLn8RAjls=~3229249~4408898'}"
      ]
     },
     "execution_count": 23,
     "metadata": {},
     "output_type": "execute_result"
    }
   ],
   "source": [
    "import requests\n",
    "url = 'https://www.ibm.com/'\n",
    "r = requests.get(url)\n",
    "r.status_code\n",
    "r.request.headers"
   ]
  },
  {
   "cell_type": "code",
   "execution_count": 24,
   "id": "6f36c310",
   "metadata": {},
   "outputs": [],
   "source": [
    "r.request.body"
   ]
  },
  {
   "cell_type": "code",
   "execution_count": 25,
   "id": "a288d321",
   "metadata": {},
   "outputs": [
    {
     "data": {
      "text/plain": [
       "{'Content-Security-Policy': 'upgrade-insecure-requests', 'x-frame-options': 'SAMEORIGIN', 'Last-Modified': 'Wed, 07 May 2025 06:03:25 GMT', 'ETag': '\"28a96-634857dc9ba28-gzip\"', 'Accept-Ranges': 'bytes', 'Content-Type': 'text/html;charset=utf-8', 'X-Content-Type-Options': 'nosniff', 'Cache-Control': 'max-age=18', 'Expires': 'Wed, 07 May 2025 06:16:41 GMT', 'X-Akamai-Transformed': '0 - 0 -', 'Content-Encoding': 'gzip', 'Date': 'Wed, 07 May 2025 06:16:23 GMT', 'Content-Length': '29659', 'Connection': 'keep-alive', 'Vary': 'Accept-Encoding', 'Strict-Transport-Security': 'max-age=31536000'}"
      ]
     },
     "execution_count": 25,
     "metadata": {},
     "output_type": "execute_result"
    }
   ],
   "source": [
    "header = r.headers\n",
    "header"
   ]
  },
  {
   "cell_type": "code",
   "execution_count": 26,
   "id": "de585247",
   "metadata": {},
   "outputs": [
    {
     "data": {
      "text/plain": [
       "'Wed, 07 May 2025 06:16:23 GMT'"
      ]
     },
     "execution_count": 26,
     "metadata": {},
     "output_type": "execute_result"
    }
   ],
   "source": [
    "header['date']"
   ]
  },
  {
   "cell_type": "code",
   "execution_count": 27,
   "id": "2b88e595",
   "metadata": {},
   "outputs": [
    {
     "data": {
      "text/plain": [
       "'text/html;charset=utf-8'"
      ]
     },
     "execution_count": 27,
     "metadata": {},
     "output_type": "execute_result"
    }
   ],
   "source": [
    "header['Content-Type']"
   ]
  },
  {
   "cell_type": "code",
   "execution_count": 28,
   "id": "b5f7e4a8",
   "metadata": {},
   "outputs": [
    {
     "data": {
      "text/plain": [
       "'utf-8'"
      ]
     },
     "execution_count": 28,
     "metadata": {},
     "output_type": "execute_result"
    }
   ],
   "source": [
    "r.encoding"
   ]
  },
  {
   "cell_type": "code",
   "execution_count": 29,
   "id": "e4d3c155",
   "metadata": {},
   "outputs": [
    {
     "data": {
      "text/plain": [
       "'\\n<!DOCTYPE HTML>\\n<html lang=\"en\">\\n<head>\\r\\n    \\r\\n    \\r\\n    \\r\\n    \\r\\n    \\r\\n    \\r\\n    \\r\\n      \\r\\n    \\r\\n  '"
      ]
     },
     "execution_count": 29,
     "metadata": {},
     "output_type": "execute_result"
    }
   ],
   "source": [
    "r.text[0:100]"
   ]
  },
  {
   "cell_type": "code",
   "execution_count": 84,
   "id": "bd371ef7",
   "metadata": {},
   "outputs": [
    {
     "name": "stdout",
     "output_type": "stream",
     "text": [
      "{\n",
      "  \"args\": {\n",
      "    \"ID\": \"123\", \n",
      "    \"name\": \"Joseph\"\n",
      "  }, \n",
      "  \"headers\": {\n",
      "    \"Accept\": \"*/*\", \n",
      "    \"Accept-Encoding\": \"gzip, deflate, br, zstd\", \n",
      "    \"Host\": \"httpbin.org\", \n",
      "    \"User-Agent\": \"python-requests/2.32.3\", \n",
      "    \"X-Amzn-Trace-Id\": \"Root=1-681b427f-0dca653f4e95916514f2e6ad\"\n",
      "  }, \n",
      "  \"origin\": \"116.109.188.180\", \n",
      "  \"url\": \"https://httpbin.org/get?name=Joseph&ID=123\"\n",
      "}\n",
      "\n"
     ]
    }
   ],
   "source": [
    "url_get = 'https://httpbin.org/get'\n",
    "payload = {'name': 'Joseph', 'ID': '123'}\n",
    "r = requests.get(url_get, params=payload)\n",
    "r.url\n",
    "r.request.body\n",
    "r.status_code\n",
    "print(r.text)"
   ]
  },
  {
   "cell_type": "code",
   "execution_count": 31,
   "id": "9fe7c35b",
   "metadata": {},
   "outputs": [
    {
     "data": {
      "text/plain": [
       "{'args': {'ID': '123', 'name': 'Joseph'},\n",
       " 'headers': {'Accept': '*/*',\n",
       "  'Accept-Encoding': 'gzip, deflate',\n",
       "  'Host': 'httpbin.org',\n",
       "  'User-Agent': 'python-requests/2.32.3',\n",
       "  'X-Amzn-Trace-Id': 'Root=1-681afab8-63026e235ab3e18f49989370'},\n",
       " 'origin': '116.109.188.180',\n",
       " 'url': 'https://httpbin.org/get?name=Joseph&ID=123'}"
      ]
     },
     "execution_count": 31,
     "metadata": {},
     "output_type": "execute_result"
    }
   ],
   "source": [
    "r.headers['Content-Type'] \n",
    "r.json()"
   ]
  },
  {
   "cell_type": "code",
   "execution_count": 32,
   "id": "3547398d",
   "metadata": {},
   "outputs": [
    {
     "data": {
      "text/plain": [
       "{'ID': '123', 'name': 'Joseph'}"
      ]
     },
     "execution_count": 32,
     "metadata": {},
     "output_type": "execute_result"
    }
   ],
   "source": [
    "r.json()['args']"
   ]
  },
  {
   "cell_type": "code",
   "execution_count": 33,
   "id": "08011315",
   "metadata": {},
   "outputs": [
    {
     "data": {
      "text/plain": [
       "<Response [200]>"
      ]
     },
     "execution_count": 33,
     "metadata": {},
     "output_type": "execute_result"
    }
   ],
   "source": [
    "url_post = 'https://httpbin.org/post'\n",
    "payload = {'name': 'Joseph', 'ID': '123'}\n",
    "\n",
    "r_post = requests.post(url_post, data=payload)\n",
    "r_post"
   ]
  },
  {
   "cell_type": "code",
   "execution_count": 34,
   "id": "dba9bb2f",
   "metadata": {},
   "outputs": [
    {
     "name": "stdout",
     "output_type": "stream",
     "text": [
      "Post request URL: https://httpbin.org/post\n",
      "Get request URL: https://httpbin.org/get?name=Joseph&ID=123\n"
     ]
    }
   ],
   "source": [
    "print('Post request URL:', r_post.url)\n",
    "print('Get request URL:', r.url)"
   ]
  },
  {
   "cell_type": "code",
   "execution_count": 35,
   "id": "5a123737",
   "metadata": {},
   "outputs": [
    {
     "name": "stdout",
     "output_type": "stream",
     "text": [
      "Post request body: name=Joseph&ID=123\n",
      "Get request body: None\n"
     ]
    }
   ],
   "source": [
    "print('Post request body:', r_post.request.body)\n",
    "print('Get request body:', r.request.body)"
   ]
  },
  {
   "cell_type": "code",
   "execution_count": 36,
   "id": "26a02430",
   "metadata": {},
   "outputs": [
    {
     "data": {
      "text/plain": [
       "{'args': {},\n",
       " 'data': '',\n",
       " 'files': {},\n",
       " 'form': {'ID': '123', 'name': 'Joseph'},\n",
       " 'headers': {'Accept': '*/*',\n",
       "  'Accept-Encoding': 'gzip, deflate',\n",
       "  'Content-Length': '18',\n",
       "  'Content-Type': 'application/x-www-form-urlencoded',\n",
       "  'Host': 'httpbin.org',\n",
       "  'User-Agent': 'python-requests/2.32.3',\n",
       "  'X-Amzn-Trace-Id': 'Root=1-681afab9-6953a97a3f02c9aa108c19ca'},\n",
       " 'json': None,\n",
       " 'origin': '116.109.188.180',\n",
       " 'url': 'https://httpbin.org/post'}"
      ]
     },
     "execution_count": 36,
     "metadata": {},
     "output_type": "execute_result"
    }
   ],
   "source": [
    "r_post.json()"
   ]
  },
  {
   "cell_type": "code",
   "execution_count": 37,
   "id": "7817b7d5",
   "metadata": {},
   "outputs": [
    {
     "data": {
      "text/plain": [
       "{'ID': '123', 'name': 'Joseph'}"
      ]
     },
     "execution_count": 37,
     "metadata": {},
     "output_type": "execute_result"
    }
   ],
   "source": [
    "r_post.json()['form']"
   ]
  },
  {
   "cell_type": "markdown",
   "id": "cc115193",
   "metadata": {},
   "source": [
    "### Web Scraping and HTML Basics"
   ]
  },
  {
   "cell_type": "code",
   "execution_count": 38,
   "id": "b1cc2223",
   "metadata": {},
   "outputs": [],
   "source": [
    "# Import Beautiful Soup to parse the web page content\n",
    "from bs4 import BeautifulSoup\n",
    "import requests"
   ]
  },
  {
   "cell_type": "code",
   "execution_count": 39,
   "id": "a9de932c",
   "metadata": {},
   "outputs": [
    {
     "name": "stdout",
     "output_type": "stream",
     "text": [
      "<!DOCTYPE html>\n",
      "<html class=\"client-nojs vector-feature-language-in-header-enabled vector-feature-language-in-main-page-header-disabled vector-feature-page-tools-pinned-disabled vector-feature-toc-pinned-clientpref-1 vector-feature-main-menu-pinned-disabled vector-feature-limited-width-clientpref-1 vector-feature-limited-width-content-enabled vector-feature-custom-font-size-clientpref-1 vector-feature-appearance-pinned-clientpref-1 vector-feature-night-mode-enabled skin-theme-clientpref-day vect\n"
     ]
    }
   ],
   "source": [
    "# Specify the URL of the webpage you wnat to scrape\n",
    "url = 'https://en.wikipedia.org/wiki/Louis_Bachelier'\n",
    "\n",
    "# Send an HTTP GET request to the webpage\n",
    "reponse = requests.get(url)\n",
    "# print(reponse)\n",
    "\n",
    "# Store the HTML content in a variable\n",
    "html_content = reponse.text\n",
    "# print(html_content)\n",
    "\n",
    "# Create a BeautifulSoup object to parse the HTML\n",
    "soup = BeautifulSoup(html_content, 'html.parser')\n",
    "\n",
    "# Display a snippet of the HTML content\n",
    "print(html_content[:500])"
   ]
  },
  {
   "cell_type": "code",
   "execution_count": 40,
   "id": "99424285",
   "metadata": {},
   "outputs": [
    {
     "name": "stdout",
     "output_type": "stream",
     "text": [
      "Jump to content\n",
      "Main page\n",
      "Contents\n",
      "Current events\n",
      "Random article\n",
      "About Wikipedia\n",
      "Contact us\n",
      "Help\n",
      "Learn to edit\n",
      "Community portal\n",
      "Recent changes\n",
      "Upload file\n",
      "Special pages\n",
      "\n",
      "\n",
      "\n",
      "\n",
      "\n",
      "\n",
      "\n",
      "\n",
      "Search\n",
      "\n",
      "Donate\n",
      "Create account\n",
      "Log in\n",
      "Donate\n",
      " Create account\n",
      " Log in\n",
      "learn more\n",
      "Contributions\n",
      "Talk\n",
      "\n",
      "(Top)\n",
      "\n",
      "\n",
      "\n",
      "1\n",
      "Early years\n",
      "\n",
      "\n",
      "\n",
      "\n",
      "2\n",
      "The doctoral thesis\n",
      "\n",
      "\n",
      "\n",
      "\n",
      "3\n",
      "Academic career\n",
      "\n",
      "\n",
      "\n",
      "\n",
      "4\n",
      "Works\n",
      "\n",
      "\n",
      "\n",
      "\n",
      "5\n",
      "See also\n",
      "\n",
      "\n",
      "\n",
      "\n",
      "6\n",
      "Citations\n",
      "\n",
      "\n",
      "\n",
      "\n",
      "7\n",
      "References\n",
      "\n",
      "\n",
      "\n",
      "\n",
      "8\n",
      "External links\n",
      "\n",
      "\n",
      "العربية\n",
      "Català\n",
      "Čeština\n",
      "Deutsch\n",
      "Español\n",
      "فارسی\n",
      "Français\n",
      "Italiano\n",
      "עברית\n",
      "Kreyòl ayisyen\n",
      "مصرى\n",
      "Nederlands\n",
      "日本語\n",
      "Polski\n",
      "Português\n",
      "Română\n",
      "Русский\n",
      "Suomi\n",
      "Türkçe\n",
      "Українська\n",
      "Edit links\n",
      "Article\n",
      "Talk\n",
      "Read\n",
      "Edit\n",
      "View history\n",
      "Read\n",
      "Edit\n",
      "View history\n",
      "What links here\n",
      "Related changes\n",
      "Upload file\n",
      "Permanent link\n",
      "Page information\n",
      "Cite this page\n",
      "Get shortened URL\n",
      "Download QR code\n",
      "Download as PDF\n",
      "Printable version\n",
      "Wikimedia Commons\n",
      "Wikidata item\n",
      "Jean-Jacques Bachelier\n",
      "\n",
      "Le Havre\n",
      "Saint-Servan-sur-Mer\n",
      "mathematical finance\n",
      "Mathematics\n",
      "University of Paris\n",
      "Université de Franche-Comté\n",
      "Université de Dijon\n",
      "University of Rennes\n",
      "Thesis\n",
      "Doctoral advisor\n",
      "Henri Poincaré\n",
      "[baʃəlje]\n",
      "[1]\n",
      "mathematician\n",
      "stochastic process\n",
      "Brownian motion\n",
      "stock options\n",
      "finance\n",
      "Bachelier model\n",
      "Black-Scholes model\n",
      "mathematical finance\n",
      "edit\n",
      "Le Havre\n",
      "Seine-Maritime\n",
      "wine\n",
      "amateur\n",
      "scientist\n",
      "Venezuela\n",
      "poetry\n",
      "military\n",
      "Sorbonne\n",
      "edit\n",
      "[2]\n",
      "[3]\n",
      "Henri Poincaré\n",
      "Gauss\n",
      "Fourier's\n",
      "Jean-Michel Courtault\n",
      "[4]\n",
      "edit\n",
      "diffusion processes\n",
      "Sorbonne\n",
      "University of Paris\n",
      "World War I\n",
      "[5]\n",
      "Besançon\n",
      "[5]\n",
      "[5]\n",
      "Dijon\n",
      "[5]\n",
      "Rennes\n",
      "University of Besançon\n",
      "[5]\n",
      "Paul Lévy\n",
      "[6]\n",
      "random walks\n",
      "Einstein\n",
      "Brownian motion\n",
      "Andrey Kolmogorov\n",
      "Paul Lévy\n",
      "Leonard Jimmie Savage\n",
      "Paul Samuelson\n",
      "Eugene Fama\n",
      "efficient-market hypothesis\n",
      "Black–Scholes model\n",
      "edit\n",
      "Bachelier 1900a\n",
      "Bachelier 1900b\n",
      "Bachelier 1995\n",
      "Cootner 1964\n",
      "Bachelier et al. 2006\n",
      "May 2011\n",
      "Bachelier 1901\n",
      "Bachelier 1995\n",
      "Bachelier 1906\n",
      "Bachelier 1908a\n",
      "Bachelier 1908b\n",
      "Bachelier 1910a\n",
      "Bachelier 1910b\n",
      "Bachelier 1912\n",
      "[7]\n",
      "Bachelier 1992\n",
      "Bachelier 1913a\n",
      "Bachelier 1913b\n",
      "Bachelier 1914\n",
      "Bachelier 1993\n",
      "Harding 2017\n",
      "Bachelier 1915\n",
      "Bachelier 1920a\n",
      "Bachelier 1920b\n",
      "Bachelier 1923\n",
      "Bachelier 1925\n",
      "Bachelier 1937\n",
      "Bachelier 1938\n",
      "Bachelier 1939\n",
      "Bachelier 1941a\n",
      "Bachelier 1941b\n",
      "edit\n",
      "Black–Scholes equation\n",
      "Bachelier model\n",
      "Martingale\n",
      "Random walk\n",
      "Brownian Motion\n",
      "Louis Bachelier Prize\n",
      "Henri Poincaré\n",
      "Vinzenz Bronzin\n",
      "Jules Regnault\n",
      "edit\n",
      "^\n",
      "Felix 1970\n",
      "^\n",
      "\"Louis BACHELIER, b. 11 March 1870 - d. 28 April 1946\"\n",
      "^\n",
      "The Physics of Wall Street: A Brief History of Predicting the Unpredictable\n",
      "10\n",
      "ISBN\n",
      "978-0547317274\n",
      "^\n",
      "\"Louis Bachelier on the centenary of theorie de la speculation\"\n",
      "a\n",
      "b\n",
      "c\n",
      "d\n",
      "e\n",
      "\"Louis Bachelier on the Centenary of Théorie de la Spéculation\"\n",
      "doi\n",
      "10.1111/1467-9965.00098\n",
      "S2CID\n",
      "14422885\n",
      "^\n",
      "Mandelbrot, Benoit\n",
      "The Misbehavior of Markets: A Fractal View of Financial Turbulence\n",
      "ISBN\n",
      "9780465004683\n",
      "^\n",
      "\"Review: Calcul des Probabilités by Louis Bachelier. Tome I\"\n",
      "doi\n",
      "10.1090/s0002-9904-1914-02484-x\n",
      "edit\n",
      "Philip Ball\n",
      "ISBN\n",
      "0-09-945786-5\n",
      "\"Théorie de la spéculation\"\n",
      "\"Théorie mathématique du jeu\"\n",
      "\"Théorie des probabilités continues\"\n",
      "\"Étude sur les probabilités des causes\"\n",
      "\"Le problème général des probabilités dans les épreuves répétées\"\n",
      "\"Les probabilités à plusieurs variables\"\n",
      "\"Mouvement d'un point ou d'un système matériel soumis à l'action de forces dépendant du hasard\"\n",
      "Calcul des probabilités\n",
      "\"Les probabilités cinématiques et dynamiques\"\n",
      "\"Les probabilités semi-uniformes\"\n",
      "\"La périodicité du hasard\"\n",
      "the original\n",
      "\"Sur la théorie des corrélations\"\n",
      "\"Sur les décimales du nombre \n",
      "\n",
      "\n",
      "\n",
      "\n",
      "π\n",
      "\n",
      "\n",
      "\n",
      "{\\displaystyle {\\pi }}\n",
      "\n",
      "\"\n",
      "\"Le problème général de la statistique discontinue\"\n",
      "Revue de Métaphysique et de Morale\n",
      "\"Probabilités des oscillations maxima\"\n",
      "\"Probabilités des oscillations maxima (Erratum)\"\n",
      "ISBN\n",
      "978-2-87647-090-3\n",
      "ISBN\n",
      "978-2-87647-147-4\n",
      "ISBN\n",
      "978-2-87647-129-0\n",
      "Samuelson, P. A.\n",
      "Davis, M.\n",
      "ISBN\n",
      "978-0-691-11752-2\n",
      "Theory of Speculation\n",
      "citation\n",
      "link\n",
      "\"On the Centenary of Théorie de la Spéculation\"\n",
      "doi\n",
      "10.1111/1467-9965.00098\n",
      "S2CID\n",
      "14422885\n",
      "the original\n",
      "Dictionary of Scientific Biography\n",
      "ISBN\n",
      "978-0-684-10114-9\n",
      "Bachlier and his Times: A Conversation with Bernard Bru\n",
      "the original\n",
      "citation\n",
      "link\n",
      "edit\n",
      "\"Louis Bachelier, fondateur de la finance mathématique\"\n",
      "Louis Bachelier\n",
      "Mathematics Genealogy Project\n",
      "Robertson, Edmund F.\n",
      "\"Louis Bachelier\"\n",
      "MacTutor History of Mathematics Archive\n",
      "University of St Andrews\n",
      "Louis Bachelier par Laurent Carraro et Pierre Crepel\n",
      "Bachelier's theory of speculation is demonstrated by this 8 ft tall Probability Machine comparing stock market returns to the randomness of the beans dropping through the quincunx pattern\n",
      "YouTube\n",
      "Bachelier's and other academic's contribution to financial science.\n",
      "Authority control databases\n",
      "\n",
      "ISNI\n",
      "VIAF\n",
      "FAST\n",
      "WorldCat\n",
      "Germany\n",
      "United States\n",
      "France\n",
      "BnF data\n",
      "Czech Republic\n",
      "Netherlands\n",
      "Israel\n",
      "Mathematics Genealogy Project\n",
      "zbMATH\n",
      "MathSciNet\n",
      "DDB\n",
      "IdRef\n",
      "https://en.wikipedia.org/w/index.php?title=Louis_Bachelier&oldid=1242724701\n",
      "Categories\n",
      "19th-century French mathematicians\n",
      "20th-century French mathematicians\n",
      "French probability theorists\n",
      "University of Paris alumni\n",
      "1870 births\n",
      "1946 deaths\n",
      "Scientists from Le Havre\n",
      "University of Burgundy alumni\n",
      "Knights of the Legion of Honour\n",
      "CS1: unfit URL\n",
      "Articles with short description\n",
      "Short description is different from Wikidata\n",
      "Articles with hCards\n",
      "Pages with French IPA\n",
      "CS1: long volume value\n",
      "CS1 maint: location missing publisher\n",
      "Creative Commons Attribution-ShareAlike 4.0 License\n",
      "Terms of Use\n",
      "Privacy Policy\n",
      "Wikimedia Foundation, Inc.\n",
      "Privacy policy\n",
      "About Wikipedia\n",
      "Disclaimers\n",
      "Contact Wikipedia\n",
      "Code of Conduct\n",
      "Developers\n",
      "Statistics\n",
      "Cookie statement\n",
      "Mobile view\n",
      "\n",
      "\n",
      "\n",
      "\n",
      "\n",
      "\n",
      "\n",
      "\n",
      "\n",
      "\n",
      "\n",
      "\n",
      "\n",
      "\n",
      "\n",
      "\n",
      "\n",
      "\n",
      "\n",
      "\n",
      "\n",
      "\n",
      "\n",
      "\n",
      "Add topic\n",
      "\n"
     ]
    }
   ],
   "source": [
    "# Find all <a> tags (anchor tags) in the HTML\n",
    "links = soup.find_all('a')\n",
    "\n",
    "# Iterate through the list of links and print their text\n",
    "for link in links:\n",
    "    print(link.text)\n"
   ]
  },
  {
   "cell_type": "code",
   "execution_count": 41,
   "id": "a0378117",
   "metadata": {},
   "outputs": [
    {
     "data": {
      "text/plain": [
       "200"
      ]
     },
     "execution_count": 41,
     "metadata": {},
     "output_type": "execute_result"
    }
   ],
   "source": [
    "url='https://www.ibm.com/'\n",
    "r = requests.get(url)\n",
    "r.status_code"
   ]
  },
  {
   "cell_type": "code",
   "execution_count": 42,
   "id": "c44b43e4",
   "metadata": {},
   "outputs": [
    {
     "name": "stdout",
     "output_type": "stream",
     "text": [
      "{'Content-Security-Policy': 'upgrade-insecure-requests', 'x-frame-options': 'SAMEORIGIN', 'Last-Modified': 'Wed, 07 May 2025 06:03:25 GMT', 'ETag': '\"28a96-634857dc9ba28-gzip\"', 'Accept-Ranges': 'bytes', 'Content-Type': 'text/html;charset=utf-8', 'X-Content-Type-Options': 'nosniff', 'Cache-Control': 'max-age=15', 'Expires': 'Wed, 07 May 2025 06:16:41 GMT', 'X-Akamai-Transformed': '0 - 0 -', 'Content-Encoding': 'gzip', 'Date': 'Wed, 07 May 2025 06:16:26 GMT', 'Content-Length': '29659', 'Connection': 'keep-alive', 'Vary': 'Accept-Encoding', 'Strict-Transport-Security': 'max-age=31536000'}\n",
      "{'User-Agent': 'python-requests/2.32.3', 'Accept-Encoding': 'gzip, deflate', 'Accept': '*/*', 'Connection': 'keep-alive', 'Cookie': '_abck=B7AAE0B883CB021933FB8A12AB1AF030~-1~YAAQhFJNG6aj2omWAQAA2GhjqQ1VmR2Mh9Azn39TsI3EuQdQnbatG49NSJyxOIwVN31XL+CCjTbVvJcv0DNvERcwC+nc0d1gi4HbVOc+hdYv5i3/KJdquQRfw0Bh9wTLXr6PbeKTW+Ec1W0AL9cHCZFNjNBx4+EOvivmR1d4xEJ4FZJHc01w9MYyMq0yieeDb/KUuF3Iq+HsmGZROdXY7K/WRtj7RaeT/ZU67I+6/Ee+abrLTW4HcIAYNPLaFgBvwGp50iG8rH9K1bpy3o9AHydQALl48ynvXqIbfp0bZA8LkzU6zU5J7TYMTKYLosmbroeifDub8FRFA4Y2lgvp6ZVeJvnqSrX8kMtaJKlfIS2UQVV2g2BLk1rFnAeFotThoXNtt4xnst9wYyorH3r8+CZRU1XhthI=~-1~-1~-1; bm_sz=3B111896E9DE212639C2FFD8B098FEAF~YAAQhFJNG6ej2omWAQAA2GhjqRvkethhpLRnKdSD+QF+5neIOAJrkHY9w3u32XVBdeAfpc0usXlLTRYYBfvOh9TbQyhmZn8jkY/GaOkPXBNSYSOPCRYj3u+0DC3ulmpmpqUgwwapmO81kn7JfIvVKHPwggmf/VJLIzNgefcvuA2yVxljaN7MYfru4u0+hVR8Yzh3o6MFA7SXdzOqlYYwq2p8hYzNXGD8QkFHVrnpgn+owkxPYzmUDMpD2z9PoWzoYTHg/6gGX4Fs+2wiwHy6E2IXZ7FLGzv+oFu3HZ7uB36kzI91RfwJvDlxQEmoJJ6Mg28nQM6ZaewfiFl3NNGkq3kYnW3V4pj3nlFyb23/A/ouJr3OnZIzhjmdf0SKMH3UK3s=~4473154~3289157'}\n"
     ]
    }
   ],
   "source": [
    "print(r.headers) # Header of the reponse\n",
    "print(r.request.headers) # Heade of the request"
   ]
  },
  {
   "cell_type": "code",
   "execution_count": 43,
   "id": "979db4aa",
   "metadata": {},
   "outputs": [
    {
     "name": "stdout",
     "output_type": "stream",
     "text": [
      "{'Content-Security-Policy': 'upgrade-insecure-requests', 'x-frame-options': 'SAMEORIGIN', 'Last-Modified': 'Wed, 07 May 2025 06:03:25 GMT', 'ETag': '\"28a96-634857dc9ba28-gzip\"', 'Accept-Ranges': 'bytes', 'Content-Type': 'text/html;charset=utf-8', 'X-Content-Type-Options': 'nosniff', 'Cache-Control': 'max-age=15', 'Expires': 'Wed, 07 May 2025 06:16:41 GMT', 'X-Akamai-Transformed': '0 - 0 -', 'Content-Encoding': 'gzip', 'Date': 'Wed, 07 May 2025 06:16:26 GMT', 'Content-Length': '29659', 'Connection': 'keep-alive', 'Vary': 'Accept-Encoding', 'Strict-Transport-Security': 'max-age=31536000'}\n"
     ]
    },
    {
     "data": {
      "text/plain": [
       "'text/html;charset=utf-8'"
      ]
     },
     "execution_count": 43,
     "metadata": {},
     "output_type": "execute_result"
    }
   ],
   "source": [
    "header = r.headers\n",
    "print(header)\n",
    "header['date']\n",
    "header['Content-Type']"
   ]
  },
  {
   "cell_type": "code",
   "execution_count": 44,
   "id": "12b41edc",
   "metadata": {},
   "outputs": [
    {
     "data": {
      "text/plain": [
       "'utf-8'"
      ]
     },
     "execution_count": 44,
     "metadata": {},
     "output_type": "execute_result"
    }
   ],
   "source": [
    "r.encoding"
   ]
  },
  {
   "cell_type": "code",
   "execution_count": 45,
   "id": "2e468a65",
   "metadata": {},
   "outputs": [
    {
     "data": {
      "text/plain": [
       "'\\n<!DOCTYPE HTML>\\n<html lang=\"en\">\\n<head>\\r\\n    \\r\\n    \\r\\n    \\r\\n    \\r\\n    \\r\\n    \\r\\n    \\r\\n      \\r\\n    \\r\\n  '"
      ]
     },
     "execution_count": 45,
     "metadata": {},
     "output_type": "execute_result"
    }
   ],
   "source": [
    "r.text[0:100]"
   ]
  },
  {
   "cell_type": "markdown",
   "id": "b7d21a83",
   "metadata": {},
   "source": [
    "### Request a Image from URL"
   ]
  },
  {
   "cell_type": "code",
   "execution_count": 46,
   "id": "96f5f4d8",
   "metadata": {},
   "outputs": [],
   "source": [
    "# Use single quotation marks for defining string\n",
    "url='https://cf-courses-data.s3.us.cloud-object-storage.appdomain.cloud/IBMDeveloperSkillsNetwork-PY0101EN-SkillsNetwork/IDSNlogo.png'"
   ]
  },
  {
   "cell_type": "code",
   "execution_count": 47,
   "id": "c10030a3",
   "metadata": {},
   "outputs": [],
   "source": [
    "r = requests.get(url)"
   ]
  },
  {
   "cell_type": "code",
   "execution_count": 48,
   "id": "82079fa7",
   "metadata": {},
   "outputs": [
    {
     "name": "stdout",
     "output_type": "stream",
     "text": [
      "{'Date': 'Wed, 07 May 2025 06:16:28 GMT', 'X-Clv-Request-Id': 'fe8a9336-9408-4004-935c-e2a612c827f5', 'Server': 'Cleversafe', 'X-Clv-S3-Version': '2.5', 'Accept-Ranges': 'bytes', 'x-amz-request-id': 'fe8a9336-9408-4004-935c-e2a612c827f5', 'ETag': '\"8bb44578fff8fdcc3d2972be9ece0164\"', 'Content-Type': 'image/png', 'Last-Modified': 'Wed, 16 Nov 2022 03:32:41 GMT', 'Content-Length': '78776'}\n",
      "{'User-Agent': 'python-requests/2.32.3', 'Accept-Encoding': 'gzip, deflate', 'Accept': '*/*', 'Connection': 'keep-alive'}\n"
     ]
    }
   ],
   "source": [
    "print(r.headers)\n",
    "print(r.request.headers)"
   ]
  },
  {
   "cell_type": "code",
   "execution_count": 49,
   "id": "bf28c760",
   "metadata": {},
   "outputs": [
    {
     "name": "stdout",
     "output_type": "stream",
     "text": [
      "Wed, 07 May 2025 06:16:28 GMT\n"
     ]
    },
    {
     "data": {
      "text/plain": [
       "'image/png'"
      ]
     },
     "execution_count": 49,
     "metadata": {},
     "output_type": "execute_result"
    }
   ],
   "source": [
    "print(r.headers['Date'])\n",
    "r.headers['Content-Type']"
   ]
  },
  {
   "cell_type": "code",
   "execution_count": 50,
   "id": "9456e129",
   "metadata": {},
   "outputs": [],
   "source": [
    "import os\n",
    "path = os.path.join(os.getcwd(), 'image.png')\n",
    "# os.getcwd() trả về đường dẫn hiện tại, os.pth.join() nối image.png vào đường dẫn trước đó"
   ]
  },
  {
   "cell_type": "code",
   "execution_count": 51,
   "id": "3cb086c3",
   "metadata": {},
   "outputs": [],
   "source": [
    "with open(path, 'wb') as f:\n",
    "    f.write(r.content)"
   ]
  },
  {
   "cell_type": "code",
   "execution_count": 52,
   "id": "88fa5d77",
   "metadata": {},
   "outputs": [
    {
     "ename": "ModuleNotFoundError",
     "evalue": "No module named 'PIL'",
     "output_type": "error",
     "traceback": [
      "\u001b[1;31m---------------------------------------------------------------------------\u001b[0m",
      "\u001b[1;31mModuleNotFoundError\u001b[0m                       Traceback (most recent call last)",
      "Cell \u001b[1;32mIn[52], line 1\u001b[0m\n\u001b[1;32m----> 1\u001b[0m \u001b[38;5;28;01mfrom\u001b[39;00m \u001b[38;5;21;01mPIL\u001b[39;00m \u001b[38;5;28;01mimport\u001b[39;00m Image\n\u001b[0;32m      2\u001b[0m \u001b[38;5;28;01mfrom\u001b[39;00m \u001b[38;5;21;01mIPython\u001b[39;00m\u001b[38;5;21;01m.\u001b[39;00m\u001b[38;5;21;01mdisplay\u001b[39;00m \u001b[38;5;28;01mimport\u001b[39;00m IFrame\n",
      "\u001b[1;31mModuleNotFoundError\u001b[0m: No module named 'PIL'"
     ]
    }
   ],
   "source": [
    "from PIL import Image\n",
    "from IPython.display import IFrame"
   ]
  },
  {
   "cell_type": "code",
   "execution_count": null,
   "id": "22ae4f18",
   "metadata": {},
   "outputs": [
    {
     "data": {
      "image/png": "[encoded data removed]",
      "text/plain": [
       "<PIL.PngImagePlugin.PngImageFile image mode=RGBA size=1880x656>"
      ]
     },
     "execution_count": 53,
     "metadata": {},
     "output_type": "execute_result"
    }
   ],
   "source": [
    "Image.open(path)"
   ]
  },
  {
   "cell_type": "code",
   "execution_count": null,
   "id": "581e4349",
   "metadata": {},
   "outputs": [
    {
     "data": {
      "text/plain": [
       "'d:\\\\ptrong\\\\Study\\\\Coursera\\\\IBM Data Science\\\\4 - Python for Data Science, AI & Development\\\\image.png'"
      ]
     },
     "execution_count": 54,
     "metadata": {},
     "output_type": "execute_result"
    }
   ],
   "source": [
    "path"
   ]
  },
  {
   "cell_type": "code",
   "execution_count": null,
   "id": "a8e80a2b",
   "metadata": {},
   "outputs": [],
   "source": []
  },
  {
   "cell_type": "markdown",
   "id": "0e9ae036",
   "metadata": {},
   "source": [
    "### API Examples"
   ]
  },
  {
   "cell_type": "markdown",
   "id": "34603cea",
   "metadata": {},
   "source": [
    "#### Example 1: RandomUser API"
   ]
  },
  {
   "cell_type": "code",
   "execution_count": null,
   "id": "33f2af58",
   "metadata": {},
   "outputs": [
    {
     "name": "stdout",
     "output_type": "stream",
     "text": [
      "Collecting randomuser\n",
      "  Using cached randomuser-1.6-py3-none-any.whl\n",
      "Installing collected packages: randomuser\n",
      "Successfully installed randomuser-1.6\n"
     ]
    }
   ],
   "source": [
    "!pip install randomuser"
   ]
  },
  {
   "cell_type": "code",
   "execution_count": null,
   "id": "1d769104",
   "metadata": {},
   "outputs": [],
   "source": [
    "from randomuser import RandomUser\n",
    "import pandas as pd"
   ]
  },
  {
   "cell_type": "code",
   "execution_count": null,
   "id": "30bd63ac",
   "metadata": {},
   "outputs": [],
   "source": [
    "# Create a random user object\n",
    "r = RandomUser()"
   ]
  },
  {
   "cell_type": "code",
   "execution_count": null,
   "id": "2fc7ab00",
   "metadata": {},
   "outputs": [
    {
     "data": {
      "text/plain": [
       "[<randomuser.RandomUser at 0x20b177664b0>,\n",
       " <randomuser.RandomUser at 0x20b177664e0>,\n",
       " <randomuser.RandomUser at 0x20b17766510>,\n",
       " <randomuser.RandomUser at 0x20b17766540>,\n",
       " <randomuser.RandomUser at 0x20b17766570>,\n",
       " <randomuser.RandomUser at 0x20b177665a0>,\n",
       " <randomuser.RandomUser at 0x20b177665d0>,\n",
       " <randomuser.RandomUser at 0x20b17766600>,\n",
       " <randomuser.RandomUser at 0x20b17766630>,\n",
       " <randomuser.RandomUser at 0x20b17766660>]"
      ]
     },
     "execution_count": 58,
     "metadata": {},
     "output_type": "execute_result"
    }
   ],
   "source": [
    "# Using generate_users() to get a list of random 10 users\n",
    "some_list = r.generate_users(10)\n",
    "some_list"
   ]
  },
  {
   "cell_type": "code",
   "execution_count": null,
   "id": "30a3b072",
   "metadata": {},
   "outputs": [
    {
     "data": {
      "text/plain": [
       "'Jonathan Larsen'"
      ]
     },
     "execution_count": 59,
     "metadata": {},
     "output_type": "execute_result"
    }
   ],
   "source": [
    "name = r.get_full_name()\n",
    "name"
   ]
  },
  {
   "cell_type": "code",
   "execution_count": null,
   "id": "f1851d6a",
   "metadata": {},
   "outputs": [
    {
     "name": "stdout",
     "output_type": "stream",
     "text": [
      "Côme Schmitt   come.schmitt@example.com\n",
      "Rosa Saez   rosa.saez@example.com\n",
      "Antonie Otter   antonie.otter@example.com\n",
      "Brad Nguyen   brad.nguyen@example.com\n",
      "Ezra Turner   ezra.turner@example.com\n",
      "Maria Ortega   maria.ortega@example.com\n",
      "آوینا حسینی   awyn.hsyny@example.com\n",
      "Ewen Denis   ewen.denis@example.com\n",
      "Mikaela Sundgot   mikaela.sundgot@example.com\n",
      "Timo Fabre   timo.fabre@example.com\n"
     ]
    }
   ],
   "source": [
    "for user in some_list:\n",
    "    print(user.get_full_name(), ' ', user.get_email())"
   ]
  },
  {
   "cell_type": "code",
   "execution_count": null,
   "id": "e980e227",
   "metadata": {},
   "outputs": [
    {
     "name": "stdout",
     "output_type": "stream",
     "text": [
      "Côme Schmitt  and here is their photo:  https://randomuser.me/api/portraits/men/50.jpg\n",
      "Rosa Saez  and here is their photo:  https://randomuser.me/api/portraits/women/14.jpg\n",
      "Antonie Otter  and here is their photo:  https://randomuser.me/api/portraits/men/62.jpg\n",
      "Brad Nguyen  and here is their photo:  https://randomuser.me/api/portraits/men/37.jpg\n",
      "Ezra Turner  and here is their photo:  https://randomuser.me/api/portraits/men/56.jpg\n",
      "Maria Ortega  and here is their photo:  https://randomuser.me/api/portraits/women/87.jpg\n",
      "آوینا حسینی  and here is their photo:  https://randomuser.me/api/portraits/women/19.jpg\n",
      "Ewen Denis  and here is their photo:  https://randomuser.me/api/portraits/men/68.jpg\n",
      "Mikaela Sundgot  and here is their photo:  https://randomuser.me/api/portraits/women/41.jpg\n",
      "Timo Fabre  and here is their photo:  https://randomuser.me/api/portraits/men/53.jpg\n"
     ]
    }
   ],
   "source": [
    "for user in some_list:\n",
    "    print(user.get_full_name(), ' and here is their photo: ', user.get_picture())"
   ]
  },
  {
   "cell_type": "code",
   "execution_count": null,
   "id": "737e7e0b",
   "metadata": {},
   "outputs": [],
   "source": [
    "def get_users():\n",
    "    users = []\n",
    "    for user in RandomUser.generate_users(5):\n",
    "        users.append({\"Name\":user.get_full_name(),\"Gender\":user.get_gender(),\"City\":user.get_city(),\"State\":user.get_state(),\"Email\":user.get_email(), \"DOB\":user.get_dob(),\"Picture\":user.get_picture()})\n",
    "    \n",
    "    return pd.DataFrame(users)\n",
    "    "
   ]
  },
  {
   "cell_type": "code",
   "execution_count": null,
   "id": "2372d209",
   "metadata": {},
   "outputs": [
    {
     "data": {
      "text/html": [
       "<div>\n",
       "<style scoped>\n",
       "    .dataframe tbody tr th:only-of-type {\n",
       "        vertical-align: middle;\n",
       "    }\n",
       "\n",
       "    .dataframe tbody tr th {\n",
       "        vertical-align: top;\n",
       "    }\n",
       "\n",
       "    .dataframe thead th {\n",
       "        text-align: right;\n",
       "    }\n",
       "</style>\n",
       "<table border=\"1\" class=\"dataframe\">\n",
       "  <thead>\n",
       "    <tr style=\"text-align: right;\">\n",
       "      <th></th>\n",
       "      <th>Name</th>\n",
       "      <th>Gender</th>\n",
       "      <th>City</th>\n",
       "      <th>State</th>\n",
       "      <th>Email</th>\n",
       "      <th>DOB</th>\n",
       "      <th>Picture</th>\n",
       "    </tr>\n",
       "  </thead>\n",
       "  <tbody>\n",
       "    <tr>\n",
       "      <th>0</th>\n",
       "      <td>Olivia Steward</td>\n",
       "      <td>female</td>\n",
       "      <td>Limerick</td>\n",
       "      <td>Wicklow</td>\n",
       "      <td>olivia.steward@example.com</td>\n",
       "      <td>1976-07-31T00:01:23.429Z</td>\n",
       "      <td>https://randomuser.me/api/portraits/women/64.jpg</td>\n",
       "    </tr>\n",
       "    <tr>\n",
       "      <th>1</th>\n",
       "      <td>Rosie Porter</td>\n",
       "      <td>female</td>\n",
       "      <td>Wolverhampton</td>\n",
       "      <td>Cambridgeshire</td>\n",
       "      <td>rosie.porter@example.com</td>\n",
       "      <td>1984-09-18T17:38:50.573Z</td>\n",
       "      <td>https://randomuser.me/api/portraits/women/51.jpg</td>\n",
       "    </tr>\n",
       "    <tr>\n",
       "      <th>2</th>\n",
       "      <td>Tyra Log</td>\n",
       "      <td>female</td>\n",
       "      <td>Tveitsund</td>\n",
       "      <td>Hedmark</td>\n",
       "      <td>tyra.log@example.com</td>\n",
       "      <td>1963-11-05T03:21:39.062Z</td>\n",
       "      <td>https://randomuser.me/api/portraits/women/54.jpg</td>\n",
       "    </tr>\n",
       "    <tr>\n",
       "      <th>3</th>\n",
       "      <td>Wallace Warren</td>\n",
       "      <td>male</td>\n",
       "      <td>Roscrea</td>\n",
       "      <td>Clare</td>\n",
       "      <td>wallace.warren@example.com</td>\n",
       "      <td>1991-12-07T23:48:34.989Z</td>\n",
       "      <td>https://randomuser.me/api/portraits/men/97.jpg</td>\n",
       "    </tr>\n",
       "    <tr>\n",
       "      <th>4</th>\n",
       "      <td>Patricia Olivier</td>\n",
       "      <td>female</td>\n",
       "      <td>Bettwil</td>\n",
       "      <td>Jura</td>\n",
       "      <td>patricia.olivier@example.com</td>\n",
       "      <td>1952-11-04T11:17:45.094Z</td>\n",
       "      <td>https://randomuser.me/api/portraits/women/77.jpg</td>\n",
       "    </tr>\n",
       "  </tbody>\n",
       "</table>\n",
       "</div>"
      ],
      "text/plain": [
       "               Name  Gender           City           State  \\\n",
       "0    Olivia Steward  female       Limerick         Wicklow   \n",
       "1      Rosie Porter  female  Wolverhampton  Cambridgeshire   \n",
       "2          Tyra Log  female      Tveitsund         Hedmark   \n",
       "3    Wallace Warren    male        Roscrea           Clare   \n",
       "4  Patricia Olivier  female        Bettwil            Jura   \n",
       "\n",
       "                          Email                       DOB  \\\n",
       "0    olivia.steward@example.com  1976-07-31T00:01:23.429Z   \n",
       "1      rosie.porter@example.com  1984-09-18T17:38:50.573Z   \n",
       "2          tyra.log@example.com  1963-11-05T03:21:39.062Z   \n",
       "3    wallace.warren@example.com  1991-12-07T23:48:34.989Z   \n",
       "4  patricia.olivier@example.com  1952-11-04T11:17:45.094Z   \n",
       "\n",
       "                                            Picture  \n",
       "0  https://randomuser.me/api/portraits/women/64.jpg  \n",
       "1  https://randomuser.me/api/portraits/women/51.jpg  \n",
       "2  https://randomuser.me/api/portraits/women/54.jpg  \n",
       "3    https://randomuser.me/api/portraits/men/97.jpg  \n",
       "4  https://randomuser.me/api/portraits/women/77.jpg  "
      ]
     },
     "execution_count": 63,
     "metadata": {},
     "output_type": "execute_result"
    }
   ],
   "source": [
    "get_users()"
   ]
  },
  {
   "cell_type": "code",
   "execution_count": null,
   "id": "7e1def29",
   "metadata": {},
   "outputs": [
    {
     "data": {
      "text/html": [
       "<div>\n",
       "<style scoped>\n",
       "    .dataframe tbody tr th:only-of-type {\n",
       "        vertical-align: middle;\n",
       "    }\n",
       "\n",
       "    .dataframe tbody tr th {\n",
       "        vertical-align: top;\n",
       "    }\n",
       "\n",
       "    .dataframe thead th {\n",
       "        text-align: right;\n",
       "    }\n",
       "</style>\n",
       "<table border=\"1\" class=\"dataframe\">\n",
       "  <thead>\n",
       "    <tr style=\"text-align: right;\">\n",
       "      <th></th>\n",
       "      <th>Name</th>\n",
       "      <th>Gender</th>\n",
       "      <th>City</th>\n",
       "      <th>State</th>\n",
       "      <th>Email</th>\n",
       "      <th>DOB</th>\n",
       "      <th>Picture</th>\n",
       "    </tr>\n",
       "  </thead>\n",
       "  <tbody>\n",
       "    <tr>\n",
       "      <th>0</th>\n",
       "      <td>Mechthild Kress</td>\n",
       "      <td>female</td>\n",
       "      <td>Bützow</td>\n",
       "      <td>Bremen</td>\n",
       "      <td>mechthild.kress@example.com</td>\n",
       "      <td>1962-06-10T16:13:37.644Z</td>\n",
       "      <td>https://randomuser.me/api/portraits/women/85.jpg</td>\n",
       "    </tr>\n",
       "    <tr>\n",
       "      <th>1</th>\n",
       "      <td>Louis Jackson</td>\n",
       "      <td>male</td>\n",
       "      <td>Tauranga</td>\n",
       "      <td>Manawatu-Wanganui</td>\n",
       "      <td>louis.jackson@example.com</td>\n",
       "      <td>1966-01-26T20:00:32.696Z</td>\n",
       "      <td>https://randomuser.me/api/portraits/men/35.jpg</td>\n",
       "    </tr>\n",
       "    <tr>\n",
       "      <th>2</th>\n",
       "      <td>Landon Lewis</td>\n",
       "      <td>male</td>\n",
       "      <td>Tweed</td>\n",
       "      <td>Australian Capital Territory</td>\n",
       "      <td>landon.lewis@example.com</td>\n",
       "      <td>1996-07-02T17:30:30.339Z</td>\n",
       "      <td>https://randomuser.me/api/portraits/men/13.jpg</td>\n",
       "    </tr>\n",
       "    <tr>\n",
       "      <th>3</th>\n",
       "      <td>Jamie Heggøy</td>\n",
       "      <td>male</td>\n",
       "      <td>Leikanger</td>\n",
       "      <td>Vestfold</td>\n",
       "      <td>jamie.heggoy@example.com</td>\n",
       "      <td>1962-07-24T14:59:06.480Z</td>\n",
       "      <td>https://randomuser.me/api/portraits/men/54.jpg</td>\n",
       "    </tr>\n",
       "    <tr>\n",
       "      <th>4</th>\n",
       "      <td>Lisa Roy</td>\n",
       "      <td>female</td>\n",
       "      <td>Toulouse</td>\n",
       "      <td>Deux-Sèvres</td>\n",
       "      <td>lisa.roy@example.com</td>\n",
       "      <td>1980-02-07T10:08:02.859Z</td>\n",
       "      <td>https://randomuser.me/api/portraits/women/82.jpg</td>\n",
       "    </tr>\n",
       "  </tbody>\n",
       "</table>\n",
       "</div>"
      ],
      "text/plain": [
       "              Name  Gender       City                         State  \\\n",
       "0  Mechthild Kress  female     Bützow                        Bremen   \n",
       "1    Louis Jackson    male   Tauranga             Manawatu-Wanganui   \n",
       "2     Landon Lewis    male      Tweed  Australian Capital Territory   \n",
       "3     Jamie Heggøy    male  Leikanger                      Vestfold   \n",
       "4         Lisa Roy  female   Toulouse                   Deux-Sèvres   \n",
       "\n",
       "                         Email                       DOB  \\\n",
       "0  mechthild.kress@example.com  1962-06-10T16:13:37.644Z   \n",
       "1    louis.jackson@example.com  1966-01-26T20:00:32.696Z   \n",
       "2     landon.lewis@example.com  1996-07-02T17:30:30.339Z   \n",
       "3     jamie.heggoy@example.com  1962-07-24T14:59:06.480Z   \n",
       "4         lisa.roy@example.com  1980-02-07T10:08:02.859Z   \n",
       "\n",
       "                                            Picture  \n",
       "0  https://randomuser.me/api/portraits/women/85.jpg  \n",
       "1    https://randomuser.me/api/portraits/men/35.jpg  \n",
       "2    https://randomuser.me/api/portraits/men/13.jpg  \n",
       "3    https://randomuser.me/api/portraits/men/54.jpg  \n",
       "4  https://randomuser.me/api/portraits/women/82.jpg  "
      ]
     },
     "execution_count": 64,
     "metadata": {},
     "output_type": "execute_result"
    }
   ],
   "source": [
    "df1 = pd.DataFrame(get_users())\n",
    "df1"
   ]
  },
  {
   "cell_type": "markdown",
   "id": "0b539beb",
   "metadata": {},
   "source": [
    "#### Example 2: Fruityvice API"
   ]
  },
  {
   "cell_type": "code",
   "execution_count": null,
   "id": "901788e0",
   "metadata": {},
   "outputs": [],
   "source": [
    "import requests\n",
    "import json"
   ]
  },
  {
   "cell_type": "code",
   "execution_count": null,
   "id": "5d9c736a",
   "metadata": {},
   "outputs": [],
   "source": [
    "urlfruit = 'https://web.archive.org/web/20240929211114/https://fruityvice.com/api/fruit/all'"
   ]
  },
  {
   "cell_type": "code",
   "execution_count": null,
   "id": "0b66a105",
   "metadata": {},
   "outputs": [],
   "source": [
    "data = requests.get(urlfruit)"
   ]
  },
  {
   "cell_type": "code",
   "execution_count": null,
   "id": "ee296ef1",
   "metadata": {},
   "outputs": [
    {
     "data": {
      "text/plain": [
       "200"
      ]
     },
     "execution_count": 68,
     "metadata": {},
     "output_type": "execute_result"
    }
   ],
   "source": [
    "data.status_code"
   ]
  },
  {
   "cell_type": "code",
   "execution_count": null,
   "id": "8e06ef8a",
   "metadata": {},
   "outputs": [
    {
     "data": {
      "text/plain": [
       "'[{\"name\":\"Persimmon\",\"id\":52,\"family\":\"Ebenaceae\",\"order\":\"Rosales\",\"genus\":\"Diospyros\",\"nutritions\":{\"calories\":81,\"fat\":0.0,\"sugar\":18.0,\"carbohydrates\":18.0,\"protein\":0.0}},{\"name\":\"Strawberry\",\"id\":3,\"family\":\"Rosaceae\",\"order\":\"Rosales\",\"genus\":\"Fragaria\",\"nutritions\":{\"calories\":29,\"fat\":0.4,\"sugar\":5.4,\"carbohydrates\":5.5,\"protein\":0.8}},{\"name\":\"Banana\",\"id\":1,\"family\":\"Musaceae\",\"order\":\"Zingiberales\",\"genus\":\"Musa\",\"nutritions\":{\"calories\":96,\"fat\":0.2,\"sugar\":17.2,\"carbohydrates\":22.0,\"protein\":1.0}},{\"name\":\"Tomato\",\"id\":5,\"family\":\"Solanaceae\",\"order\":\"Solanales\",\"genus\":\"Solanum\",\"nutritions\":{\"calories\":74,\"fat\":0.2,\"sugar\":2.6,\"carbohydrates\":3.9,\"protein\":0.9}},{\"name\":\"Pear\",\"id\":4,\"family\":\"Rosaceae\",\"order\":\"Rosales\",\"genus\":\"Pyrus\",\"nutritions\":{\"calories\":57,\"fat\":0.1,\"sugar\":10.0,\"carbohydrates\":15.0,\"protein\":0.4}},{\"name\":\"Durian\",\"id\":60,\"family\":\"Malvaceae\",\"order\":\"Malvales\",\"genus\":\"Durio\",\"nutritions\":{\"calories\":147,\"fat\":5.3,\"sugar\":6.75,\"carbohydrates\":27.1,\"protein\":1.5}},{\"name\":\"Blackberry\",\"id\":64,\"family\":\"Rosaceae\",\"order\":\"Rosales\",\"genus\":\"Rubus\",\"nutritions\":{\"calories\":40,\"fat\":0.4,\"sugar\":4.5,\"carbohydrates\":9.0,\"protein\":1.3}},{\"name\":\"Lingonberry\",\"id\":65,\"family\":\"Ericaceae\",\"order\":\"Ericales\",\"genus\":\"Vaccinium\",\"nutritions\":{\"calories\":50,\"fat\":0.34,\"sugar\":5.74,\"carbohydrates\":11.3,\"protein\":0.75}},{\"name\":\"Kiwi\",\"id\":66,\"family\":\"Actinidiaceae\",\"order\":\"Struthioniformes\",\"genus\":\"Apteryx\",\"nutritions\":{\"calories\":61,\"fat\":0.5,\"sugar\":9.0,\"carbohydrates\":15.0,\"protein\":1.1}},{\"name\":\"Lychee\",\"id\":67,\"family\":\"Sapindaceae\",\"order\":\"Sapindales\",\"genus\":\"Litchi\",\"nutritions\":{\"calories\":66,\"fat\":0.44,\"sugar\":15.0,\"carbohydrates\":17.0,\"protein\":0.8}},{\"name\":\"Pineapple\",\"id\":10,\"family\":\"Bromeliaceae\",\"order\":\"Poales\",\"genus\":\"Ananas\",\"nutritions\":{\"calories\":50,\"fat\":0.12,\"sugar\":9.85,\"carbohydrates\":13.12,\"protein\":0.54}},{\"name\":\"Fig\",\"id\":68,\"family\":\"Moraceae\",\"order\":\"Rosales\",\"genus\":\"Ficus\",\"nutritions\":{\"calories\":74,\"fat\":0.3,\"sugar\":16.0,\"carbohydrates\":19.0,\"protein\":0.8}},{\"name\":\"Gooseberry\",\"id\":69,\"family\":\"Grossulariaceae\",\"order\":\"Saxifragales\",\"genus\":\"Ribes\",\"nutritions\":{\"calories\":44,\"fat\":0.6,\"sugar\":0.0,\"carbohydrates\":10.0,\"protein\":0.9}},{\"name\":\"Passionfruit\",\"id\":70,\"family\":\"Passifloraceae\",\"order\":\"Malpighiales\",\"genus\":\"Passiflora\",\"nutritions\":{\"calories\":97,\"fat\":0.7,\"sugar\":11.2,\"carbohydrates\":22.4,\"protein\":2.2}},{\"name\":\"Plum\",\"id\":71,\"family\":\"Rosaceae\",\"order\":\"Rosales\",\"genus\":\"Prunus\",\"nutritions\":{\"calories\":46,\"fat\":0.28,\"sugar\":9.92,\"carbohydrates\":11.4,\"protein\":0.7}},{\"name\":\"Orange\",\"id\":2,\"family\":\"Rutaceae\",\"order\":\"Sapindales\",\"genus\":\"Citrus\",\"nutritions\":{\"calories\":43,\"fat\":0.2,\"sugar\":8.2,\"carbohydrates\":8.3,\"protein\":1.0}},{\"name\":\"GreenApple\",\"id\":72,\"family\":\"Rosaceae\",\"order\":\"Rosales\",\"genus\":\"Malus\",\"nutritions\":{\"calories\":21,\"fat\":0.1,\"sugar\":6.4,\"carbohydrates\":3.1,\"protein\":0.4}},{\"name\":\"Raspberry\",\"id\":23,\"family\":\"Rosaceae\",\"order\":\"Rosales\",\"genus\":\"Rubus\",\"nutritions\":{\"calories\":53,\"fat\":0.7,\"sugar\":4.4,\"carbohydrates\":12.0,\"protein\":1.2}},{\"name\":\"Watermelon\",\"id\":25,\"family\":\"Cucurbitaceae\",\"order\":\"Cucurbitales\",\"genus\":\"Citrullus\",\"nutritions\":{\"calories\":30,\"fat\":0.2,\"sugar\":6.0,\"carbohydrates\":8.0,\"protein\":0.6}},{\"name\":\"Lemon\",\"id\":26,\"family\":\"Rutaceae\",\"order\":\"Sapindales\",\"genus\":\"Citrus\",\"nutritions\":{\"calories\":29,\"fat\":0.3,\"sugar\":2.5,\"carbohydrates\":9.0,\"protein\":1.1}},{\"name\":\"Mango\",\"id\":27,\"family\":\"Anacardiaceae\",\"order\":\"Sapindales\",\"genus\":\"Mangifera\",\"nutritions\":{\"calories\":60,\"fat\":0.38,\"sugar\":13.7,\"carbohydrates\":15.0,\"protein\":0.82}},{\"name\":\"Blueberry\",\"id\":33,\"family\":\"Rosaceae\",\"order\":\"Rosales\",\"genus\":\"Fragaria\",\"nutritions\":{\"calories\":29,\"fat\":0.4,\"sugar\":5.4,\"carbohydrates\":5.5,\"protein\":0.0}},{\"name\":\"Apple\",\"id\":6,\"family\":\"Rosaceae\",\"order\":\"Rosales\",\"genus\":\"Malus\",\"nutritions\":{\"calories\":52,\"fat\":0.4,\"sugar\":10.3,\"carbohydrates\":11.4,\"protein\":0.3}},{\"name\":\"Guava\",\"id\":37,\"family\":\"Myrtaceae\",\"order\":\"Myrtales\",\"genus\":\"Psidium\",\"nutritions\":{\"calories\":68,\"fat\":1.0,\"sugar\":9.0,\"carbohydrates\":14.0,\"protein\":2.6}},{\"name\":\"Apricot\",\"id\":35,\"family\":\"Rosaceae\",\"order\":\"Rosales\",\"genus\":\"Prunus\",\"nutritions\":{\"calories\":15,\"fat\":0.1,\"sugar\":3.2,\"carbohydrates\":3.9,\"protein\":0.5}},{\"name\":\"Melon\",\"id\":41,\"family\":\"Cucurbitaceae\",\"order\":\"Cucurbitaceae\",\"genus\":\"Cucumis\",\"nutritions\":{\"calories\":34,\"fat\":0.0,\"sugar\":8.0,\"carbohydrates\":8.0,\"protein\":0.0}},{\"name\":\"Tangerine\",\"id\":77,\"family\":\"Rutaceae\",\"order\":\"Sapindales\",\"genus\":\"Citrus\",\"nutritions\":{\"calories\":45,\"fat\":0.4,\"sugar\":9.1,\"carbohydrates\":8.3,\"protein\":0.0}},{\"name\":\"Pitahaya\",\"id\":78,\"family\":\"Cactaceae\",\"order\":\"Caryophyllales\",\"genus\":\"Cactaceae\",\"nutritions\":{\"calories\":36,\"fat\":0.4,\"sugar\":3.0,\"carbohydrates\":7.0,\"protein\":1.0}},{\"name\":\"Lime\",\"id\":44,\"family\":\"Rutaceae\",\"order\":\"Sapindales\",\"genus\":\"Citrus\",\"nutritions\":{\"calories\":25,\"fat\":0.1,\"sugar\":1.7,\"carbohydrates\":8.4,\"protein\":0.3}},{\"name\":\"Pomegranate\",\"id\":79,\"family\":\"Lythraceae\",\"order\":\"Myrtales\",\"genus\":\"Punica\",\"nutritions\":{\"calories\":83,\"fat\":1.2,\"sugar\":13.7,\"carbohydrates\":18.7,\"protein\":1.7}},{\"name\":\"Dragonfruit\",\"id\":80,\"family\":\"Cactaceae\",\"order\":\"Caryophyllales\",\"genus\":\"Selenicereus\",\"nutritions\":{\"calories\":60,\"fat\":1.5,\"sugar\":8.0,\"carbohydrates\":9.0,\"protein\":9.0}},{\"name\":\"Grape\",\"id\":81,\"family\":\"Vitaceae\",\"order\":\"Vitales\",\"genus\":\"Vitis\",\"nutritions\":{\"calories\":69,\"fat\":0.16,\"sugar\":16.0,\"carbohydrates\":18.1,\"protein\":0.72}},{\"name\":\"Morus\",\"id\":82,\"family\":\"Moraceae\",\"order\":\"Rosales\",\"genus\":\"Morus\",\"nutritions\":{\"calories\":43,\"fat\":0.39,\"sugar\":8.1,\"carbohydrates\":9.8,\"protein\":1.44}},{\"name\":\"Feijoa\",\"id\":76,\"family\":\"Myrtaceae\",\"order\":\"Myrtoideae\",\"genus\":\"Sellowiana\",\"nutritions\":{\"calories\":44,\"fat\":0.4,\"sugar\":3.0,\"carbohydrates\":8.0,\"protein\":0.6}},{\"name\":\"Avocado\",\"id\":84,\"family\":\"Lauraceae\",\"order\":\"Laurales\",\"genus\":\"Persea\",\"nutritions\":{\"calories\":160,\"fat\":14.66,\"sugar\":0.66,\"carbohydrates\":8.53,\"protein\":2.0}},{\"name\":\"Kiwifruit\",\"id\":85,\"family\":\"Actinidiaceae\",\"order\":\"Ericales\",\"genus\":\"Actinidia\",\"nutritions\":{\"calories\":61,\"fat\":0.5,\"sugar\":8.9,\"carbohydrates\":14.6,\"protein\":1.14}},{\"name\":\"Cranberry\",\"id\":87,\"family\":\"Ericaceae\",\"order\":\"Ericales\",\"genus\":\"Vaccinium\",\"nutritions\":{\"calories\":46,\"fat\":0.1,\"sugar\":4.0,\"carbohydrates\":12.2,\"protein\":0.4}},{\"name\":\"Cherry\",\"id\":9,\"family\":\"Rosaceae\",\"order\":\"Rosales\",\"genus\":\"Prunus\",\"nutritions\":{\"calories\":50,\"fat\":0.3,\"sugar\":8.0,\"carbohydrates\":12.0,\"protein\":1.0}},{\"name\":\"Peach\",\"id\":86,\"family\":\"Rosaceae\",\"order\":\"Rosales\",\"genus\":\"Prunus\",\"nutritions\":{\"calories\":39,\"fat\":0.25,\"sugar\":8.4,\"carbohydrates\":9.5,\"protein\":0.9}},{\"name\":\"Jackfruit\",\"id\":94,\"family\":\"Moraceae\",\"order\":\"Rosales\",\"genus\":\"Artocarpus\",\"nutritions\":{\"calories\":95,\"fat\":0.0,\"sugar\":19.1,\"carbohydrates\":23.2,\"protein\":1.72}},{\"name\":\"Horned Melon\",\"id\":95,\"family\":\"Cucurbitaceae\",\"order\":\"Cucurbitales\",\"genus\":\"Cucumis\",\"nutritions\":{\"calories\":44,\"fat\":1.26,\"sugar\":0.5,\"carbohydrates\":7.56,\"protein\":1.78}},{\"name\":\"Hazelnut\",\"id\":96,\"family\":\"Betulaceae\",\"order\":\"Fagales\",\"genus\":\"Corylus\",\"nutritions\":{\"calories\":628,\"fat\":61.0,\"sugar\":4.3,\"carbohydrates\":17.0,\"protein\":15.0}},{\"name\":\"Pomelo\",\"id\":98,\"family\":\"Rutaceae\",\"order\":\"Sapindales\",\"genus\":\"Citrus\",\"nutritions\":{\"calories\":37,\"fat\":0.0,\"sugar\":8.5,\"carbohydrates\":9.67,\"protein\":0.82}},{\"name\":\"Mangosteen\",\"id\":99,\"family\":\"Clusiaceae\",\"order\":\"Malpighiales\",\"genus\":\"Garcinia\",\"nutritions\":{\"calories\":73,\"fat\":0.58,\"sugar\":16.11,\"carbohydrates\":17.91,\"protein\":0.41}},{\"name\":\"Pumpkin\",\"id\":100,\"family\":\"Cucurbitaceae\",\"order\":\"Cucurbitales\",\"genus\":\"Cucurbita\",\"nutritions\":{\"calories\":25,\"fat\":0.3,\"sugar\":3.3,\"carbohydrates\":4.6,\"protein\":1.1}},{\"name\":\"Japanese Persimmon\",\"id\":101,\"family\":\" Ebenaceae\",\"order\":\" Ericales\",\"genus\":\"Diospyros\",\"nutritions\":{\"calories\":70,\"fat\":0.2,\"sugar\":13.0,\"carbohydrates\":19.0,\"protein\":0.6}},{\"name\":\"Papaya\",\"id\":42,\"family\":\"Caricaceae\",\"order\":\"Brassicales\",\"genus\":\"Carica\",\"nutritions\":{\"calories\":39,\"fat\":0.3,\"sugar\":4.4,\"carbohydrates\":5.8,\"protein\":0.5}},{\"name\":\"Annona\",\"id\":103,\"family\":\"Annonaceae\",\"order\":\"Rosales\",\"genus\":\"Annonas\",\"nutritions\":{\"calories\":92,\"fat\":0.29,\"sugar\":3.4,\"carbohydrates\":19.1,\"protein\":1.5}},{\"name\":\"Ceylon Gooseberry\",\"id\":104,\"family\":\"Salicaceae\",\"order\":\"Malpighiales\",\"genus\":\"Dovyalis\",\"nutritions\":{\"calories\":47,\"fat\":0.3,\"sugar\":8.1,\"carbohydrates\":9.6,\"protein\":1.2}}]'"
      ]
     },
     "execution_count": 69,
     "metadata": {},
     "output_type": "execute_result"
    }
   ],
   "source": [
    "data.text"
   ]
  },
  {
   "cell_type": "code",
   "execution_count": null,
   "id": "72ea1244",
   "metadata": {},
   "outputs": [
    {
     "data": {
      "text/plain": [
       "[{'name': 'Persimmon',\n",
       "  'id': 52,\n",
       "  'family': 'Ebenaceae',\n",
       "  'order': 'Rosales',\n",
       "  'genus': 'Diospyros',\n",
       "  'nutritions': {'calories': 81,\n",
       "   'fat': 0.0,\n",
       "   'sugar': 18.0,\n",
       "   'carbohydrates': 18.0,\n",
       "   'protein': 0.0}},\n",
       " {'name': 'Strawberry',\n",
       "  'id': 3,\n",
       "  'family': 'Rosaceae',\n",
       "  'order': 'Rosales',\n",
       "  'genus': 'Fragaria',\n",
       "  'nutritions': {'calories': 29,\n",
       "   'fat': 0.4,\n",
       "   'sugar': 5.4,\n",
       "   'carbohydrates': 5.5,\n",
       "   'protein': 0.8}},\n",
       " {'name': 'Banana',\n",
       "  'id': 1,\n",
       "  'family': 'Musaceae',\n",
       "  'order': 'Zingiberales',\n",
       "  'genus': 'Musa',\n",
       "  'nutritions': {'calories': 96,\n",
       "   'fat': 0.2,\n",
       "   'sugar': 17.2,\n",
       "   'carbohydrates': 22.0,\n",
       "   'protein': 1.0}},\n",
       " {'name': 'Tomato',\n",
       "  'id': 5,\n",
       "  'family': 'Solanaceae',\n",
       "  'order': 'Solanales',\n",
       "  'genus': 'Solanum',\n",
       "  'nutritions': {'calories': 74,\n",
       "   'fat': 0.2,\n",
       "   'sugar': 2.6,\n",
       "   'carbohydrates': 3.9,\n",
       "   'protein': 0.9}},\n",
       " {'name': 'Pear',\n",
       "  'id': 4,\n",
       "  'family': 'Rosaceae',\n",
       "  'order': 'Rosales',\n",
       "  'genus': 'Pyrus',\n",
       "  'nutritions': {'calories': 57,\n",
       "   'fat': 0.1,\n",
       "   'sugar': 10.0,\n",
       "   'carbohydrates': 15.0,\n",
       "   'protein': 0.4}},\n",
       " {'name': 'Durian',\n",
       "  'id': 60,\n",
       "  'family': 'Malvaceae',\n",
       "  'order': 'Malvales',\n",
       "  'genus': 'Durio',\n",
       "  'nutritions': {'calories': 147,\n",
       "   'fat': 5.3,\n",
       "   'sugar': 6.75,\n",
       "   'carbohydrates': 27.1,\n",
       "   'protein': 1.5}},\n",
       " {'name': 'Blackberry',\n",
       "  'id': 64,\n",
       "  'family': 'Rosaceae',\n",
       "  'order': 'Rosales',\n",
       "  'genus': 'Rubus',\n",
       "  'nutritions': {'calories': 40,\n",
       "   'fat': 0.4,\n",
       "   'sugar': 4.5,\n",
       "   'carbohydrates': 9.0,\n",
       "   'protein': 1.3}},\n",
       " {'name': 'Lingonberry',\n",
       "  'id': 65,\n",
       "  'family': 'Ericaceae',\n",
       "  'order': 'Ericales',\n",
       "  'genus': 'Vaccinium',\n",
       "  'nutritions': {'calories': 50,\n",
       "   'fat': 0.34,\n",
       "   'sugar': 5.74,\n",
       "   'carbohydrates': 11.3,\n",
       "   'protein': 0.75}},\n",
       " {'name': 'Kiwi',\n",
       "  'id': 66,\n",
       "  'family': 'Actinidiaceae',\n",
       "  'order': 'Struthioniformes',\n",
       "  'genus': 'Apteryx',\n",
       "  'nutritions': {'calories': 61,\n",
       "   'fat': 0.5,\n",
       "   'sugar': 9.0,\n",
       "   'carbohydrates': 15.0,\n",
       "   'protein': 1.1}},\n",
       " {'name': 'Lychee',\n",
       "  'id': 67,\n",
       "  'family': 'Sapindaceae',\n",
       "  'order': 'Sapindales',\n",
       "  'genus': 'Litchi',\n",
       "  'nutritions': {'calories': 66,\n",
       "   'fat': 0.44,\n",
       "   'sugar': 15.0,\n",
       "   'carbohydrates': 17.0,\n",
       "   'protein': 0.8}},\n",
       " {'name': 'Pineapple',\n",
       "  'id': 10,\n",
       "  'family': 'Bromeliaceae',\n",
       "  'order': 'Poales',\n",
       "  'genus': 'Ananas',\n",
       "  'nutritions': {'calories': 50,\n",
       "   'fat': 0.12,\n",
       "   'sugar': 9.85,\n",
       "   'carbohydrates': 13.12,\n",
       "   'protein': 0.54}},\n",
       " {'name': 'Fig',\n",
       "  'id': 68,\n",
       "  'family': 'Moraceae',\n",
       "  'order': 'Rosales',\n",
       "  'genus': 'Ficus',\n",
       "  'nutritions': {'calories': 74,\n",
       "   'fat': 0.3,\n",
       "   'sugar': 16.0,\n",
       "   'carbohydrates': 19.0,\n",
       "   'protein': 0.8}},\n",
       " {'name': 'Gooseberry',\n",
       "  'id': 69,\n",
       "  'family': 'Grossulariaceae',\n",
       "  'order': 'Saxifragales',\n",
       "  'genus': 'Ribes',\n",
       "  'nutritions': {'calories': 44,\n",
       "   'fat': 0.6,\n",
       "   'sugar': 0.0,\n",
       "   'carbohydrates': 10.0,\n",
       "   'protein': 0.9}},\n",
       " {'name': 'Passionfruit',\n",
       "  'id': 70,\n",
       "  'family': 'Passifloraceae',\n",
       "  'order': 'Malpighiales',\n",
       "  'genus': 'Passiflora',\n",
       "  'nutritions': {'calories': 97,\n",
       "   'fat': 0.7,\n",
       "   'sugar': 11.2,\n",
       "   'carbohydrates': 22.4,\n",
       "   'protein': 2.2}},\n",
       " {'name': 'Plum',\n",
       "  'id': 71,\n",
       "  'family': 'Rosaceae',\n",
       "  'order': 'Rosales',\n",
       "  'genus': 'Prunus',\n",
       "  'nutritions': {'calories': 46,\n",
       "   'fat': 0.28,\n",
       "   'sugar': 9.92,\n",
       "   'carbohydrates': 11.4,\n",
       "   'protein': 0.7}},\n",
       " {'name': 'Orange',\n",
       "  'id': 2,\n",
       "  'family': 'Rutaceae',\n",
       "  'order': 'Sapindales',\n",
       "  'genus': 'Citrus',\n",
       "  'nutritions': {'calories': 43,\n",
       "   'fat': 0.2,\n",
       "   'sugar': 8.2,\n",
       "   'carbohydrates': 8.3,\n",
       "   'protein': 1.0}},\n",
       " {'name': 'GreenApple',\n",
       "  'id': 72,\n",
       "  'family': 'Rosaceae',\n",
       "  'order': 'Rosales',\n",
       "  'genus': 'Malus',\n",
       "  'nutritions': {'calories': 21,\n",
       "   'fat': 0.1,\n",
       "   'sugar': 6.4,\n",
       "   'carbohydrates': 3.1,\n",
       "   'protein': 0.4}},\n",
       " {'name': 'Raspberry',\n",
       "  'id': 23,\n",
       "  'family': 'Rosaceae',\n",
       "  'order': 'Rosales',\n",
       "  'genus': 'Rubus',\n",
       "  'nutritions': {'calories': 53,\n",
       "   'fat': 0.7,\n",
       "   'sugar': 4.4,\n",
       "   'carbohydrates': 12.0,\n",
       "   'protein': 1.2}},\n",
       " {'name': 'Watermelon',\n",
       "  'id': 25,\n",
       "  'family': 'Cucurbitaceae',\n",
       "  'order': 'Cucurbitales',\n",
       "  'genus': 'Citrullus',\n",
       "  'nutritions': {'calories': 30,\n",
       "   'fat': 0.2,\n",
       "   'sugar': 6.0,\n",
       "   'carbohydrates': 8.0,\n",
       "   'protein': 0.6}},\n",
       " {'name': 'Lemon',\n",
       "  'id': 26,\n",
       "  'family': 'Rutaceae',\n",
       "  'order': 'Sapindales',\n",
       "  'genus': 'Citrus',\n",
       "  'nutritions': {'calories': 29,\n",
       "   'fat': 0.3,\n",
       "   'sugar': 2.5,\n",
       "   'carbohydrates': 9.0,\n",
       "   'protein': 1.1}},\n",
       " {'name': 'Mango',\n",
       "  'id': 27,\n",
       "  'family': 'Anacardiaceae',\n",
       "  'order': 'Sapindales',\n",
       "  'genus': 'Mangifera',\n",
       "  'nutritions': {'calories': 60,\n",
       "   'fat': 0.38,\n",
       "   'sugar': 13.7,\n",
       "   'carbohydrates': 15.0,\n",
       "   'protein': 0.82}},\n",
       " {'name': 'Blueberry',\n",
       "  'id': 33,\n",
       "  'family': 'Rosaceae',\n",
       "  'order': 'Rosales',\n",
       "  'genus': 'Fragaria',\n",
       "  'nutritions': {'calories': 29,\n",
       "   'fat': 0.4,\n",
       "   'sugar': 5.4,\n",
       "   'carbohydrates': 5.5,\n",
       "   'protein': 0.0}},\n",
       " {'name': 'Apple',\n",
       "  'id': 6,\n",
       "  'family': 'Rosaceae',\n",
       "  'order': 'Rosales',\n",
       "  'genus': 'Malus',\n",
       "  'nutritions': {'calories': 52,\n",
       "   'fat': 0.4,\n",
       "   'sugar': 10.3,\n",
       "   'carbohydrates': 11.4,\n",
       "   'protein': 0.3}},\n",
       " {'name': 'Guava',\n",
       "  'id': 37,\n",
       "  'family': 'Myrtaceae',\n",
       "  'order': 'Myrtales',\n",
       "  'genus': 'Psidium',\n",
       "  'nutritions': {'calories': 68,\n",
       "   'fat': 1.0,\n",
       "   'sugar': 9.0,\n",
       "   'carbohydrates': 14.0,\n",
       "   'protein': 2.6}},\n",
       " {'name': 'Apricot',\n",
       "  'id': 35,\n",
       "  'family': 'Rosaceae',\n",
       "  'order': 'Rosales',\n",
       "  'genus': 'Prunus',\n",
       "  'nutritions': {'calories': 15,\n",
       "   'fat': 0.1,\n",
       "   'sugar': 3.2,\n",
       "   'carbohydrates': 3.9,\n",
       "   'protein': 0.5}},\n",
       " {'name': 'Melon',\n",
       "  'id': 41,\n",
       "  'family': 'Cucurbitaceae',\n",
       "  'order': 'Cucurbitaceae',\n",
       "  'genus': 'Cucumis',\n",
       "  'nutritions': {'calories': 34,\n",
       "   'fat': 0.0,\n",
       "   'sugar': 8.0,\n",
       "   'carbohydrates': 8.0,\n",
       "   'protein': 0.0}},\n",
       " {'name': 'Tangerine',\n",
       "  'id': 77,\n",
       "  'family': 'Rutaceae',\n",
       "  'order': 'Sapindales',\n",
       "  'genus': 'Citrus',\n",
       "  'nutritions': {'calories': 45,\n",
       "   'fat': 0.4,\n",
       "   'sugar': 9.1,\n",
       "   'carbohydrates': 8.3,\n",
       "   'protein': 0.0}},\n",
       " {'name': 'Pitahaya',\n",
       "  'id': 78,\n",
       "  'family': 'Cactaceae',\n",
       "  'order': 'Caryophyllales',\n",
       "  'genus': 'Cactaceae',\n",
       "  'nutritions': {'calories': 36,\n",
       "   'fat': 0.4,\n",
       "   'sugar': 3.0,\n",
       "   'carbohydrates': 7.0,\n",
       "   'protein': 1.0}},\n",
       " {'name': 'Lime',\n",
       "  'id': 44,\n",
       "  'family': 'Rutaceae',\n",
       "  'order': 'Sapindales',\n",
       "  'genus': 'Citrus',\n",
       "  'nutritions': {'calories': 25,\n",
       "   'fat': 0.1,\n",
       "   'sugar': 1.7,\n",
       "   'carbohydrates': 8.4,\n",
       "   'protein': 0.3}},\n",
       " {'name': 'Pomegranate',\n",
       "  'id': 79,\n",
       "  'family': 'Lythraceae',\n",
       "  'order': 'Myrtales',\n",
       "  'genus': 'Punica',\n",
       "  'nutritions': {'calories': 83,\n",
       "   'fat': 1.2,\n",
       "   'sugar': 13.7,\n",
       "   'carbohydrates': 18.7,\n",
       "   'protein': 1.7}},\n",
       " {'name': 'Dragonfruit',\n",
       "  'id': 80,\n",
       "  'family': 'Cactaceae',\n",
       "  'order': 'Caryophyllales',\n",
       "  'genus': 'Selenicereus',\n",
       "  'nutritions': {'calories': 60,\n",
       "   'fat': 1.5,\n",
       "   'sugar': 8.0,\n",
       "   'carbohydrates': 9.0,\n",
       "   'protein': 9.0}},\n",
       " {'name': 'Grape',\n",
       "  'id': 81,\n",
       "  'family': 'Vitaceae',\n",
       "  'order': 'Vitales',\n",
       "  'genus': 'Vitis',\n",
       "  'nutritions': {'calories': 69,\n",
       "   'fat': 0.16,\n",
       "   'sugar': 16.0,\n",
       "   'carbohydrates': 18.1,\n",
       "   'protein': 0.72}},\n",
       " {'name': 'Morus',\n",
       "  'id': 82,\n",
       "  'family': 'Moraceae',\n",
       "  'order': 'Rosales',\n",
       "  'genus': 'Morus',\n",
       "  'nutritions': {'calories': 43,\n",
       "   'fat': 0.39,\n",
       "   'sugar': 8.1,\n",
       "   'carbohydrates': 9.8,\n",
       "   'protein': 1.44}},\n",
       " {'name': 'Feijoa',\n",
       "  'id': 76,\n",
       "  'family': 'Myrtaceae',\n",
       "  'order': 'Myrtoideae',\n",
       "  'genus': 'Sellowiana',\n",
       "  'nutritions': {'calories': 44,\n",
       "   'fat': 0.4,\n",
       "   'sugar': 3.0,\n",
       "   'carbohydrates': 8.0,\n",
       "   'protein': 0.6}},\n",
       " {'name': 'Avocado',\n",
       "  'id': 84,\n",
       "  'family': 'Lauraceae',\n",
       "  'order': 'Laurales',\n",
       "  'genus': 'Persea',\n",
       "  'nutritions': {'calories': 160,\n",
       "   'fat': 14.66,\n",
       "   'sugar': 0.66,\n",
       "   'carbohydrates': 8.53,\n",
       "   'protein': 2.0}},\n",
       " {'name': 'Kiwifruit',\n",
       "  'id': 85,\n",
       "  'family': 'Actinidiaceae',\n",
       "  'order': 'Ericales',\n",
       "  'genus': 'Actinidia',\n",
       "  'nutritions': {'calories': 61,\n",
       "   'fat': 0.5,\n",
       "   'sugar': 8.9,\n",
       "   'carbohydrates': 14.6,\n",
       "   'protein': 1.14}},\n",
       " {'name': 'Cranberry',\n",
       "  'id': 87,\n",
       "  'family': 'Ericaceae',\n",
       "  'order': 'Ericales',\n",
       "  'genus': 'Vaccinium',\n",
       "  'nutritions': {'calories': 46,\n",
       "   'fat': 0.1,\n",
       "   'sugar': 4.0,\n",
       "   'carbohydrates': 12.2,\n",
       "   'protein': 0.4}},\n",
       " {'name': 'Cherry',\n",
       "  'id': 9,\n",
       "  'family': 'Rosaceae',\n",
       "  'order': 'Rosales',\n",
       "  'genus': 'Prunus',\n",
       "  'nutritions': {'calories': 50,\n",
       "   'fat': 0.3,\n",
       "   'sugar': 8.0,\n",
       "   'carbohydrates': 12.0,\n",
       "   'protein': 1.0}},\n",
       " {'name': 'Peach',\n",
       "  'id': 86,\n",
       "  'family': 'Rosaceae',\n",
       "  'order': 'Rosales',\n",
       "  'genus': 'Prunus',\n",
       "  'nutritions': {'calories': 39,\n",
       "   'fat': 0.25,\n",
       "   'sugar': 8.4,\n",
       "   'carbohydrates': 9.5,\n",
       "   'protein': 0.9}},\n",
       " {'name': 'Jackfruit',\n",
       "  'id': 94,\n",
       "  'family': 'Moraceae',\n",
       "  'order': 'Rosales',\n",
       "  'genus': 'Artocarpus',\n",
       "  'nutritions': {'calories': 95,\n",
       "   'fat': 0.0,\n",
       "   'sugar': 19.1,\n",
       "   'carbohydrates': 23.2,\n",
       "   'protein': 1.72}},\n",
       " {'name': 'Horned Melon',\n",
       "  'id': 95,\n",
       "  'family': 'Cucurbitaceae',\n",
       "  'order': 'Cucurbitales',\n",
       "  'genus': 'Cucumis',\n",
       "  'nutritions': {'calories': 44,\n",
       "   'fat': 1.26,\n",
       "   'sugar': 0.5,\n",
       "   'carbohydrates': 7.56,\n",
       "   'protein': 1.78}},\n",
       " {'name': 'Hazelnut',\n",
       "  'id': 96,\n",
       "  'family': 'Betulaceae',\n",
       "  'order': 'Fagales',\n",
       "  'genus': 'Corylus',\n",
       "  'nutritions': {'calories': 628,\n",
       "   'fat': 61.0,\n",
       "   'sugar': 4.3,\n",
       "   'carbohydrates': 17.0,\n",
       "   'protein': 15.0}},\n",
       " {'name': 'Pomelo',\n",
       "  'id': 98,\n",
       "  'family': 'Rutaceae',\n",
       "  'order': 'Sapindales',\n",
       "  'genus': 'Citrus',\n",
       "  'nutritions': {'calories': 37,\n",
       "   'fat': 0.0,\n",
       "   'sugar': 8.5,\n",
       "   'carbohydrates': 9.67,\n",
       "   'protein': 0.82}},\n",
       " {'name': 'Mangosteen',\n",
       "  'id': 99,\n",
       "  'family': 'Clusiaceae',\n",
       "  'order': 'Malpighiales',\n",
       "  'genus': 'Garcinia',\n",
       "  'nutritions': {'calories': 73,\n",
       "   'fat': 0.58,\n",
       "   'sugar': 16.11,\n",
       "   'carbohydrates': 17.91,\n",
       "   'protein': 0.41}},\n",
       " {'name': 'Pumpkin',\n",
       "  'id': 100,\n",
       "  'family': 'Cucurbitaceae',\n",
       "  'order': 'Cucurbitales',\n",
       "  'genus': 'Cucurbita',\n",
       "  'nutritions': {'calories': 25,\n",
       "   'fat': 0.3,\n",
       "   'sugar': 3.3,\n",
       "   'carbohydrates': 4.6,\n",
       "   'protein': 1.1}},\n",
       " {'name': 'Japanese Persimmon',\n",
       "  'id': 101,\n",
       "  'family': ' Ebenaceae',\n",
       "  'order': ' Ericales',\n",
       "  'genus': 'Diospyros',\n",
       "  'nutritions': {'calories': 70,\n",
       "   'fat': 0.2,\n",
       "   'sugar': 13.0,\n",
       "   'carbohydrates': 19.0,\n",
       "   'protein': 0.6}},\n",
       " {'name': 'Papaya',\n",
       "  'id': 42,\n",
       "  'family': 'Caricaceae',\n",
       "  'order': 'Brassicales',\n",
       "  'genus': 'Carica',\n",
       "  'nutritions': {'calories': 39,\n",
       "   'fat': 0.3,\n",
       "   'sugar': 4.4,\n",
       "   'carbohydrates': 5.8,\n",
       "   'protein': 0.5}},\n",
       " {'name': 'Annona',\n",
       "  'id': 103,\n",
       "  'family': 'Annonaceae',\n",
       "  'order': 'Rosales',\n",
       "  'genus': 'Annonas',\n",
       "  'nutritions': {'calories': 92,\n",
       "   'fat': 0.29,\n",
       "   'sugar': 3.4,\n",
       "   'carbohydrates': 19.1,\n",
       "   'protein': 1.5}},\n",
       " {'name': 'Ceylon Gooseberry',\n",
       "  'id': 104,\n",
       "  'family': 'Salicaceae',\n",
       "  'order': 'Malpighiales',\n",
       "  'genus': 'Dovyalis',\n",
       "  'nutritions': {'calories': 47,\n",
       "   'fat': 0.3,\n",
       "   'sugar': 8.1,\n",
       "   'carbohydrates': 9.6,\n",
       "   'protein': 1.2}}]"
      ]
     },
     "execution_count": 70,
     "metadata": {},
     "output_type": "execute_result"
    }
   ],
   "source": [
    "# Using json.load() to retrieve results\n",
    "results = json.loads(data.text)\n",
    "results"
   ]
  },
  {
   "cell_type": "code",
   "execution_count": null,
   "id": "f660482f",
   "metadata": {},
   "outputs": [
    {
     "data": {
      "text/html": [
       "<div>\n",
       "<style scoped>\n",
       "    .dataframe tbody tr th:only-of-type {\n",
       "        vertical-align: middle;\n",
       "    }\n",
       "\n",
       "    .dataframe tbody tr th {\n",
       "        vertical-align: top;\n",
       "    }\n",
       "\n",
       "    .dataframe thead th {\n",
       "        text-align: right;\n",
       "    }\n",
       "</style>\n",
       "<table border=\"1\" class=\"dataframe\">\n",
       "  <thead>\n",
       "    <tr style=\"text-align: right;\">\n",
       "      <th></th>\n",
       "      <th>name</th>\n",
       "      <th>id</th>\n",
       "      <th>family</th>\n",
       "      <th>order</th>\n",
       "      <th>genus</th>\n",
       "      <th>nutritions</th>\n",
       "    </tr>\n",
       "  </thead>\n",
       "  <tbody>\n",
       "    <tr>\n",
       "      <th>0</th>\n",
       "      <td>Persimmon</td>\n",
       "      <td>52</td>\n",
       "      <td>Ebenaceae</td>\n",
       "      <td>Rosales</td>\n",
       "      <td>Diospyros</td>\n",
       "      <td>{'calories': 81, 'fat': 0.0, 'sugar': 18.0, 'c...</td>\n",
       "    </tr>\n",
       "    <tr>\n",
       "      <th>1</th>\n",
       "      <td>Strawberry</td>\n",
       "      <td>3</td>\n",
       "      <td>Rosaceae</td>\n",
       "      <td>Rosales</td>\n",
       "      <td>Fragaria</td>\n",
       "      <td>{'calories': 29, 'fat': 0.4, 'sugar': 5.4, 'ca...</td>\n",
       "    </tr>\n",
       "    <tr>\n",
       "      <th>2</th>\n",
       "      <td>Banana</td>\n",
       "      <td>1</td>\n",
       "      <td>Musaceae</td>\n",
       "      <td>Zingiberales</td>\n",
       "      <td>Musa</td>\n",
       "      <td>{'calories': 96, 'fat': 0.2, 'sugar': 17.2, 'c...</td>\n",
       "    </tr>\n",
       "    <tr>\n",
       "      <th>3</th>\n",
       "      <td>Tomato</td>\n",
       "      <td>5</td>\n",
       "      <td>Solanaceae</td>\n",
       "      <td>Solanales</td>\n",
       "      <td>Solanum</td>\n",
       "      <td>{'calories': 74, 'fat': 0.2, 'sugar': 2.6, 'ca...</td>\n",
       "    </tr>\n",
       "    <tr>\n",
       "      <th>4</th>\n",
       "      <td>Pear</td>\n",
       "      <td>4</td>\n",
       "      <td>Rosaceae</td>\n",
       "      <td>Rosales</td>\n",
       "      <td>Pyrus</td>\n",
       "      <td>{'calories': 57, 'fat': 0.1, 'sugar': 10.0, 'c...</td>\n",
       "    </tr>\n",
       "  </tbody>\n",
       "</table>\n",
       "</div>"
      ],
      "text/plain": [
       "         name  id      family         order      genus  \\\n",
       "0   Persimmon  52   Ebenaceae       Rosales  Diospyros   \n",
       "1  Strawberry   3    Rosaceae       Rosales   Fragaria   \n",
       "2      Banana   1    Musaceae  Zingiberales       Musa   \n",
       "3      Tomato   5  Solanaceae     Solanales    Solanum   \n",
       "4        Pear   4    Rosaceae       Rosales      Pyrus   \n",
       "\n",
       "                                          nutritions  \n",
       "0  {'calories': 81, 'fat': 0.0, 'sugar': 18.0, 'c...  \n",
       "1  {'calories': 29, 'fat': 0.4, 'sugar': 5.4, 'ca...  \n",
       "2  {'calories': 96, 'fat': 0.2, 'sugar': 17.2, 'c...  \n",
       "3  {'calories': 74, 'fat': 0.2, 'sugar': 2.6, 'ca...  \n",
       "4  {'calories': 57, 'fat': 0.1, 'sugar': 10.0, 'c...  "
      ]
     },
     "execution_count": 71,
     "metadata": {},
     "output_type": "execute_result"
    }
   ],
   "source": [
    "# Convert JSON into pandas DataFrame\n",
    "pd.DataFrame(results).head()"
   ]
  },
  {
   "cell_type": "code",
   "execution_count": null,
   "id": "2f630a0b",
   "metadata": {},
   "outputs": [
    {
     "data": {
      "text/html": [
       "<div>\n",
       "<style scoped>\n",
       "    .dataframe tbody tr th:only-of-type {\n",
       "        vertical-align: middle;\n",
       "    }\n",
       "\n",
       "    .dataframe tbody tr th {\n",
       "        vertical-align: top;\n",
       "    }\n",
       "\n",
       "    .dataframe thead th {\n",
       "        text-align: right;\n",
       "    }\n",
       "</style>\n",
       "<table border=\"1\" class=\"dataframe\">\n",
       "  <thead>\n",
       "    <tr style=\"text-align: right;\">\n",
       "      <th></th>\n",
       "      <th>name</th>\n",
       "      <th>id</th>\n",
       "      <th>family</th>\n",
       "      <th>order</th>\n",
       "      <th>genus</th>\n",
       "      <th>nutritions.calories</th>\n",
       "      <th>nutritions.fat</th>\n",
       "      <th>nutritions.sugar</th>\n",
       "      <th>nutritions.carbohydrates</th>\n",
       "      <th>nutritions.protein</th>\n",
       "    </tr>\n",
       "  </thead>\n",
       "  <tbody>\n",
       "    <tr>\n",
       "      <th>0</th>\n",
       "      <td>Persimmon</td>\n",
       "      <td>52</td>\n",
       "      <td>Ebenaceae</td>\n",
       "      <td>Rosales</td>\n",
       "      <td>Diospyros</td>\n",
       "      <td>81</td>\n",
       "      <td>0.00</td>\n",
       "      <td>18.00</td>\n",
       "      <td>18.0</td>\n",
       "      <td>0.00</td>\n",
       "    </tr>\n",
       "    <tr>\n",
       "      <th>1</th>\n",
       "      <td>Strawberry</td>\n",
       "      <td>3</td>\n",
       "      <td>Rosaceae</td>\n",
       "      <td>Rosales</td>\n",
       "      <td>Fragaria</td>\n",
       "      <td>29</td>\n",
       "      <td>0.40</td>\n",
       "      <td>5.40</td>\n",
       "      <td>5.5</td>\n",
       "      <td>0.80</td>\n",
       "    </tr>\n",
       "    <tr>\n",
       "      <th>2</th>\n",
       "      <td>Banana</td>\n",
       "      <td>1</td>\n",
       "      <td>Musaceae</td>\n",
       "      <td>Zingiberales</td>\n",
       "      <td>Musa</td>\n",
       "      <td>96</td>\n",
       "      <td>0.20</td>\n",
       "      <td>17.20</td>\n",
       "      <td>22.0</td>\n",
       "      <td>1.00</td>\n",
       "    </tr>\n",
       "    <tr>\n",
       "      <th>3</th>\n",
       "      <td>Tomato</td>\n",
       "      <td>5</td>\n",
       "      <td>Solanaceae</td>\n",
       "      <td>Solanales</td>\n",
       "      <td>Solanum</td>\n",
       "      <td>74</td>\n",
       "      <td>0.20</td>\n",
       "      <td>2.60</td>\n",
       "      <td>3.9</td>\n",
       "      <td>0.90</td>\n",
       "    </tr>\n",
       "    <tr>\n",
       "      <th>4</th>\n",
       "      <td>Pear</td>\n",
       "      <td>4</td>\n",
       "      <td>Rosaceae</td>\n",
       "      <td>Rosales</td>\n",
       "      <td>Pyrus</td>\n",
       "      <td>57</td>\n",
       "      <td>0.10</td>\n",
       "      <td>10.00</td>\n",
       "      <td>15.0</td>\n",
       "      <td>0.40</td>\n",
       "    </tr>\n",
       "    <tr>\n",
       "      <th>5</th>\n",
       "      <td>Durian</td>\n",
       "      <td>60</td>\n",
       "      <td>Malvaceae</td>\n",
       "      <td>Malvales</td>\n",
       "      <td>Durio</td>\n",
       "      <td>147</td>\n",
       "      <td>5.30</td>\n",
       "      <td>6.75</td>\n",
       "      <td>27.1</td>\n",
       "      <td>1.50</td>\n",
       "    </tr>\n",
       "    <tr>\n",
       "      <th>6</th>\n",
       "      <td>Blackberry</td>\n",
       "      <td>64</td>\n",
       "      <td>Rosaceae</td>\n",
       "      <td>Rosales</td>\n",
       "      <td>Rubus</td>\n",
       "      <td>40</td>\n",
       "      <td>0.40</td>\n",
       "      <td>4.50</td>\n",
       "      <td>9.0</td>\n",
       "      <td>1.30</td>\n",
       "    </tr>\n",
       "    <tr>\n",
       "      <th>7</th>\n",
       "      <td>Lingonberry</td>\n",
       "      <td>65</td>\n",
       "      <td>Ericaceae</td>\n",
       "      <td>Ericales</td>\n",
       "      <td>Vaccinium</td>\n",
       "      <td>50</td>\n",
       "      <td>0.34</td>\n",
       "      <td>5.74</td>\n",
       "      <td>11.3</td>\n",
       "      <td>0.75</td>\n",
       "    </tr>\n",
       "    <tr>\n",
       "      <th>8</th>\n",
       "      <td>Kiwi</td>\n",
       "      <td>66</td>\n",
       "      <td>Actinidiaceae</td>\n",
       "      <td>Struthioniformes</td>\n",
       "      <td>Apteryx</td>\n",
       "      <td>61</td>\n",
       "      <td>0.50</td>\n",
       "      <td>9.00</td>\n",
       "      <td>15.0</td>\n",
       "      <td>1.10</td>\n",
       "    </tr>\n",
       "    <tr>\n",
       "      <th>9</th>\n",
       "      <td>Lychee</td>\n",
       "      <td>67</td>\n",
       "      <td>Sapindaceae</td>\n",
       "      <td>Sapindales</td>\n",
       "      <td>Litchi</td>\n",
       "      <td>66</td>\n",
       "      <td>0.44</td>\n",
       "      <td>15.00</td>\n",
       "      <td>17.0</td>\n",
       "      <td>0.80</td>\n",
       "    </tr>\n",
       "  </tbody>\n",
       "</table>\n",
       "</div>"
      ],
      "text/plain": [
       "          name  id         family             order      genus  \\\n",
       "0    Persimmon  52      Ebenaceae           Rosales  Diospyros   \n",
       "1   Strawberry   3       Rosaceae           Rosales   Fragaria   \n",
       "2       Banana   1       Musaceae      Zingiberales       Musa   \n",
       "3       Tomato   5     Solanaceae         Solanales    Solanum   \n",
       "4         Pear   4       Rosaceae           Rosales      Pyrus   \n",
       "5       Durian  60      Malvaceae          Malvales      Durio   \n",
       "6   Blackberry  64       Rosaceae           Rosales      Rubus   \n",
       "7  Lingonberry  65      Ericaceae          Ericales  Vaccinium   \n",
       "8         Kiwi  66  Actinidiaceae  Struthioniformes    Apteryx   \n",
       "9       Lychee  67    Sapindaceae        Sapindales     Litchi   \n",
       "\n",
       "   nutritions.calories  nutritions.fat  nutritions.sugar  \\\n",
       "0                   81            0.00             18.00   \n",
       "1                   29            0.40              5.40   \n",
       "2                   96            0.20             17.20   \n",
       "3                   74            0.20              2.60   \n",
       "4                   57            0.10             10.00   \n",
       "5                  147            5.30              6.75   \n",
       "6                   40            0.40              4.50   \n",
       "7                   50            0.34              5.74   \n",
       "8                   61            0.50              9.00   \n",
       "9                   66            0.44             15.00   \n",
       "\n",
       "   nutritions.carbohydrates  nutritions.protein  \n",
       "0                      18.0                0.00  \n",
       "1                       5.5                0.80  \n",
       "2                      22.0                1.00  \n",
       "3                       3.9                0.90  \n",
       "4                      15.0                0.40  \n",
       "5                      27.1                1.50  \n",
       "6                       9.0                1.30  \n",
       "7                      11.3                0.75  \n",
       "8                      15.0                1.10  \n",
       "9                      17.0                0.80  "
      ]
     },
     "execution_count": 72,
     "metadata": {},
     "output_type": "execute_result"
    }
   ],
   "source": [
    "# The result is in a nested json format. The 'nutrition' column contains multiple subcolumns, so the data needs to be 'flattened' or normalized.\n",
    "df2 = pd.json_normalize(results)\n",
    "df2.head(10)"
   ]
  },
  {
   "cell_type": "code",
   "execution_count": null,
   "id": "825cd901",
   "metadata": {},
   "outputs": [
    {
     "data": {
      "text/html": [
       "<div>\n",
       "<style scoped>\n",
       "    .dataframe tbody tr th:only-of-type {\n",
       "        vertical-align: middle;\n",
       "    }\n",
       "\n",
       "    .dataframe tbody tr th {\n",
       "        vertical-align: top;\n",
       "    }\n",
       "\n",
       "    .dataframe thead th {\n",
       "        text-align: right;\n",
       "    }\n",
       "</style>\n",
       "<table border=\"1\" class=\"dataframe\">\n",
       "  <thead>\n",
       "    <tr style=\"text-align: right;\">\n",
       "      <th></th>\n",
       "      <th>name</th>\n",
       "      <th>id</th>\n",
       "      <th>family</th>\n",
       "      <th>order</th>\n",
       "      <th>genus</th>\n",
       "      <th>nutritions.calories</th>\n",
       "      <th>nutritions.fat</th>\n",
       "      <th>nutritions.sugar</th>\n",
       "      <th>nutritions.carbohydrates</th>\n",
       "      <th>nutritions.protein</th>\n",
       "    </tr>\n",
       "  </thead>\n",
       "  <tbody>\n",
       "    <tr>\n",
       "      <th>37</th>\n",
       "      <td>Cherry</td>\n",
       "      <td>9</td>\n",
       "      <td>Rosaceae</td>\n",
       "      <td>Rosales</td>\n",
       "      <td>Prunus</td>\n",
       "      <td>50</td>\n",
       "      <td>0.3</td>\n",
       "      <td>8.0</td>\n",
       "      <td>12.0</td>\n",
       "      <td>1.0</td>\n",
       "    </tr>\n",
       "  </tbody>\n",
       "</table>\n",
       "</div>"
      ],
      "text/plain": [
       "      name  id    family    order   genus  nutritions.calories  \\\n",
       "37  Cherry   9  Rosaceae  Rosales  Prunus                   50   \n",
       "\n",
       "    nutritions.fat  nutritions.sugar  nutritions.carbohydrates  \\\n",
       "37             0.3               8.0                      12.0   \n",
       "\n",
       "    nutritions.protein  \n",
       "37                 1.0  "
      ]
     },
     "execution_count": 73,
     "metadata": {},
     "output_type": "execute_result"
    }
   ],
   "source": [
    "cherry = df2.loc[df2['name'] == 'Cherry']\n",
    "cherry"
   ]
  },
  {
   "cell_type": "code",
   "execution_count": null,
   "id": "fea654b1",
   "metadata": {},
   "outputs": [
    {
     "data": {
      "text/plain": [
       "'Rosaceae'"
      ]
     },
     "execution_count": 74,
     "metadata": {},
     "output_type": "execute_result"
    }
   ],
   "source": [
    "(cherry.iloc[0]['family'])"
   ]
  },
  {
   "cell_type": "code",
   "execution_count": null,
   "id": "346e1829",
   "metadata": {},
   "outputs": [
    {
     "data": {
      "text/plain": [
       "37    Rosaceae\n",
       "Name: family, dtype: object"
      ]
     },
     "execution_count": 75,
     "metadata": {},
     "output_type": "execute_result"
    }
   ],
   "source": [
    "cherry['family']"
   ]
  },
  {
   "cell_type": "code",
   "execution_count": null,
   "id": "65846df6",
   "metadata": {},
   "outputs": [
    {
     "data": {
      "text/html": [
       "<div>\n",
       "<style scoped>\n",
       "    .dataframe tbody tr th:only-of-type {\n",
       "        vertical-align: middle;\n",
       "    }\n",
       "\n",
       "    .dataframe tbody tr th {\n",
       "        vertical-align: top;\n",
       "    }\n",
       "\n",
       "    .dataframe thead th {\n",
       "        text-align: right;\n",
       "    }\n",
       "</style>\n",
       "<table border=\"1\" class=\"dataframe\">\n",
       "  <thead>\n",
       "    <tr style=\"text-align: right;\">\n",
       "      <th></th>\n",
       "      <th>family</th>\n",
       "    </tr>\n",
       "  </thead>\n",
       "  <tbody>\n",
       "    <tr>\n",
       "      <th>37</th>\n",
       "      <td>Rosaceae</td>\n",
       "    </tr>\n",
       "  </tbody>\n",
       "</table>\n",
       "</div>"
      ],
      "text/plain": [
       "      family\n",
       "37  Rosaceae"
      ]
     },
     "execution_count": 76,
     "metadata": {},
     "output_type": "execute_result"
    }
   ],
   "source": [
    "cherry[['family']]"
   ]
  },
  {
   "cell_type": "code",
   "execution_count": null,
   "id": "6528cbee",
   "metadata": {},
   "outputs": [
    {
     "data": {
      "text/plain": [
       "name                          Cherry\n",
       "id                                 9\n",
       "family                      Rosaceae\n",
       "order                        Rosales\n",
       "genus                         Prunus\n",
       "nutritions.calories               50\n",
       "nutritions.fat                   0.3\n",
       "nutritions.sugar                 8.0\n",
       "nutritions.carbohydrates        12.0\n",
       "nutritions.protein               1.0\n",
       "Name: 37, dtype: object"
      ]
     },
     "execution_count": 77,
     "metadata": {},
     "output_type": "execute_result"
    }
   ],
   "source": [
    "cherry.iloc[0]"
   ]
  },
  {
   "cell_type": "code",
   "execution_count": null,
   "id": "dd6b9d9d",
   "metadata": {},
   "outputs": [
    {
     "data": {
      "text/plain": [
       "('Rosaceae', 'Prunus')"
      ]
     },
     "execution_count": 78,
     "metadata": {},
     "output_type": "execute_result"
    }
   ],
   "source": [
    "(cherry.iloc[0]['family']) , (cherry.iloc[0]['genus'])"
   ]
  },
  {
   "cell_type": "code",
   "execution_count": null,
   "id": "0f4e06ca",
   "metadata": {},
   "outputs": [
    {
     "data": {
      "text/plain": [
       "96"
      ]
     },
     "execution_count": 79,
     "metadata": {},
     "output_type": "execute_result"
    }
   ],
   "source": [
    "## Exercise 2\n",
    "#In this Exercise, find out how many calories are contained in a banana.\n",
    "banana = df2.loc[df2['name'] == 'Banana']\n",
    "banana.iloc[0]['nutritions.calories']"
   ]
  },
  {
   "cell_type": "markdown",
   "id": "095ccf69",
   "metadata": {},
   "source": [
    "### Exercise 3"
   ]
  },
  {
   "cell_type": "code",
   "execution_count": null,
   "id": "745112b8",
   "metadata": {},
   "outputs": [
    {
     "name": "stdout",
     "output_type": "stream",
     "text": [
      "200\n",
      "{'Content-Type': 'application/json; charset=utf-8', 'Vary': 'Accept-Encoding', 'X-Powered-By': 'Express', 'Access-Control-Allow-Origin': '*', 'ETag': 'W/\"4bf-0O6QJuVaTznT7QPiUJygxOJb4MM\"', 'Content-Encoding': 'gzip', 'X-Cloud-Trace-Context': 'fe479b323fa0cfb1715a12d11789c910', 'Date': 'Tue, 06 May 2025 16:09:10 GMT', 'Server': 'Google Frontend', 'Alt-Svc': 'h3=\":443\"; ma=2592000,h3-29=\":443\"; ma=2592000', 'Transfer-Encoding': 'chunked'}\n",
      "b'[{\"type\":\"programming\",\"setup\":\"What\\'s the best part about TCP jokes?\",\"punchline\":\"I get to keep telling them until you get them.\",\"id\":363},{\"type\":\"programming\",\"setup\":\"Why do C# and Java developers keep breaking their keyboards?\",\"punchline\":\"Because they use a strongly typed language.\",\"id\":73},{\"type\":\"general\",\"setup\":\"What kind of shoes does a thief wear?\",\"punchline\":\"Sneakers\",\"id\":9},{\"type\":\"general\",\"setup\":\"Why did the kid cross the playground?\",\"punchline\":\"To get to the other slide.\",\"id\":327},{\"type\":\"general\",\"setup\":\"What did celery say when he broke up with his girlfriend?\",\"punchline\":\"She wasn\\'t right for me, so I really don\\'t carrot all.\",\"id\":158},{\"type\":\"general\",\"setup\":\"Why did the chicken cross the playground?\",\"punchline\":\"To get to the other slide.\",\"id\":428},{\"type\":\"general\",\"setup\":\"How many apples grow on a tree?\",\"punchline\":\"All of them!\",\"id\":137},{\"type\":\"general\",\"setup\":\"What do you call a careful wolf?\",\"punchline\":\"Aware wolf.\",\"id\":194},{\"type\":\"programming\",\"setup\":\"Where do programmers like to hangout?\",\"punchline\":\"The Foo Bar.\",\"id\":17},{\"type\":\"general\",\"setup\":\"What did one nut say as he chased another nut?\",\"punchline\":\"I\\'m a cashew!\",\"id\":160}]'\n",
      "[{\"type\":\"programming\",\"setup\":\"What's the best part about TCP jokes?\",\"punchline\":\"I get to keep telling them until you get them.\",\"id\":363},{\"type\":\"programming\",\"setup\":\"Why do C# and Java developers keep breaking their keyboards?\",\"punchline\":\"Because they use a strongly typed language.\",\"id\":73},{\"type\":\"general\",\"setup\":\"What kind of shoes does a thief wear?\",\"punchline\":\"Sneakers\",\"id\":9},{\"type\":\"general\",\"setup\":\"Why did the kid cross the playground?\",\"punchline\":\"To get to the other slide.\",\"id\":327},{\"type\":\"general\",\"setup\":\"What did celery say when he broke up with his girlfriend?\",\"punchline\":\"She wasn't right for me, so I really don't carrot all.\",\"id\":158},{\"type\":\"general\",\"setup\":\"Why did the chicken cross the playground?\",\"punchline\":\"To get to the other slide.\",\"id\":428},{\"type\":\"general\",\"setup\":\"How many apples grow on a tree?\",\"punchline\":\"All of them!\",\"id\":137},{\"type\":\"general\",\"setup\":\"What do you call a careful wolf?\",\"punchline\":\"Aware wolf.\",\"id\":194},{\"type\":\"programming\",\"setup\":\"Where do programmers like to hangout?\",\"punchline\":\"The Foo Bar.\",\"id\":17},{\"type\":\"general\",\"setup\":\"What did one nut say as he chased another nut?\",\"punchline\":\"I'm a cashew!\",\"id\":160}]\n"
     ]
    }
   ],
   "source": [
    "# Load data from URL by requests.get('url')\n",
    "url_ex = 'https://official-joke-api.appspot.com/jokes/ten'\n",
    "data = requests.get(url_ex)\n",
    "print(data.status_code)\n",
    "print(data.headers)\n",
    "print(data.content)\n",
    "print(data.text)"
   ]
  },
  {
   "cell_type": "code",
   "execution_count": null,
   "id": "974008af",
   "metadata": {},
   "outputs": [
    {
     "data": {
      "text/plain": [
       "[{'type': 'programming',\n",
       "  'setup': \"What's the best part about TCP jokes?\",\n",
       "  'punchline': 'I get to keep telling them until you get them.',\n",
       "  'id': 363},\n",
       " {'type': 'programming',\n",
       "  'setup': 'Why do C# and Java developers keep breaking their keyboards?',\n",
       "  'punchline': 'Because they use a strongly typed language.',\n",
       "  'id': 73},\n",
       " {'type': 'general',\n",
       "  'setup': 'What kind of shoes does a thief wear?',\n",
       "  'punchline': 'Sneakers',\n",
       "  'id': 9},\n",
       " {'type': 'general',\n",
       "  'setup': 'Why did the kid cross the playground?',\n",
       "  'punchline': 'To get to the other slide.',\n",
       "  'id': 327},\n",
       " {'type': 'general',\n",
       "  'setup': 'What did celery say when he broke up with his girlfriend?',\n",
       "  'punchline': \"She wasn't right for me, so I really don't carrot all.\",\n",
       "  'id': 158},\n",
       " {'type': 'general',\n",
       "  'setup': 'Why did the chicken cross the playground?',\n",
       "  'punchline': 'To get to the other slide.',\n",
       "  'id': 428},\n",
       " {'type': 'general',\n",
       "  'setup': 'How many apples grow on a tree?',\n",
       "  'punchline': 'All of them!',\n",
       "  'id': 137},\n",
       " {'type': 'general',\n",
       "  'setup': 'What do you call a careful wolf?',\n",
       "  'punchline': 'Aware wolf.',\n",
       "  'id': 194},\n",
       " {'type': 'programming',\n",
       "  'setup': 'Where do programmers like to hangout?',\n",
       "  'punchline': 'The Foo Bar.',\n",
       "  'id': 17},\n",
       " {'type': 'general',\n",
       "  'setup': 'What did one nut say as he chased another nut?',\n",
       "  'punchline': \"I'm a cashew!\",\n",
       "  'id': 160}]"
      ]
     },
     "execution_count": 81,
     "metadata": {},
     "output_type": "execute_result"
    }
   ],
   "source": [
    "# Retrieve results using json.loads() function\n",
    "results = json.loads(data.text)\n",
    "results"
   ]
  },
  {
   "cell_type": "code",
   "execution_count": null,
   "id": "d8b0980a",
   "metadata": {},
   "outputs": [
    {
     "data": {
      "text/html": [
       "<div>\n",
       "<style scoped>\n",
       "    .dataframe tbody tr th:only-of-type {\n",
       "        vertical-align: middle;\n",
       "    }\n",
       "\n",
       "    .dataframe tbody tr th {\n",
       "        vertical-align: top;\n",
       "    }\n",
       "\n",
       "    .dataframe thead th {\n",
       "        text-align: right;\n",
       "    }\n",
       "</style>\n",
       "<table border=\"1\" class=\"dataframe\">\n",
       "  <thead>\n",
       "    <tr style=\"text-align: right;\">\n",
       "      <th></th>\n",
       "      <th>type</th>\n",
       "      <th>setup</th>\n",
       "      <th>punchline</th>\n",
       "      <th>id</th>\n",
       "    </tr>\n",
       "  </thead>\n",
       "  <tbody>\n",
       "    <tr>\n",
       "      <th>0</th>\n",
       "      <td>programming</td>\n",
       "      <td>What's the best part about TCP jokes?</td>\n",
       "      <td>I get to keep telling them until you get them.</td>\n",
       "      <td>363</td>\n",
       "    </tr>\n",
       "    <tr>\n",
       "      <th>1</th>\n",
       "      <td>programming</td>\n",
       "      <td>Why do C# and Java developers keep breaking th...</td>\n",
       "      <td>Because they use a strongly typed language.</td>\n",
       "      <td>73</td>\n",
       "    </tr>\n",
       "    <tr>\n",
       "      <th>2</th>\n",
       "      <td>general</td>\n",
       "      <td>What kind of shoes does a thief wear?</td>\n",
       "      <td>Sneakers</td>\n",
       "      <td>9</td>\n",
       "    </tr>\n",
       "    <tr>\n",
       "      <th>3</th>\n",
       "      <td>general</td>\n",
       "      <td>Why did the kid cross the playground?</td>\n",
       "      <td>To get to the other slide.</td>\n",
       "      <td>327</td>\n",
       "    </tr>\n",
       "    <tr>\n",
       "      <th>4</th>\n",
       "      <td>general</td>\n",
       "      <td>What did celery say when he broke up with his ...</td>\n",
       "      <td>She wasn't right for me, so I really don't car...</td>\n",
       "      <td>158</td>\n",
       "    </tr>\n",
       "    <tr>\n",
       "      <th>5</th>\n",
       "      <td>general</td>\n",
       "      <td>Why did the chicken cross the playground?</td>\n",
       "      <td>To get to the other slide.</td>\n",
       "      <td>428</td>\n",
       "    </tr>\n",
       "    <tr>\n",
       "      <th>6</th>\n",
       "      <td>general</td>\n",
       "      <td>How many apples grow on a tree?</td>\n",
       "      <td>All of them!</td>\n",
       "      <td>137</td>\n",
       "    </tr>\n",
       "    <tr>\n",
       "      <th>7</th>\n",
       "      <td>general</td>\n",
       "      <td>What do you call a careful wolf?</td>\n",
       "      <td>Aware wolf.</td>\n",
       "      <td>194</td>\n",
       "    </tr>\n",
       "    <tr>\n",
       "      <th>8</th>\n",
       "      <td>programming</td>\n",
       "      <td>Where do programmers like to hangout?</td>\n",
       "      <td>The Foo Bar.</td>\n",
       "      <td>17</td>\n",
       "    </tr>\n",
       "    <tr>\n",
       "      <th>9</th>\n",
       "      <td>general</td>\n",
       "      <td>What did one nut say as he chased another nut?</td>\n",
       "      <td>I'm a cashew!</td>\n",
       "      <td>160</td>\n",
       "    </tr>\n",
       "  </tbody>\n",
       "</table>\n",
       "</div>"
      ],
      "text/plain": [
       "          type                                              setup  \\\n",
       "0  programming              What's the best part about TCP jokes?   \n",
       "1  programming  Why do C# and Java developers keep breaking th...   \n",
       "2      general              What kind of shoes does a thief wear?   \n",
       "3      general              Why did the kid cross the playground?   \n",
       "4      general  What did celery say when he broke up with his ...   \n",
       "5      general          Why did the chicken cross the playground?   \n",
       "6      general                    How many apples grow on a tree?   \n",
       "7      general                   What do you call a careful wolf?   \n",
       "8  programming              Where do programmers like to hangout?   \n",
       "9      general     What did one nut say as he chased another nut?   \n",
       "\n",
       "                                           punchline   id  \n",
       "0     I get to keep telling them until you get them.  363  \n",
       "1        Because they use a strongly typed language.   73  \n",
       "2                                           Sneakers    9  \n",
       "3                         To get to the other slide.  327  \n",
       "4  She wasn't right for me, so I really don't car...  158  \n",
       "5                         To get to the other slide.  428  \n",
       "6                                       All of them!  137  \n",
       "7                                        Aware wolf.  194  \n",
       "8                                       The Foo Bar.   17  \n",
       "9                                      I'm a cashew!  160  "
      ]
     },
     "execution_count": 82,
     "metadata": {},
     "output_type": "execute_result"
    }
   ],
   "source": [
    "# Convert JSON data to pandas DataFrame\n",
    "df_data = pd.DataFrame(results)\n",
    "df_data"
   ]
  },
  {
   "cell_type": "code",
   "execution_count": null,
   "id": "e73d5899",
   "metadata": {},
   "outputs": [
    {
     "data": {
      "text/html": [
       "<div>\n",
       "<style scoped>\n",
       "    .dataframe tbody tr th:only-of-type {\n",
       "        vertical-align: middle;\n",
       "    }\n",
       "\n",
       "    .dataframe tbody tr th {\n",
       "        vertical-align: top;\n",
       "    }\n",
       "\n",
       "    .dataframe thead th {\n",
       "        text-align: right;\n",
       "    }\n",
       "</style>\n",
       "<table border=\"1\" class=\"dataframe\">\n",
       "  <thead>\n",
       "    <tr style=\"text-align: right;\">\n",
       "      <th></th>\n",
       "      <th>setup</th>\n",
       "      <th>punchline</th>\n",
       "    </tr>\n",
       "  </thead>\n",
       "  <tbody>\n",
       "    <tr>\n",
       "      <th>0</th>\n",
       "      <td>What's the best part about TCP jokes?</td>\n",
       "      <td>I get to keep telling them until you get them.</td>\n",
       "    </tr>\n",
       "    <tr>\n",
       "      <th>1</th>\n",
       "      <td>Why do C# and Java developers keep breaking th...</td>\n",
       "      <td>Because they use a strongly typed language.</td>\n",
       "    </tr>\n",
       "    <tr>\n",
       "      <th>2</th>\n",
       "      <td>What kind of shoes does a thief wear?</td>\n",
       "      <td>Sneakers</td>\n",
       "    </tr>\n",
       "    <tr>\n",
       "      <th>3</th>\n",
       "      <td>Why did the kid cross the playground?</td>\n",
       "      <td>To get to the other slide.</td>\n",
       "    </tr>\n",
       "    <tr>\n",
       "      <th>4</th>\n",
       "      <td>What did celery say when he broke up with his ...</td>\n",
       "      <td>She wasn't right for me, so I really don't car...</td>\n",
       "    </tr>\n",
       "    <tr>\n",
       "      <th>5</th>\n",
       "      <td>Why did the chicken cross the playground?</td>\n",
       "      <td>To get to the other slide.</td>\n",
       "    </tr>\n",
       "    <tr>\n",
       "      <th>6</th>\n",
       "      <td>How many apples grow on a tree?</td>\n",
       "      <td>All of them!</td>\n",
       "    </tr>\n",
       "    <tr>\n",
       "      <th>7</th>\n",
       "      <td>What do you call a careful wolf?</td>\n",
       "      <td>Aware wolf.</td>\n",
       "    </tr>\n",
       "    <tr>\n",
       "      <th>8</th>\n",
       "      <td>Where do programmers like to hangout?</td>\n",
       "      <td>The Foo Bar.</td>\n",
       "    </tr>\n",
       "    <tr>\n",
       "      <th>9</th>\n",
       "      <td>What did one nut say as he chased another nut?</td>\n",
       "      <td>I'm a cashew!</td>\n",
       "    </tr>\n",
       "  </tbody>\n",
       "</table>\n",
       "</div>"
      ],
      "text/plain": [
       "                                               setup  \\\n",
       "0              What's the best part about TCP jokes?   \n",
       "1  Why do C# and Java developers keep breaking th...   \n",
       "2              What kind of shoes does a thief wear?   \n",
       "3              Why did the kid cross the playground?   \n",
       "4  What did celery say when he broke up with his ...   \n",
       "5          Why did the chicken cross the playground?   \n",
       "6                    How many apples grow on a tree?   \n",
       "7                   What do you call a careful wolf?   \n",
       "8              Where do programmers like to hangout?   \n",
       "9     What did one nut say as he chased another nut?   \n",
       "\n",
       "                                           punchline  \n",
       "0     I get to keep telling them until you get them.  \n",
       "1        Because they use a strongly typed language.  \n",
       "2                                           Sneakers  \n",
       "3                         To get to the other slide.  \n",
       "4  She wasn't right for me, so I really don't car...  \n",
       "5                         To get to the other slide.  \n",
       "6                                       All of them!  \n",
       "7                                        Aware wolf.  \n",
       "8                                       The Foo Bar.  \n",
       "9                                      I'm a cashew!  "
      ]
     },
     "execution_count": 83,
     "metadata": {},
     "output_type": "execute_result"
    }
   ],
   "source": [
    "# Drop the type and id columns\n",
    "df_data[['setup', 'punchline']]"
   ]
  },
  {
   "cell_type": "code",
   "execution_count": null,
   "id": "925278a6",
   "metadata": {},
   "outputs": [
    {
     "data": {
      "text/html": [
       "<div>\n",
       "<style scoped>\n",
       "    .dataframe tbody tr th:only-of-type {\n",
       "        vertical-align: middle;\n",
       "    }\n",
       "\n",
       "    .dataframe tbody tr th {\n",
       "        vertical-align: top;\n",
       "    }\n",
       "\n",
       "    .dataframe thead th {\n",
       "        text-align: right;\n",
       "    }\n",
       "</style>\n",
       "<table border=\"1\" class=\"dataframe\">\n",
       "  <thead>\n",
       "    <tr style=\"text-align: right;\">\n",
       "      <th></th>\n",
       "      <th>setup</th>\n",
       "      <th>punchline</th>\n",
       "    </tr>\n",
       "  </thead>\n",
       "  <tbody>\n",
       "    <tr>\n",
       "      <th>0</th>\n",
       "      <td>What's the best part about TCP jokes?</td>\n",
       "      <td>I get to keep telling them until you get them.</td>\n",
       "    </tr>\n",
       "    <tr>\n",
       "      <th>1</th>\n",
       "      <td>Why do C# and Java developers keep breaking th...</td>\n",
       "      <td>Because they use a strongly typed language.</td>\n",
       "    </tr>\n",
       "    <tr>\n",
       "      <th>2</th>\n",
       "      <td>What kind of shoes does a thief wear?</td>\n",
       "      <td>Sneakers</td>\n",
       "    </tr>\n",
       "    <tr>\n",
       "      <th>3</th>\n",
       "      <td>Why did the kid cross the playground?</td>\n",
       "      <td>To get to the other slide.</td>\n",
       "    </tr>\n",
       "    <tr>\n",
       "      <th>4</th>\n",
       "      <td>What did celery say when he broke up with his ...</td>\n",
       "      <td>She wasn't right for me, so I really don't car...</td>\n",
       "    </tr>\n",
       "    <tr>\n",
       "      <th>5</th>\n",
       "      <td>Why did the chicken cross the playground?</td>\n",
       "      <td>To get to the other slide.</td>\n",
       "    </tr>\n",
       "    <tr>\n",
       "      <th>6</th>\n",
       "      <td>How many apples grow on a tree?</td>\n",
       "      <td>All of them!</td>\n",
       "    </tr>\n",
       "    <tr>\n",
       "      <th>7</th>\n",
       "      <td>What do you call a careful wolf?</td>\n",
       "      <td>Aware wolf.</td>\n",
       "    </tr>\n",
       "    <tr>\n",
       "      <th>8</th>\n",
       "      <td>Where do programmers like to hangout?</td>\n",
       "      <td>The Foo Bar.</td>\n",
       "    </tr>\n",
       "    <tr>\n",
       "      <th>9</th>\n",
       "      <td>What did one nut say as he chased another nut?</td>\n",
       "      <td>I'm a cashew!</td>\n",
       "    </tr>\n",
       "  </tbody>\n",
       "</table>\n",
       "</div>"
      ],
      "text/plain": [
       "                                               setup  \\\n",
       "0              What's the best part about TCP jokes?   \n",
       "1  Why do C# and Java developers keep breaking th...   \n",
       "2              What kind of shoes does a thief wear?   \n",
       "3              Why did the kid cross the playground?   \n",
       "4  What did celery say when he broke up with his ...   \n",
       "5          Why did the chicken cross the playground?   \n",
       "6                    How many apples grow on a tree?   \n",
       "7                   What do you call a careful wolf?   \n",
       "8              Where do programmers like to hangout?   \n",
       "9     What did one nut say as he chased another nut?   \n",
       "\n",
       "                                           punchline  \n",
       "0     I get to keep telling them until you get them.  \n",
       "1        Because they use a strongly typed language.  \n",
       "2                                           Sneakers  \n",
       "3                         To get to the other slide.  \n",
       "4  She wasn't right for me, so I really don't car...  \n",
       "5                         To get to the other slide.  \n",
       "6                                       All of them!  \n",
       "7                                        Aware wolf.  \n",
       "8                                       The Foo Bar.  \n",
       "9                                      I'm a cashew!  "
      ]
     },
     "execution_count": 84,
     "metadata": {},
     "output_type": "execute_result"
    }
   ],
   "source": [
    "# Alternative way to drop the type and id columns\n",
    "df1_data = df_data.drop(columns=['type', 'id'], inplace=False) # inplace=True là sửa trực tiếp lên DataFrame hiện tại, False là copy ra bản khác, mặc định là inplace=False\n",
    "df1_data"
   ]
  },
  {
   "cell_type": "markdown",
   "id": "9a3ebeba",
   "metadata": {},
   "source": [
    "### Web Scraping - A Key Tool in Data Science\n"
   ]
  },
  {
   "cell_type": "code",
   "execution_count": null,
   "id": "490c1936",
   "metadata": {},
   "outputs": [
    {
     "name": "stdout",
     "output_type": "stream",
     "text": [
      "<!DOCTYPE html>\n",
      "\n",
      "<html>\n",
      "<head>\n",
      "<title>Example Domain</title>\n",
      "<meta charset=\"utf-8\"/>\n",
      "<meta content=\"text/html; charset=utf-8\" http-equiv=\"Content-type\"/>\n",
      "<meta content=\"width=device-width, initial-scale=1\" name=\"viewport\"/>\n",
      "<style type=\"text/css\">\n",
      "    body {\n",
      "        background-color: #f0f0f2;\n",
      "        margin: 0;\n",
      "        padding: 0;\n",
      "        font-family: -apple-system, system-ui, BlinkMacSystemFont, \"Segoe UI\", \"Open Sans\", \"Helvetica Neue\", Helvetica, Arial, sans-serif;\n",
      "        \n",
      "    }\n",
      "    div {\n",
      "        width: 600px;\n",
      "        margin: 5em auto;\n",
      "        padding: 2em;\n",
      "        background-color: #fdfdff;\n",
      "        border-radius: 0.5em;\n",
      "        box-shadow: 2px 3px 7px 2px rgba(0,0,0,0.02);\n",
      "    }\n",
      "    a:link, a:visited {\n",
      "        color: #38488f;\n",
      "        text-decoration: none;\n",
      "    }\n",
      "    @media (max-width: 700px) {\n",
      "        div {\n",
      "            margin: 0 auto;\n",
      "            width: auto;\n",
      "        }\n",
      "    }\n",
      "    </style>\n",
      "</head>\n",
      "<body>\n",
      "<div>\n",
      "<h1>Example Domain</h1>\n",
      "<p>This domain is for use in illustrative examples in documents. You may use this\n",
      "    domain in literature without prior coordination or asking for permission.</p>\n",
      "<p><a href=\"https://www.iana.org/domains/example\">More information...</a></p>\n",
      "</div>\n",
      "</body>\n",
      "</html>\n",
      "\n"
     ]
    }
   ],
   "source": [
    "# Using BeautifulSoup\n",
    "from bs4 import BeautifulSoup\n",
    "import requests\n",
    "URL = 'http://www.example.com'\n",
    "page = requests.get(URL)\n",
    "soup = BeautifulSoup(page.content, 'html.parser')\n",
    "print(soup)\n"
   ]
  },
  {
   "cell_type": "code",
   "execution_count": null,
   "id": "d40ebb13",
   "metadata": {},
   "outputs": [],
   "source": [
    "# Using the Scrapy\n",
    "import scrapy\n",
    "class QuotesSpider(scrapy.Spider):\n",
    "    name = \"quotes\"\n",
    "    start_urls = ['http://quotes.toscrape.com/tag/humor/',]\n",
    "    def parse(self, response):\n",
    "        for quote in response.css('div.quote'):\n",
    "            yield {'quote': quote.css('span.text::text').get()}"
   ]
  },
  {
   "cell_type": "code",
   "execution_count": null,
   "id": "60c9a0ae",
   "metadata": {},
   "outputs": [
    {
     "name": "stdout",
     "output_type": "stream",
     "text": [
      "Collecting selenium\n",
      "  Using cached selenium-4.32.0-py3-none-any.whl.metadata (7.5 kB)\n",
      "Requirement already satisfied: urllib3<3,>=1.26 in c:\\users\\nhoct\\anaconda3\\lib\\site-packages (from urllib3[socks]<3,>=1.26->selenium) (2.2.3)\n",
      "Collecting trio~=0.17 (from selenium)\n",
      "  Using cached trio-0.30.0-py3-none-any.whl.metadata (8.5 kB)\n",
      "Collecting trio-websocket~=0.9 (from selenium)\n",
      "  Using cached trio_websocket-0.12.2-py3-none-any.whl.metadata (5.1 kB)\n",
      "Requirement already satisfied: certifi>=2021.10.8 in c:\\users\\nhoct\\anaconda3\\lib\\site-packages (from selenium) (2025.1.31)\n",
      "Requirement already satisfied: typing_extensions~=4.9 in c:\\users\\nhoct\\anaconda3\\lib\\site-packages (from selenium) (4.11.0)\n",
      "Requirement already satisfied: websocket-client~=1.8 in c:\\users\\nhoct\\anaconda3\\lib\\site-packages (from selenium) (1.8.0)\n",
      "Collecting attrs>=23.2.0 (from trio~=0.17->selenium)\n",
      "  Using cached attrs-25.3.0-py3-none-any.whl.metadata (10 kB)\n",
      "Requirement already satisfied: sortedcontainers in c:\\users\\nhoct\\anaconda3\\lib\\site-packages (from trio~=0.17->selenium) (2.4.0)\n",
      "Requirement already satisfied: idna in c:\\users\\nhoct\\anaconda3\\lib\\site-packages (from trio~=0.17->selenium) (3.7)\n",
      "Collecting outcome (from trio~=0.17->selenium)\n",
      "  Using cached outcome-1.3.0.post0-py2.py3-none-any.whl.metadata (2.6 kB)\n",
      "Requirement already satisfied: sniffio>=1.3.0 in c:\\users\\nhoct\\anaconda3\\lib\\site-packages (from trio~=0.17->selenium) (1.3.0)\n",
      "Requirement already satisfied: cffi>=1.14 in c:\\users\\nhoct\\anaconda3\\lib\\site-packages (from trio~=0.17->selenium) (1.17.1)\n",
      "Collecting wsproto>=0.14 (from trio-websocket~=0.9->selenium)\n",
      "  Using cached wsproto-1.2.0-py3-none-any.whl.metadata (5.6 kB)\n",
      "Requirement already satisfied: pysocks!=1.5.7,<2.0,>=1.5.6 in c:\\users\\nhoct\\anaconda3\\lib\\site-packages (from urllib3[socks]<3,>=1.26->selenium) (1.7.1)\n",
      "Requirement already satisfied: pycparser in c:\\users\\nhoct\\anaconda3\\lib\\site-packages (from cffi>=1.14->trio~=0.17->selenium) (2.21)\n",
      "Requirement already satisfied: h11<1,>=0.9.0 in c:\\users\\nhoct\\anaconda3\\lib\\site-packages (from wsproto>=0.14->trio-websocket~=0.9->selenium) (0.14.0)\n",
      "Using cached selenium-4.32.0-py3-none-any.whl (9.4 MB)\n",
      "Using cached trio-0.30.0-py3-none-any.whl (499 kB)\n",
      "Using cached trio_websocket-0.12.2-py3-none-any.whl (21 kB)\n",
      "Using cached attrs-25.3.0-py3-none-any.whl (63 kB)\n",
      "Using cached outcome-1.3.0.post0-py2.py3-none-any.whl (10 kB)\n",
      "Using cached wsproto-1.2.0-py3-none-any.whl (24 kB)\n",
      "Installing collected packages: wsproto, attrs, outcome, trio, trio-websocket, selenium\n",
      "  Attempting uninstall: attrs\n",
      "    Found existing installation: attrs 23.1.0\n",
      "    Uninstalling attrs-23.1.0:\n",
      "      Successfully uninstalled attrs-23.1.0\n",
      "Successfully installed attrs-25.3.0 outcome-1.3.0.post0 selenium-4.32.0 trio-0.30.0 trio-websocket-0.12.2 wsproto-1.2.0\n"
     ]
    }
   ],
   "source": [
    "# Using the Selenium\n",
    "!pip install selenium"
   ]
  },
  {
   "cell_type": "code",
   "execution_count": null,
   "id": "a5c812e6",
   "metadata": {},
   "outputs": [
    {
     "name": "stderr",
     "output_type": "stream",
     "text": [
      "[autoreload of attr.validators failed: Traceback (most recent call last):\n",
      "  File \"c:\\Users\\nhoct\\anaconda3\\Lib\\site-packages\\IPython\\extensions\\autoreload.py\", line 276, in check\n",
      "    superreload(m, reload, self.old_objects)\n",
      "  File \"c:\\Users\\nhoct\\anaconda3\\Lib\\site-packages\\IPython\\extensions\\autoreload.py\", line 500, in superreload\n",
      "    update_generic(old_obj, new_obj)\n",
      "  File \"c:\\Users\\nhoct\\anaconda3\\Lib\\site-packages\\IPython\\extensions\\autoreload.py\", line 397, in update_generic\n",
      "    update(a, b)\n",
      "  File \"c:\\Users\\nhoct\\anaconda3\\Lib\\site-packages\\IPython\\extensions\\autoreload.py\", line 365, in update_class\n",
      "    update_instances(old, new)\n",
      "  File \"c:\\Users\\nhoct\\anaconda3\\Lib\\site-packages\\IPython\\extensions\\autoreload.py\", line 323, in update_instances\n",
      "    object.__setattr__(ref, \"__class__\", new)\n",
      "TypeError: __class__ assignment: '_InValidator' object layout differs from '_InValidator'\n",
      "]\n"
     ]
    }
   ],
   "source": [
    "from selenium import webdriver\n",
    "driver = webdriver.Edge() # có thể dổi Edge thành Firefox, Chrome,...\n",
    "driver.get('http://www.example.com')"
   ]
  },
  {
   "cell_type": "markdown",
   "id": "5ec3dc0e",
   "metadata": {},
   "source": [
    "### Web Scraping Tables using pandas"
   ]
  },
  {
   "cell_type": "code",
   "execution_count": null,
   "id": "1f1d0767",
   "metadata": {},
   "outputs": [
    {
     "name": "stdout",
     "output_type": "stream",
     "text": [
      "    Rank                                Bank name  \\\n",
      "0      1  Industrial and Commercial Bank of China   \n",
      "1      2               Agricultural Bank of China   \n",
      "2      3                  China Construction Bank   \n",
      "3      4                            Bank of China   \n",
      "4      5                           JPMorgan Chase   \n",
      "..   ...                                      ...   \n",
      "95    96                            Handelsbanken   \n",
      "96    97                 Industrial Bank of Korea   \n",
      "97    98                                      DNB   \n",
      "98    99                      Qatar National Bank   \n",
      "99   100                                 VTB Bank   \n",
      "\n",
      "    Total assets (2024) (US$ billion)  \n",
      "0                             6303.44  \n",
      "1                             5623.12  \n",
      "2                             5400.28  \n",
      "3                             4578.28  \n",
      "4                             4002.81  \n",
      "..                                ...  \n",
      "95                             351.79  \n",
      "96                             345.81  \n",
      "97                             339.21  \n",
      "98                             338.14  \n",
      "99                             326.85  \n",
      "\n",
      "[100 rows x 3 columns]\n"
     ]
    },
    {
     "data": {
      "text/html": [
       "<div>\n",
       "<style scoped>\n",
       "    .dataframe tbody tr th:only-of-type {\n",
       "        vertical-align: middle;\n",
       "    }\n",
       "\n",
       "    .dataframe tbody tr th {\n",
       "        vertical-align: top;\n",
       "    }\n",
       "\n",
       "    .dataframe thead th {\n",
       "        text-align: right;\n",
       "    }\n",
       "</style>\n",
       "<table border=\"1\" class=\"dataframe\">\n",
       "  <thead>\n",
       "    <tr style=\"text-align: right;\">\n",
       "      <th></th>\n",
       "      <th>Rank</th>\n",
       "      <th>Bank name</th>\n",
       "      <th>Total assets (2024) (US$ billion)</th>\n",
       "    </tr>\n",
       "  </thead>\n",
       "  <tbody>\n",
       "    <tr>\n",
       "      <th>0</th>\n",
       "      <td>1</td>\n",
       "      <td>Industrial and Commercial Bank of China</td>\n",
       "      <td>6303.44</td>\n",
       "    </tr>\n",
       "    <tr>\n",
       "      <th>1</th>\n",
       "      <td>2</td>\n",
       "      <td>Agricultural Bank of China</td>\n",
       "      <td>5623.12</td>\n",
       "    </tr>\n",
       "    <tr>\n",
       "      <th>2</th>\n",
       "      <td>3</td>\n",
       "      <td>China Construction Bank</td>\n",
       "      <td>5400.28</td>\n",
       "    </tr>\n",
       "    <tr>\n",
       "      <th>3</th>\n",
       "      <td>4</td>\n",
       "      <td>Bank of China</td>\n",
       "      <td>4578.28</td>\n",
       "    </tr>\n",
       "    <tr>\n",
       "      <th>4</th>\n",
       "      <td>5</td>\n",
       "      <td>JPMorgan Chase</td>\n",
       "      <td>4002.81</td>\n",
       "    </tr>\n",
       "    <tr>\n",
       "      <th>...</th>\n",
       "      <td>...</td>\n",
       "      <td>...</td>\n",
       "      <td>...</td>\n",
       "    </tr>\n",
       "    <tr>\n",
       "      <th>95</th>\n",
       "      <td>96</td>\n",
       "      <td>Handelsbanken</td>\n",
       "      <td>351.79</td>\n",
       "    </tr>\n",
       "    <tr>\n",
       "      <th>96</th>\n",
       "      <td>97</td>\n",
       "      <td>Industrial Bank of Korea</td>\n",
       "      <td>345.81</td>\n",
       "    </tr>\n",
       "    <tr>\n",
       "      <th>97</th>\n",
       "      <td>98</td>\n",
       "      <td>DNB</td>\n",
       "      <td>339.21</td>\n",
       "    </tr>\n",
       "    <tr>\n",
       "      <th>98</th>\n",
       "      <td>99</td>\n",
       "      <td>Qatar National Bank</td>\n",
       "      <td>338.14</td>\n",
       "    </tr>\n",
       "    <tr>\n",
       "      <th>99</th>\n",
       "      <td>100</td>\n",
       "      <td>VTB Bank</td>\n",
       "      <td>326.85</td>\n",
       "    </tr>\n",
       "  </tbody>\n",
       "</table>\n",
       "<p>100 rows × 3 columns</p>\n",
       "</div>"
      ],
      "text/plain": [
       "    Rank                                Bank name  \\\n",
       "0      1  Industrial and Commercial Bank of China   \n",
       "1      2               Agricultural Bank of China   \n",
       "2      3                  China Construction Bank   \n",
       "3      4                            Bank of China   \n",
       "4      5                           JPMorgan Chase   \n",
       "..   ...                                      ...   \n",
       "95    96                            Handelsbanken   \n",
       "96    97                 Industrial Bank of Korea   \n",
       "97    98                                      DNB   \n",
       "98    99                      Qatar National Bank   \n",
       "99   100                                 VTB Bank   \n",
       "\n",
       "    Total assets (2024) (US$ billion)  \n",
       "0                             6303.44  \n",
       "1                             5623.12  \n",
       "2                             5400.28  \n",
       "3                             4578.28  \n",
       "4                             4002.81  \n",
       "..                                ...  \n",
       "95                             351.79  \n",
       "96                             345.81  \n",
       "97                             339.21  \n",
       "98                             338.14  \n",
       "99                             326.85  \n",
       "\n",
       "[100 rows x 3 columns]"
      ]
     },
     "execution_count": 89,
     "metadata": {},
     "output_type": "execute_result"
    }
   ],
   "source": [
    "import pandas as pd\n",
    "URL = 'https://en.wikipedia.org/wiki/List_of_largest_banks'\n",
    "tables = pd.read_html(URL)\n",
    "df = tables[0]\n",
    "print(df)\n",
    "df1 = pd.DataFrame(df)\n",
    "df1"
   ]
  },
  {
   "cell_type": "code",
   "execution_count": null,
   "id": "c67fb2b2",
   "metadata": {},
   "outputs": [
    {
     "name": "stdout",
     "output_type": "stream",
     "text": [
      "    Country/Territory IMF[1][12]            World Bank[13]             \\\n",
      "    Country/Territory   Forecast       Year       Estimate       Year   \n",
      "0               World  113795678       2025      105435540       2023   \n",
      "1       United States   30507217       2025       27360935       2023   \n",
      "2               China   19231705  [n 1]2025       17794782  [n 3]2023   \n",
      "3             Germany    4744804       2025        4456081       2023   \n",
      "4               India    4187017       2025        3549919       2023   \n",
      "..                ...        ...        ...            ...        ...   \n",
      "205             Palau        333       2025            263       2023   \n",
      "206          Kiribati        312       2025            279       2023   \n",
      "207  Marshall Islands        297       2025            284       2023   \n",
      "208             Nauru        169       2025            154       2023   \n",
      "209            Tuvalu         65       2025             62       2023   \n",
      "\n",
      "    United Nations[14]             \n",
      "              Estimate       Year  \n",
      "0            100834796       2022  \n",
      "1             25744100       2022  \n",
      "2             17963170  [n 1]2022  \n",
      "3              4076923       2022  \n",
      "4              3465541       2022  \n",
      "..                 ...        ...  \n",
      "205                225       2022  \n",
      "206                223       2022  \n",
      "207                279       2022  \n",
      "208                147       2022  \n",
      "209                 59       2022  \n",
      "\n",
      "[210 rows x 7 columns]\n"
     ]
    }
   ],
   "source": [
    "# Web pages may have content saved in them as tables but they may not appear as tables on the web page.\n",
    "URL1 = 'https://en.wikipedia.org/wiki/List_of_countries_by_GDP_(nominal)'\n",
    "tables = pd.read_html(URL1)\n",
    "df2 = tables[2]\n",
    "print(df2)"
   ]
  },
  {
   "cell_type": "markdown",
   "id": "b6b10ca0",
   "metadata": {},
   "source": [
    "__Note:__ It is further prudent to point out, that this method exclusively operates only on tabular data extraction. BeautifulSoup library still remains the default method of extracting any kind of information from web pages.\n",
    "\n"
   ]
  },
  {
   "cell_type": "markdown",
   "id": "accbaa14",
   "metadata": {},
   "source": [
    "### Web Scraping Lab"
   ]
  },
  {
   "cell_type": "code",
   "execution_count": null,
   "id": "8a936b71",
   "metadata": {},
   "outputs": [
    {
     "name": "stdout",
     "output_type": "stream",
     "text": [
      "Collecting bs4\n",
      "  Using cached bs4-0.0.2-py2.py3-none-any.whl.metadata (411 bytes)\n",
      "Requirement already satisfied: beautifulsoup4 in c:\\users\\nhoct\\anaconda3\\lib\\site-packages (from bs4) (4.12.3)\n",
      "Requirement already satisfied: soupsieve>1.2 in c:\\users\\nhoct\\anaconda3\\lib\\site-packages (from beautifulsoup4->bs4) (2.5)\n",
      "Using cached bs4-0.0.2-py2.py3-none-any.whl (1.2 kB)\n",
      "Installing collected packages: bs4\n",
      "Successfully installed bs4-0.0.2\n",
      "Collecting html5lib\n",
      "  Using cached html5lib-1.1-py2.py3-none-any.whl.metadata (16 kB)\n",
      "Requirement already satisfied: six>=1.9 in c:\\users\\nhoct\\anaconda3\\lib\\site-packages (from html5lib) (1.16.0)\n",
      "Requirement already satisfied: webencodings in c:\\users\\nhoct\\anaconda3\\lib\\site-packages (from html5lib) (0.5.1)\n",
      "Using cached html5lib-1.1-py2.py3-none-any.whl (112 kB)\n",
      "Installing collected packages: html5lib\n",
      "Successfully installed html5lib-1.1\n"
     ]
    }
   ],
   "source": [
    "!pip install bs4\n",
    "!pip install html5lib "
   ]
  },
  {
   "cell_type": "code",
   "execution_count": null,
   "id": "60da9cdc",
   "metadata": {},
   "outputs": [],
   "source": [
    "from bs4 import BeautifulSoup\n",
    "import requests\n",
    "import html5lib"
   ]
  },
  {
   "cell_type": "code",
   "execution_count": null,
   "id": "244e1b0f",
   "metadata": {},
   "outputs": [
    {
     "data": {
      "text/html": [
       "<!DOCTYPE html>\n",
       "<html>\n",
       "<head>\n",
       "<title>Page Title</title>\n",
       "</head>\n",
       "<body>\n",
       "<h3><b id='boldest'>Lebron James</b></h3>\n",
       "<p> Salary: $ 92,000,000 </p>\n",
       "<h3> Stephen Curry</h3>\n",
       "<p> Salary: $85,000, 000 </p>\n",
       "<h3> Kevin Durant </h3>\n",
       "<p> Salary: $73,200, 000</p>\n",
       "</body>\n",
       "</html>\n"
      ],
      "text/plain": [
       "<IPython.core.display.HTML object>"
      ]
     },
     "metadata": {},
     "output_type": "display_data"
    }
   ],
   "source": [
    "%%html\n",
    "<!DOCTYPE html>\n",
    "<html>\n",
    "<head>\n",
    "<title>Page Title</title>\n",
    "</head>\n",
    "<body>\n",
    "<h3><b id='boldest'>Lebron James</b></h3>\n",
    "<p> Salary: $ 92,000,000 </p>\n",
    "<h3> Stephen Curry</h3>\n",
    "<p> Salary: $85,000, 000 </p>\n",
    "<h3> Kevin Durant </h3>\n",
    "<p> Salary: $73,200, 000</p>\n",
    "</body>\n",
    "</html>"
   ]
  },
  {
   "cell_type": "code",
   "execution_count": null,
   "id": "c3c85553",
   "metadata": {},
   "outputs": [],
   "source": [
    "html=\"<!DOCTYPE html><html><head><title>Page Title</title></head><body><h3><b id='boldest'>Lebron James</b></h3><p> Salary: $ 92,000,000 </p><h3> Stephen Curry</h3><p> Salary: $85,000, 000 </p><h3> Kevin Durant </h3><p> Salary: $73,200, 000</p></body></html>\""
   ]
  },
  {
   "cell_type": "code",
   "execution_count": null,
   "id": "719dbe10",
   "metadata": {},
   "outputs": [
    {
     "name": "stdout",
     "output_type": "stream",
     "text": [
      "Requirement already satisfied: html5lib in c:\\users\\nhoct\\anaconda3\\lib\\site-packages (1.1)\n",
      "Requirement already satisfied: six>=1.9 in c:\\users\\nhoct\\anaconda3\\lib\\site-packages (from html5lib) (1.16.0)\n",
      "Requirement already satisfied: webencodings in c:\\users\\nhoct\\anaconda3\\lib\\site-packages (from html5lib) (0.5.1)\n"
     ]
    }
   ],
   "source": [
    "!pip install --upgrade html5lib\n"
   ]
  },
  {
   "cell_type": "code",
   "execution_count": null,
   "id": "e8590801",
   "metadata": {},
   "outputs": [],
   "source": [
    "soup = BeautifulSoup(html, 'lxml')"
   ]
  },
  {
   "cell_type": "code",
   "execution_count": null,
   "id": "a18d50ae",
   "metadata": {},
   "outputs": [
    {
     "name": "stdout",
     "output_type": "stream",
     "text": [
      "<!DOCTYPE html>\n",
      "<html>\n",
      " <head>\n",
      "  <title>\n",
      "   Page Title\n",
      "  </title>\n",
      " </head>\n",
      " <body>\n",
      "  <h3>\n",
      "   <b id=\"boldest\">\n",
      "    Lebron James\n",
      "   </b>\n",
      "  </h3>\n",
      "  <p>\n",
      "   Salary: $ 92,000,000\n",
      "  </p>\n",
      "  <h3>\n",
      "   Stephen Curry\n",
      "  </h3>\n",
      "  <p>\n",
      "   Salary: $85,000, 000\n",
      "  </p>\n",
      "  <h3>\n",
      "   Kevin Durant\n",
      "  </h3>\n",
      "  <p>\n",
      "   Salary: $73,200, 000\n",
      "  </p>\n",
      " </body>\n",
      "</html>\n",
      "\n"
     ]
    }
   ],
   "source": [
    "print(soup.prettify())"
   ]
  },
  {
   "cell_type": "code",
   "execution_count": null,
   "id": "8f3c8757",
   "metadata": {},
   "outputs": [
    {
     "name": "stdout",
     "output_type": "stream",
     "text": [
      "tag object:  <title>Page Title</title>\n"
     ]
    }
   ],
   "source": [
    "tag_object = soup.title\n",
    "print('tag object: ', tag_object)"
   ]
  },
  {
   "cell_type": "code",
   "execution_count": null,
   "id": "9bd348d6",
   "metadata": {},
   "outputs": [
    {
     "name": "stdout",
     "output_type": "stream",
     "text": [
      "tag object type:  <class 'bs4.element.Tag'>\n"
     ]
    }
   ],
   "source": [
    "print('tag object type: ', type(tag_object))"
   ]
  },
  {
   "cell_type": "code",
   "execution_count": null,
   "id": "a23d2b5d",
   "metadata": {},
   "outputs": [
    {
     "name": "stdout",
     "output_type": "stream",
     "text": [
      "<h3><b id=\"boldest\">Lebron James</b></h3>\n"
     ]
    }
   ],
   "source": [
    "tag_object = soup.h3\n",
    "print(tag_object)"
   ]
  },
  {
   "cell_type": "code",
   "execution_count": null,
   "id": "af3d867f",
   "metadata": {},
   "outputs": [
    {
     "data": {
      "text/plain": [
       "<b id=\"boldest\">Lebron James</b>"
      ]
     },
     "execution_count": 105,
     "metadata": {},
     "output_type": "execute_result"
    }
   ],
   "source": [
    "tag_children = tag_object.b \n",
    "tag_children"
   ]
  },
  {
   "cell_type": "code",
   "execution_count": null,
   "id": "507d6bfd",
   "metadata": {},
   "outputs": [
    {
     "data": {
      "text/plain": [
       "<h3><b id=\"boldest\">Lebron James</b></h3>"
      ]
     },
     "execution_count": 107,
     "metadata": {},
     "output_type": "execute_result"
    }
   ],
   "source": [
    "parent_tag = tag_children.parent\n",
    "parent_tag"
   ]
  },
  {
   "cell_type": "code",
   "execution_count": null,
   "id": "952d65f5",
   "metadata": {},
   "outputs": [
    {
     "name": "stdout",
     "output_type": "stream",
     "text": [
      "<body>\n",
      " <h3>\n",
      "  <b id=\"boldest\">\n",
      "   Lebron James\n",
      "  </b>\n",
      " </h3>\n",
      " <p>\n",
      "  Salary: $ 92,000,000\n",
      " </p>\n",
      " <h3>\n",
      "  Stephen Curry\n",
      " </h3>\n",
      " <p>\n",
      "  Salary: $85,000, 000\n",
      " </p>\n",
      " <h3>\n",
      "  Kevin Durant\n",
      " </h3>\n",
      " <p>\n",
      "  Salary: $73,200, 000\n",
      " </p>\n",
      "</body>\n",
      "\n"
     ]
    }
   ],
   "source": [
    "print(tag_object.parent.prettify())"
   ]
  },
  {
   "cell_type": "code",
   "execution_count": null,
   "id": "6ad495d5",
   "metadata": {},
   "outputs": [
    {
     "data": {
      "text/plain": [
       "<h3><b id=\"boldest\">Lebron James</b></h3>"
      ]
     },
     "execution_count": 115,
     "metadata": {},
     "output_type": "execute_result"
    }
   ],
   "source": [
    "tag_object"
   ]
  },
  {
   "cell_type": "code",
   "execution_count": null,
   "id": "3869f79e",
   "metadata": {},
   "outputs": [
    {
     "data": {
      "text/plain": [
       "<p> Salary: $ 92,000,000 </p>"
      ]
     },
     "execution_count": 112,
     "metadata": {},
     "output_type": "execute_result"
    }
   ],
   "source": [
    "sibling_1 = tag_object.next_sibling\n",
    "sibling_1"
   ]
  },
  {
   "cell_type": "code",
   "execution_count": null,
   "id": "c25cc222",
   "metadata": {},
   "outputs": [
    {
     "data": {
      "text/plain": [
       "<h3> Stephen Curry</h3>"
      ]
     },
     "execution_count": 114,
     "metadata": {},
     "output_type": "execute_result"
    }
   ],
   "source": [
    "sibling_2 = sibling_1.next_sibling\n",
    "sibling_2"
   ]
  },
  {
   "cell_type": "code",
   "execution_count": null,
   "id": "a6ba9dff",
   "metadata": {},
   "outputs": [
    {
     "data": {
      "text/plain": [
       "<p> Salary: $85,000, 000 </p>"
      ]
     },
     "execution_count": 116,
     "metadata": {},
     "output_type": "execute_result"
    }
   ],
   "source": [
    "sibling_2.next_sibling"
   ]
  },
  {
   "cell_type": "markdown",
   "id": "1bd9018f",
   "metadata": {},
   "source": [
    "#### Tag Attributes"
   ]
  },
  {
   "cell_type": "code",
   "execution_count": null,
   "id": "3aa7cd8a",
   "metadata": {},
   "outputs": [
    {
     "data": {
      "text/plain": [
       "<h3><b id=\"boldest\">Lebron James</b></h3>"
      ]
     },
     "execution_count": 120,
     "metadata": {},
     "output_type": "execute_result"
    }
   ],
   "source": [
    "tag_object"
   ]
  },
  {
   "cell_type": "code",
   "execution_count": null,
   "id": "1ffb18e8",
   "metadata": {},
   "outputs": [
    {
     "data": {
      "text/plain": [
       "'boldest'"
      ]
     },
     "execution_count": 121,
     "metadata": {},
     "output_type": "execute_result"
    }
   ],
   "source": [
    "tag_children['id']"
   ]
  },
  {
   "cell_type": "code",
   "execution_count": null,
   "id": "d01e0d79",
   "metadata": {},
   "outputs": [
    {
     "data": {
      "text/plain": [
       "{'id': 'boldest'}"
      ]
     },
     "execution_count": 123,
     "metadata": {},
     "output_type": "execute_result"
    }
   ],
   "source": [
    "tag_children.attrs"
   ]
  },
  {
   "cell_type": "code",
   "execution_count": null,
   "id": "d6eea901",
   "metadata": {},
   "outputs": [
    {
     "data": {
      "text/plain": [
       "'boldest'"
      ]
     },
     "execution_count": 125,
     "metadata": {},
     "output_type": "execute_result"
    }
   ],
   "source": [
    "tag_children.get('id')"
   ]
  },
  {
   "cell_type": "markdown",
   "id": "8f08ea91",
   "metadata": {},
   "source": [
    "#### Navigating String"
   ]
  },
  {
   "cell_type": "code",
   "execution_count": null,
   "id": "f42a22fd",
   "metadata": {},
   "outputs": [
    {
     "data": {
      "text/plain": [
       "<b id=\"boldest\">Lebron James</b>"
      ]
     },
     "execution_count": 126,
     "metadata": {},
     "output_type": "execute_result"
    }
   ],
   "source": [
    "tag_children"
   ]
  },
  {
   "cell_type": "code",
   "execution_count": null,
   "id": "048b7637",
   "metadata": {},
   "outputs": [
    {
     "data": {
      "text/plain": [
       "'Lebron James'"
      ]
     },
     "execution_count": 131,
     "metadata": {},
     "output_type": "execute_result"
    }
   ],
   "source": [
    "tag_string = tag_children.string\n",
    "tag_string"
   ]
  },
  {
   "cell_type": "code",
   "execution_count": null,
   "id": "ec410c18",
   "metadata": {},
   "outputs": [
    {
     "data": {
      "text/plain": [
       "bs4.element.NavigableString"
      ]
     },
     "execution_count": 132,
     "metadata": {},
     "output_type": "execute_result"
    }
   ],
   "source": [
    "type(tag_string)"
   ]
  },
  {
   "cell_type": "code",
   "execution_count": null,
   "id": "be48740f",
   "metadata": {},
   "outputs": [
    {
     "data": {
      "text/plain": [
       "'Lebron James'"
      ]
     },
     "execution_count": 133,
     "metadata": {},
     "output_type": "execute_result"
    }
   ],
   "source": [
    "# We can convert NavigableString to string object in Python\n",
    "unicode_string = str(tag_string)\n",
    "unicode_string"
   ]
  },
  {
   "cell_type": "code",
   "execution_count": null,
   "id": "5cdb1d9d",
   "metadata": {},
   "outputs": [
    {
     "data": {
      "text/plain": [
       "str"
      ]
     },
     "execution_count": 134,
     "metadata": {},
     "output_type": "execute_result"
    }
   ],
   "source": [
    "type(unicode_string)"
   ]
  },
  {
   "cell_type": "markdown",
   "id": "6f1e043d",
   "metadata": {},
   "source": [
    "#### Filter"
   ]
  },
  {
   "cell_type": "code",
   "execution_count": null,
   "id": "44d2c2e3",
   "metadata": {},
   "outputs": [
    {
     "data": {
      "text/html": [
       "<table>\n",
       "  <tr>\n",
       "    <td id='flight' >Flight No</td>\n",
       "    <td>Launch site</td> \n",
       "    <td>Payload mass</td>\n",
       "   </tr>\n",
       "  <tr> \n",
       "    <td>1</td>\n",
       "    <td><a href='https://en.wikipedia.org/wiki/Florida'>Florida</a></td>\n",
       "    <td>300 kg</td>\n",
       "  </tr>\n",
       "  <tr>\n",
       "    <td>2</td>\n",
       "    <td><a href='https://en.wikipedia.org/wiki/Texas'>Texas</a></td>\n",
       "    <td>94 kg</td>\n",
       "  </tr>\n",
       "  <tr>\n",
       "    <td>3</td>\n",
       "    <td><a href='https://en.wikipedia.org/wiki/Florida'>Florida<a> </td>\n",
       "    <td>80 kg</td>\n",
       "  </tr>\n",
       "</table>\n"
      ],
      "text/plain": [
       "<IPython.core.display.HTML object>"
      ]
     },
     "metadata": {},
     "output_type": "display_data"
    }
   ],
   "source": [
    "%%html\n",
    "<table>\n",
    "  <tr>\n",
    "    <td id='flight' >Flight No</td>\n",
    "    <td>Launch site</td> \n",
    "    <td>Payload mass</td>\n",
    "   </tr>\n",
    "  <tr> \n",
    "    <td>1</td>\n",
    "    <td><a href='https://en.wikipedia.org/wiki/Florida'>Florida</a></td>\n",
    "    <td>300 kg</td>\n",
    "  </tr>\n",
    "  <tr>\n",
    "    <td>2</td>\n",
    "    <td><a href='https://en.wikipedia.org/wiki/Texas'>Texas</a></td>\n",
    "    <td>94 kg</td>\n",
    "  </tr>\n",
    "  <tr>\n",
    "    <td>3</td>\n",
    "    <td><a href='https://en.wikipedia.org/wiki/Florida'>Florida<a> </td>\n",
    "    <td>80 kg</td>\n",
    "  </tr>\n",
    "</table>"
   ]
  },
  {
   "cell_type": "code",
   "execution_count": null,
   "id": "3b94f913",
   "metadata": {},
   "outputs": [],
   "source": [
    "table=\"<table><tr><td id='flight'>Flight No</td><td>Launch site</td> <td>Payload mass</td></tr><tr> <td>1</td><td><a href='https://en.wikipedia.org/wiki/Florida'>Florida<a></td><td>300 kg</td></tr><tr><td>2</td><td><a href='https://en.wikipedia.org/wiki/Texas'>Texas</a></td><td>94 kg</td></tr><tr><td>3</td><td><a href='https://en.wikipedia.org/wiki/Florida'>Florida<a> </td><td>80 kg</td></tr></table>\""
   ]
  },
  {
   "cell_type": "code",
   "execution_count": null,
   "id": "f53b023b",
   "metadata": {},
   "outputs": [],
   "source": [
    "table_bs = BeautifulSoup(table, 'lxml')"
   ]
  },
  {
   "cell_type": "code",
   "execution_count": null,
   "id": "1fcfb32b",
   "metadata": {},
   "outputs": [
    {
     "data": {
      "text/plain": [
       "[<tr><td id=\"flight\">Flight No</td><td>Launch site</td> <td>Payload mass</td></tr>,\n",
       " <tr> <td>1</td><td><a href=\"https://en.wikipedia.org/wiki/Florida\">Florida</a><a></a></td><td>300 kg</td></tr>,\n",
       " <tr><td>2</td><td><a href=\"https://en.wikipedia.org/wiki/Texas\">Texas</a></td><td>94 kg</td></tr>,\n",
       " <tr><td>3</td><td><a href=\"https://en.wikipedia.org/wiki/Florida\">Florida</a><a> </a></td><td>80 kg</td></tr>]"
      ]
     },
     "execution_count": 142,
     "metadata": {},
     "output_type": "execute_result"
    }
   ],
   "source": [
    "# find All\n",
    "table_bs.find_all('tr')"
   ]
  },
  {
   "cell_type": "code",
   "execution_count": null,
   "id": "ac76a8de",
   "metadata": {},
   "outputs": [
    {
     "data": {
      "text/plain": [
       "[<tr><td id=\"flight\">Flight No</td><td>Launch site</td> <td>Payload mass</td></tr>,\n",
       " <tr> <td>1</td><td><a href=\"https://en.wikipedia.org/wiki/Florida\">Florida</a><a></a></td><td>300 kg</td></tr>,\n",
       " <tr><td>2</td><td><a href=\"https://en.wikipedia.org/wiki/Texas\">Texas</a></td><td>94 kg</td></tr>,\n",
       " <tr><td>3</td><td><a href=\"https://en.wikipedia.org/wiki/Florida\">Florida</a><a> </a></td><td>80 kg</td></tr>]"
      ]
     },
     "execution_count": 156,
     "metadata": {},
     "output_type": "execute_result"
    }
   ],
   "source": [
    "# Name\n",
    "table_rows = table_bs.find_all('tr')\n",
    "table_rows"
   ]
  },
  {
   "cell_type": "code",
   "execution_count": null,
   "id": "4b4cc422",
   "metadata": {},
   "outputs": [
    {
     "data": {
      "text/plain": [
       "<tr><td id=\"flight\">Flight No</td><td>Launch site</td> <td>Payload mass</td></tr>"
      ]
     },
     "execution_count": 157,
     "metadata": {},
     "output_type": "execute_result"
    }
   ],
   "source": [
    "first_row = table_rows[0]\n",
    "first_row"
   ]
  },
  {
   "cell_type": "code",
   "execution_count": null,
   "id": "1a80d17c",
   "metadata": {},
   "outputs": [
    {
     "name": "stdout",
     "output_type": "stream",
     "text": [
      "<class 'bs4.element.Tag'>\n"
     ]
    }
   ],
   "source": [
    "print(type(first_row))"
   ]
  },
  {
   "cell_type": "code",
   "execution_count": null,
   "id": "ebae9611",
   "metadata": {},
   "outputs": [
    {
     "data": {
      "text/plain": [
       "<td id=\"flight\">Flight No</td>"
      ]
     },
     "execution_count": 159,
     "metadata": {},
     "output_type": "execute_result"
    }
   ],
   "source": [
    "first_row.td"
   ]
  },
  {
   "cell_type": "code",
   "execution_count": null,
   "id": "47f2cdb6",
   "metadata": {},
   "outputs": [
    {
     "name": "stdout",
     "output_type": "stream",
     "text": [
      "row 0 is <tr><td id=\"flight\">Flight No</td><td>Launch site</td> <td>Payload mass</td></tr>\n",
      "row 1 is <tr> <td>1</td><td><a href=\"https://en.wikipedia.org/wiki/Florida\">Florida</a><a></a></td><td>300 kg</td></tr>\n",
      "row 2 is <tr><td>2</td><td><a href=\"https://en.wikipedia.org/wiki/Texas\">Texas</a></td><td>94 kg</td></tr>\n",
      "row 3 is <tr><td>3</td><td><a href=\"https://en.wikipedia.org/wiki/Florida\">Florida</a><a> </a></td><td>80 kg</td></tr>\n"
     ]
    }
   ],
   "source": [
    "for i, row in enumerate(table_rows): # enumerate để lấy index + value của list, tuple,...\n",
    "    print('row', i, 'is', row)"
   ]
  },
  {
   "cell_type": "code",
   "execution_count": null,
   "id": "9fcfcdab",
   "metadata": {},
   "outputs": [
    {
     "name": "stdout",
     "output_type": "stream",
     "text": [
      "row 0\n",
      "column 0 cell <td id=\"flight\">Flight No</td>\n",
      "column 1 cell <td>Launch site</td>\n",
      "column 2 cell <td>Payload mass</td>\n",
      "row 1\n",
      "column 0 cell <td>1</td>\n",
      "column 1 cell <td><a href=\"https://en.wikipedia.org/wiki/Florida\">Florida</a><a></a></td>\n",
      "column 2 cell <td>300 kg</td>\n",
      "row 2\n",
      "column 0 cell <td>2</td>\n",
      "column 1 cell <td><a href=\"https://en.wikipedia.org/wiki/Texas\">Texas</a></td>\n",
      "column 2 cell <td>94 kg</td>\n",
      "row 3\n",
      "column 0 cell <td>3</td>\n",
      "column 1 cell <td><a href=\"https://en.wikipedia.org/wiki/Florida\">Florida</a><a> </a></td>\n",
      "column 2 cell <td>80 kg</td>\n"
     ]
    }
   ],
   "source": [
    "for i, row in enumerate(table_rows):\n",
    "    print('row', i)\n",
    "    cells = row.find_all('td')\n",
    "    for j, cell in enumerate(cells):\n",
    "        print('column', j, 'cell', cell)"
   ]
  },
  {
   "cell_type": "code",
   "execution_count": null,
   "id": "90da5a29",
   "metadata": {},
   "outputs": [
    {
     "name": "stdout",
     "output_type": "stream",
     "text": [
      "<html>\n",
      " <body>\n",
      "  <table>\n",
      "   <tr>\n",
      "    <td id=\"flight\">\n",
      "     Flight No\n",
      "    </td>\n",
      "    <td>\n",
      "     Launch site\n",
      "    </td>\n",
      "    <td>\n",
      "     Payload mass\n",
      "    </td>\n",
      "   </tr>\n",
      "   <tr>\n",
      "    <td>\n",
      "     1\n",
      "    </td>\n",
      "    <td>\n",
      "     <a href=\"https://en.wikipedia.org/wiki/Florida\">\n",
      "      Florida\n",
      "     </a>\n",
      "     <a>\n",
      "     </a>\n",
      "    </td>\n",
      "    <td>\n",
      "     300 kg\n",
      "    </td>\n",
      "   </tr>\n",
      "   <tr>\n",
      "    <td>\n",
      "     2\n",
      "    </td>\n",
      "    <td>\n",
      "     <a href=\"https://en.wikipedia.org/wiki/Texas\">\n",
      "      Texas\n",
      "     </a>\n",
      "    </td>\n",
      "    <td>\n",
      "     94 kg\n",
      "    </td>\n",
      "   </tr>\n",
      "   <tr>\n",
      "    <td>\n",
      "     3\n",
      "    </td>\n",
      "    <td>\n",
      "     <a href=\"https://en.wikipedia.org/wiki/Florida\">\n",
      "      Florida\n",
      "     </a>\n",
      "     <a>\n",
      "     </a>\n",
      "    </td>\n",
      "    <td>\n",
      "     80 kg\n",
      "    </td>\n",
      "   </tr>\n",
      "  </table>\n",
      " </body>\n",
      "</html>\n",
      "\n"
     ]
    }
   ],
   "source": [
    "print(table_bs.prettify())"
   ]
  },
  {
   "cell_type": "code",
   "execution_count": null,
   "id": "03174257",
   "metadata": {},
   "outputs": [
    {
     "data": {
      "text/plain": [
       "[<tr><td id=\"flight\">Flight No</td><td>Launch site</td> <td>Payload mass</td></tr>,\n",
       " <tr> <td>1</td><td><a href=\"https://en.wikipedia.org/wiki/Florida\">Florida</a><a></a></td><td>300 kg</td></tr>,\n",
       " <tr><td>2</td><td><a href=\"https://en.wikipedia.org/wiki/Texas\">Texas</a></td><td>94 kg</td></tr>,\n",
       " <tr><td>3</td><td><a href=\"https://en.wikipedia.org/wiki/Florida\">Florida</a><a> </a></td><td>80 kg</td></tr>]"
      ]
     },
     "execution_count": 169,
     "metadata": {},
     "output_type": "execute_result"
    }
   ],
   "source": [
    "table_rows"
   ]
  },
  {
   "cell_type": "code",
   "execution_count": null,
   "id": "068d7489",
   "metadata": {},
   "outputs": [
    {
     "data": {
      "text/plain": [
       "[<td>3</td>,\n",
       " <td><a href=\"https://en.wikipedia.org/wiki/Florida\">Florida</a><a> </a></td>,\n",
       " <td>80 kg</td>]"
      ]
     },
     "execution_count": 170,
     "metadata": {},
     "output_type": "execute_result"
    }
   ],
   "source": [
    "cells"
   ]
  },
  {
   "cell_type": "code",
   "execution_count": null,
   "id": "ad27e58e",
   "metadata": {},
   "outputs": [
    {
     "data": {
      "text/plain": [
       "[<tr><td id=\"flight\">Flight No</td><td>Launch site</td> <td>Payload mass</td></tr>,\n",
       " <td id=\"flight\">Flight No</td>,\n",
       " <td>Launch site</td>,\n",
       " <td>Payload mass</td>,\n",
       " <tr> <td>1</td><td><a href=\"https://en.wikipedia.org/wiki/Florida\">Florida</a><a></a></td><td>300 kg</td></tr>,\n",
       " <td>1</td>,\n",
       " <td><a href=\"https://en.wikipedia.org/wiki/Florida\">Florida</a><a></a></td>,\n",
       " <td>300 kg</td>,\n",
       " <tr><td>2</td><td><a href=\"https://en.wikipedia.org/wiki/Texas\">Texas</a></td><td>94 kg</td></tr>,\n",
       " <td>2</td>,\n",
       " <td><a href=\"https://en.wikipedia.org/wiki/Texas\">Texas</a></td>,\n",
       " <td>94 kg</td>,\n",
       " <tr><td>3</td><td><a href=\"https://en.wikipedia.org/wiki/Florida\">Florida</a><a> </a></td><td>80 kg</td></tr>,\n",
       " <td>3</td>,\n",
       " <td><a href=\"https://en.wikipedia.org/wiki/Florida\">Florida</a><a> </a></td>,\n",
       " <td>80 kg</td>]"
      ]
     },
     "execution_count": 174,
     "metadata": {},
     "output_type": "execute_result"
    }
   ],
   "source": [
    "list_input = table_bs.find_all(name=['tr', 'td'])\n",
    "list_input"
   ]
  },
  {
   "cell_type": "markdown",
   "id": "acefc563",
   "metadata": {},
   "source": [
    "#### Attributes"
   ]
  },
  {
   "cell_type": "code",
   "execution_count": null,
   "id": "a9f6cebe",
   "metadata": {},
   "outputs": [
    {
     "name": "stdout",
     "output_type": "stream",
     "text": [
      "<html>\n",
      " <body>\n",
      "  <table>\n",
      "   <tr>\n",
      "    <td id=\"flight\">\n",
      "     Flight No\n",
      "    </td>\n",
      "    <td>\n",
      "     Launch site\n",
      "    </td>\n",
      "    <td>\n",
      "     Payload mass\n",
      "    </td>\n",
      "   </tr>\n",
      "   <tr>\n",
      "    <td>\n",
      "     1\n",
      "    </td>\n",
      "    <td>\n",
      "     <a href=\"https://en.wikipedia.org/wiki/Florida\">\n",
      "      Florida\n",
      "     </a>\n",
      "     <a>\n",
      "     </a>\n",
      "    </td>\n",
      "    <td>\n",
      "     300 kg\n",
      "    </td>\n",
      "   </tr>\n",
      "   <tr>\n",
      "    <td>\n",
      "     2\n",
      "    </td>\n",
      "    <td>\n",
      "     <a href=\"https://en.wikipedia.org/wiki/Texas\">\n",
      "      Texas\n",
      "     </a>\n",
      "    </td>\n",
      "    <td>\n",
      "     94 kg\n",
      "    </td>\n",
      "   </tr>\n",
      "   <tr>\n",
      "    <td>\n",
      "     3\n",
      "    </td>\n",
      "    <td>\n",
      "     <a href=\"https://en.wikipedia.org/wiki/Florida\">\n",
      "      Florida\n",
      "     </a>\n",
      "     <a>\n",
      "     </a>\n",
      "    </td>\n",
      "    <td>\n",
      "     80 kg\n",
      "    </td>\n",
      "   </tr>\n",
      "  </table>\n",
      " </body>\n",
      "</html>\n",
      "\n"
     ]
    }
   ],
   "source": [
    "print(table_bs.prettify())"
   ]
  },
  {
   "cell_type": "code",
   "execution_count": null,
   "id": "d06ab003",
   "metadata": {},
   "outputs": [
    {
     "data": {
      "text/plain": [
       "[<td id=\"flight\">Flight No</td>]"
      ]
     },
     "execution_count": 181,
     "metadata": {},
     "output_type": "execute_result"
    }
   ],
   "source": [
    "table_bs.find_all(id='flight')"
   ]
  },
  {
   "cell_type": "code",
   "execution_count": null,
   "id": "41df10ff",
   "metadata": {},
   "outputs": [
    {
     "data": {
      "text/plain": [
       "[<a href=\"https://en.wikipedia.org/wiki/Florida\">Florida</a>,\n",
       " <a href=\"https://en.wikipedia.org/wiki/Florida\">Florida</a>]"
      ]
     },
     "execution_count": 187,
     "metadata": {},
     "output_type": "execute_result"
    }
   ],
   "source": [
    "list_input=table_bs.find_all(href='https://en.wikipedia.org/wiki/Florida')\n",
    "list_input"
   ]
  },
  {
   "cell_type": "code",
   "execution_count": null,
   "id": "c7b00fad",
   "metadata": {},
   "outputs": [
    {
     "data": {
      "text/plain": [
       "[<a href=\"https://en.wikipedia.org/wiki/Florida\">Florida</a>,\n",
       " <a href=\"https://en.wikipedia.org/wiki/Texas\">Texas</a>,\n",
       " <a href=\"https://en.wikipedia.org/wiki/Florida\">Florida</a>]"
      ]
     },
     "execution_count": 188,
     "metadata": {},
     "output_type": "execute_result"
    }
   ],
   "source": [
    "table_bs.find_all(href=True)"
   ]
  },
  {
   "cell_type": "code",
   "execution_count": null,
   "id": "f984a055",
   "metadata": {},
   "outputs": [
    {
     "data": {
      "text/plain": [
       "[<html><body><table><tr><td id=\"flight\">Flight No</td><td>Launch site</td> <td>Payload mass</td></tr><tr> <td>1</td><td><a href=\"https://en.wikipedia.org/wiki/Florida\">Florida</a><a></a></td><td>300 kg</td></tr><tr><td>2</td><td><a href=\"https://en.wikipedia.org/wiki/Texas\">Texas</a></td><td>94 kg</td></tr><tr><td>3</td><td><a href=\"https://en.wikipedia.org/wiki/Florida\">Florida</a><a> </a></td><td>80 kg</td></tr></table></body></html>,\n",
       " <body><table><tr><td id=\"flight\">Flight No</td><td>Launch site</td> <td>Payload mass</td></tr><tr> <td>1</td><td><a href=\"https://en.wikipedia.org/wiki/Florida\">Florida</a><a></a></td><td>300 kg</td></tr><tr><td>2</td><td><a href=\"https://en.wikipedia.org/wiki/Texas\">Texas</a></td><td>94 kg</td></tr><tr><td>3</td><td><a href=\"https://en.wikipedia.org/wiki/Florida\">Florida</a><a> </a></td><td>80 kg</td></tr></table></body>,\n",
       " <table><tr><td id=\"flight\">Flight No</td><td>Launch site</td> <td>Payload mass</td></tr><tr> <td>1</td><td><a href=\"https://en.wikipedia.org/wiki/Florida\">Florida</a><a></a></td><td>300 kg</td></tr><tr><td>2</td><td><a href=\"https://en.wikipedia.org/wiki/Texas\">Texas</a></td><td>94 kg</td></tr><tr><td>3</td><td><a href=\"https://en.wikipedia.org/wiki/Florida\">Florida</a><a> </a></td><td>80 kg</td></tr></table>,\n",
       " <tr><td id=\"flight\">Flight No</td><td>Launch site</td> <td>Payload mass</td></tr>,\n",
       " <td id=\"flight\">Flight No</td>,\n",
       " <td>Launch site</td>,\n",
       " <td>Payload mass</td>,\n",
       " <tr> <td>1</td><td><a href=\"https://en.wikipedia.org/wiki/Florida\">Florida</a><a></a></td><td>300 kg</td></tr>,\n",
       " <td>1</td>,\n",
       " <td><a href=\"https://en.wikipedia.org/wiki/Florida\">Florida</a><a></a></td>,\n",
       " <a></a>,\n",
       " <td>300 kg</td>,\n",
       " <tr><td>2</td><td><a href=\"https://en.wikipedia.org/wiki/Texas\">Texas</a></td><td>94 kg</td></tr>,\n",
       " <td>2</td>,\n",
       " <td><a href=\"https://en.wikipedia.org/wiki/Texas\">Texas</a></td>,\n",
       " <td>94 kg</td>,\n",
       " <tr><td>3</td><td><a href=\"https://en.wikipedia.org/wiki/Florida\">Florida</a><a> </a></td><td>80 kg</td></tr>,\n",
       " <td>3</td>,\n",
       " <td><a href=\"https://en.wikipedia.org/wiki/Florida\">Florida</a><a> </a></td>,\n",
       " <a> </a>,\n",
       " <td>80 kg</td>]"
      ]
     },
     "execution_count": 189,
     "metadata": {},
     "output_type": "execute_result"
    }
   ],
   "source": [
    "table_bs.find_all(href=False)"
   ]
  },
  {
   "cell_type": "markdown",
   "id": "e559d335",
   "metadata": {},
   "source": [
    "#### String"
   ]
  },
  {
   "cell_type": "code",
   "execution_count": null,
   "id": "47694c62",
   "metadata": {},
   "outputs": [
    {
     "data": {
      "text/plain": [
       "['Florida', 'Florida']"
      ]
     },
     "execution_count": 190,
     "metadata": {},
     "output_type": "execute_result"
    }
   ],
   "source": [
    "table_bs.find_all(string='Florida')"
   ]
  },
  {
   "cell_type": "markdown",
   "id": "b354dd6f",
   "metadata": {},
   "source": [
    "#### Using find()"
   ]
  },
  {
   "cell_type": "code",
   "execution_count": null,
   "id": "7da6939b",
   "metadata": {},
   "outputs": [
    {
     "data": {
      "text/html": [
       "<h3>Rocket Launch </h3>\n",
       "\n",
       "<p>\n",
       "<table class='rocket'>\n",
       "  <tr>\n",
       "    <td>Flight No</td>\n",
       "    <td>Launch site</td> \n",
       "    <td>Payload mass</td>\n",
       "  </tr>\n",
       "  <tr>\n",
       "    <td>1</td>\n",
       "    <td>Florida</td>\n",
       "    <td>300 kg</td>\n",
       "  </tr>\n",
       "  <tr>\n",
       "    <td>2</td>\n",
       "    <td>Texas</td>\n",
       "    <td>94 kg</td>\n",
       "  </tr>\n",
       "  <tr>\n",
       "    <td>3</td>\n",
       "    <td>Florida </td>\n",
       "    <td>80 kg</td>\n",
       "  </tr>\n",
       "</table>\n",
       "</p>\n",
       "<p>\n",
       "\n",
       "<h3>Pizza Party  </h3>\n",
       "  \n",
       "    \n",
       "<table class='pizza'>\n",
       "  <tr>\n",
       "    <td>Pizza Place</td>\n",
       "    <td>Orders</td> \n",
       "    <td>Slices </td>\n",
       "   </tr>\n",
       "  <tr>\n",
       "    <td>Domino's Pizza</td>\n",
       "    <td>10</td>\n",
       "    <td>100</td>\n",
       "  </tr>\n",
       "  <tr>\n",
       "    <td>Little Caesars</td>\n",
       "    <td>12</td>\n",
       "    <td >144 </td>\n",
       "  </tr>\n",
       "  <tr>\n",
       "    <td>Papa John's </td>\n",
       "    <td>15 </td>\n",
       "    <td>165</td>\n",
       "  </tr>\n"
      ],
      "text/plain": [
       "<IPython.core.display.HTML object>"
      ]
     },
     "metadata": {},
     "output_type": "display_data"
    }
   ],
   "source": [
    "%%html\n",
    "<h3>Rocket Launch </h3>\n",
    "\n",
    "<p>\n",
    "<table class='rocket'>\n",
    "  <tr>\n",
    "    <td>Flight No</td>\n",
    "    <td>Launch site</td> \n",
    "    <td>Payload mass</td>\n",
    "  </tr>\n",
    "  <tr>\n",
    "    <td>1</td>\n",
    "    <td>Florida</td>\n",
    "    <td>300 kg</td>\n",
    "  </tr>\n",
    "  <tr>\n",
    "    <td>2</td>\n",
    "    <td>Texas</td>\n",
    "    <td>94 kg</td>\n",
    "  </tr>\n",
    "  <tr>\n",
    "    <td>3</td>\n",
    "    <td>Florida </td>\n",
    "    <td>80 kg</td>\n",
    "  </tr>\n",
    "</table>\n",
    "</p>\n",
    "<p>\n",
    "\n",
    "<h3>Pizza Party  </h3>\n",
    "  \n",
    "    \n",
    "<table class='pizza'>\n",
    "  <tr>\n",
    "    <td>Pizza Place</td>\n",
    "    <td>Orders</td> \n",
    "    <td>Slices </td>\n",
    "   </tr>\n",
    "  <tr>\n",
    "    <td>Domino's Pizza</td>\n",
    "    <td>10</td>\n",
    "    <td>100</td>\n",
    "  </tr>\n",
    "  <tr>\n",
    "    <td>Little Caesars</td>\n",
    "    <td>12</td>\n",
    "    <td >144 </td>\n",
    "  </tr>\n",
    "  <tr>\n",
    "    <td>Papa John's </td>\n",
    "    <td>15 </td>\n",
    "    <td>165</td>\n",
    "  </tr>\n"
   ]
  },
  {
   "cell_type": "code",
   "execution_count": null,
   "id": "e185b0c9",
   "metadata": {},
   "outputs": [],
   "source": [
    "two_tables=\"<h3>Rocket Launch </h3><p><table class='rocket'><tr><td>Flight No</td><td>Launch site</td> <td>Payload mass</td></tr><tr><td>1</td><td>Florida</td><td>300 kg</td></tr><tr><td>2</td><td>Texas</td><td>94 kg</td></tr><tr><td>3</td><td>Florida </td><td>80 kg</td></tr></table></p><p><h3>Pizza Party  </h3><table class='pizza'><tr><td>Pizza Place</td><td>Orders</td> <td>Slices </td></tr><tr><td>Domino's Pizza</td><td>10</td><td>100</td></tr><tr><td>Little Caesars</td><td>12</td><td >144 </td></tr><tr><td>Papa John's </td><td>15 </td><td>165</td></tr>\""
   ]
  },
  {
   "cell_type": "code",
   "execution_count": null,
   "id": "de4f5c41",
   "metadata": {},
   "outputs": [],
   "source": [
    "two_tables_bs = BeautifulSoup(two_tables, 'lxml')"
   ]
  },
  {
   "cell_type": "code",
   "execution_count": null,
   "id": "3eda8eab",
   "metadata": {},
   "outputs": [
    {
     "data": {
      "text/plain": [
       "<table class=\"rocket\"><tr><td>Flight No</td><td>Launch site</td> <td>Payload mass</td></tr><tr><td>1</td><td>Florida</td><td>300 kg</td></tr><tr><td>2</td><td>Texas</td><td>94 kg</td></tr><tr><td>3</td><td>Florida </td><td>80 kg</td></tr></table>"
      ]
     },
     "execution_count": 194,
     "metadata": {},
     "output_type": "execute_result"
    }
   ],
   "source": [
    "# Find the first table using the tag name table\n",
    "two_tables_bs.find('table')"
   ]
  },
  {
   "cell_type": "code",
   "execution_count": null,
   "id": "be65d707",
   "metadata": {},
   "outputs": [
    {
     "data": {
      "text/plain": [
       "<table class=\"pizza\"><tr><td>Pizza Place</td><td>Orders</td> <td>Slices </td></tr><tr><td>Domino's Pizza</td><td>10</td><td>100</td></tr><tr><td>Little Caesars</td><td>12</td><td>144 </td></tr><tr><td>Papa John's </td><td>15 </td><td>165</td></tr></table>"
      ]
     },
     "execution_count": 196,
     "metadata": {},
     "output_type": "execute_result"
    }
   ],
   "source": [
    "# Filter on the class attribute to find the second table, but because class is a keyword in Python, we add an underscore to differentiate them.\n",
    "two_tables_bs.find('table', class_='pizza')"
   ]
  },
  {
   "cell_type": "markdown",
   "id": "b4e08d69",
   "metadata": {},
   "source": [
    "### Downloading and Scraping the Contents of a Web page\n"
   ]
  },
  {
   "cell_type": "code",
   "execution_count": null,
   "id": "f1fcd6c4",
   "metadata": {},
   "outputs": [],
   "source": [
    "url = 'http://www.ibm.com'"
   ]
  },
  {
   "cell_type": "code",
   "execution_count": null,
   "id": "c4c5a5a5",
   "metadata": {},
   "outputs": [],
   "source": [
    "# Using get to download the contents of the webpage in text format\n",
    "data = requests.get(url).text"
   ]
  },
  {
   "cell_type": "code",
   "execution_count": null,
   "id": "9e0789e1",
   "metadata": {},
   "outputs": [
    {
     "data": {
      "text/plain": [
       "<!DOCTYPE HTML>\n",
       "<html lang=\"en\">\n",
       "<head>\n",
       "<meta charset=\"utf-8\"/>\n",
       "<meta content=\"en\" name=\"languageCode\"/>\n",
       "<meta content=\"us\" name=\"countryCode\"/>\n",
       "<meta content=\"IBM - United States\" name=\"searchTitle\"/>\n",
       "<meta content=\"Cross IBM - All\" name=\"focusArea\"/>\n",
       "<title>IBM - United States</title>\n",
       "<script data-routing=\"program=131558,environment=1281329,tier=publish\" defer=\"defer\" src=\"https://rum.hlx.page/.rum/@adobe/helix-rum-js@%5E2/dist/rum-standalone.js\" type=\"text/javascript\"></script>\n",
       "<link href=\"/content/dam/adobe-cms/default-images/icon-16x16.png\" rel=\"icon\" sizes=\"16x16\"/>\n",
       "<link href=\"/content/dam/adobe-cms/default-images/icon-32x32.png\" rel=\"icon\" sizes=\"32x32\"/>\n",
       "<link href=\"/content/dam/adobe-cms/default-images/icon-150x150.png\" rel=\"icon\" sizes=\"150x150\"/>\n",
       "<link href=\"/content/dam/adobe-cms/default-images/icon-192x192.png\" rel=\"icon\" sizes=\"192x192\"/>\n",
       "<link href=\"/content/dam/adobe-cms/default-images/icon-512x512.png\" rel=\"icon\" sizes=\"512x512\"/>\n",
       "<link href=\"/content/dam/adobe-cms/default-images/apple-touch-icon-57x57.png\" rel=\"apple-touch-icon\" sizes=\"57x57\"/>\n",
       "<link href=\"/content/dam/adobe-cms/default-images/apple-touch-icon-76x76.png\" rel=\"apple-touch-icon\" sizes=\"76x76\"/>\n",
       "<link href=\"/content/dam/adobe-cms/default-images/apple-touch-icon-120x120.png\" rel=\"apple-touch-icon\" sizes=\"120x120\"/>\n",
       "<link href=\"/content/dam/adobe-cms/default-images/apple-touch-icon-152x152.png\" rel=\"apple-touch-icon\" sizes=\"152x152\"/>\n",
       "<link href=\"/content/dam/adobe-cms/default-images/apple-touch-icon-180x180.png\" rel=\"apple-touch-icon\" sizes=\"180x180\"/>\n",
       "<meta content=\"For more than a century, IBM has been a global technology innovator, leading advances in AI, automation and hybrid cloud solutions that help businesses grow.\" name=\"description\"/>\n",
       "<meta content=\"full-width-layout\" name=\"template\"/>\n",
       "<meta content=\"width=device-width, initial-scale=1\" name=\"viewport\"/>\n",
       "<meta content=\"index, follow, max-image-preview:large\" name=\"robots\"/>\n",
       "<link href=\"https://www.ibm.com/\" rel=\"canonical\"/>\n",
       "<link as=\"script\" href=\"/etc.clientlibs/adobe-cms/clientlibs/clientlib-masthead-container.lc-291cc76af4303cbb37d9a15518739b9b-lc.min.js\" rel=\"preload\"/>\n",
       "<link as=\"script\" href=\"/etc.clientlibs/adobe-cms/clientlibs/clientlib-leadspace.lc-61900ad83fd0eeee746916ecf671b94d-lc.min.js\" rel=\"preload\"/>\n",
       "<script type=\"text/javascript\">\n",
       "          !function(e, a, n, t) {\n",
       "              var i = e.head;\n",
       "              if (i) {\n",
       "                  if (a) return;\n",
       "                  var o = e.createElement(\"style\");\n",
       "                  o.id = \"alloy-prehiding\", o.innerText = n, i.appendChild(o),\n",
       "                      setTimeout(function() {\n",
       "                          o.parentNode && o.parentNode.removeChild(o)\n",
       "                      }, t)\n",
       "              }\n",
       "          }\n",
       "          (document, document.location.href.indexOf(\"adobe_authoring_enabled\") !== -1, \"body { opacity: 0 !important }\", 900);\n",
       "      </script>\n",
       "<style id=\"prevent-layout-shift-style\">\n",
       "    c4d-masthead-container:not(:defined) {\n",
       "        min-height: 114px; /* Reserve space before it loads */\n",
       "        display: block !important; \n",
       "        opacity: 0; /* Hide visually but keep space */\n",
       "        transition: opacity 0.3s ease-in-out;\n",
       "    }\n",
       "\n",
       "    c4d-masthead-container:defined {\n",
       "        transition: opacity 0.3s ease-in-out;\n",
       "        opacity: 1;\n",
       "    }\n",
       "\n",
       "    c4d-leadspace:not(:defined) {\n",
       "        display:none;\n",
       "    }\n",
       "\n",
       "    c4d-table-of-contents:not(:defined) {\n",
       "        display:none;\n",
       "    }\n",
       "\n",
       "    c4d-link-list:not(:defined) {\n",
       "        display:none;\n",
       "    }\n",
       "</style>\n",
       "<script async=\"async\" src=\"https://assets.adobedtm.com/0f2de1d5b89a/565c2aeb0d39/launch-560e54b3e83c.min.js\" type=\"text/javascript\"></script>\n",
       "<script async=\"async\" type=\"text/javascript\">\n",
       "\tvar adobeDataLayer = window.adobeDataLayer || [];\n",
       "\t</script>\n",
       "<script type=\"text/javascript\">\n",
       "        window.searchKey = {\n",
       "            templateName: 'full\\u002Dwidth\\u002Dlayout',\n",
       "            taxonomylist: 'taxonomy : Brands \\/ IBM',\n",
       "            L0Tag: 'Topics,Brands,Industries,Geography,Compliance Entities,Products,Events,Computer Languages,Content Format,Series,Content Type,CMaaS Focus Areas,brands,Deployment Types,Product Types,Search Index,Unified Taxonomy,topics_v2',\n",
       "        }\n",
       "    </script>\n",
       "<link href=\"https://www.ibm.com/sa-ar\" hreflang=\"ar-sa\" rel=\"alternate\"/>\n",
       "<link href=\"https://www.ibm.com/de-de\" hreflang=\"de-de\" rel=\"alternate\"/>\n",
       "<link href=\"https://www.ibm.com/us-en\" hreflang=\"en-us\" rel=\"alternate\"/>\n",
       "<link href=\"https://www.ibm.com/ca-en\" hreflang=\"en-ca\" rel=\"alternate\"/>\n",
       "<link href=\"https://www.ibm.com/kr-ko\" hreflang=\"ko-kr\" rel=\"alternate\"/>\n",
       "<link href=\"https://www.ibm.com/br-pt\" hreflang=\"pt-br\" rel=\"alternate\"/>\n",
       "<link href=\"https://www.ibm.com/qa-ar\" hreflang=\"ar-qa\" rel=\"alternate\"/>\n",
       "<link href=\"https://www.ibm.com/in-en\" hreflang=\"en-in\" rel=\"alternate\"/>\n",
       "<link href=\"https://www.ibm.com/es-es\" hreflang=\"es-es\" rel=\"alternate\"/>\n",
       "<link href=\"https://www.ibm.com/ae-ar\" hreflang=\"ar-ae\" rel=\"alternate\"/>\n",
       "<link href=\"https://www.ibm.com/cn-zh\" hreflang=\"zh-cn\" rel=\"alternate\"/>\n",
       "<link href=\"https://www.ibm.com/mx-es\" hreflang=\"es-mx\" rel=\"alternate\"/>\n",
       "<link href=\"https://www.ibm.com/ca-fr\" hreflang=\"fr-ca\" rel=\"alternate\"/>\n",
       "<link href=\"https://www.ibm.com/it-it\" hreflang=\"it-it\" rel=\"alternate\"/>\n",
       "<link href=\"https://www.ibm.com/\" hreflang=\"x-default\" rel=\"alternate\"/>\n",
       "<link href=\"https://www.ibm.com/id-id\" hreflang=\"id-id\" rel=\"alternate\"/>\n",
       "<link href=\"https://www.ibm.com/au-en\" hreflang=\"en-au\" rel=\"alternate\"/>\n",
       "<link href=\"https://www.ibm.com/uk-en\" hreflang=\"en-uk\" rel=\"alternate\"/>\n",
       "<link href=\"https://www.ibm.com/fr-fr\" hreflang=\"fr-fr\" rel=\"alternate\"/>\n",
       "<link href=\"https://www.ibm.com/jp-ja\" hreflang=\"ja-jp\" rel=\"alternate\"/>\n",
       "<script type=\"text/javascript\">\n",
       "        var languageCode = document.getElementsByName('languageCode')[0].content;\n",
       "        var countryCode = document.getElementsByName('countryCode')[0].content;\n",
       "        var focusArea = document.getElementsByName('focusArea')[0].content;\n",
       "        /* Define digital data object based on _appInfo object */\n",
       "          window._ibmAnalytics = {\n",
       "              settings: {\n",
       "                 name: \"AEM Sites\",\n",
       "                 tealiumProfileName: \"aem-sites\"\n",
       "              },\n",
       "           };\n",
       "        window.digitalData = {\n",
       "            page: {\n",
       "                category: {\n",
       "                    primaryCategory: '',\n",
       "                },\n",
       "                pageInfo: {\n",
       "                    language: languageCode + '-' + countryCode,\n",
       "                    ibm: {\n",
       "                        siteID: 'MarketingAEM',\n",
       "                        country: countryCode,\n",
       "                        messaging: {\n",
       "                            routing: {\n",
       "                                focusArea: focusArea,\n",
       "                                languageCode: languageCode,\n",
       "                                regionCode: countryCode\n",
       "                            },\n",
       "                            translation: {\n",
       "                                languageCode: languageCode,\n",
       "                                regionCode: countryCode\n",
       "                            }\n",
       "                        },\n",
       "                        sections: 0,\n",
       "                        patterns: 0,\n",
       "                    },\n",
       "                    carbon: {\n",
       "                        '@carbon/web-components': '',\n",
       "                        '@carbon/ibmdotcom-web-components': '',\n",
       "                        'carbon-for-aem': '',\n",
       "                    },\n",
       "                },\n",
       "            },\n",
       "        };\n",
       "    </script>\n",
       "<!-- Instana script specific to Dev environment start -->\n",
       "<!--      <script>\n",
       "          (function(s,t,a,n){s[t]||(s[t]=a,n=s[a]=function(){n.q.push(arguments)},\n",
       "          n.q=[],n.v=2,n.l=1*new Date)})(window,\"InstanaEumObject\",\"ineum\");\n",
       "\n",
       "          ineum('reportingUrl', 'https://eum-orange-saas.instana.io');\n",
       "          ineum('key', 'mFJnYtpBSiCKl9zenWHXtg');\n",
       "          ineum('trackSessions');\n",
       "      </script>\n",
       "      <script defer crossorigin=\"anonymous\" src=https://eum.instana.io/1.7.2/eum.min.js\n",
       "              integrity=\"sha384-cgeSlevgebehPauohUhsnAeBrpjXzaj94mSv3L2EXjCQH0RRb9xSQ2ErGOWkthIJ\"></script>-->\n",
       "<!-- Instana script specific to Dev environment end -->\n",
       "<meta content=\"https://www.ibm.com/\" property=\"og:url\"/>\n",
       "<meta content=\"website\" property=\"og:type\"/>\n",
       "<meta content=\"IBM - United States\" property=\"og:title\"/>\n",
       "<meta content=\"For more than a century, IBM has been a global technology innovator, leading advances in AI, automation and hybrid cloud solutions that help businesses grow.\" property=\"og:description\"/>\n",
       "<meta content=\"https://www.ibm.com/content/dam/connectedassets-adobe-cms/worldwide-content/creative-assets/s-migr/ul/g/18/f9/ibm_logo_pos_blue60_rgb.png/_jcr_content/renditions/cq5dam.thumbnail.1280.1280.png\" property=\"og:image\"/>\n",
       "<script async=\"async\" fetchpriority=\"high\" src=\"https://1.www.s81c.com/common/stats/ibm-common.js\" type=\"text/javascript\"></script>\n",
       "<link as=\"script\" href=\"https://hybrid-cloud-widgets-production.s3.us.cloud-object-storage.appdomain.cloud/loader.js\" rel=\"preload\"/>\n",
       "<script src=\"https://hybrid-cloud-widgets-production.s3.us.cloud-object-storage.appdomain.cloud/loader.js\" type=\"application/javascript\"></script>\n",
       "<link href=\"/etc.clientlibs/adobe-cms/clientlibs/clientlib-base.lc-30313e00669f877069f15dd099f23454-lc.min.css\" rel=\"stylesheet\" type=\"text/css\"/>\n",
       "<link href=\"/etc.clientlibs/adobe-cms/clientlibs/clientlib-idlStylesCarbon.lc-e04b6838e8faca925eaf0ace381309d0-lc.min.css\" rel=\"stylesheet\" type=\"text/css\"/>\n",
       "<link href=\"/etc.clientlibs/adobe-cms/clientlibs/clientlib-idlStyles.lc-350e8eb7d838c7fda7b0fb30422e4b67-lc.min.css\" rel=\"stylesheet\" type=\"text/css\"/>\n",
       "<link href=\"https://1.www.s81c.com/common/carbon-for-ibm-dotcom/tag/v1/latest/plex.css\" rel=\"stylesheet\"/>\n",
       "<link href=\"https://1.www.s81c.com/common/carbon/plex/sans.css\" rel=\"stylesheet\"/>\n",
       "</head>\n",
       "<body class=\"content-page page basicpage publish\" data-fullwidthtemplate=\"true\" id=\"content-page-c8104b3589\">\n",
       "<c4d-video-cta-container>\n",
       "<div class=\"root container responsivegrid\">\n",
       "<div class=\"cmp-container\" id=\"container-9225520bd9\">\n",
       "<div class=\"masthead\">\n",
       "<c4d-masthead-container auth-method=\"profile-api\" current-region-text=\"Your current region is\" data-endpoint=\"#\" different-region-text=\"Select a different region\" has-cart=\"\" has-contact=\"true\" has-global=\"false\" has-profile=\"\" has-search=\"\" no-other-region-text=\"This page is not available in any other regions\"></c4d-masthead-container>\n",
       "<script defer=\"\" src=\"/etc.clientlibs/adobe-cms/clientlibs/clientlib-masthead-container.lc-291cc76af4303cbb37d9a15518739b9b-lc.min.js\"></script>\n",
       "<script src=\"/etc.clientlibs/clientlibs/granite/jquery.lc-f9e8e8c279baf6a1a278042afe4f395a-lc.min.js\"></script>\n",
       "<script src=\"/etc.clientlibs/adobe-cms/components/structure/navigation/masthead/clientlibs/site.lc-d8c4fa4fec5413f54538d7741fa6163d-lc.min.js\"></script>\n",
       "<script>\n",
       "    let l0Json = \"{\\x22profileMenu\\x22:{\\x22signedout\\x22:[{\\x22title\\x22:\\x22My IBM\\x22,\\x22url\\x22:\\x22https:\\/\\/myibm.ibm.com\\/?lnk=mmi\\x22},{\\x22title\\x22:\\x22Log in\\x22,\\x22url\\x22:\\x22https:\\/\\/login.ibm.com\\/oidc\\/endpoint\\/default\\/authorize?redirect_uri=https%3A%2F%2Fmyibm.ibm.com%2FOIDCHandler.html\\x26response_type=token\\x26client_id=v18LoginProdCI\\x26scope=openid\\x26state=https%3A%2F%2Fwww.ibm.com\\x26nonce=8675309\\x22}],\\x22signedin\\x22:[{\\x22title\\x22:\\x22My IBM\\x22,\\x22url\\x22:\\x22https:\\/\\/myibm.ibm.com\\/?lnk=mmi\\x22},{\\x22title\\x22:\\x22Log in\\x22,\\x22url\\x22:\\x22https:\\/\\/login.ibm.com\\/oidc\\/endpoint\\/default\\/authorize?redirect_uri=https%3A%2F%2Fmyibm.ibm.com%2FOIDCHandler.html\\x26response_type=token\\x26client_id=v18LoginProdCI\\x26scope=openid\\x26state=https%3A%2F%2Fwww.ibm.com\\x26nonce=8675309\\x22}]},\\x22mastheadNav\\x22:{\\x22links\\x22:[{\\x22title\\x22:\\x22AI\\x22,\\x22url\\x22:\\x22\\x22,\\x22submenu\\x22:{\\x22sections\\x22:[{\\x22heading\\x22:{\\x22title\\x22:\\x22\\x22,\\x22description\\x22:\\x22\\x22},\\x22groups\\x22:[{\\x22heading\\x22:{\\x22title\\x22:\\x22Overview\\x22,\\x22url\\x22:\\x22https:\\/\\/www.ibm.com\\/artificial\\u002Dintelligence\\x22,\\x22description\\x22:\\x22\\x22},\\x22links\\x22:[]},{\\x22heading\\x22:{\\x22title\\x22:\\x22Consulting\\x22,\\x22url\\x22:\\x22https:\\/\\/www.ibm.com\\/consulting\\/artificial\\u002Dintelligence\\x22,\\x22description\\x22:\\x22\\x22},\\x22links\\x22:[]},{\\x22heading\\x22:{\\x22title\\x22:\\x22watsonx\\x22,\\x22url\\x22:\\x22https:\\/\\/www.ibm.com\\/watsonx\\x22,\\x22description\\x22:\\x22\\x22},\\x22links\\x22:[]},{\\x22heading\\x22:{\\x22title\\x22:\\x22Research\\x22,\\x22url\\x22:\\x22https:\\/\\/research.ibm.com\\/artificial\\u002Dintelligence\\x22,\\x22description\\x22:\\x22\\x22},\\x22links\\x22:[]},{\\x22heading\\x22:{\\x22title\\x22:\\x22Agents\\x22,\\x22url\\x22:\\x22https:\\/\\/www.ibm.com\\/ai\\u002Dagents\\x22,\\x22description\\x22:\\x22\\x22},\\x22links\\x22:[]},{\\x22heading\\x22:{\\x22title\\x22:\\x22Ethics and governance\\x22,\\x22url\\x22:\\x22https:\\/\\/www.ibm.com\\/artificial\\u002Dintelligence\\/ai\\u002Dethics\\x22,\\x22description\\x22:\\x22\\x22},\\x22links\\x22:[]},{\\x22heading\\x22:{\\x22title\\x22:\\x22Granite models\\x22,\\x22url\\x22:\\x22https:\\/\\/www.ibm.com\\/granite\\x22,\\x22description\\x22:\\x22\\x22},\\x22links\\x22:[]}]}],\\x22viewAll\\x22:{\\x22title\\x22:\\x22\\x22,\\x22url\\x22:\\x22\\x22}}},{\\x22title\\x22:\\x22Hybrid Cloud\\x22,\\x22url\\x22:\\x22\\x22,\\x22submenu\\x22:{\\x22sections\\x22:[{\\x22heading\\x22:{\\x22title\\x22:\\x22\\x22,\\x22description\\x22:\\x22\\x22},\\x22groups\\x22:[{\\x22heading\\x22:{\\x22title\\x22:\\x22Overview\\x22,\\x22url\\x22:\\x22https:\\/\\/www.ibm.com\\/hybrid\\u002Dcloud\\x22,\\x22description\\x22:\\x22\\x22},\\x22links\\x22:[]},{\\x22heading\\x22:{\\x22title\\x22:\\x22Quantum computing\\x22,\\x22url\\x22:\\x22https:\\/\\/www.ibm.com\\/quantum\\x22,\\x22description\\x22:\\x22\\x22},\\x22links\\x22:[]},{\\x22heading\\x22:{\\x22title\\x22:\\x22Cloud platform\\x22,\\x22url\\x22:\\x22https:\\/\\/www.ibm.com\\/cloud\\x22,\\x22description\\x22:\\x22\\x22},\\x22links\\x22:[]},{\\x22heading\\x22:{\\x22title\\x22:\\x22Research\\x22,\\x22url\\x22:\\x22https:\\/\\/research.ibm.com\\/hybrid\\u002Dcloud\\x22,\\x22description\\x22:\\x22\\x22},\\x22links\\x22:[]},{\\x22heading\\x22:{\\x22title\\x22:\\x22Consulting\\x22,\\x22url\\x22:\\x22https:\\/\\/www.ibm.com\\/cloud\\/transformation\\x22,\\x22description\\x22:\\x22\\x22},\\x22links\\x22:[]},{\\x22heading\\x22:{\\x22title\\x22:\\x22\\x22,\\x22description\\x22:\\x22\\x22},\\x22links\\x22:[]}]}],\\x22viewAll\\x22:{\\x22title\\x22:\\x22\\x22,\\x22url\\x22:\\x22\\x22}}},{\\x22title\\x22:\\x22Products\\x22,\\x22url\\x22:\\x22\\x22,\\x22submenu\\x22:{\\x22sections\\x22:[{\\x22heading\\x22:{\\x22title\\x22:\\x22Featured\\x22,\\x22description\\x22:\\x22\\x22},\\x22groups\\x22:[{\\x22heading\\x22:{\\x22title\\x22:\\x22\\x22,\\x22description\\x22:\\x22\\x22},\\x22links\\x22:[{\\x22title\\x22:\\x22Concert\\x22,\\x22url\\x22:\\x22https:\\/\\/www.ibm.com\\/products\\/concert?lnk=flatitem\\x22,\\x22description\\x22:\\x22Software to manage applications, mitigate risks and enhance resilience\\x22},{\\x22title\\x22:\\x22Environmental Intelligence\\x22,\\x22url\\x22:\\x22https:\\/\\/www.ibm.com\\/products\\/environmental\\u002Dintelligence?lnk=flatitem\\x22,\\x22description\\x22:\\x22SaaS for predicting and responding to weather and climate events\\x22},{\\x22title\\x22:\\x22Envizi\\x22,\\x22url\\x22:\\x22https:\\/\\/www.ibm.com\\/products\\/envizi?lnk=flatitem\\x22,\\x22description\\x22:\\x22ESG data management, reporting and analysis SaaS\\x22},{\\x22title\\x22:\\x22FlashSystem\\x22,\\x22url\\x22:\\x22https:\\/\\/www.ibm.com\\/flashsystem?lnk=flatitem\\x22,\\x22description\\x22:\\x22Primary storage for performance and latency sensitive workloads\\x22},{\\x22title\\x22:\\x22HashiCorp\\x22,\\x22url\\x22:\\x22https:\\/\\/www.ibm.com\\/products\\/hashicorp?lnk=flatitem\\x22,\\x22description\\x22:\\x22Manage cloud infrastructure and security\\x22},{\\x22title\\x22:\\x22IBM Cloud\\x22,\\x22url\\x22:\\x22https:\\/\\/www.ibm.com\\/cloud?lnk=flatitem\\x22,\\x22description\\x22:\\x22On\\u002Ddemand cloud computing platform and APIs\\x22},{\\x22title\\x22:\\x22IBM Z\\x22,\\x22url\\x22:\\x22https:\\/\\/www.ibm.com\\/z?lnk=flatitem\\x22,\\x22description\\x22:\\x22Flagship mainframe with on\\u002Dchip AI and quantum\\u002Dsafe cryptography\\x22},{\\x22title\\x22:\\x22IBM webMethods Hybrid Integration\\x22,\\x22url\\x22:\\x22https:\\/\\/www.ibm.com\\/products\\/webmethods\\u002Dhybrid\\u002Dintegration?lnk=flatitem\\x22,\\x22description\\x22:\\x22AI powered automation software to unify integration workflows\\x22},{\\x22title\\x22:\\x22Instana\\x22,\\x22url\\x22:\\x22https:\\/\\/www.ibm.com\\/products\\/instana?lnk=flatitem\\x22,\\x22description\\x22:\\x22Software for application performance monitoring and automation\\x22},{\\x22title\\x22:\\x22MaaS360\\x22,\\x22url\\x22:\\x22https:\\/\\/www.ibm.com\\/products\\/maas360?lnk=flatitem\\x22,\\x22description\\x22:\\x22Unified endpoint management software for many device types\\x22},{\\x22title\\x22:\\x22Maximo\\x22,\\x22url\\x22:\\x22https:\\/\\/www.ibm.com\\/products\\/maximo?lnk=flatitem\\x22,\\x22description\\x22:\\x22Software for asset management and related workflows\\x22},{\\x22title\\x22:\\x22Planning Analytics\\x22,\\x22url\\x22:\\x22https:\\/\\/www.ibm.com\\/products\\/planning\\u002Danalytics?lnk=flatitem\\x22,\\x22description\\x22:\\x22Software to automate financial and operational planning\\x22},{\\x22title\\x22:\\x22Robotic Process Automation (RPA)\\x22,\\x22url\\x22:\\x22https:\\/\\/www.ibm.com\\/products\\/robotic\\u002Dprocess\\u002Dautomation?lnk=flatitem\\x22,\\x22description\\x22:\\x22Software to automate workflows and business processes\\x22},{\\x22title\\x22:\\x22Storage Defender\\x22,\\x22url\\x22:\\x22https:\\/\\/www.ibm.com\\/products\\/storage\\u002Ddefender?lnk=flatitem\\x22,\\x22description\\x22:\\x22Data resiliency software for threat detection and data recovery\\x22},{\\x22title\\x22:\\x22Turbonomic\\x22,\\x22url\\x22:\\x22https:\\/\\/www.ibm.com\\/products\\/turbonomic?lnk=flatitem\\x22,\\x22description\\x22:\\x22Software to manage and optimize IT resource usage\\x22},{\\x22title\\x22:\\x22watsonx\\x22,\\x22url\\x22:\\x22https:\\/\\/www.ibm.com\\/watsonx?lnk=flatitem\\x22,\\x22description\\x22:\\x22AI and data platform\\x22},{\\x22title\\x22:\\x22watsonx Assistant\\x22,\\x22url\\x22:\\x22https:\\/\\/www.ibm.com\\/products\\/watsonx\\u002Dassistant?lnk=flatitem\\x22,\\x22description\\x22:\\x22Virtual agents customizable to any domain\\x22},{\\x22title\\x22:\\x22watsonx Orchestrate\\x22,\\x22url\\x22:\\x22https:\\/\\/www.ibm.com\\/products\\/watsonx\\u002Dorchestrate?lnk=flatitem\\x22,\\x22description\\x22:\\x22Personal\\u002Dassistant software that automates repetitive tasks\\x22}]}]},{\\x22heading\\x22:{\\x22title\\x22:\\x22AI \\x26 machine learning\\x22,\\x22url\\x22:\\x22https:\\/\\/www.ibm.com\\/artificial\\u002Dintelligence?lnk=flathl\\x22,\\x22description\\x22:\\x22Use IBM Watson’s AI or build your own machine learning models\\x22},\\x22groups\\x22:[{\\x22heading\\x22:{\\x22title\\x22:\\x22\\x22,\\x22description\\x22:\\x22\\x22},\\x22links\\x22:[{\\x22title\\x22:\\x22Cloud Pak for Data\\x22,\\x22url\\x22:\\x22https:\\/\\/www.ibm.com\\/products\\/cloud\\u002Dpak\\u002Dfor\\u002Ddata?lnk=flatitem\\x22,\\x22description\\x22:\\x22Tools for data analysis, organization and management\\x22},{\\x22title\\x22:\\x22Knowledge Catalog\\x22,\\x22url\\x22:\\x22https:\\/\\/www.ibm.com\\/products\\/knowledge\\u002Dcatalog?lnk=flatitem\\x22,\\x22description\\x22:\\x22SaaS to catalog data, AI models, metadata, policies and more\\x22},{\\x22title\\x22:\\x22Watson Discovery\\x22,\\x22url\\x22:\\x22https:\\/\\/www.ibm.com\\/products\\/watson\\u002Ddiscovery?lnk=flatitem\\x22,\\x22description\\x22:\\x22AI to search in and answer questions about business documents\\x22},{\\x22title\\x22:\\x22Watson Natural Language Understanding\\x22,\\x22url\\x22:\\x22https:\\/\\/www.ibm.com\\/products\\/natural\\u002Dlanguage\\u002Dunderstanding?lnk=flatitem\\x22,\\x22description\\x22:\\x22API for text analysis and metadata extraction\\x22},{\\x22title\\x22:\\x22Watson Speech to Text\\x22,\\x22url\\x22:\\x22https:\\/\\/www.ibm.com\\/products\\/speech\\u002Dto\\u002Dtext?lnk=flatitem\\x22,\\x22description\\x22:\\x22API for real\\u002Dtime speech recognition and transcription\\x22},{\\x22title\\x22:\\x22Watson Studio\\x22,\\x22url\\x22:\\x22https:\\/\\/www.ibm.com\\/products\\/watson\\u002Dstudio?lnk=flatitem\\x22,\\x22description\\x22:\\x22IDE to build, run and manage AI models\\x22},{\\x22title\\x22:\\x22Watson Text to Speech\\x22,\\x22url\\x22:\\x22https:\\/\\/www.ibm.com\\/products\\/text\\u002Dto\\u002Dspeech?lnk=flatitem\\x22,\\x22description\\x22:\\x22API for real\\u002Dtime text to speech conversion\\x22},{\\x22title\\x22:\\x22Z Anomaly Analytics\\x22,\\x22url\\x22:\\x22https:\\/\\/www.ibm.com\\/products\\/z\\u002Danomaly\\u002Danalytics?lnk=flatitem\\x22,\\x22description\\x22:\\x22Operational anomaly detection software for mainframes\\x22},{\\x22title\\x22:\\x22watsonx\\x22,\\x22url\\x22:\\x22https:\\/\\/www.ibm.com\\/watsonx?lnk=flatitem\\x22,\\x22description\\x22:\\x22AI and data platform\\x22},{\\x22title\\x22:\\x22watsonx Assistant\\x22,\\x22url\\x22:\\x22https:\\/\\/www.ibm.com\\/products\\/watsonx\\u002Dassistant?lnk=flatitem\\x22,\\x22description\\x22:\\x22Virtual agents customizable to any domain\\x22},{\\x22title\\x22:\\x22watsonx Code Assistant\\x22,\\x22url\\x22:\\x22https:\\/\\/www.ibm.com\\/products\\/watsonx\\u002Dcode\\u002Dassistant?lnk=flatitem\\x22,\\x22description\\x22:\\x22AI tool to generate code\\x22},{\\x22title\\x22:\\x22watsonx Orders\\x22,\\x22url\\x22:\\x22https:\\/\\/www.ibm.com\\/products\\/watsonx\\u002Dorders?lnk=flatitem\\x22,\\x22description\\x22:\\x22AI voice agent for taking restaurant orders\\x22}]}]},{\\x22heading\\x22:{\\x22title\\x22:\\x22Analytics\\x22,\\x22url\\x22:\\x22https:\\/\\/www.ibm.com\\/analytics?lnk=flathl\\x22,\\x22description\\x22:\\x22Aggregate and analyze large datasets\\x22},\\x22groups\\x22:[{\\x22heading\\x22:{\\x22title\\x22:\\x22\\x22,\\x22description\\x22:\\x22\\x22},\\x22links\\x22:[{\\x22title\\x22:\\x22Business Analytics Enterprise\\x22,\\x22url\\x22:\\x22https:\\/\\/www.ibm.com\\/products\\/business\\u002Danalytics\\u002Denterprise?lnk=flatitem\\x22,\\x22description\\x22:\\x22Software for business planning and analysis\\x22},{\\x22title\\x22:\\x22CPLEX\\x22,\\x22url\\x22:\\x22https:\\/\\/www.ibm.com\\/products\\/ilog\\u002Dcplex\\u002Doptimization\\u002Dstudio?lnk=flatitem\\x22,\\x22description\\x22:\\x22Software to build and solve complex optimization models\\x22},{\\x22title\\x22:\\x22Cloud Pak for Data\\x22,\\x22url\\x22:\\x22https:\\/\\/www.ibm.com\\/products\\/cloud\\u002Dpak\\u002Dfor\\u002Ddata?lnk=flatitem\\x22,\\x22description\\x22:\\x22Tools for data analysis, organization and management\\x22},{\\x22title\\x22:\\x22Cognos Analytics\\x22,\\x22url\\x22:\\x22https:\\/\\/www.ibm.com\\/products\\/cognos\\u002Danalytics?lnk=flatitem\\x22,\\x22description\\x22:\\x22Software for business intelligence and performance management\\x22},{\\x22title\\x22:\\x22Databand\\x22,\\x22url\\x22:\\x22https:\\/\\/www.ibm.com\\/products\\/databand?lnk=flatitem\\x22,\\x22description\\x22:\\x22Data observability software for data engineers and DataOps teams\\x22},{\\x22title\\x22:\\x22InfoSphere Information Server\\x22,\\x22url\\x22:\\x22https:\\/\\/www.ibm.com\\/information\\u002Dserver?lnk=flatitem\\x22,\\x22description\\x22:\\x22Data integration suite for ETL, governance and analysis\\x22},{\\x22title\\x22:\\x22Manta Data Lineage\\x22,\\x22url\\x22:\\x22https:\\/\\/www.ibm.com\\/products\\/manta\\u002Ddata\\u002Dlineage?lnk=flatitem\\x22,\\x22description\\x22:\\x22Software to visualize the flow of data from origin to consumption\\x22},{\\x22title\\x22:\\x22Netezza\\x22,\\x22url\\x22:\\x22https:\\/\\/www.ibm.com\\/products\\/netezza?lnk=flatitem\\x22,\\x22description\\x22:\\x22Data warehousing and analytics system on custom hardware\\x22},{\\x22title\\x22:\\x22Optim\\x22,\\x22url\\x22:\\x22https:\\/\\/www.ibm.com\\/infosphere\\u002Doptim?lnk=flatitem\\x22,\\x22description\\x22:\\x22Software to manage test, production, and archived data\\x22},{\\x22title\\x22:\\x22Planning Analytics\\x22,\\x22url\\x22:\\x22https:\\/\\/www.ibm.com\\/products\\/planning\\u002Danalytics?lnk=flatitem\\x22,\\x22description\\x22:\\x22Software to automate financial and operational planning\\x22},{\\x22title\\x22:\\x22SPSS\\x22,\\x22url\\x22:\\x22https:\\/\\/www.ibm.com\\/spss?lnk=flatitem\\x22,\\x22description\\x22:\\x22Software for statistical analysis and business intelligence\\x22},{\\x22title\\x22:\\x22Spectrum Computing\\x22,\\x22url\\x22:\\x22https:\\/\\/www.ibm.com\\/high\\u002Dperformance\\u002Dcomputing?lnk=flatitem\\x22,\\x22description\\x22:\\x22Software to optimize resources in complex computing clusters\\x22},{\\x22title\\x22:\\x22StreamSets\\x22,\\x22url\\x22:\\x22https:\\/\\/www.ibm.com\\/products\\/streamsets?lnk=flatitem\\x22,\\x22description\\x22:\\x22Graphical interface to build and manage streaming data pipelines\\x22},{\\x22title\\x22:\\x22Watson Discovery\\x22,\\x22url\\x22:\\x22https:\\/\\/www.ibm.com\\/products\\/watson\\u002Ddiscovery?lnk=flatitem\\x22,\\x22description\\x22:\\x22AI to search in and answer questions about business documents\\x22},{\\x22title\\x22:\\x22Watson Studio\\x22,\\x22url\\x22:\\x22https:\\/\\/www.ibm.com\\/products\\/watson\\u002Dstudio?lnk=flatitem\\x22,\\x22description\\x22:\\x22IDE to build, run and manage AI models\\x22}]}]},{\\x22heading\\x22:{\\x22title\\x22:\\x22Asset lifecycle management\\x22,\\x22url\\x22:\\x22https:\\/\\/www.ibm.com\\/asset\\u002Dlifecycle\\u002Dmanagement\\x22,\\x22description\\x22:\\x22Manage and maintain physical assets\\x22},\\x22groups\\x22:[{\\x22heading\\x22:{\\x22title\\x22:\\x22\\x22,\\x22description\\x22:\\x22\\x22},\\x22links\\x22:[{\\x22title\\x22:\\x22Environmental Intelligence\\x22,\\x22url\\x22:\\x22https:\\/\\/www.ibm.com\\/products\\/environmental\\u002Dintelligence?lnk=flatitem\\x22,\\x22description\\x22:\\x22SaaS for predicting and responding to weather and climate events\\x22},{\\x22title\\x22:\\x22Envizi\\x22,\\x22url\\x22:\\x22https:\\/\\/www.ibm.com\\/products\\/envizi?lnk=flatitem\\x22,\\x22description\\x22:\\x22ESG data management, reporting and analysis SaaS\\x22},{\\x22title\\x22:\\x22Maximo\\x22,\\x22url\\x22:\\x22https:\\/\\/www.ibm.com\\/products\\/maximo?lnk=flatitem\\x22,\\x22description\\x22:\\x22Software for asset management and related workflows\\x22},{\\x22title\\x22:\\x22TRIRIGA\\x22,\\x22url\\x22:\\x22https:\\/\\/www.ibm.com\\/products\\/tririga?lnk=flatitem\\x22,\\x22description\\x22:\\x22Software for real estate and workplace management\\x22}]}]},{\\x22heading\\x22:{\\x22title\\x22:\\x22Business automation\\x22,\\x22description\\x22:\\x22Automate workflows and business processes\\x22},\\x22groups\\x22:[{\\x22heading\\x22:{\\x22title\\x22:\\x22\\x22,\\x22description\\x22:\\x22\\x22},\\x22links\\x22:[{\\x22title\\x22:\\x22Blueworks Live\\x22,\\x22url\\x22:\\x22https:\\/\\/www.ibm.com\\/products\\/blueworkslive?lnk=flatitem\\x22,\\x22description\\x22:\\x22SaaS for collaboratively modeling business processes\\x22},{\\x22title\\x22:\\x22Business Automation Manager Open Editions\\x22,\\x22url\\x22:\\x22https:\\/\\/www.ibm.com\\/products\\/business\\u002Dautomation\\u002Dmanager\\u002Dopen\\u002Deditions?lnk=flatitem\\x22,\\x22description\\x22:\\x22Workflow automation and decision management software\\x22},{\\x22title\\x22:\\x22Business Automation Workflow\\x22,\\x22url\\x22:\\x22https:\\/\\/www.ibm.com\\/products\\/business\\u002Dautomation\\u002Dworkflow?lnk=flatitem\\x22,\\x22description\\x22:\\x22Cloud Pak for Business Automation add\\u002Don to automate workflows\\x22},{\\x22title\\x22:\\x22Cloud Pak for Business Automation\\x22,\\x22url\\x22:\\x22https:\\/\\/www.ibm.com\\/products\\/cloud\\u002Dpak\\u002Dfor\\u002Dbusiness\\u002Dautomation?lnk=flatitem\\x22,\\x22description\\x22:\\x22Operations management software with AI insights\\x22},{\\x22title\\x22:\\x22Datacap\\x22,\\x22url\\x22:\\x22https:\\/\\/www.ibm.com\\/products\\/data\\u002Dcapture\\u002Dand\\u002Dimaging?lnk=flatitem\\x22,\\x22description\\x22:\\x22Document management for IBM Cloud Pak for Business Automation\\x22},{\\x22title\\x22:\\x22Event Automation\\x22,\\x22url\\x22:\\x22https:\\/\\/www.ibm.com\\/products\\/event\\u002Dautomation?lnk=flatitem\\x22,\\x22description\\x22:\\x22No\\u002Dcode tool for building automated event driven workflows\\x22},{\\x22title\\x22:\\x22FileNet Content Manager\\x22,\\x22url\\x22:\\x22https:\\/\\/www.ibm.com\\/products\\/filenet\\u002Dcontent\\u002Dmanager?lnk=flatitem\\x22,\\x22description\\x22:\\x22Content management solution for Cloud Pak for Business Automation\\x22},{\\x22title\\x22:\\x22Operational Decision Manager\\x22,\\x22url\\x22:\\x22https:\\/\\/www.ibm.com\\/products\\/operational\\u002Ddecision\\u002Dmanager?lnk=flatitem\\x22,\\x22description\\x22:\\x22Cloud Pak for Business Automation addon for rule\\u002Dbased decisions\\x22},{\\x22title\\x22:\\x22Process Mining\\x22,\\x22url\\x22:\\x22https:\\/\\/www.ibm.com\\/products\\/process\\u002Dmining?lnk=flatitem\\x22,\\x22description\\x22:\\x22Software to extract process data from business applications\\x22},{\\x22title\\x22:\\x22Robotic Process Automation (RPA)\\x22,\\x22url\\x22:\\x22https:\\/\\/www.ibm.com\\/products\\/robotic\\u002Dprocess\\u002Dautomation?lnk=flatitem\\x22,\\x22description\\x22:\\x22Software to automate workflows and business processes\\x22},{\\x22title\\x22:\\x22watsonx Orchestrate\\x22,\\x22url\\x22:\\x22https:\\/\\/www.ibm.com\\/products\\/watsonx\\u002Dorchestrate?lnk=flatitem\\x22,\\x22description\\x22:\\x22Personal\\u002Dassistant software that automates repetitive tasks\\x22}]}]},{\\x22heading\\x22:{\\x22title\\x22:\\x22Containers\\x22,\\x22url\\x22:\\x22https:\\/\\/www.ibm.com\\/containers?lnk=flathl\\x22,\\x22description\\x22:\\x22Allocate compute infrastructure on demand\\x22},\\x22groups\\x22:[{\\x22heading\\x22:{\\x22title\\x22:\\x22\\x22,\\x22description\\x22:\\x22\\x22},\\x22links\\x22:[{\\x22title\\x22:\\x22Cloud Satellite\\x22,\\x22url\\x22:\\x22https:\\/\\/www.ibm.com\\/products\\/satellite?lnk=flatitem\\x22,\\x22description\\x22:\\x22Platform for running managed cloud services on any infrastructure\\x22},{\\x22title\\x22:\\x22Code Engine\\x22,\\x22url\\x22:\\x22https:\\/\\/www.ibm.com\\/products\\/code\\u002Dengine?lnk=flatitem\\x22,\\x22description\\x22:\\x22Managed serverless runtime for containers, batch jobs, or code\\x22},{\\x22title\\x22:\\x22Container Registry\\x22,\\x22url\\x22:\\x22https:\\/\\/www.ibm.com\\/products\\/container\\u002Dregistry?lnk=flatitem\\x22,\\x22description\\x22:\\x22Private SaaS registry for container storage and management\\x22},{\\x22title\\x22:\\x22Kubernetes Service\\x22,\\x22url\\x22:\\x22https:\\/\\/www.ibm.com\\/products\\/kubernetes\\u002Dservice?lnk=flatitem\\x22,\\x22description\\x22:\\x22Managed Kubernetes for high availability container deployments\\x22},{\\x22title\\x22:\\x22Red Hat OpenShift on IBM Cloud\\x22,\\x22url\\x22:\\x22https:\\/\\/www.ibm.com\\/products\\/openshift?lnk=flatitem\\x22,\\x22description\\x22:\\x22Managed service with tools for security, management and monitoring\\x22}]}]},{\\x22heading\\x22:{\\x22title\\x22:\\x22Databases\\x22,\\x22url\\x22:\\x22https:\\/\\/www.ibm.com\\/database?lnk=flathl\\x22,\\x22description\\x22:\\x22Store, query and analyze structured data\\x22},\\x22groups\\x22:[{\\x22heading\\x22:{\\x22title\\x22:\\x22\\x22,\\x22description\\x22:\\x22\\x22},\\x22links\\x22:[{\\x22title\\x22:\\x22Cloudant\\x22,\\x22url\\x22:\\x22https:\\/\\/www.ibm.com\\/products\\/cloudant?lnk=flatitem\\x22,\\x22description\\x22:\\x22Managed PCI\\u002Dcompliant JSON document store on Apache CouchDB\\x22},{\\x22title\\x22:\\x22Db2\\x22,\\x22url\\x22:\\x22https:\\/\\/www.ibm.com\\/products\\/db2\\u002Ddatabase?lnk=flatitem\\x22,\\x22description\\x22:\\x22Data management software including IBM Db2 Database\\x22},{\\x22title\\x22:\\x22Db2 for z\\/OS\\x22,\\x22url\\x22:\\x22https:\\/\\/www.ibm.com\\/products\\/db2\\u002Dfor\\u002Dzos?lnk=flatitem\\x22,\\x22description\\x22:\\x22IBM Db2 Database for IBM Z mainframes\\x22},{\\x22title\\x22:\\x22IBM Cloud Databases for Elastic Search\\x22,\\x22url\\x22:\\x22https:\\/\\/www.ibm.com\\/products\\/databases\\u002Dfor\\u002Delasticsearch?lnk=flatitem\\x22,\\x22description\\x22:\\x22JSON document store for full\\u002Dtext search\\x22},{\\x22title\\x22:\\x22IBM Cloud Databases for EnterpriseDB\\x22,\\x22url\\x22:\\x22https:\\/\\/www.ibm.com\\/products\\/databases\\u002Dfor\\u002Denterprisedb?lnk=flatitem\\x22,\\x22description\\x22:\\x22PostgreSQL with added performance, security and management features\\x22},{\\x22title\\x22:\\x22IBM Cloud Databases for MongoDB\\x22,\\x22url\\x22:\\x22https:\\/\\/www.ibm.com\\/products\\/databases\\u002Dfor\\u002Dmongodb?lnk=flatitem\\x22,\\x22description\\x22:\\x22Managed NoSQL JSON document store\\x22},{\\x22title\\x22:\\x22IBM Cloud Databases for MySQL\\x22,\\x22url\\x22:\\x22https:\\/\\/www.ibm.com\\/products\\/databases\\u002Dfor\\u002Dmysql?lnk=flatitem\\x22,\\x22description\\x22:\\x22Managed SQL database\\x22},{\\x22title\\x22:\\x22IBM Cloud Databases for PostgreSQL\\x22,\\x22url\\x22:\\x22https:\\/\\/www.ibm.com\\/products\\/databases\\u002Dfor\\u002Dpostgresql?lnk=flatitem\\x22,\\x22description\\x22:\\x22Managed SQL database with advanced features\\x22},{\\x22title\\x22:\\x22IBM Cloud Databases for etcd\\x22,\\x22url\\x22:\\x22https:\\/\\/www.ibm.com\\/products\\/databases\\u002Dfor\\u002Detcd?lnk=flatitem\\x22,\\x22description\\x22:\\x22Distributed key\\u002Dvalue store\\x22},{\\x22title\\x22:\\x22Information Management System (IMS)\\x22,\\x22url\\x22:\\x22https:\\/\\/www.ibm.com\\/products\\/ims?lnk=flatitem\\x22,\\x22description\\x22:\\x22Database and management system for high\\u002Dvolume transactions\\x22},{\\x22title\\x22:\\x22Informix\\x22,\\x22url\\x22:\\x22https:\\/\\/www.ibm.com\\/products\\/informix?lnk=flatitem\\x22,\\x22description\\x22:\\x22Embeddable database for SQL, NoSQL, time\\u002Dseries and spatial data\\x22}]}]},{\\x22heading\\x22:{\\x22title\\x22:\\x22DevOps \\x26 Engineering\\x22,\\x22url\\x22:\\x22https:\\/\\/www.ibm.com\\/devops?lnk=flathl\\x22,\\x22description\\x22:\\x22Manage infrastructure, environments and deployments\\x22},\\x22groups\\x22:[{\\x22heading\\x22:{\\x22title\\x22:\\x22\\x22,\\x22description\\x22:\\x22\\x22},\\x22links\\x22:[{\\x22title\\x22:\\x22Application Delivery Foundation for z\\/OS\\x22,\\x22url\\x22:\\x22https:\\/\\/www.ibm.com\\/products\\/app\\u002Ddelivery\\u002Dfoundation\\u002Dfor\\u002Dzos?lnk=flatitem\\x22,\\x22description\\x22:\\x22Application development and DevOps tools for z\\/OS\\x22},{\\x22title\\x22:\\x22Application Discovery and Delivery Intelligence\\x22,\\x22url\\x22:\\x22https:\\/\\/www.ibm.com\\/products\\/app\\u002Ddiscovery\\u002Dand\\u002Ddelivery\\u002Dintelligence?lnk=flatitem\\x22,\\x22description\\x22:\\x22Analysis tool for visualizing applications, data and jobs on z\\/OS\\x22},{\\x22title\\x22:\\x22Cloud Continuous Delivery\\x22,\\x22url\\x22:\\x22https:\\/\\/www.ibm.com\\/products\\/continuous\\u002Ddelivery?lnk=flatitem\\x22,\\x22description\\x22:\\x22Toolchains to automate building and deploying applications\\x22},{\\x22title\\x22:\\x22Cloud Pak for AIOps\\x22,\\x22url\\x22:\\x22https:\\/\\/www.ibm.com\\/products\\/cloud\\u002Dpak\\u002Dfor\\u002Daiops?lnk=flatitem\\x22,\\x22description\\x22:\\x22DevOps management tool with AI analysis and recommendations\\x22},{\\x22title\\x22:\\x22DevOps Build\\x22,\\x22url\\x22:\\x22https:\\/\\/www.ibm.com\\/products\\/devops\\u002Dbuild?lnk=flatitem\\x22,\\x22description\\x22:\\x22Management tool for configuring and running software builds\\x22},{\\x22title\\x22:\\x22DevOps Code ClearCase\\x22,\\x22url\\x22:\\x22https:\\/\\/www.ibm.com\\/products\\/devops\\u002Dcode\\u002Dclearcase?lnk=flatitem\\x22,\\x22description\\x22:\\x22Configuration management system for software asset access control\\x22},{\\x22title\\x22:\\x22DevOps Deploy\\x22,\\x22url\\x22:\\x22https:\\/\\/www.ibm.com\\/products\\/devops\\u002Ddeploy?lnk=flatitem\\x22,\\x22description\\x22:\\x22Automation software for continuous delivery and deployment\\x22},{\\x22title\\x22:\\x22DevOps Plan\\x22,\\x22url\\x22:\\x22https:\\/\\/www.ibm.com\\/products\\/devops\\u002Dplan?lnk=flatitem\\x22,\\x22description\\x22:\\x22Streamline delivery with low\\u002Dcode workflow management\\x22},{\\x22title\\x22:\\x22DevOps Test\\x22,\\x22url\\x22:\\x22https:\\/\\/www.ibm.com\\/products\\/devops\\u002Dtest?lnk=flatitem\\x22,\\x22description\\x22:\\x22Continuous testing and virtualization platform\\x22},{\\x22title\\x22:\\x22DevOps Velocity\\x22,\\x22url\\x22:\\x22https:\\/\\/www.ibm.com\\/products\\/devops\\u002Dvelocity?lnk=flatitem\\x22,\\x22description\\x22:\\x22Release management software for pipeline orchestration and analytics\\x22},{\\x22title\\x22:\\x22Engineering Lifecycle Management\\x22,\\x22url\\x22:\\x22https:\\/\\/www.ibm.com\\/products\\/engineering\\u002Dlifecycle\\u002Dmanagement?lnk=flatitem\\x22,\\x22description\\x22:\\x22Software for product and application lifecycle management\\x22},{\\x22title\\x22:\\x22IBM DevOps Automation\\x22,\\x22url\\x22:\\x22https:\\/\\/www.ibm.com\\/devops\\u002Dautomation?lnk=flatitem\\x22,\\x22description\\x22:\\x22Automate software delivery processes\\x22},{\\x22title\\x22:\\x22IBM i Modernization Engine\\x22,\\x22url\\x22:\\x22https:\\/\\/www.ibm.com\\/products\\/ibm\\u002Di\\u002Dmerlin?lnk=flatitem\\x22,\\x22description\\x22:\\x22Development and modernization tools for IBM i applications\\x22},{\\x22title\\x22:\\x22Test Accelerator for Z\\x22,\\x22url\\x22:\\x22https:\\/\\/www.ibm.com\\/products\\/test\\u002Daccelerator\\u002Dz?lnk=flatitem\\x22,\\x22description\\x22:\\x22Test automation and test generation framework for z\\/OS\\x22}]}]},{\\x22heading\\x22:{\\x22title\\x22:\\x22IT automation\\x22,\\x22url\\x22:\\x22https:\\/\\/www.ibm.com\\/automation\\x22,\\x22description\\x22:\\x22Automate IT applications and infrastructure management\\x22},\\x22groups\\x22:[{\\x22heading\\x22:{\\x22title\\x22:\\x22\\x22,\\x22description\\x22:\\x22\\x22},\\x22links\\x22:[{\\x22title\\x22:\\x22Apptio\\x22,\\x22url\\x22:\\x22https:\\/\\/www.ibm.com\\/products\\/apptio?lnk=flatitem\\x22,\\x22description\\x22:\\x22Hybrid cloud financial management and planning software\\x22},{\\x22title\\x22:\\x22Cloud App Configuration\\x22,\\x22url\\x22:\\x22https:\\/\\/www.ibm.com\\/products\\/app\\u002Dconfiguration?lnk=flatitem\\x22,\\x22description\\x22:\\x22Feature management and configuration service for web and mobile apps\\x22},{\\x22title\\x22:\\x22Cloud Event Notifications\\x22,\\x22url\\x22:\\x22https:\\/\\/www.ibm.com\\/products\\/event\\u002Dnotifications?lnk=flatitem\\x22,\\x22description\\x22:\\x22Notification and workflow automation service for IBM Cloud events\\x22},{\\x22title\\x22:\\x22Cloud Monitoring\\x22,\\x22url\\x22:\\x22https:\\/\\/www.ibm.com\\/products\\/cloud\\u002Dmonitoring?lnk=flatitem\\x22,\\x22description\\x22:\\x22Hosted monitoring tool for organization\\u002Dwide system performance\\x22},{\\x22title\\x22:\\x22Cloud Pak for AIOps\\x22,\\x22url\\x22:\\x22https:\\/\\/www.ibm.com\\/products\\/cloud\\u002Dpak\\u002Dfor\\u002Daiops?lnk=flatitem\\x22,\\x22description\\x22:\\x22DevOps management tool with AI analysis and recommendations\\x22},{\\x22title\\x22:\\x22Cloud Schematics\\x22,\\x22url\\x22:\\x22https:\\/\\/www.ibm.com\\/products\\/schematics?lnk=flatitem\\x22,\\x22description\\x22:\\x22Management and provisionining of cloud infrastructure with code\\x22},{\\x22title\\x22:\\x22Concert\\x22,\\x22url\\x22:\\x22https:\\/\\/www.ibm.com\\/products\\/concert?lnk=flatitem\\x22,\\x22description\\x22:\\x22Software to manage applications, mitigate risks and enhance resilience\\x22},{\\x22title\\x22:\\x22Flexera One\\x22,\\x22url\\x22:\\x22https:\\/\\/www.ibm.com\\/products\\/flexera\\u002Done?lnk=flatitem\\x22,\\x22description\\x22:\\x22IT asset management software\\x22},{\\x22title\\x22:\\x22HashiCorp\\x22,\\x22url\\x22:\\x22https:\\/\\/www.ibm.com\\/products\\/hashicorp?lnk=flatitem\\x22,\\x22description\\x22:\\x22Manage cloud infrastructure and security\\x22},{\\x22title\\x22:\\x22IBM Cloud Logs\\x22,\\x22url\\x22:\\x22https:\\/\\/www.ibm.com\\/products\\/cloud\\u002Dlogs?lnk=flatitem\\x22,\\x22description\\x22:\\x22Logging and observability service for applications and infrastructure\\x22},{\\x22title\\x22:\\x22Instana\\x22,\\x22url\\x22:\\x22https:\\/\\/www.ibm.com\\/products\\/instana?lnk=flatitem\\x22,\\x22description\\x22:\\x22Software for application performance monitoring and automation\\x22},{\\x22title\\x22:\\x22Turbonomic\\x22,\\x22url\\x22:\\x22https:\\/\\/www.ibm.com\\/products\\/turbonomic?lnk=flatitem\\x22,\\x22description\\x22:\\x22Software to manage and optimize IT resource usage\\x22},{\\x22title\\x22:\\x22Z IntelliMagic Vision for z\\/OS\\x22,\\x22url\\x22:\\x22https:\\/\\/www.ibm.com\\/products\\/z\\u002Dintellimagic\\u002Dvision\\u002Dfor\\u002Dzos?lnk=flatitem\\x22,\\x22description\\x22:\\x22Infrastructure performance management and monitoring software\\x22},{\\x22title\\x22:\\x22Z Service Management Suite\\x22,\\x22url\\x22:\\x22https:\\/\\/www.ibm.com\\/products\\/z\\u002Dservice\\u002Dmanagement\\u002Dsuite?lnk=flatitem\\x22,\\x22description\\x22:\\x22Monitoring, control, and automation suite for Z\\x22}]}]},{\\x22heading\\x22:{\\x22title\\x22:\\x22Middleware\\x22,\\x22url\\x22:\\x22https:\\/\\/www.ibm.com\\/automation?lnk=flathl\\x22,\\x22description\\x22:\\x22Connect your applications, data and events\\x22},\\x22groups\\x22:[{\\x22heading\\x22:{\\x22title\\x22:\\x22\\x22,\\x22description\\x22:\\x22\\x22},\\x22links\\x22:[{\\x22title\\x22:\\x22API Connect\\x22,\\x22url\\x22:\\x22https:\\/\\/www.ibm.com\\/products\\/api\\u002Dconnect?lnk=flatitem\\x22,\\x22description\\x22:\\x22Software to rapidly create, protect, socialize and manage APIs\\x22},{\\x22title\\x22:\\x22App Connect\\x22,\\x22url\\x22:\\x22https:\\/\\/www.ibm.com\\/products\\/app\\u002Dconnect?lnk=flatitem\\x22,\\x22description\\x22:\\x22Codeless connectors for your data, apps and APIs\\x22},{\\x22title\\x22:\\x22Aspera\\x22,\\x22url\\x22:\\x22https:\\/\\/www.ibm.com\\/products\\/aspera?lnk=flatitem\\x22,\\x22description\\x22:\\x22System to transfer, sync or stream huge data globally\\x22},{\\x22title\\x22:\\x22CICS Transaction Server for z\\/OS\\x22,\\x22url\\x22:\\x22https:\\/\\/www.ibm.com\\/products\\/cics\\u002Dtransaction\\u002Dserver?lnk=flatitem\\x22,\\x22description\\x22:\\x22Application server for online transaction processing\\x22},{\\x22title\\x22:\\x22Cloud Pak for Applications\\x22,\\x22url\\x22:\\x22https:\\/\\/www.ibm.com\\/products\\/cloud\\u002Dpak\\u002Dfor\\u002Dapplications?lnk=flatitem\\x22,\\x22description\\x22:\\x22Kubernetes\\u002Dbased platform for hybrid cloud applications\\x22},{\\x22title\\x22:\\x22Cloud Pak for Integration\\x22,\\x22url\\x22:\\x22https:\\/\\/www.ibm.com\\/products\\/cloud\\u002Dpak\\u002Dfor\\u002Dintegration?lnk=flatitem\\x22,\\x22description\\x22:\\x22Tools to connect all of your apps, data and events\\x22},{\\x22title\\x22:\\x22DataPower\\x22,\\x22url\\x22:\\x22https:\\/\\/www.ibm.com\\/products\\/datapower\\u002Dgateway?lnk=flatitem\\x22,\\x22description\\x22:\\x22Physical or virtual multi\\u002Dprotocol network gateway\\x22},{\\x22title\\x22:\\x22Event Streams\\x22,\\x22url\\x22:\\x22https:\\/\\/www.ibm.com\\/products\\/event\\u002Dstreams?lnk=flatitem\\x22,\\x22description\\x22:\\x22PaaS stream processing based on Apache Kafka\\x22},{\\x22title\\x22:\\x22IBM Cloud Messages for RabbitMQ\\x22,\\x22url\\x22:\\x22https:\\/\\/www.ibm.com\\/products\\/messages\\u002Dfor\\u002Drabbitmq?lnk=flatitem\\x22,\\x22description\\x22:\\x22Managed open\\u002Dsource message broker\\x22},{\\x22title\\x22:\\x22IBM webMethods Hybrid Integration\\x22,\\x22url\\x22:\\x22https:\\/\\/www.ibm.com\\/products\\/webmethods\\u002Dhybrid\\u002Dintegration?lnk=flatitem\\x22,\\x22description\\x22:\\x22AI powered automation software to unify integration workflows\\x22},{\\x22title\\x22:\\x22Information Management System\\x22,\\x22url\\x22:\\x22https:\\/\\/www.ibm.com\\/products\\/ims?lnk=flatitem\\x22,\\x22description\\x22:\\x22Hierarchical database and transaction processor for Z\\x22},{\\x22title\\x22:\\x22MQ\\x22,\\x22url\\x22:\\x22https:\\/\\/www.ibm.com\\/products\\/mq?lnk=flatitem\\x22,\\x22description\\x22:\\x22Software and hardware for messaging between distributed systems\\x22},{\\x22title\\x22:\\x22z\\/OS Connect\\x22,\\x22url\\x22:\\x22https:\\/\\/www.ibm.com\\/products\\/zos\\u002Dconnect?lnk=flatitem\\x22,\\x22description\\x22:\\x22Software to build and serve RESTful APIs to z\\/OS applications\\x22}]}]},{\\x22heading\\x22:{\\x22title\\x22:\\x22Network\\x22,\\x22url\\x22:\\x22https:\\/\\/www.ibm.com\\/networking?lnk=flathl\\x22,\\x22description\\x22:\\x22Run and manage public, private and virtual networks\\x22},\\x22groups\\x22:[{\\x22heading\\x22:{\\x22title\\x22:\\x22\\x22,\\x22description\\x22:\\x22\\x22},\\x22links\\x22:[{\\x22title\\x22:\\x22Hybrid Cloud Mesh\\x22,\\x22url\\x22:\\x22https:\\/\\/www.ibm.com\\/products\\/hybrid\\u002Dcloud\\u002Dmesh?lnk=flatitem\\x22,\\x22description\\x22:\\x22Accelerate hybrid cloud application connectivity\\x22},{\\x22title\\x22:\\x22NS1 Connect\\x22,\\x22url\\x22:\\x22https:\\/\\/www.ibm.com\\/products\\/ns1\\u002Dconnect?lnk=flatitem\\x22,\\x22description\\x22:\\x22Managed authoritative DNS for traffic steering\\x22},{\\x22title\\x22:\\x22Rapid Infrastructure Automation\\x22,\\x22url\\x22:\\x22https:\\/\\/www.ibm.com\\/products\\/rapid\\u002Dnetwork\\u002Dautomation?lnk=flatitem\\x22,\\x22description\\x22:\\x22Low\\u002Dcode tool to build automation workflows apps and APIs\\x22},{\\x22title\\x22:\\x22SevOne\\x22,\\x22url\\x22:\\x22https:\\/\\/www.ibm.com\\/products\\/sevone\\u002Dnetwork\\u002Dperformance\\u002Dmanagement?lnk=flatitem\\x22,\\x22description\\x22:\\x22Drive application\\u002Dcentric network observability\\x22}]}]},{\\x22heading\\x22:{\\x22title\\x22:\\x22Operating systems\\x22,\\x22description\\x22:\\x22Run critical workloads on specialized operating systems\\x22},\\x22groups\\x22:[{\\x22heading\\x22:{\\x22title\\x22:\\x22\\x22,\\x22description\\x22:\\x22\\x22},\\x22links\\x22:[{\\x22title\\x22:\\x22AIX\\x22,\\x22url\\x22:\\x22https:\\/\\/www.ibm.com\\/products\\/aix?lnk=flatitem\\x22,\\x22description\\x22:\\x22UNIX operating system for Power servers\\x22},{\\x22title\\x22:\\x22IBM i\\x22,\\x22url\\x22:\\x22https:\\/\\/www.ibm.com\\/products\\/ibm\\u002Di?lnk=flatitem\\x22,\\x22description\\x22:\\x22Integrated operating system for Power servers\\x22},{\\x22title\\x22:\\x22Linux\\x22,\\x22url\\x22:\\x22https:\\/\\/www.ibm.com\\/linux?lnk=flatitem\\x22,\\x22description\\x22:\\x22Run Linux workloads on IBM servers\\x22},{\\x22title\\x22:\\x22z\\/OS\\x22,\\x22url\\x22:\\x22https:\\/\\/www.ibm.com\\/products\\/zos?lnk=flatitem\\x22,\\x22description\\x22:\\x22Flagship OS for continuous, high\\u002Dvolume mainframe operation\\x22},{\\x22title\\x22:\\x22z\\/TPF\\x22,\\x22url\\x22:\\x22https:\\/\\/www.ibm.com\\/products\\/z\\u002Dtransaction\\u002Dprocessing\\u002Dfacility?lnk=flatitem\\x22,\\x22description\\x22:\\x22Real\\u002Dtime operating system for mainframes\\x22},{\\x22title\\x22:\\x22z\\/VM\\x22,\\x22url\\x22:\\x22https:\\/\\/www.ibm.com\\/products\\/zvm?lnk=flatitem\\x22,\\x22description\\x22:\\x22Hypervisor and virtualization software for IBM Z and LinuxONE\\x22}]}]},{\\x22heading\\x22:{\\x22title\\x22:\\x22Quantum\\x22,\\x22url\\x22:\\x22https:\\/\\/www.ibm.com\\/quantum?lnk=flathl\\x22,\\x22description\\x22:\\x22Run code on real quantum systems using a full\\u002Dstack SDK\\x22},\\x22groups\\x22:[{\\x22heading\\x22:{\\x22title\\x22:\\x22\\x22,\\x22description\\x22:\\x22\\x22},\\x22links\\x22:[{\\x22title\\x22:\\x22Qiskit Runtime\\x22,\\x22url\\x22:\\x22https:\\/\\/www.ibm.com\\/quantum\\/qiskit?lnk=flatitem\\x22,\\x22description\\x22:\\x22Cloud service for executing quantum workloads at scale\\x22},{\\x22title\\x22:\\x22Quantum Safe\\x22,\\x22url\\x22:\\x22https:\\/\\/www.ibm.com\\/quantum\\/quantum\\u002Dsafe?lnk=flatitem\\x22,\\x22description\\x22:\\x22Technology and consulting services for quantum\\u002Dsafe cryptography\\x22},{\\x22title\\x22:\\x22Quantum Systems\\x22,\\x22url\\x22:\\x22https:\\/\\/www.ibm.com\\/quantum\\/technology?lnk=flatitem\\x22,\\x22description\\x22:\\x22Quantum computing systems accessible on the cloud\\x22}]}]},{\\x22heading\\x22:{\\x22title\\x22:\\x22Security \\x26 identity\\x22,\\x22url\\x22:\\x22https:\\/\\/www.ibm.com\\/security?lnk=flathl\\x22,\\x22description\\x22:\\x22Cloud\\u002Dnative software to secure resources and simplify compliance\\x22},\\x22groups\\x22:[{\\x22heading\\x22:{\\x22title\\x22:\\x22\\x22,\\x22description\\x22:\\x22\\x22},\\x22links\\x22:[{\\x22title\\x22:\\x22Cloud AppID\\x22,\\x22url\\x22:\\x22https:\\/\\/www.ibm.com\\/products\\/app\\u002Did?lnk=flatitem\\x22,\\x22description\\x22:\\x22Authentication and user profiles as a service for mobile and web apps\\x22},{\\x22title\\x22:\\x22Cloud Security and Compliance Center\\x22,\\x22url\\x22:\\x22https:\\/\\/www.ibm.com\\/products\\/security\\u002Dand\\u002Dcompliance\\u002Dcenter?lnk=flatitem\\x22,\\x22description\\x22:\\x22SaaS to define and audit the compliance posture of your cloud\\x22},{\\x22title\\x22:\\x22Guardium\\x22,\\x22url\\x22:\\x22https:\\/\\/www.ibm.com\\/guardium?lnk=flatitem\\x22,\\x22description\\x22:\\x22Suite for data encryption, management and simplified compliance\\x22},{\\x22title\\x22:\\x22Key Protect for IBM Cloud\\x22,\\x22url\\x22:\\x22https:\\/\\/www.ibm.com\\/products\\/key\\u002Dprotect?lnk=flatitem\\x22,\\x22description\\x22:\\x22Tool to provision and store keys for apps across IBM Cloud services\\x22},{\\x22title\\x22:\\x22MaaS360\\x22,\\x22url\\x22:\\x22https:\\/\\/www.ibm.com\\/products\\/maas360?lnk=flatitem\\x22,\\x22description\\x22:\\x22Unified endpoint management for mobile workforces\\x22},{\\x22title\\x22:\\x22QRadar EDR\\x22,\\x22url\\x22:\\x22https:\\/\\/www.ibm.com\\/products\\/qradar\\u002Dedr?lnk=flatitem\\x22,\\x22description\\x22:\\x22Advanced AI threat detection and response for endpoints\\x22},{\\x22title\\x22:\\x22QRadar SIEM\\x22,\\x22url\\x22:\\x22https:\\/\\/www.ibm.com\\/products\\/qradar\\u002Dsiem?lnk=flatitem\\x22,\\x22description\\x22:\\x22Threat detection and prioritization for real\\u002Dtime visibility\\x22},{\\x22title\\x22:\\x22QRadar SOAR\\x22,\\x22url\\x22:\\x22https:\\/\\/www.ibm.com\\/products\\/qradar\\u002Dsoar?lnk=flatitem\\x22,\\x22description\\x22:\\x22Automation and workflow management for security operations\\x22},{\\x22title\\x22:\\x22Secrets Manager\\x22,\\x22url\\x22:\\x22https:\\/\\/www.ibm.com\\/products\\/secrets\\u002Dmanager\\x22,\\x22description\\x22:\\x22Centrally manage your secrets in a single\\u002Dtenant, dedicated instance\\x22},{\\x22title\\x22:\\x22Trusteer\\x22,\\x22url\\x22:\\x22https:\\/\\/www.ibm.com\\/trusteer?lnk=flatitem\\x22,\\x22description\\x22:\\x22Software to authenticate customers, detect fraud and assess risk\\x22},{\\x22title\\x22:\\x22Verify\\x22,\\x22url\\x22:\\x22https:\\/\\/www.ibm.com\\/verify?lnk=flatitem\\x22,\\x22description\\x22:\\x22Identity, authentication, and access control software\\x22},{\\x22title\\x22:\\x22zSecure\\x22,\\x22url\\x22:\\x22https:\\/\\/www.ibm.com\\/zsecure?lnk=flatitem\\x22,\\x22description\\x22:\\x22Security, risk management and compliance tools for Z hardware\\x22}]}]},{\\x22heading\\x22:{\\x22title\\x22:\\x22Servers\\x22,\\x22url\\x22:\\x22https:\\/\\/www.ibm.com\\/servers?lnk=flathl\\x22,\\x22description\\x22:\\x22Run workloads on hybrid cloud infrastructure\\x22},\\x22groups\\x22:[{\\x22heading\\x22:{\\x22title\\x22:\\x22\\x22,\\x22description\\x22:\\x22\\x22},\\x22links\\x22:[{\\x22title\\x22:\\x22IBM Cloud Bare Metal Servers\\x22,\\x22url\\x22:\\x22https:\\/\\/www.ibm.com\\/products\\/bare\\u002Dmetal\\u002Dservers?lnk=flatitem\\x22,\\x22description\\x22:\\x22Dedicated hardware for maximum performance\\x22},{\\x22title\\x22:\\x22IBM Cloud Virtual Servers for VPC\\x22,\\x22url\\x22:\\x22https:\\/\\/www.ibm.com\\/products\\/virtual\\u002Dservers?lnk=flatitem\\x22,\\x22description\\x22:\\x22Virtual servers with Intel Xeon or IBM Z CPUs\\x22},{\\x22title\\x22:\\x22LinuxONE 4\\x22,\\x22url\\x22:\\x22https:\\/\\/www.ibm.com\\/products\\/linuxone\\u002D4?lnk=flatitem\\x22,\\x22description\\x22:\\x22Physical and virtual servers for running Linux\\x22},{\\x22title\\x22:\\x22Power\\x22,\\x22url\\x22:\\x22https:\\/\\/www.ibm.com\\/power?lnk=flatitem\\x22,\\x22description\\x22:\\x22Physical and virtual servers with IBM Power CPUs\\x22},{\\x22title\\x22:\\x22z16\\x22,\\x22url\\x22:\\x22https:\\/\\/www.ibm.com\\/products\\/z16?lnk=flatitem\\x22,\\x22description\\x22:\\x22Flagship mainframe with on\\u002Dchip AI and quantum\\u002Dsafe cryptography\\x22}]}]},{\\x22heading\\x22:{\\x22title\\x22:\\x22Storage\\x22,\\x22url\\x22:\\x22https:\\/\\/www.ibm.com\\/storage?lnk=flathl\\x22,\\x22description\\x22:\\x22Software, hardware and services for critical and operational workloads and data\\x22},\\x22groups\\x22:[{\\x22heading\\x22:{\\x22title\\x22:\\x22\\x22,\\x22description\\x22:\\x22\\x22},\\x22links\\x22:[{\\x22title\\x22:\\x22Ceph\\x22,\\x22url\\x22:\\x22https:\\/\\/www.ibm.com\\/products\\/storage\\u002Dceph?lnk=flatitem\\x22,\\x22description\\x22:\\x22Multi\\u002Dprotocol software\\u002Ddefined enterprise storage platform\\x22},{\\x22title\\x22:\\x22Cloud Block Storage\\x22,\\x22url\\x22:\\x22https:\\/\\/www.ibm.com\\/products\\/block\\u002Dstorage?lnk=flatitem\\x22,\\x22description\\x22:\\x22Managed service optimized for low latency and high transfer rates\\x22},{\\x22title\\x22:\\x22Cloud File Storage\\x22,\\x22url\\x22:\\x22https:\\/\\/www.ibm.com\\/products\\/file\\u002Dstorage?lnk=flatitem\\x22,\\x22description\\x22:\\x22Managed service for flash\\u002Dbacked, durable, NFS\\u002Dbased file storage\\x22},{\\x22title\\x22:\\x22Cloud Object Storage\\x22,\\x22url\\x22:\\x22https:\\/\\/www.ibm.com\\/products\\/cloud\\u002Dobject\\u002Dstorage?lnk=flatitem\\x22,\\x22description\\x22:\\x22Unstructured data storage accessible via cloud APIs\\x22},{\\x22title\\x22:\\x22DS8000\\x22,\\x22url\\x22:\\x22https:\\/\\/www.ibm.com\\/products\\/ds8000?lnk=flatitem\\x22,\\x22description\\x22:\\x22High\\u002Dcapacity, high\\u002Davailability mainframe storage system\\x22},{\\x22title\\x22:\\x22Defender\\x22,\\x22url\\x22:\\x22https:\\/\\/www.ibm.com\\/products\\/storage\\u002Ddefender?lnk=flatitem\\x22,\\x22description\\x22:\\x22Data resiliency software for threat detection and data recovery\\x22},{\\x22title\\x22:\\x22FlashSystem\\x22,\\x22url\\x22:\\x22https:\\/\\/www.ibm.com\\/flashsystem?lnk=flatitem\\x22,\\x22description\\x22:\\x22All\\u002Dflash array with performance and capacity for any workload\\x22},{\\x22title\\x22:\\x22Fusion\\x22,\\x22url\\x22:\\x22https:\\/\\/www.ibm.com\\/products\\/storage\\u002Dfusion?lnk=flatitem\\x22,\\x22description\\x22:\\x22Container\\u002Dnative storage and data orchestration for OpenShift\\x22},{\\x22title\\x22:\\x22Insights\\x22,\\x22url\\x22:\\x22https:\\/\\/www.ibm.com\\/products\\/storage\\u002Dinsights?lnk=flatitem\\x22,\\x22description\\x22:\\x22Storage AIOps for metrics\\u002Dpowered analysis and decisions\\x22},{\\x22title\\x22:\\x22Protect\\x22,\\x22url\\x22:\\x22https:\\/\\/www.ibm.com\\/products\\/storage\\u002Dprotect?lnk=flatitem\\x22,\\x22description\\x22:\\x22Data resiliency, backup and recovery delivered via SaaS\\x22},{\\x22title\\x22:\\x22Protect for Cloud\\x22,\\x22url\\x22:\\x22https:\\/\\/www.ibm.com\\/products\\/storage\\u002Dprotect\\u002Dfor\\u002Dcloud?lnk=flatitem\\x22,\\x22description\\x22:\\x22Backup and recovery SaaS for data in public cloud services\\x22},{\\x22title\\x22:\\x22SAN Switches\\x22,\\x22url\\x22:\\x22https:\\/\\/www.ibm.com\\/storage\\u002Darea\\u002Dnetwork?lnk=flatitem\\x22,\\x22description\\x22:\\x22Scalable and highly available storage area network solutions\\x22},{\\x22title\\x22:\\x22Scale\\x22,\\x22url\\x22:\\x22https:\\/\\/www.ibm.com\\/products\\/storage\\u002Dscale?lnk=flatitem\\x22,\\x22description\\x22:\\x22Software defined storage for AI and high performance workloads\\x22},{\\x22title\\x22:\\x22Scale System\\x22,\\x22url\\x22:\\x22https:\\/\\/www.ibm.com\\/products\\/storage\\u002Dscale\\u002Dsystem?lnk=flatitem\\x22,\\x22description\\x22:\\x22All\\u002Dflash or hybrid performant storage for cloud scale use\\u002Dcases\\x22},{\\x22title\\x22:\\x22Tape Systems\\x22,\\x22url\\x22:\\x22https:\\/\\/www.ibm.com\\/tape\\u002Dstorage?lnk=flatitem\\x22,\\x22description\\x22:\\x22Software and hardware for encrypted and air\\u002Dgapped archives\\x22}]}]},{\\x22heading\\x22:{\\x22title\\x22:\\x22Supply chain\\x22,\\x22url\\x22:\\x22https:\\/\\/www.ibm.com\\/supply\\u002Dchain?lnk=flathl\\x22,\\x22description\\x22:\\x22Manage the flow of goods and services\\x22},\\x22groups\\x22:[{\\x22heading\\x22:{\\x22title\\x22:\\x22\\x22,\\x22description\\x22:\\x22\\x22},\\x22links\\x22:[{\\x22title\\x22:\\x22Sterling Order and Fulfillment Suite\\x22,\\x22url\\x22:\\x22https:\\/\\/www.ibm.com\\/products\\/order\\u002Dfulfillment\\u002Dsuite?lnk=flatitem\\x22,\\x22description\\x22:\\x22Complete order management system with AI and machine learning\\x22},{\\x22title\\x22:\\x22Sterling Supply Chain Intelligence Suite\\x22,\\x22url\\x22:\\x22https:\\/\\/www.ibm.com\\/products\\/supply\\u002Dchain\\u002Dintelligence\\u002Dsuite?lnk=flatitem\\x22,\\x22description\\x22:\\x22Software for supply chain optimization and automation\\x22}]}]}],\\x22viewAll\\x22:{\\x22title\\x22:\\x22View all products\\x22,\\x22url\\x22:\\x22https:\\/\\/www.ibm.com\\/products\\x22}}},{\\x22title\\x22:\\x22Consulting\\x22,\\x22url\\x22:\\x22https:\\/\\/www.ibm.com\\/consulting?lnk=L0G\\x22},{\\x22title\\x22:\\x22Support\\x22,\\x22url\\x22:\\x22\\x22,\\x22submenu\\x22:{\\x22sections\\x22:[{\\x22heading\\x22:{\\x22title\\x22:\\x22\\x22,\\x22description\\x22:\\x22\\x22},\\x22groups\\x22:[{\\x22heading\\x22:{\\x22title\\x22:\\x22What\\x27s New\\x22,\\x22url\\x22:\\x22https:\\/\\/www.ibm.com\\/new?lnk=flathl\\x22,\\x22description\\x22:\\x22\\x22},\\x22links\\x22:[]},{\\x22heading\\x22:{\\x22title\\x22:\\x22Community\\x22,\\x22url\\x22:\\x22https:\\/\\/community.ibm.com\\/community\\/user\\/community?lnk=flathl\\x22,\\x22description\\x22:\\x22\\x22},\\x22links\\x22:[]},{\\x22heading\\x22:{\\x22title\\x22:\\x22Developer\\x22,\\x22url\\x22:\\x22https:\\/\\/developer.ibm.com\\/?lnk=flathl\\x22,\\x22description\\x22:\\x22\\x22},\\x22links\\x22:[{\\x22title\\x22:\\x22Call for Code\\x22,\\x22url\\x22:\\x22https:\\/\\/developer.ibm.com\\/callforcode\\/?lnk=flatitem\\x22},{\\x22title\\x22:\\x22Generative AI\\x22,\\x22url\\x22:\\x22https:\\/\\/developer.ibm.com\\/get\\u002Dstarted\\/generative\\u002Dai\\/\\x22},{\\x22title\\x22:\\x22Hackathons\\x22,\\x22url\\x22:\\x22https:\\/\\/developer.ibm.com\\/hackathons\\/\\x22},{\\x22title\\x22:\\x22Open Source @ IBM\\x22,\\x22url\\x22:\\x22https:\\/\\/www.ibm.com\\/opensource\\/?lnk=flatitem\\x22},{\\x22title\\x22:\\x22Technologies\\x22,\\x22url\\x22:\\x22https:\\/\\/developer.ibm.com\\/technologies\\/?lnk=flatitem\\x22}]},{\\x22heading\\x22:{\\x22title\\x22:\\x22Documentation\\x22,\\x22url\\x22:\\x22https:\\/\\/www.ibm.com\\/docs\\/en?lnk=flathl\\x22,\\x22description\\x22:\\x22\\x22},\\x22links\\x22:[{\\x22title\\x22:\\x22All product documentation\\x22,\\x22url\\x22:\\x22https:\\/\\/www.ibm.com\\/docs\\/en?lnk=flatitem\\x22},{\\x22title\\x22:\\x22IBM Cloud documentation\\x22,\\x22url\\x22:\\x22https:\\/\\/cloud.ibm.com\\/docs?lnk=flatitem\\x22},{\\x22title\\x22:\\x22IBM Redbooks\\x22,\\x22url\\x22:\\x22https:\\/\\/www.redbooks.ibm.com\\/?lnk=flatitem\\x22}]},{\\x22heading\\x22:{\\x22title\\x22:\\x22IBM Cloud platform support\\x22,\\x22url\\x22:\\x22https:\\/\\/www.ibm.com\\/cloud\\/support?lnk=flathl\\x22,\\x22description\\x22:\\x22\\x22},\\x22links\\x22:[]},{\\x22heading\\x22:{\\x22title\\x22:\\x22Implementation\\x22,\\x22description\\x22:\\x22\\x22},\\x22links\\x22:[{\\x22title\\x22:\\x22Expert Labs\\x22,\\x22url\\x22:\\x22https:\\/\\/www.ibm.com\\/products\\/expertlabs?lnk=flatitem\\x22}]},{\\x22heading\\x22:{\\x22title\\x22:\\x22Support\\x22,\\x22url\\x22:\\x22https:\\/\\/www.ibm.com\\/mysupport\\/s\\/?language=en_US\\x26lnk=flathl\\x22,\\x22description\\x22:\\x22\\x22},\\x22links\\x22:[{\\x22title\\x22:\\x22Download fixes, updates \\x26 drivers\\x22,\\x22url\\x22:\\x22https:\\/\\/www.ibm.com\\/support\\/fixcentral?lnk=flatitem\\x22},{\\x22title\\x22:\\x22Download licensed software \\u002D Passport Advantage\\x22,\\x22url\\x22:\\x22https:\\/\\/www.ibm.com\\/software\\/passportadvantage\\/pao_customer.html?lnk=flatitem\\x22},{\\x22title\\x22:\\x22IBM Software Licensing\\x22,\\x22url\\x22:\\x22https:\\/\\/www.ibm.com\\/about\\/software\\u002Dlicensing\\/?lnk=flatitem\\x22},{\\x22title\\x22:\\x22Open a case\\x22,\\x22url\\x22:\\x22https:\\/\\/www.ibm.com\\/mysupport\\/s\\/redirecttoopencasepage?lnk=flatitem\\x22},{\\x22title\\x22:\\x22View more\\x22,\\x22url\\x22:\\x22https:\\/\\/www.ibm.com\\/mysupport\\/s\\/?language=en_US\\x26lnk=flatitem\\x22},{\\x22title\\x22:\\x22View support plans\\x22,\\x22url\\x22:\\x22https:\\/\\/www.ibm.com\\/support\\/pages\\/ibm\\u002Dsupport\\u002Dofferings?lnk=flatitem\\x22},{\\x22title\\x22:\\x22View your cases\\x22,\\x22url\\x22:\\x22https:\\/\\/www.ibm.com\\/mysupport\\/s\\/my\\u002Dcases?lnk=flatitem\\x22}]},{\\x22heading\\x22:{\\x22title\\x22:\\x22Technology Lifecycle Services\\x22,\\x22url\\x22:\\x22https:\\/\\/www.ibm.com\\/services\\/technology\\u002Dlifecycle\\u002Dservices?lnk=flathl\\x22,\\x22description\\x22:\\x22\\x22},\\x22links\\x22:[{\\x22title\\x22:\\x22Enterprise networking and security\\x22,\\x22url\\x22:\\x22https:\\/\\/www.ibm.com\\/services\\/networking\\u002Dsupport?lnk=flatitem\\x22},{\\x22title\\x22:\\x22Servers and storage\\x22,\\x22url\\x22:\\x22https:\\/\\/www.ibm.com\\/services\\/systems\\u002Dsupport?lnk=flatitem\\x22},{\\x22title\\x22:\\x22Software\\x22,\\x22url\\x22:\\x22https:\\/\\/www.ibm.com\\/services\\/software\\u002Dsupport?lnk=flatitem\\x22}]},{\\x22heading\\x22:{\\x22title\\x22:\\x22Training\\x22,\\x22url\\x22:\\x22https:\\/\\/www.ibm.com\\/training\\/?lnk=flathl\\x22,\\x22description\\x22:\\x22\\x22},\\x22links\\x22:[{\\x22title\\x22:\\x22Courses\\x22,\\x22url\\x22:\\x22https:\\/\\/www.ibm.com\\/training\\/search?q=course\\x26lnk=flatitem\\x22},{\\x22title\\x22:\\x22Digital learning subscriptions\\x22,\\x22url\\x22:\\x22https:\\/\\/www.ibm.com\\/training\\/subscriptions?lnk=flatitem\\x22},{\\x22title\\x22:\\x22Learning paths \\x26 collections\\x22,\\x22url\\x22:\\x22https:\\/\\/www.ibm.com\\/training\\/learning\\u002Dpaths\\u002Dand\\u002Dcollections?lnk=flatitem\\x22},{\\x22title\\x22:\\x22Professional certifications\\x22,\\x22url\\x22:\\x22https:\\/\\/www.ibm.com\\/training\\/credentials?lnk=flatitem\\x22}]}]}],\\x22viewAll\\x22:{\\x22title\\x22:\\x22\\x22,\\x22url\\x22:\\x22\\x22}}},{\\x22title\\x22:\\x22Think 2025\\x22,\\x22url\\x22:\\x22https:\\/\\/www.ibm.com\\/events\\/think?lnk=L0G\\x22}]}}\";\n",
       "    const searchPlaceholderText = \"Search all of IBM\";\n",
       "    const links = JSON.parse(l0Json).mastheadNav.links;\n",
       "    const unAuthenticated = JSON.parse(l0Json).profileMenu.signedout;\n",
       "    const authenticated = JSON.parse(l0Json).profileMenu.signedin;\n",
       "\n",
       "    const mastheadContainerEl = document.querySelector('c4d-masthead-container');\n",
       "\n",
       "    mastheadContainerEl.navLinks = links;\n",
       "    mastheadContainerEl.unauthenticatedProfileItems = unAuthenticated;\n",
       "    mastheadContainerEl.authenticatedProfileItems = authenticated;\n",
       "\n",
       "    const appendSearchPlaceholderText = () => {\n",
       "        const typeheadEl = mastheadContainerEl.querySelector('c4d-search-with-typeahead');\n",
       "        if (typeheadEl) {\n",
       "            typeheadEl.searchPlaceholder = searchPlaceholderText;\n",
       "            observer.disconnect();\n",
       "        }\n",
       "    }\n",
       "    let observer = new MutationObserver(appendSearchPlaceholderText);\n",
       "    observer.observe(mastheadContainerEl, {subtree: true, childList: true});\n",
       "</script>\n",
       "<script type=\"text/javascript\">\n",
       "    if(window.location.href.includes(\"/careers\")){\n",
       "       document.querySelector('c4d-masthead-container').setAttribute(\"has-search\",\"false\");\n",
       "       document.querySelector('c4d-masthead-container').setAttribute(\"has-profile\",\"false\");\n",
       "    }\n",
       "     document.addEventListener(\"DOMContentLoaded\", function() {\n",
       "        const mastheadContainer = document.querySelector(\"c4d-masthead-container\");\n",
       "        if (mastheadContainer && mastheadContainer.getAttribute(\"has-global\") === \"false\") {\n",
       "            document.querySelector('.earth-language-icon').style.display = 'none';\n",
       "        }\n",
       "    });\n",
       "</script>\n",
       "</div>\n",
       "<div class=\"container responsivegrid\">\n",
       "<div class=\"cmp-container\" id=\"container-35bfd5ef7a\">\n",
       "</div>\n",
       "</div>\n",
       "<div class=\"leadspace-container container responsivegrid\" id=\"mbox-leadspace\">\n",
       "<div class=\"cmp-container\" id=\"leadspace-container-1e918979ca\">\n",
       "<div class=\"leadspace-expanded leadspace\">\n",
       "<section class=\"cds--grid theme-white leadspace-expanded__container leadspace-expanded__container--tall leadspace-expanded__container--aside\">\n",
       "<div class=\"cds--row leadspace-expanded__row\">\n",
       "<div class=\"cds--col-lg-6 leadspace-expanded__column leadspace-expanded__column--content\">\n",
       "<div>\n",
       "<div class=\"leadspace-expanded__navigation leadspace-expanded__navigation--tags\">\n",
       "</div>\n",
       "<div id=\"mbox-heading\">\n",
       "<h1 class=\"leadspace-expanded__heading expressive-heading-05\" id=\"leadspaceSimpleTitle\">\n",
       "<span class=\"enhanced-title text-color-gradient-90-blue-to-purple\">Usher in the future of work</span>\n",
       "</h1>\n",
       "</div>\n",
       "</div>\n",
       "<div>\n",
       "<span class=\"lead-in\">\n",
       "<div id=\"mbox-subheading\">\n",
       "<p> \n",
       "\n",
       "\n",
       "  \n",
       "  \n",
       "      Discover how to manage AI assistants and agents in a more unified, adaptable experience that safeguards both current and future investments. Watch live at 4:00 PM EDT today.\n",
       "  \n",
       "\n",
       "\n",
       "\n",
       "\n",
       "    \n",
       "\n",
       "</p>\n",
       "</div>\n",
       "</span>\n",
       "<div id=\"mbox-leadspace_cta\">\n",
       "<c4d-button-group class=\"leadspace-expanded__action leadspace-expanded__action--button-group\">\n",
       "<a href=\"https://www.ibm.com/events/think?lnk=hpls1us\" target=\"_self\">\n",
       "<c4d-button-group-item cta-type=\"local\" data-aem-autoid=\"aem--leadspace_cta-0\" data-video-modal-type=\"media-center\" href=\"https://www.ibm.com/events/think?lnk=hpls1us\" kind=\"primary\" target=\"_self\">\n",
       "<span>Explore Think 2025</span>\n",
       "</c4d-button-group-item>\n",
       "</a>\n",
       "<script defer=\"\" src=\"/etc.clientlibs/adobe-cms/clientlibs/clientlib-button.lc-f3ee1ce67914cda7f7b20ab8ec878bda-lc.min.js\"></script>\n",
       "<a href=\"https://www.ibm.com/thought-leadership/institute-business-value/c-suite-study/ceo?lnk=hpls2us\" target=\"_self\">\n",
       "<c4d-button-group-item cta-type=\"local\" data-aem-autoid=\"aem--leadspace_cta-1\" data-video-modal-type=\"media-center\" href=\"https://www.ibm.com/thought-leadership/institute-business-value/c-suite-study/ceo?lnk=hpls2us\" kind=\"tertiary\" target=\"_self\">\n",
       "<span>Read the 2025 CEO Study</span>\n",
       "</c4d-button-group-item>\n",
       "</a>\n",
       "</c4d-button-group>\n",
       "</div>\n",
       "</div>\n",
       "</div>\n",
       "<div class=\"cds--col-lg-8 leadspace-expanded__column leadspace-expanded__column--media\">\n",
       "<div class=\"leadspace-expanded__column-inner\">\n",
       "<div id=\"mbox-leadspace_visual\">\n",
       "<caem-video-player-container aspect-ratio=\"4x3\" background-mode=\"true\" button-position=\"bottom-right\" caption-alignment=\"left\" class=\"leadspace-expanded__media\" hide-caption=\"true\" intersection-mode=\"\" playing-mode=\"inline\" video-id=\"1_ug3fcm0r\"></caem-video-player-container>\n",
       "<script defer=\"\" src=\"/etc.clientlibs/adobe-cms/clientlibs/clientlib-caem-video-player.lc-4e1c2f64ce961361fe8c57e2b0d9fafe-lc.min.js\"></script>\n",
       "</div>\n",
       "</div>\n",
       "</div>\n",
       "<div class=\"cds--col-lg-2 leadspace-expanded__column leadspace-expanded__column--aside\">\n",
       "<div class=\"leadspace-expanded__column-inner\" id=\"mbox-leadspace-side\">\n",
       "<c4d-link-list>\n",
       "<c4d-link-list-heading aria-level=\"4\" role=\"heading\" slot=\"heading\">\n",
       "                                    \n",
       "\n",
       "\n",
       "  \n",
       "  \n",
       "      Latest news\n",
       "  \n",
       "\n",
       "\n",
       "\n",
       "\n",
       "    \n",
       "\n",
       "\n",
       "                                </c4d-link-list-heading>\n",
       "<c4d-card aria-label=\"RPI and IBM unveil the world's first IBM Quantum System One on a university campus\" class=\"link-list-item-card\" cta-type=\"local\" data-video-modal-type=\"media-center\" href=\"https://newsroom.ibm.com/think-2025\" no-poster=\"\" target=\"_self\">\n",
       "<script defer=\"\" src=\"/etc.clientlibs/adobe-cms/clientlibs/clientlib-cweb-tag.lc-110787fad411e9bb4388c3f3211925b3-lc.min.js\"></script>\n",
       "<c4d-card-link-heading></c4d-card-link-heading>\n",
       "<c4d-card-footer cta-type=\"local\" href=\"https://newsroom.ibm.com/think-2025\" target=\"_self\">\n",
       "                        Get the latest news from Think 2025\n",
       "                        \n",
       "                    </c4d-card-footer>\n",
       "</c4d-card>\n",
       "<script defer=\"\" src=\"/etc.clientlibs/adobe-cms/clientlibs/clientlib-card.lc-eb8b8bd209e8cf5fc14e7acaea7d1eba-lc.min.js\"></script>\n",
       "</c4d-link-list>\n",
       "</div>\n",
       "</div>\n",
       "</div>\n",
       "</section></div>\n",
       "</div>\n",
       "</div>\n",
       "<div class=\"table-of-contents container responsivegrid\">\n",
       "<c4d-table-of-contents class=\"cmp-table-of-contents\" data-autoid=\"c4d--tableofcontents\" data-cmp-is=\"table-of-contents\" stickyoffset=\"48\" toc-hide=\"hidden\" toc-layout=\"horizontal\">\n",
       "<div class=\"cmp-table-of-contents\" id=\"table-of-contents-b422012d4b\">\n",
       "<div class=\"modular-container container responsivegrid\">\n",
       "<div class=\"cmp-container\" id=\"modular-container-5d1eac4ca1\">\n",
       "<div class=\"standalone-title enhanced-title text\">\n",
       "<h5 class=\"expressive-heading-02 col-8\">Recommended for you</h5>\n",
       "</div>\n",
       "<div class=\"image simple-image\">\n",
       "<script defer=\"\" src=\"/etc.clientlibs/adobe-cms/clientlibs/clientlib-image.lc-7f7a7c3ef6d86ce481dcb6e8312d761f-lc.min.js\"></script>\n",
       "</div>\n",
       "</div>\n",
       "</div>\n",
       "<div class=\"tile-group-container container responsivegrid\">\n",
       "<div class=\"cds--col\">\n",
       "<h5 class=\"expressive-heading-02\"></h5>\n",
       "<caem-tile-group>\n",
       "<caem-tile cta-type=\"local\" data-video-modal-type=\"media-center\" href=\"https://ibm.com/products/webmethods-hybrid-integration?lnk=hprcthink\" label=\"Product\" target=\"_self\">\n",
       "<c4d-image alt=\"3D render representing aerial view of composable architecture and the AI features\" class=\"\" default-src=\"/content/dam/connectedassets-adobe-cms/worldwide-content/cdp/cf/ul/g/63/fe/250430_ibm_webmethods-hybrid-integration_fn_04_flipped_edit.component.tile-card-xl.ts=1746546009451.jpg/content/adobe-cms/us/en/homepage/jcr:content/root/table_of_contents/tile_group_container_895326902/container/tile_card_copy_copy_/image\" id=\"image--1524562110\" slot=\"image\">\n",
       "<c4d-image-item media=\"(min-width: 1312px) and (min-resolution: 192dpi)\" srcset=\"/content/dam/connectedassets-adobe-cms/worldwide-content/cdp/cf/ul/g/63/fe/250430_ibm_webmethods-hybrid-integration_fn_04_flipped_edit.component.tile-card-xl-retina.ts=1746546009451.jpg/content/adobe-cms/us/en/homepage/jcr:content/root/table_of_contents/tile_group_container_895326902/container/tile_card_copy_copy_/image\"></c4d-image-item>\n",
       "<c4d-image-item media=\"(min-width: 1312px)\" srcset=\"/content/dam/connectedassets-adobe-cms/worldwide-content/cdp/cf/ul/g/63/fe/250430_ibm_webmethods-hybrid-integration_fn_04_flipped_edit.component.tile-card-xl.ts=1746546009451.jpg/content/adobe-cms/us/en/homepage/jcr:content/root/table_of_contents/tile_group_container_895326902/container/tile_card_copy_copy_/image\"></c4d-image-item>\n",
       "<c4d-image-item media=\"(min-width: 1056px) and (min-resolution: 192dpi)\" srcset=\"/content/dam/connectedassets-adobe-cms/worldwide-content/cdp/cf/ul/g/63/fe/250430_ibm_webmethods-hybrid-integration_fn_04_flipped_edit.component.tile-card-l-retina.ts=1746546009451.jpg/content/adobe-cms/us/en/homepage/jcr:content/root/table_of_contents/tile_group_container_895326902/container/tile_card_copy_copy_/image\"></c4d-image-item>\n",
       "<c4d-image-item media=\"(min-width: 1056px)\" srcset=\"/content/dam/connectedassets-adobe-cms/worldwide-content/cdp/cf/ul/g/63/fe/250430_ibm_webmethods-hybrid-integration_fn_04_flipped_edit.component.tile-card-l.ts=1746546009451.jpg/content/adobe-cms/us/en/homepage/jcr:content/root/table_of_contents/tile_group_container_895326902/container/tile_card_copy_copy_/image\"></c4d-image-item>\n",
       "<c4d-image-item media=\"(min-width: 672px) and (min-resolution: 192dpi)\" srcset=\"/content/dam/connectedassets-adobe-cms/worldwide-content/cdp/cf/ul/g/63/fe/250430_ibm_webmethods-hybrid-integration_fn_04_flipped_edit.component.tile-card-m-retina.ts=1746546009451.jpg/content/adobe-cms/us/en/homepage/jcr:content/root/table_of_contents/tile_group_container_895326902/container/tile_card_copy_copy_/image\"></c4d-image-item>\n",
       "<c4d-image-item media=\"(min-width: 672px)\" srcset=\"/content/dam/connectedassets-adobe-cms/worldwide-content/cdp/cf/ul/g/63/fe/250430_ibm_webmethods-hybrid-integration_fn_04_flipped_edit.component.tile-card-m.ts=1746546009451.jpg/content/adobe-cms/us/en/homepage/jcr:content/root/table_of_contents/tile_group_container_895326902/container/tile_card_copy_copy_/image\"></c4d-image-item>\n",
       "<c4d-image-item media=\"(min-width: 481px) and (min-resolution: 192dpi)\" srcset=\"/content/dam/connectedassets-adobe-cms/worldwide-content/cdp/cf/ul/g/63/fe/250430_ibm_webmethods-hybrid-integration_fn_04_flipped_edit.component.tile-card-s-retina.ts=1746546009451.jpg/content/adobe-cms/us/en/homepage/jcr:content/root/table_of_contents/tile_group_container_895326902/container/tile_card_copy_copy_/image\"></c4d-image-item>\n",
       "<c4d-image-item media=\"(min-width: 481px)\" srcset=\"/content/dam/connectedassets-adobe-cms/worldwide-content/cdp/cf/ul/g/63/fe/250430_ibm_webmethods-hybrid-integration_fn_04_flipped_edit.component.tile-card-s.ts=1746546009451.jpg/content/adobe-cms/us/en/homepage/jcr:content/root/table_of_contents/tile_group_container_895326902/container/tile_card_copy_copy_/image\"></c4d-image-item>\n",
       "<c4d-image-item media=\"(max-width: 480px) and (min-resolution: 192dpi)\" srcset=\"/content/dam/connectedassets-adobe-cms/worldwide-content/cdp/cf/ul/g/63/fe/250430_ibm_webmethods-hybrid-integration_fn_04_flipped_edit.component.tile-card-xs-retina.ts=1746546009451.jpg/content/adobe-cms/us/en/homepage/jcr:content/root/table_of_contents/tile_group_container_895326902/container/tile_card_copy_copy_/image\"></c4d-image-item>\n",
       "<c4d-image-item media=\"(max-width: 480px)\" srcset=\"/content/dam/connectedassets-adobe-cms/worldwide-content/cdp/cf/ul/g/63/fe/250430_ibm_webmethods-hybrid-integration_fn_04_flipped_edit.component.tile-card-xs.ts=1746546009451.jpg/content/adobe-cms/us/en/homepage/jcr:content/root/table_of_contents/tile_group_container_895326902/container/tile_card_copy_copy_/image\"></c4d-image-item>\n",
       "</c4d-image>\n",
       "<div class=\"caem-tile__text\">\n",
       "            Explore the new IBM webMethods Hybrid Integration\n",
       "        </div>\n",
       "<p class=\"caem-tile__link\" slot=\"cta\">\n",
       "</p>\n",
       "</caem-tile>\n",
       "<div class=\"caem-card-svg-source\" hidden=\"\">\n",
       "<svg id=\"accelerated-computing\" viewbox=\"0 0 32 32\" xmlns=\"http://www.w3.org/2000/svg\"><path d=\"M19,29.36c-3.401,0-6.596-1.506-8.764-4.131l0.556-0.459c2.03,2.459,5.022,3.869,8.208,3.869 c5.867,0,10.64-4.772,10.64-10.64c0-5.867-4.772-10.64-10.64-10.64c-3.186,0-6.177,1.411-8.208,3.87l-0.555-0.459 c2.091-2.532,5.137-4.022,8.403-4.125V5.36H16c-0.199,0-0.36-0.161-0.36-0.36V3c0-0.199,0.161-0.36,0.36-0.36h6 c0.199,0,0.36,0.161,0.36,0.36v2c0,0.199-0.161,0.36-0.36,0.36h-2.64v1.286c6.098,0.191,11,5.211,11,11.354 C30.36,24.264,25.264,29.36,19,29.36z M16.36,4.64h5.28V3.36h-5.28V4.64z M14,23.36H4v-0.72h10V23.36z M12,18.36H2v-0.72h10V18.36z M19.179,18.312l-0.357-0.625l7-4l0.357,0.625L19.179,18.312z M14,13.36H4v-0.72h10V13.36z\"></path></svg>\n",
       "</div>\n",
       "<script defer=\"\" src=\"/etc.clientlibs/adobe-cms/clientlibs/clientlib-caem-tile.lc-58b1b536b038c7c8b8863e0b59aa448c-lc.min.js\"></script>\n",
       "<caem-tile cta-type=\"local\" data-video-modal-type=\"media-center\" href=\"https://www.ibm.com/campaign/ai-value-creators?lnk=hprcthink\" label=\"Book\" target=\"_blank\">\n",
       "<c4d-image alt=\"AI Value Creators book cover\" class=\"\" default-src=\"/content/dam/connectedassets-adobe-cms/worldwide-content/creative-assets/s-migr/ul/g/7b/a9/ai-value-creators-ls-medium.component.tile-card-xl.ts=1746546015485.png/content/adobe-cms/us/en/homepage/jcr:content/root/table_of_contents/tile_group_container_895326902/container/tile_card_734954344_/image\" id=\"image--1512994418\" slot=\"image\">\n",
       "<c4d-image-item media=\"(min-width: 1312px) and (min-resolution: 192dpi)\" srcset=\"/content/dam/connectedassets-adobe-cms/worldwide-content/creative-assets/s-migr/ul/g/7b/a9/ai-value-creators-ls-medium.component.tile-card-xl-retina.ts=1746546015485.png/content/adobe-cms/us/en/homepage/jcr:content/root/table_of_contents/tile_group_container_895326902/container/tile_card_734954344_/image\"></c4d-image-item>\n",
       "<c4d-image-item media=\"(min-width: 1312px)\" srcset=\"/content/dam/connectedassets-adobe-cms/worldwide-content/creative-assets/s-migr/ul/g/7b/a9/ai-value-creators-ls-medium.component.tile-card-xl.ts=1746546015485.png/content/adobe-cms/us/en/homepage/jcr:content/root/table_of_contents/tile_group_container_895326902/container/tile_card_734954344_/image\"></c4d-image-item>\n",
       "<c4d-image-item media=\"(min-width: 1056px) and (min-resolution: 192dpi)\" srcset=\"/content/dam/connectedassets-adobe-cms/worldwide-content/creative-assets/s-migr/ul/g/7b/a9/ai-value-creators-ls-medium.component.tile-card-l-retina.ts=1746546015485.png/content/adobe-cms/us/en/homepage/jcr:content/root/table_of_contents/tile_group_container_895326902/container/tile_card_734954344_/image\"></c4d-image-item>\n",
       "<c4d-image-item media=\"(min-width: 1056px)\" srcset=\"/content/dam/connectedassets-adobe-cms/worldwide-content/creative-assets/s-migr/ul/g/7b/a9/ai-value-creators-ls-medium.component.tile-card-l.ts=1746546015485.png/content/adobe-cms/us/en/homepage/jcr:content/root/table_of_contents/tile_group_container_895326902/container/tile_card_734954344_/image\"></c4d-image-item>\n",
       "<c4d-image-item media=\"(min-width: 672px) and (min-resolution: 192dpi)\" srcset=\"/content/dam/connectedassets-adobe-cms/worldwide-content/creative-assets/s-migr/ul/g/7b/a9/ai-value-creators-ls-medium.component.tile-card-m-retina.ts=1746546015485.png/content/adobe-cms/us/en/homepage/jcr:content/root/table_of_contents/tile_group_container_895326902/container/tile_card_734954344_/image\"></c4d-image-item>\n",
       "<c4d-image-item media=\"(min-width: 672px)\" srcset=\"/content/dam/connectedassets-adobe-cms/worldwide-content/creative-assets/s-migr/ul/g/7b/a9/ai-value-creators-ls-medium.component.tile-card-m.ts=1746546015485.png/content/adobe-cms/us/en/homepage/jcr:content/root/table_of_contents/tile_group_container_895326902/container/tile_card_734954344_/image\"></c4d-image-item>\n",
       "<c4d-image-item media=\"(min-width: 481px) and (min-resolution: 192dpi)\" srcset=\"/content/dam/connectedassets-adobe-cms/worldwide-content/creative-assets/s-migr/ul/g/7b/a9/ai-value-creators-ls-medium.component.tile-card-s-retina.ts=1746546015485.png/content/adobe-cms/us/en/homepage/jcr:content/root/table_of_contents/tile_group_container_895326902/container/tile_card_734954344_/image\"></c4d-image-item>\n",
       "<c4d-image-item media=\"(min-width: 481px)\" srcset=\"/content/dam/connectedassets-adobe-cms/worldwide-content/creative-assets/s-migr/ul/g/7b/a9/ai-value-creators-ls-medium.component.tile-card-s.ts=1746546015485.png/content/adobe-cms/us/en/homepage/jcr:content/root/table_of_contents/tile_group_container_895326902/container/tile_card_734954344_/image\"></c4d-image-item>\n",
       "<c4d-image-item media=\"(max-width: 480px) and (min-resolution: 192dpi)\" srcset=\"/content/dam/connectedassets-adobe-cms/worldwide-content/creative-assets/s-migr/ul/g/7b/a9/ai-value-creators-ls-medium.component.tile-card-xs-retina.ts=1746546015485.png/content/adobe-cms/us/en/homepage/jcr:content/root/table_of_contents/tile_group_container_895326902/container/tile_card_734954344_/image\"></c4d-image-item>\n",
       "<c4d-image-item media=\"(max-width: 480px)\" srcset=\"/content/dam/connectedassets-adobe-cms/worldwide-content/creative-assets/s-migr/ul/g/7b/a9/ai-value-creators-ls-medium.component.tile-card-xs.ts=1746546015485.png/content/adobe-cms/us/en/homepage/jcr:content/root/table_of_contents/tile_group_container_895326902/container/tile_card_734954344_/image\"></c4d-image-item>\n",
       "</c4d-image>\n",
       "<div class=\"caem-tile__text\">\n",
       "            Request a free copy of AI Value Creators\n",
       "        </div>\n",
       "<p class=\"caem-tile__link\" slot=\"cta\">\n",
       "</p>\n",
       "</caem-tile>\n",
       "<div class=\"caem-card-svg-source\" hidden=\"\">\n",
       "<svg id=\"accelerated-computing\" viewbox=\"0 0 32 32\" xmlns=\"http://www.w3.org/2000/svg\"><path d=\"M19,29.36c-3.401,0-6.596-1.506-8.764-4.131l0.556-0.459c2.03,2.459,5.022,3.869,8.208,3.869 c5.867,0,10.64-4.772,10.64-10.64c0-5.867-4.772-10.64-10.64-10.64c-3.186,0-6.177,1.411-8.208,3.87l-0.555-0.459 c2.091-2.532,5.137-4.022,8.403-4.125V5.36H16c-0.199,0-0.36-0.161-0.36-0.36V3c0-0.199,0.161-0.36,0.36-0.36h6 c0.199,0,0.36,0.161,0.36,0.36v2c0,0.199-0.161,0.36-0.36,0.36h-2.64v1.286c6.098,0.191,11,5.211,11,11.354 C30.36,24.264,25.264,29.36,19,29.36z M16.36,4.64h5.28V3.36h-5.28V4.64z M14,23.36H4v-0.72h10V23.36z M12,18.36H2v-0.72h10V18.36z M19.179,18.312l-0.357-0.625l7-4l0.357,0.625L19.179,18.312z M14,13.36H4v-0.72h10V13.36z\"></path></svg>\n",
       "</div>\n",
       "<caem-tile cta-type=\"external\" data-video-modal-type=\"media-center\" href=\"https://www.hashicorp.com/en\" label=\"Solutions\" target=\"_blank\">\n",
       "<c4d-image alt=\"HashiCorp logo on gray background\" class=\"\" default-src=\"/content/dam/connectedassets-adobe-cms/worldwide-content/creative-assets/s-migr/ul/g/f5/21/hashicorp-logo-4-3-grey.component.tile-card-xl.ts=1746546021105.png/content/adobe-cms/us/en/homepage/jcr:content/root/table_of_contents/tile_group_container_895326902/container/tile_card_copy_copy__364396230/image\" id=\"image-1070189683\" slot=\"image\">\n",
       "<c4d-image-item media=\"(min-width: 1312px) and (min-resolution: 192dpi)\" srcset=\"/content/dam/connectedassets-adobe-cms/worldwide-content/creative-assets/s-migr/ul/g/f5/21/hashicorp-logo-4-3-grey.component.tile-card-xl-retina.ts=1746546021105.png/content/adobe-cms/us/en/homepage/jcr:content/root/table_of_contents/tile_group_container_895326902/container/tile_card_copy_copy__364396230/image\"></c4d-image-item>\n",
       "<c4d-image-item media=\"(min-width: 1312px)\" srcset=\"/content/dam/connectedassets-adobe-cms/worldwide-content/creative-assets/s-migr/ul/g/f5/21/hashicorp-logo-4-3-grey.component.tile-card-xl.ts=1746546021105.png/content/adobe-cms/us/en/homepage/jcr:content/root/table_of_contents/tile_group_container_895326902/container/tile_card_copy_copy__364396230/image\"></c4d-image-item>\n",
       "<c4d-image-item media=\"(min-width: 1056px) and (min-resolution: 192dpi)\" srcset=\"/content/dam/connectedassets-adobe-cms/worldwide-content/creative-assets/s-migr/ul/g/f5/21/hashicorp-logo-4-3-grey.component.tile-card-l-retina.ts=1746546021105.png/content/adobe-cms/us/en/homepage/jcr:content/root/table_of_contents/tile_group_container_895326902/container/tile_card_copy_copy__364396230/image\"></c4d-image-item>\n",
       "<c4d-image-item media=\"(min-width: 1056px)\" srcset=\"/content/dam/connectedassets-adobe-cms/worldwide-content/creative-assets/s-migr/ul/g/f5/21/hashicorp-logo-4-3-grey.component.tile-card-l.ts=1746546021105.png/content/adobe-cms/us/en/homepage/jcr:content/root/table_of_contents/tile_group_container_895326902/container/tile_card_copy_copy__364396230/image\"></c4d-image-item>\n",
       "<c4d-image-item media=\"(min-width: 672px) and (min-resolution: 192dpi)\" srcset=\"/content/dam/connectedassets-adobe-cms/worldwide-content/creative-assets/s-migr/ul/g/f5/21/hashicorp-logo-4-3-grey.component.tile-card-m-retina.ts=1746546021105.png/content/adobe-cms/us/en/homepage/jcr:content/root/table_of_contents/tile_group_container_895326902/container/tile_card_copy_copy__364396230/image\"></c4d-image-item>\n",
       "<c4d-image-item media=\"(min-width: 672px)\" srcset=\"/content/dam/connectedassets-adobe-cms/worldwide-content/creative-assets/s-migr/ul/g/f5/21/hashicorp-logo-4-3-grey.component.tile-card-m.ts=1746546021105.png/content/adobe-cms/us/en/homepage/jcr:content/root/table_of_contents/tile_group_container_895326902/container/tile_card_copy_copy__364396230/image\"></c4d-image-item>\n",
       "<c4d-image-item media=\"(min-width: 481px) and (min-resolution: 192dpi)\" srcset=\"/content/dam/connectedassets-adobe-cms/worldwide-content/creative-assets/s-migr/ul/g/f5/21/hashicorp-logo-4-3-grey.component.tile-card-s-retina.ts=1746546021105.png/content/adobe-cms/us/en/homepage/jcr:content/root/table_of_contents/tile_group_container_895326902/container/tile_card_copy_copy__364396230/image\"></c4d-image-item>\n",
       "<c4d-image-item media=\"(min-width: 481px)\" srcset=\"/content/dam/connectedassets-adobe-cms/worldwide-content/creative-assets/s-migr/ul/g/f5/21/hashicorp-logo-4-3-grey.component.tile-card-s.ts=1746546021105.png/content/adobe-cms/us/en/homepage/jcr:content/root/table_of_contents/tile_group_container_895326902/container/tile_card_copy_copy__364396230/image\"></c4d-image-item>\n",
       "<c4d-image-item media=\"(max-width: 480px) and (min-resolution: 192dpi)\" srcset=\"/content/dam/connectedassets-adobe-cms/worldwide-content/creative-assets/s-migr/ul/g/f5/21/hashicorp-logo-4-3-grey.component.tile-card-xs-retina.ts=1746546021105.png/content/adobe-cms/us/en/homepage/jcr:content/root/table_of_contents/tile_group_container_895326902/container/tile_card_copy_copy__364396230/image\"></c4d-image-item>\n",
       "<c4d-image-item media=\"(max-width: 480px)\" srcset=\"/content/dam/connectedassets-adobe-cms/worldwide-content/creative-assets/s-migr/ul/g/f5/21/hashicorp-logo-4-3-grey.component.tile-card-xs.ts=1746546021105.png/content/adobe-cms/us/en/homepage/jcr:content/root/table_of_contents/tile_group_container_895326902/container/tile_card_copy_copy__364396230/image\"></c4d-image-item>\n",
       "</c4d-image>\n",
       "<div class=\"caem-tile__text\">\n",
       "            Learn how HashiCorp can help you do cloud right\n",
       "        </div>\n",
       "<p class=\"caem-tile__link\" slot=\"cta\">\n",
       "</p>\n",
       "</caem-tile>\n",
       "<div class=\"caem-card-svg-source\" hidden=\"\">\n",
       "<svg id=\"accelerated-computing\" viewbox=\"0 0 32 32\" xmlns=\"http://www.w3.org/2000/svg\"><path d=\"M19,29.36c-3.401,0-6.596-1.506-8.764-4.131l0.556-0.459c2.03,2.459,5.022,3.869,8.208,3.869 c5.867,0,10.64-4.772,10.64-10.64c0-5.867-4.772-10.64-10.64-10.64c-3.186,0-6.177,1.411-8.208,3.87l-0.555-0.459 c2.091-2.532,5.137-4.022,8.403-4.125V5.36H16c-0.199,0-0.36-0.161-0.36-0.36V3c0-0.199,0.161-0.36,0.36-0.36h6 c0.199,0,0.36,0.161,0.36,0.36v2c0,0.199-0.161,0.36-0.36,0.36h-2.64v1.286c6.098,0.191,11,5.211,11,11.354 C30.36,24.264,25.264,29.36,19,29.36z M16.36,4.64h5.28V3.36h-5.28V4.64z M14,23.36H4v-0.72h10V23.36z M12,18.36H2v-0.72h10V18.36z M19.179,18.312l-0.357-0.625l7-4l0.357,0.625L19.179,18.312z M14,13.36H4v-0.72h10V13.36z\"></path></svg>\n",
       "</div>\n",
       "<caem-tile cta-type=\"local\" data-video-modal-type=\"media-center\" href=\"https://www.ibm.com/account/reg/signup?formid=urx-53144&amp;lnk=hprcthink\" label=\"Gartner® report\" target=\"_blank\">\n",
       "<c4d-image alt=\"Illustration of a blue square with many connection points\" class=\"\" default-src=\"/content/dam/connectedassets-adobe-cms/worldwide-content/creative-assets/ibs/ul/cpi/51/37/data-product-hub_blue-square-connected-to-dots_1x1_padding.component.tile-card-xl.ts=1746546026772.jpg/content/adobe-cms/us/en/homepage/jcr:content/root/table_of_contents/tile_group_container_895326902/container/tile_card_copy_15295/image\" id=\"image--1456559646\" slot=\"image\">\n",
       "<c4d-image-item media=\"(min-width: 1312px) and (min-resolution: 192dpi)\" srcset=\"/content/dam/connectedassets-adobe-cms/worldwide-content/creative-assets/ibs/ul/cpi/51/37/data-product-hub_blue-square-connected-to-dots_1x1_padding.component.tile-card-xl-retina.ts=1746546026772.jpg/content/adobe-cms/us/en/homepage/jcr:content/root/table_of_contents/tile_group_container_895326902/container/tile_card_copy_15295/image\"></c4d-image-item>\n",
       "<c4d-image-item media=\"(min-width: 1312px)\" srcset=\"/content/dam/connectedassets-adobe-cms/worldwide-content/creative-assets/ibs/ul/cpi/51/37/data-product-hub_blue-square-connected-to-dots_1x1_padding.component.tile-card-xl.ts=1746546026772.jpg/content/adobe-cms/us/en/homepage/jcr:content/root/table_of_contents/tile_group_container_895326902/container/tile_card_copy_15295/image\"></c4d-image-item>\n",
       "<c4d-image-item media=\"(min-width: 1056px) and (min-resolution: 192dpi)\" srcset=\"/content/dam/connectedassets-adobe-cms/worldwide-content/creative-assets/ibs/ul/cpi/51/37/data-product-hub_blue-square-connected-to-dots_1x1_padding.component.tile-card-l-retina.ts=1746546026772.jpg/content/adobe-cms/us/en/homepage/jcr:content/root/table_of_contents/tile_group_container_895326902/container/tile_card_copy_15295/image\"></c4d-image-item>\n",
       "<c4d-image-item media=\"(min-width: 1056px)\" srcset=\"/content/dam/connectedassets-adobe-cms/worldwide-content/creative-assets/ibs/ul/cpi/51/37/data-product-hub_blue-square-connected-to-dots_1x1_padding.component.tile-card-l.ts=1746546026772.jpg/content/adobe-cms/us/en/homepage/jcr:content/root/table_of_contents/tile_group_container_895326902/container/tile_card_copy_15295/image\"></c4d-image-item>\n",
       "<c4d-image-item media=\"(min-width: 672px) and (min-resolution: 192dpi)\" srcset=\"/content/dam/connectedassets-adobe-cms/worldwide-content/creative-assets/ibs/ul/cpi/51/37/data-product-hub_blue-square-connected-to-dots_1x1_padding.component.tile-card-m-retina.ts=1746546026772.jpg/content/adobe-cms/us/en/homepage/jcr:content/root/table_of_contents/tile_group_container_895326902/container/tile_card_copy_15295/image\"></c4d-image-item>\n",
       "<c4d-image-item media=\"(min-width: 672px)\" srcset=\"/content/dam/connectedassets-adobe-cms/worldwide-content/creative-assets/ibs/ul/cpi/51/37/data-product-hub_blue-square-connected-to-dots_1x1_padding.component.tile-card-m.ts=1746546026772.jpg/content/adobe-cms/us/en/homepage/jcr:content/root/table_of_contents/tile_group_container_895326902/container/tile_card_copy_15295/image\"></c4d-image-item>\n",
       "<c4d-image-item media=\"(min-width: 481px) and (min-resolution: 192dpi)\" srcset=\"/content/dam/connectedassets-adobe-cms/worldwide-content/creative-assets/ibs/ul/cpi/51/37/data-product-hub_blue-square-connected-to-dots_1x1_padding.component.tile-card-s-retina.ts=1746546026772.jpg/content/adobe-cms/us/en/homepage/jcr:content/root/table_of_contents/tile_group_container_895326902/container/tile_card_copy_15295/image\"></c4d-image-item>\n",
       "<c4d-image-item media=\"(min-width: 481px)\" srcset=\"/content/dam/connectedassets-adobe-cms/worldwide-content/creative-assets/ibs/ul/cpi/51/37/data-product-hub_blue-square-connected-to-dots_1x1_padding.component.tile-card-s.ts=1746546026772.jpg/content/adobe-cms/us/en/homepage/jcr:content/root/table_of_contents/tile_group_container_895326902/container/tile_card_copy_15295/image\"></c4d-image-item>\n",
       "<c4d-image-item media=\"(max-width: 480px) and (min-resolution: 192dpi)\" srcset=\"/content/dam/connectedassets-adobe-cms/worldwide-content/creative-assets/ibs/ul/cpi/51/37/data-product-hub_blue-square-connected-to-dots_1x1_padding.component.tile-card-xs-retina.ts=1746546026772.jpg/content/adobe-cms/us/en/homepage/jcr:content/root/table_of_contents/tile_group_container_895326902/container/tile_card_copy_15295/image\"></c4d-image-item>\n",
       "<c4d-image-item media=\"(max-width: 480px)\" srcset=\"/content/dam/connectedassets-adobe-cms/worldwide-content/creative-assets/ibs/ul/cpi/51/37/data-product-hub_blue-square-connected-to-dots_1x1_padding.component.tile-card-xs.ts=1746546026772.jpg/content/adobe-cms/us/en/homepage/jcr:content/root/table_of_contents/tile_group_container_895326902/container/tile_card_copy_15295/image\"></c4d-image-item>\n",
       "</c4d-image>\n",
       "<div class=\"caem-tile__text\">\n",
       "            IBM named a Leader in Service Orchestration and Automation Platforms\n",
       "        </div>\n",
       "<p class=\"caem-tile__link\" slot=\"cta\">\n",
       "</p>\n",
       "</caem-tile>\n",
       "<div class=\"caem-card-svg-source\" hidden=\"\">\n",
       "<svg id=\"accelerated-computing\" viewbox=\"0 0 32 32\" xmlns=\"http://www.w3.org/2000/svg\"><path d=\"M19,29.36c-3.401,0-6.596-1.506-8.764-4.131l0.556-0.459c2.03,2.459,5.022,3.869,8.208,3.869 c5.867,0,10.64-4.772,10.64-10.64c0-5.867-4.772-10.64-10.64-10.64c-3.186,0-6.177,1.411-8.208,3.87l-0.555-0.459 c2.091-2.532,5.137-4.022,8.403-4.125V5.36H16c-0.199,0-0.36-0.161-0.36-0.36V3c0-0.199,0.161-0.36,0.36-0.36h6 c0.199,0,0.36,0.161,0.36,0.36v2c0,0.199-0.161,0.36-0.36,0.36h-2.64v1.286c6.098,0.191,11,5.211,11,11.354 C30.36,24.264,25.264,29.36,19,29.36z M16.36,4.64h5.28V3.36h-5.28V4.64z M14,23.36H4v-0.72h10V23.36z M12,18.36H2v-0.72h10V18.36z M19.179,18.312l-0.357-0.625l7-4l0.357,0.625L19.179,18.312z M14,13.36H4v-0.72h10V13.36z\"></path></svg>\n",
       "</div>\n",
       "</caem-tile-group>\n",
       "</div>\n",
       "<script defer=\"\" src=\"/etc.clientlibs/adobe-cms/components/content/organisms/tile-group/tile-group-container/clientlibs.lc-92a38a0479519d42cd16961ae5a4bd09-lc.min.js\"></script>\n",
       "</div>\n",
       "<div class=\"50-50-content-block hideHorizontalRule\"><div class=\"cds--50-50-content-block\">\n",
       "<div class=\"cds--row\">\n",
       "<h2 class=\"cds--50-50-content-block__heading cds--col-lg-8 expressive-heading-05\">\n",
       "        \n",
       "\n",
       "\n",
       "\n",
       "  \n",
       "    AI and tech insights\n",
       "\n",
       "\n",
       "\n",
       "\n",
       "\n",
       "\n",
       "    \n",
       "\n",
       "\n",
       "      </h2>\n",
       "</div>\n",
       "<div class=\"cds--row\">\n",
       "<div class=\"cds--50-50-content-block__item cds--col-lg-8\">\n",
       "<div class=\"cds--content-block-50-50-card\">\n",
       "<div class=\"cds--no-gutter cds--content-block-50-50-card__media\">\n",
       "</div>\n",
       "<div class=\"cds--content-block-50-50-card__heading\">\n",
       "<h4 class=\"expressive-heading-04\">\n",
       "<span class=\"enhanced-title text-color-gradient-90-blue-to-teal\">For developers</span>\n",
       "</h4>\n",
       "</div>\n",
       "<div>\n",
       "<div class=\"cds--content-block-50-50-card__body\">\n",
       "<div class=\"cmp-container\" id=\"content-block-container-6afdf3f2d4\">\n",
       "<div class=\"standalone-text rich-text text\">\n",
       "<span class=\"normal cms-richtext\">\n",
       "<p>Fit-for-purpose IBM Granite models can reduce AI costs by more than 90% at competitive performance levels.<sup>1</sup></p>\n",
       "</span>\n",
       "</div>\n",
       "<div class=\"link button\">\n",
       "<a cta-type=\"local\" data-dynamic-properties='{\"ctaUrl\":\"href\"}' data-link-type=\"local\" data-video-modal-type=\"media-center\" href=\"https://www.ibm.com/granite?lnk=hpad1us\" icon-placement=\"right\" target=\"_self\">\n",
       "<span class=\"cds--link-text\" data-dynamic-inner-content=\"ctaLabel\" data-link-text=\"\">Start building with IBM Granite models</span>\n",
       "<!-- LTR - Left to Right version -->\n",
       "<svg aria-hidden=\"true\" fill=\"currentColor\" focusable=\"false\" height=\"20\" slot=\"icon\" viewbox=\"0 0 20 20\" width=\"20\" xmlns=\"http://www.w3.org/2000/svg\">\n",
       "<path d=\"M11.8 2.8L10.8 3.8 16.2 9.3 1 9.3 1 10.7 16.2 10.7 10.8 16.2 11.8 17.2 19 10z\"></path>\n",
       "</svg>\n",
       "<!-- RTL - Right to Left version -->\n",
       "</a>\n",
       "</div>\n",
       "<div class=\"link button\">\n",
       "<a cta-type=\"local\" data-dynamic-properties='{\"ctaUrl\":\"href\"}' data-link-type=\"local\" data-video-modal-type=\"media-center\" href=\"https://developer.ibm.com/technologies/artificial-intelligence?lnk=hpad2us\" icon-placement=\"right\" target=\"_self\">\n",
       "<span class=\"cds--link-text\" data-dynamic-inner-content=\"ctaLabel\" data-link-text=\"\">Explore AI courses, APIs, data sets and more</span>\n",
       "<!-- LTR - Left to Right version -->\n",
       "<svg aria-hidden=\"true\" fill=\"currentColor\" focusable=\"false\" height=\"20\" slot=\"icon\" viewbox=\"0 0 20 20\" width=\"20\" xmlns=\"http://www.w3.org/2000/svg\">\n",
       "<path d=\"M11.8 2.8L10.8 3.8 16.2 9.3 1 9.3 1 10.7 16.2 10.7 10.8 16.2 11.8 17.2 19 10z\"></path>\n",
       "</svg>\n",
       "<!-- RTL - Right to Left version -->\n",
       "</a>\n",
       "</div>\n",
       "<div class=\"link button\">\n",
       "<a cta-type=\"local\" data-dynamic-properties='{\"ctaUrl\":\"href\"}' data-link-type=\"local\" data-video-modal-type=\"media-center\" href=\"https://www.ibm.com/products/watsonx-code-assistant?lnk=hpad3us\" icon-placement=\"right\" target=\"_self\">\n",
       "<span class=\"cds--link-text\" data-dynamic-inner-content=\"ctaLabel\" data-link-text=\"\">Accelerate software development with watsonx Code Assistant</span>\n",
       "<!-- LTR - Left to Right version -->\n",
       "<svg aria-hidden=\"true\" fill=\"currentColor\" focusable=\"false\" height=\"20\" slot=\"icon\" viewbox=\"0 0 20 20\" width=\"20\" xmlns=\"http://www.w3.org/2000/svg\">\n",
       "<path d=\"M11.8 2.8L10.8 3.8 16.2 9.3 1 9.3 1 10.7 16.2 10.7 10.8 16.2 11.8 17.2 19 10z\"></path>\n",
       "</svg>\n",
       "<!-- RTL - Right to Left version -->\n",
       "</a>\n",
       "</div>\n",
       "<div class=\"link button\">\n",
       "<a cta-type=\"local\" data-dynamic-properties='{\"ctaUrl\":\"href\"}' data-link-type=\"local\" data-video-modal-type=\"media-center\" href=\"https://www.ibm.com/watsonx/developer/?lnk=hpad4us\" icon-placement=\"right\" target=\"_self\">\n",
       "<span class=\"cds--link-text\" data-dynamic-inner-content=\"ctaLabel\" data-link-text=\"\">Check out the watsonx.ai Developer Toolkit</span>\n",
       "<!-- LTR - Left to Right version -->\n",
       "<svg aria-hidden=\"true\" fill=\"currentColor\" focusable=\"false\" height=\"20\" slot=\"icon\" viewbox=\"0 0 20 20\" width=\"20\" xmlns=\"http://www.w3.org/2000/svg\">\n",
       "<path d=\"M11.8 2.8L10.8 3.8 16.2 9.3 1 9.3 1 10.7 16.2 10.7 10.8 16.2 11.8 17.2 19 10z\"></path>\n",
       "</svg>\n",
       "<!-- RTL - Right to Left version -->\n",
       "</a>\n",
       "</div>\n",
       "</div>\n",
       "</div>\n",
       "</div>\n",
       "</div>\n",
       "<script defer=\"\" src=\"/etc.clientlibs/adobe-cms/clientlibs/clientlib-lightbox-media-viewer.lc-d436dba21096131415467ce742c27fe2-lc.min.js\"></script>\n",
       "</div>\n",
       "<div class=\"cds--50-50-content-block__item cds--col-lg-8\">\n",
       "<div class=\"cds--content-block-50-50-card\">\n",
       "<div class=\"cds--no-gutter cds--content-block-50-50-card__media\">\n",
       "</div>\n",
       "<div class=\"cds--content-block-50-50-card__heading\">\n",
       "<h4 class=\"expressive-heading-04\">\n",
       "<span class=\"enhanced-title text-color-gradient-90-blue-to-teal\">For business leaders</span>\n",
       "</h4>\n",
       "</div>\n",
       "<div>\n",
       "<div class=\"cds--content-block-50-50-card__body\">\n",
       "<div class=\"cmp-container\" id=\"content-block-container-5a692cba75\">\n",
       "<div class=\"standalone-text rich-text text\">\n",
       "<span class=\"normal cms-richtext\">\n",
       "<p>Transform business and drive growth with AI tools, technology and insights that help you stay competitive—and responsibly map your organization's future. </p>\n",
       "</span>\n",
       "</div>\n",
       "<div class=\"link button\">\n",
       "<a cta-type=\"local\" data-dynamic-properties='{\"ctaUrl\":\"href\"}' data-link-type=\"local\" data-video-modal-type=\"media-center\" href=\"https://www.ibm.com/thought-leadership/institute-business-value/report/ceo-generative-ai?lnk=hpab1us\" icon-placement=\"right\" target=\"_self\">\n",
       "<span class=\"cds--link-text\" data-dynamic-inner-content=\"ctaLabel\" data-link-text=\"\">Read the CEO’s guide to generative AI</span>\n",
       "<!-- LTR - Left to Right version -->\n",
       "<svg aria-hidden=\"true\" fill=\"currentColor\" focusable=\"false\" height=\"20\" slot=\"icon\" viewbox=\"0 0 20 20\" width=\"20\" xmlns=\"http://www.w3.org/2000/svg\">\n",
       "<path d=\"M11.8 2.8L10.8 3.8 16.2 9.3 1 9.3 1 10.7 16.2 10.7 10.8 16.2 11.8 17.2 19 10z\"></path>\n",
       "</svg>\n",
       "<!-- RTL - Right to Left version -->\n",
       "</a>\n",
       "</div>\n",
       "<div class=\"link button\">\n",
       "<a cta-type=\"local\" data-dynamic-properties='{\"ctaUrl\":\"href\"}' data-link-type=\"local\" data-video-modal-type=\"media-center\" href=\"https://www.ibm.com/think/reports/ai-in-action?lnk=hpab2us\" icon-placement=\"right\" target=\"_self\">\n",
       "<span class=\"cds--link-text\" data-dynamic-inner-content=\"ctaLabel\" data-link-text=\"\">Get the AI in Action report</span>\n",
       "<!-- LTR - Left to Right version -->\n",
       "<svg aria-hidden=\"true\" fill=\"currentColor\" focusable=\"false\" height=\"20\" slot=\"icon\" viewbox=\"0 0 20 20\" width=\"20\" xmlns=\"http://www.w3.org/2000/svg\">\n",
       "<path d=\"M11.8 2.8L10.8 3.8 16.2 9.3 1 9.3 1 10.7 16.2 10.7 10.8 16.2 11.8 17.2 19 10z\"></path>\n",
       "</svg>\n",
       "<!-- RTL - Right to Left version -->\n",
       "</a>\n",
       "</div>\n",
       "<div class=\"link button\">\n",
       "<a cta-type=\"local\" data-dynamic-properties='{\"ctaUrl\":\"href\"}' data-link-type=\"local\" data-video-modal-type=\"media-center\" href=\"https://www.ibm.com/reports/threat-intelligence?lnk=hpab3us\" icon-placement=\"right\" target=\"_self\">\n",
       "<span class=\"cds--link-text\" data-dynamic-inner-content=\"ctaLabel\" data-link-text=\"\">Explore the X-Force 2025 Threat Intelligence Index</span>\n",
       "<!-- LTR - Left to Right version -->\n",
       "<svg aria-hidden=\"true\" fill=\"currentColor\" focusable=\"false\" height=\"20\" slot=\"icon\" viewbox=\"0 0 20 20\" width=\"20\" xmlns=\"http://www.w3.org/2000/svg\">\n",
       "<path d=\"M11.8 2.8L10.8 3.8 16.2 9.3 1 9.3 1 10.7 16.2 10.7 10.8 16.2 11.8 17.2 19 10z\"></path>\n",
       "</svg>\n",
       "<!-- RTL - Right to Left version -->\n",
       "</a>\n",
       "</div>\n",
       "<div class=\"link button\">\n",
       "<a cta-type=\"local\" data-dynamic-properties='{\"ctaUrl\":\"href\"}' data-link-type=\"local\" data-video-modal-type=\"media-center\" href=\"https://www.ibm.com/thought-leadership/institute-business-value/report/great-tech-reset-book?lnk=hpab4us\" icon-placement=\"right\" target=\"_self\">\n",
       "<span class=\"cds--link-text\" data-dynamic-inner-content=\"ctaLabel\" data-link-text=\"\">Read The Great Tech Reset: How hybrid by design creates business value</span>\n",
       "<!-- LTR - Left to Right version -->\n",
       "<svg aria-hidden=\"true\" fill=\"currentColor\" focusable=\"false\" height=\"20\" slot=\"icon\" viewbox=\"0 0 20 20\" width=\"20\" xmlns=\"http://www.w3.org/2000/svg\">\n",
       "<path d=\"M11.8 2.8L10.8 3.8 16.2 9.3 1 9.3 1 10.7 16.2 10.7 10.8 16.2 11.8 17.2 19 10z\"></path>\n",
       "</svg>\n",
       "<!-- RTL - Right to Left version -->\n",
       "</a>\n",
       "</div>\n",
       "</div>\n",
       "</div>\n",
       "</div>\n",
       "</div>\n",
       "</div>\n",
       "</div>\n",
       "<div>\n",
       "<c4d-hr></c4d-hr>\n",
       "<script defer=\"\" src=\"/etc.clientlibs/adobe-cms/clientlibs/clientlib-horizontal-rule.lc-1c43b7ae0d364bda7afe781498131b38-lc.min.js\"></script>\n",
       "</div>\n",
       "</div>\n",
       "</div>\n",
       "<div class=\"promotional-banner\">\n",
       "<div class=\"promotionalBanner\" data-node=\"/content/adobe-cms/us/en/homepage/jcr:content/root/table_of_contents/promotional_banner_c\" isapicall=\"NonApi\">\n",
       "<c4d-promo-banner class=\"promotional-banner__container theme-c10\">\n",
       "<c4d-image alt=\"Illustration of shopping bag on blue background with confetti around it\" class=\"\" default-src=\"/content/dam/connectedassets-adobe-cms/worldwide-content/creative-assets/s-migr/ul/g/b4/db/big-blue-30-shopping-promotion-banner.png\" id=\"image-69161821\" slot=\"image\">\n",
       "</c4d-image>\n",
       "<span class=\"heading-compact-02\"><p>Big Blue for You</p>\n",
       "</span>\n",
       "<div class=\"\"><p>Get up to 60% off your first subscription on selected IBM products until 15 May 2025</p>\n",
       "</div>\n",
       "<a href=\"https://www.ibm.com/products/offers-and-discounts?lnk=hpdo1us\" slot=\"cta\" target=\"_self\">\n",
       "<c4d-button aria-label=\"Explore and register for TechXchange\" cta-type=\"local\" href=\"https://www.ibm.com/products/offers-and-discounts?lnk=hpdo1us\" kind=\"primary\" target=\"_self\">\n",
       "<span>Shop the sale today</span>\n",
       "</c4d-button>\n",
       "</a>\n",
       "<svg aria-hidden=\"true\" class=\"promotional-banner__icon\" fill=\"currentColor\" focusable=\"false\" height=\"20\" slot=\"icon\" viewbox=\"0 0 20 20\" width=\"20\" xmlns=\"http://www.w3.org/2000/svg\">\n",
       "<path d=\"M11.8 2.8L10.8 3.8 16.2 9.3 1 9.3 1 10.7 16.2 10.7 10.8 16.2 11.8 17.2 19 10z\"></path>\n",
       "</svg>\n",
       "</c4d-promo-banner>\n",
       "</div>\n",
       "<script defer=\"\" src=\"/etc.clientlibs/adobe-cms/clientlibs/clientlib-countdown.lc-f07c0c83a39a8273ce5ed35202a9bcc2-lc.min.js\"></script>\n",
       "<script defer=\"\" src=\"/etc.clientlibs/adobe-cms/clientlibs/clientlib-promo-banner.lc-9c643161cfe29266f9590fe6aac32169-lc.min.js\"></script>\n",
       "</div>\n",
       "<div class=\"card-group-pictogram-full-width card-group-pictogram themed-block theme-white\">\n",
       "<div class=\"cds--content-block\">\n",
       "<div class=\"cds--full-width-intro-container\">\n",
       "<div class=\"intro-section--flex fullwidth-intro-section\">\n",
       "<div class=\"intro-section--heading-wrapper\">\n",
       "<h2 class=\"expressive-heading-05\">\n",
       "            \n",
       "\n",
       "\n",
       "\n",
       "  \n",
       "    Technology &amp; Consulting\n",
       "\n",
       "\n",
       "\n",
       "\n",
       "\n",
       "\n",
       "    \n",
       "\n",
       "\n",
       "        </h2>\n",
       "</div>\n",
       "<div class=\"intro-section--content-wrapper\">\n",
       "<span class=\"expressive-heading-03\">\n",
       "<div class=\"cms-richtext\" data-dynamic-inner-content=\"description\" id=\"rich-text-06b35d63d7\">\n",
       "<p>From <a href=\"https://www.ibm.com/artificial-intelligence?lnk=hpfp1us\" rel=\"noopener noreferrer\" target=\"_self\">next-generation AI</a> to cutting edge <a href=\"https://www.ibm.com/hybrid-cloud?lnk=hpfp2us\" rel=\"noopener noreferrer\" target=\"_self\">hybrid cloud solutions</a> to the deep expertise of <a href=\"https://www.ibm.com/consulting?lnk=hpfp3us\">IBM Consulting</a>, IBM has what it takes to help you reinvent how your business works in the age of AI.</p>\n",
       "</div>\n",
       "</span>\n",
       "<c4d-link-list type=\"vertical\">\n",
       "<script defer=\"\" src=\"/etc.clientlibs/adobe-cms/clientlibs/clientlib-cibm-cta.lc-0bf9f3abed5fb434d07b4b78a0100eca-lc.min.js\"></script>\n",
       "</c4d-link-list>\n",
       "</div>\n",
       "</div>\n",
       "<script defer=\"\" src=\"/etc.clientlibs/adobe-cms/clientlibs/clientlib-link-list.lc-df0199888b3619b08566a3f88fdf5b44-lc.min.js\"></script>\n",
       "</div>\n",
       "<c4d-card-group cards-per-row=\"4\" class=\"themed-pictogram themed-pictogram--dark-blue-light-gradient\" data-autoid=\"c4d--card-group\" grid-mode=\"border\" style=\"--c4d--card-group--cards-in-row:4\">\n",
       "<c4d-card-group-item color-scheme=\"\" cta-type=\"local\" data-autoid=\"c4d--card-group-item\" data-video-modal-type=\"media-center\" grid-mode=\"condensed\" href=\"https://www.ibm.com/artificial-intelligence?lnk=hpfp4us\" pictogram-placement=\"bottom\" size=\"\" target=\"_self\">\n",
       "<c4d-card-heading aria-level=\"3\" data-autoid=\"c4d--card-heading\" role=\"heading\" slot=\"heading\">\n",
       "                    \n",
       "                    AI solutions</c4d-card-heading>\n",
       "<svg class=\"cds--card__pictogram\" focusable=\"false\" height=\"48\" role=\"img\" slot=\"pictogram\" style=\"--colorized-background:url('#g2'); fill: var(--colorized-background)\" width=\"48\">\n",
       "<svg id=\"ai\" viewbox=\"0 0 32 32\" xmlns=\"http://www.w3.org/2000/svg\"><path d=\"M16.195,31.36c-6.421,0-12.169-4.007-14.399-10.002 C1.051,21.408,0.373,20.771,0.372,20c0-0.75,0.61-1.36,1.36-1.36s1.36,0.61,1.36,1.36c0,0.474-0.243,0.892-0.611,1.135 c2.133,5.698,7.604,9.505,13.714,9.505c6.446,0,11.919-4.301,13.773-10.22c-1.448,2.06-3.877,3.44-6.565,3.44 c-3.822,0-7.066-2.785-7.664-6.525C15.113,17.212,14.64,16.661,14.64,16c0-0.584,0.37-1.083,0.888-1.275 c-0.608-3.421-3.615-5.962-7.125-5.962c-3.947,0-7.04,3.176-7.042,7.231c0,0.002,0,0.004,0,0.006H0.64c0-0.002,0-0.004,0-0.007 C0.644,7.526,7.445,0.64,15.805,0.64c6.42,0,12.168,4.006,14.399,10.001c0.777-0.034,1.425,0.587,1.425,1.358 c0,0.75-0.61,1.36-1.36,1.36s-1.36-0.61-1.36-1.36c0-0.473,0.243-0.891,0.611-1.135C27.387,5.166,21.916,1.36,15.805,1.36 c-6.319,0-11.704,4.134-13.659,9.873c1.402-1.949,3.662-3.19,6.256-3.19c3.881,0,7.204,2.826,7.846,6.62 C16.88,14.779,17.36,15.335,17.36,16c0,0.589-0.376,1.092-0.901,1.28c0.567,3.363,3.496,5.859,6.943,5.859 c3.857,0,7.127-3.118,7.235-6.851c0.001-0.096,0.002-0.192,0.002-0.289h0.721c0,0.033,0,0.065-0.001,0.098h0.001 c0,0.069-0.001,0.138-0.003,0.207C31.196,24.634,24.456,31.36,16.195,31.36z M1.732,19.36c-0.353,0-0.64,0.287-0.64,0.64 s0.287,0.64,0.64,0.64s0.64-0.287,0.64-0.64S2.085,19.36,1.732,19.36z M16,15.36c-0.353,0-0.64,0.287-0.64,0.64 s0.287,0.64,0.64,0.64s0.64-0.287,0.64-0.64S16.353,15.36,16,15.36z M30.269,11.36c-0.353,0-0.64,0.287-0.64,0.64 s0.287,0.64,0.64,0.64s0.64-0.287,0.64-0.64S30.621,11.36,30.269,11.36z\"></path></svg>\n",
       "</svg>\n",
       "<p>Go from AI pilots to production with AI technologies built for business</p>\n",
       "<c4d-card-footer color-scheme=\"\" cta-type=\"local\" data-autoid=\"c4d--card-footer\" href=\"https://www.ibm.com/artificial-intelligence?lnk=hpfp4us\" icon-placement=\"right\" parent-href=\"https://www.ibm.com/artificial-intelligence?lnk=hpfp4us\" slot=\"footer\" target=\"_self\">\n",
       "</c4d-card-footer>\n",
       "</c4d-card-group-item>\n",
       "<c4d-card-group-item color-scheme=\"\" cta-type=\"local\" data-autoid=\"c4d--card-group-item\" data-video-modal-type=\"media-center\" grid-mode=\"condensed\" href=\"https://www.ibm.com/granite?lnk=hpfp5us\" pictogram-placement=\"bottom\" size=\"\" target=\"_self\">\n",
       "<c4d-card-heading aria-level=\"3\" data-autoid=\"c4d--card-heading\" role=\"heading\" slot=\"heading\">\n",
       "                    \n",
       "                    AI models</c4d-card-heading>\n",
       "<svg class=\"cds--card__pictogram\" focusable=\"false\" height=\"48\" role=\"img\" slot=\"pictogram\" style=\"--colorized-background:url('#g2'); fill: var(--colorized-background)\" width=\"48\">\n",
       "<svg id=\"app--developer\" viewbox=\"0 0 32 32\" xmlns=\"http://www.w3.org/2000/svg\"><path d=\"M3.254,9.254L2.746,8.746L3.991,7.5L2.746,6.254l0.509-0.509L5.009,7.5L3.254,9.254z M3,2 C2.724,2,2.5,2.224,2.5,2.5S2.724,3,3,3s0.5-0.224,0.5-0.5S3.276,2,3,2z M5.5,2.5C5.5,2.776,5.276,3,5,3S4.5,2.776,4.5,2.5 S4.724,2,5,2S5.5,2.224,5.5,2.5z M7.5,2.5C7.5,2.776,7.276,3,7,3S6.5,2.776,6.5,2.5S6.724,2,7,2S7.5,2.224,7.5,2.5z M18.5,6.5 C18.5,6.776,18.276,7,18,7s-0.5-0.224-0.5-0.5S17.724,6,18,6S18.5,6.224,18.5,6.5z M20.5,6.5C20.5,6.776,20.276,7,20,7 s-0.5-0.224-0.5-0.5S19.724,6,20,6S20.5,6.224,20.5,6.5z M22.5,6.5C22.5,6.776,22.276,7,22,7s-0.5-0.224-0.5-0.5S21.724,6,22,6 S22.5,6.224,22.5,6.5z M5.5,24.5C5.5,24.776,5.276,25,5,25s-0.5-0.224-0.5-0.5S4.724,24,5,24S5.5,24.224,5.5,24.5z M13,14.36H1 c-0.199,0-0.36-0.161-0.36-0.36V1c0-0.199,0.161-0.36,0.36-0.36h12c0.199,0,0.36,0.161,0.36,0.36v13 C13.36,14.199,13.199,14.36,13,14.36z M12.64,4.36H1.36v9.28h11.28C12.64,13.64,12.64,4.36,12.64,4.36z M12.64,1.36H1.36v2.281 h11.28C12.64,3.641,12.64,1.36,12.64,1.36z M31.36,5v17c0,0.199-0.161,0.36-0.36,0.36H19.691c-0.301,0.471-0.69,0.885-1.152,1.215 c2.875,1.05,4.819,3.778,4.819,6.902l0.002,0.521L22.639,31l-0.002-0.522c0-3.078-2.09-5.729-5.083-6.45 c-0.15-0.035-0.26-0.163-0.274-0.316s0.07-0.299,0.211-0.361c1.315-0.592,2.165-1.9,2.165-3.334c0-2.017-1.64-3.657-3.656-3.657 c-2.018,0-3.66,1.64-3.66,3.657c0,1.434,0.85,2.742,2.166,3.334c0.141,0.062,0.225,0.208,0.211,0.361s-0.125,0.281-0.274,0.316 c-2.993,0.721-5.084,3.372-5.084,6.449l0.001,0.521L8.64,31l-0.001-0.522c0-3.125,1.943-5.854,4.819-6.903 c-1.138-0.812-1.838-2.134-1.838-3.559c0-2.292,1.772-4.178,4.02-4.362V5c0-0.199,0.161-0.36,0.36-0.36h15 C31.199,4.64,31.36,4.801,31.36,5z M30.64,8.36H16.36v7.295c2.246,0.184,4.017,2.07,4.017,4.362c0,0.566-0.11,1.115-0.315,1.623 H30.64V8.36z M30.64,5.36H16.36v2.28h14.28V5.36z M22,11.64h-4v0.72h4V11.64z M23.64,17.5c0-1.577,1.283-2.86,2.86-2.86 s2.86,1.283,2.86,2.86s-1.283,2.86-2.86,2.86S23.64,19.077,23.64,17.5z M28.242,16.266l-1.383,1.383l-0.004,1.955 c1.01-0.171,1.784-1.046,1.784-2.104C28.64,17.04,28.49,16.615,28.242,16.266z M24.36,17.5c0,1.055,0.769,1.928,1.774,2.103 l0.006-2.253l1.592-1.593c-0.349-0.248-0.773-0.397-1.233-0.397C25.32,15.36,24.36,16.32,24.36,17.5z M8,9.64H5v0.72h3V9.64z M3.5,21.36h3v-0.72h-3V21.36z M3.5,19.36h3v-0.72h-3V19.36z M22,13.64h-4v0.72h4V13.64z M29,11.64h-4v0.72h4V11.64z M29,9.64h-4 v0.72h4V9.64z M22,9.64h-4v0.72h4V9.64z M8.36,17.584v7.832c0,0.521-0.423,0.944-0.944,0.944H2.584 c-0.521,0-0.944-0.424-0.944-0.944v-7.832c0-0.521,0.423-0.944,0.944-0.944h4.832C7.937,16.64,8.36,17.063,8.36,17.584z M7.64,23.36 H2.36v2.056c0,0.123,0.101,0.224,0.224,0.224h4.832c0.124,0,0.224-0.101,0.224-0.224C7.64,25.416,7.64,23.36,7.64,23.36z M7.64,17.584c0-0.123-0.101-0.224-0.224-0.224H2.584c-0.124,0-0.224,0.101-0.224,0.224v5.056h5.28 C7.64,22.64,7.64,17.584,7.64,17.584z\"></path></svg>\n",
       "</svg>\n",
       "<p>Get started with cost-efficient AI models, tailored for business and optimized for scale</p>\n",
       "<c4d-card-footer color-scheme=\"\" cta-type=\"local\" data-autoid=\"c4d--card-footer\" href=\"https://www.ibm.com/granite?lnk=hpfp5us\" icon-placement=\"right\" parent-href=\"https://www.ibm.com/granite?lnk=hpfp5us\" slot=\"footer\" target=\"_self\">\n",
       "</c4d-card-footer>\n",
       "</c4d-card-group-item>\n",
       "<c4d-card-group-item color-scheme=\"\" cta-type=\"local\" data-autoid=\"c4d--card-group-item\" data-video-modal-type=\"media-center\" grid-mode=\"condensed\" href=\"https://www.ibm.com/consulting?lnk=hpfp6us\" pictogram-placement=\"bottom\" size=\"\" target=\"_self\">\n",
       "<c4d-card-heading aria-level=\"3\" data-autoid=\"c4d--card-heading\" role=\"heading\" slot=\"heading\">\n",
       "                    \n",
       "                    Consulting</c4d-card-heading>\n",
       "<svg class=\"cds--card__pictogram\" focusable=\"false\" height=\"48\" role=\"img\" slot=\"pictogram\" style=\"--colorized-background:url('#g2'); fill: var(--colorized-background)\" width=\"48\">\n",
       "<svg id=\"group\" viewbox=\"0 0 32 32\" xmlns=\"http://www.w3.org/2000/svg\"><path d=\"M24.36,31h-0.72v-7.5c0-3.552-2.414-6.604-5.872-7.424c-0.15-0.036-0.261-0.163-0.275-0.316 c-0.015-0.154,0.071-0.3,0.212-0.363c1.517-0.675,2.496-2.181,2.496-3.836c0-2.316-1.884-4.201-4.2-4.201S11.8,9.244,11.8,11.561 c0,1.655,0.98,3.162,2.496,3.836c0.141,0.063,0.227,0.209,0.212,0.363c-0.014,0.153-0.125,0.281-0.275,0.316 c-3.458,0.82-5.872,3.872-5.872,7.424V31H7.64v-7.5c0-3.592,2.257-6.718,5.585-7.879c-1.326-0.907-2.146-2.421-2.146-4.061 c0-1.964,1.157-3.664,2.826-4.452C14.101,6.617,14.2,6.097,14.2,5.561c0-2.316-1.884-4.201-4.2-4.201S5.799,3.244,5.799,5.561 c0,1.656,0.98,3.162,2.496,3.836C8.437,9.46,8.521,9.606,8.507,9.76c-0.014,0.153-0.125,0.281-0.275,0.316 C4.774,10.896,2.36,13.948,2.36,17.5V25H1.64v-7.5c0-3.592,2.257-6.718,5.585-7.879C5.899,8.714,5.08,7.2,5.08,5.561 c0-2.713,2.207-4.92,4.92-4.92s4.92,2.207,4.92,4.92c0,0.422-0.052,0.836-0.157,1.237c0.791-0.205,1.683-0.205,2.473,0 c-0.104-0.401-0.157-0.815-0.157-1.237c0-2.713,2.208-4.92,4.921-4.92s4.921,2.207,4.921,4.92c0,1.64-0.82,3.154-2.146,4.061 c3.329,1.161,5.586,4.287,5.586,7.879V25H29.64v-7.5c0-3.552-2.414-6.604-5.872-7.424c-0.15-0.036-0.261-0.163-0.275-0.316 c-0.015-0.154,0.071-0.3,0.212-0.363C25.221,8.722,26.2,7.216,26.2,5.561c0-2.316-1.884-4.201-4.2-4.201s-4.2,1.884-4.2,4.201 c0,0.536,0.099,1.056,0.295,1.548c1.669,0.789,2.826,2.488,2.826,4.452c0,1.64-0.82,3.154-2.146,4.061 c3.329,1.161,5.586,4.287,5.586,7.879L24.36,31L24.36,31z\"></path></svg>\n",
       "</svg>\n",
       "<p>Engage with IBM Consulting to design, build and operate high-performing businesses</p>\n",
       "<c4d-card-footer color-scheme=\"\" cta-type=\"local\" data-autoid=\"c4d--card-footer\" href=\"https://www.ibm.com/consulting?lnk=hpfp6us\" icon-placement=\"right\" parent-href=\"https://www.ibm.com/consulting?lnk=hpfp6us\" slot=\"footer\" target=\"_self\">\n",
       "</c4d-card-footer>\n",
       "</c4d-card-group-item>\n",
       "<c4d-card-group-item color-scheme=\"\" cta-type=\"local\" data-autoid=\"c4d--card-group-item\" data-video-modal-type=\"media-center\" grid-mode=\"condensed\" href=\"https://www.ibm.com/analytics?lnk=hpfp7us\" pictogram-placement=\"bottom\" size=\"\" target=\"_self\">\n",
       "<c4d-card-heading aria-level=\"3\" data-autoid=\"c4d--card-heading\" role=\"heading\" slot=\"heading\">\n",
       "                    \n",
       "                    Analytics</c4d-card-heading>\n",
       "<svg class=\"cds--card__pictogram\" focusable=\"false\" height=\"48\" role=\"img\" slot=\"pictogram\" style=\"--colorized-background:url('#g2'); fill: var(--colorized-background)\" width=\"48\">\n",
       "<svg id=\"predictive-analytics\" viewbox=\"0 0 32 32\" xmlns=\"http://www.w3.org/2000/svg\"><path d=\"M31,31.36H1c-0.199,0-0.36-0.161-0.36-0.36 V1h0.72v29.64h4.28v-7.328c-0.576-0.158-1-0.687-1-1.312c0-0.75,0.61-1.36,1.36-1.36c0.364,0,0.694,0.144,0.938,0.377l3.702-2.221 v-8.484c-0.576-0.158-1-0.686-1-1.312c0-0.75,0.61-1.36,1.36-1.36S12.36,8.25,12.36,9c0,0.625-0.424,1.153-1,1.312v8.053l3.33-1.998 c-0.032-0.116-0.05-0.239-0.05-0.366c0-0.75,0.61-1.36,1.36-1.36c0.364,0,0.695,0.144,0.939,0.377l3.701-2.221V6.312 c-0.575-0.158-1-0.686-1-1.312c0-0.75,0.61-1.36,1.36-1.36S22.36,4.25,22.36,5c0,0.625-0.425,1.153-1,1.312v6.053l3.33-1.998 c-0.033-0.117-0.05-0.24-0.05-0.367c0-0.75,0.61-1.36,1.36-1.36s1.36,0.61,1.36,1.36c0,0.625-0.425,1.153-1,1.312V30.64H31V31.36z M21.36,30.64h4.279V11.312c-0.22-0.061-0.418-0.175-0.578-0.328l-3.701,2.221V30.64z M16.36,30.64h4.28V13.636l-3.33,1.998 c0.033,0.116,0.05,0.239,0.05,0.366c0,0.625-0.425,1.153-1,1.312V30.64z M11.36,30.64h4.28V17.312 c-0.22-0.061-0.418-0.175-0.579-0.328l-3.702,2.221V30.64H11.36z M6.36,30.64h4.28V19.636l-3.33,1.998 C7.343,21.75,7.36,21.873,7.36,22c0,0.625-0.424,1.153-1,1.312V30.64z M6,21.36c-0.353,0-0.64,0.287-0.64,0.64S5.647,22.64,6,22.64 S6.64,22.353,6.64,22S6.353,21.36,6,21.36z M16,15.36c-0.353,0-0.64,0.287-0.64,0.64s0.287,0.64,0.64,0.64s0.64-0.287,0.64-0.64 S16.353,15.36,16,15.36z M26,9.36c-0.353,0-0.64,0.287-0.64,0.64s0.287,0.64,0.64,0.64s0.64-0.287,0.64-0.64S26.353,9.36,26,9.36z M11,8.36c-0.353,0-0.64,0.287-0.64,0.64S10.647,9.64,11,9.64S11.64,9.353,11.64,9S11.353,8.36,11,8.36z M21,4.36 c-0.353,0-0.64,0.287-0.64,0.64S20.647,5.64,21,5.64S21.64,5.353,21.64,5S21.353,4.36,21,4.36z\"></path></svg>\n",
       "</svg>\n",
       "<p>Support data-driven decisions for your business</p>\n",
       "<c4d-card-footer color-scheme=\"\" cta-type=\"local\" data-autoid=\"c4d--card-footer\" href=\"https://www.ibm.com/analytics?lnk=hpfp7us\" icon-placement=\"right\" parent-href=\"https://www.ibm.com/analytics?lnk=hpfp7us\" slot=\"footer\" target=\"_self\">\n",
       "</c4d-card-footer>\n",
       "</c4d-card-group-item>\n",
       "<c4d-card-group-item color-scheme=\"\" cta-type=\"local\" data-autoid=\"c4d--card-group-item\" data-video-modal-type=\"media-center\" grid-mode=\"condensed\" href=\"https://www.ibm.com/automation?lnk=hpfp8us\" pictogram-placement=\"bottom\" size=\"\" target=\"_self\">\n",
       "<c4d-card-heading aria-level=\"3\" data-autoid=\"c4d--card-heading\" role=\"heading\" slot=\"heading\">\n",
       "                    \n",
       "                    IT automation</c4d-card-heading>\n",
       "<svg class=\"cds--card__pictogram\" focusable=\"false\" height=\"48\" role=\"img\" slot=\"pictogram\" style=\"--colorized-background:url('#g2'); fill: var(--colorized-background)\" width=\"48\">\n",
       "<svg id=\"automation--decision\" viewbox=\"0 0 32 32\" xmlns=\"http://www.w3.org/2000/svg\"><path d=\"M27.255,19.255L30.509,16l-3.254-3.254l-0.51,0.509l2.386,2.386H16.149L9.36,8.85V5.36h19.771 l-2.386,2.386l0.51,0.509L30.509,5l-3.254-3.254l-0.51,0.509l2.386,2.386H9C8.801,4.64,8.64,4.801,8.64,5v3.85l-6.895,6.896 c-0.141,0.141-0.141,0.368,0,0.509L8.64,23.15V27c0,0.199,0.161,0.36,0.36,0.36h20.131l-2.386,2.385l0.51,0.51L30.509,27 l-3.254-3.255l-0.51,0.51l2.386,2.385H9.36v-3.49l6.789-6.79h12.982l-2.386,2.385L27.255,19.255z M9,22.491L2.509,16L9,9.508 L15.491,16L9,22.491z\"></path></svg>\n",
       "</svg>\n",
       "<p>Discover how automation solutions increase productivity while managing costs\n",
       "</p>\n",
       "<c4d-card-footer color-scheme=\"\" cta-type=\"local\" data-autoid=\"c4d--card-footer\" href=\"https://www.ibm.com/automation?lnk=hpfp8us\" icon-placement=\"right\" parent-href=\"https://www.ibm.com/automation?lnk=hpfp8us\" slot=\"footer\" target=\"_self\">\n",
       "</c4d-card-footer>\n",
       "</c4d-card-group-item>\n",
       "<c4d-card-group-item color-scheme=\"\" cta-type=\"local\" data-autoid=\"c4d--card-group-item\" data-video-modal-type=\"media-center\" grid-mode=\"condensed\" href=\"https://www.ibm.com/servers?lnk=hpfp9us\" pictogram-placement=\"bottom\" size=\"\" target=\"_self\">\n",
       "<c4d-card-heading aria-level=\"3\" data-autoid=\"c4d--card-heading\" role=\"heading\" slot=\"heading\">\n",
       "                    \n",
       "                    Compute &amp; servers</c4d-card-heading>\n",
       "<svg class=\"cds--card__pictogram\" focusable=\"false\" height=\"48\" role=\"img\" slot=\"pictogram\" style=\"--colorized-background:url('#g2'); fill: var(--colorized-background)\" width=\"48\">\n",
       "<svg id=\"storage--product\" viewbox=\"0 0 32 32\" xmlns=\"http://www.w3.org/2000/svg\"><path d=\"M30,31.36H8c-0.199,0-0.36-0.161-0.36-0.36v-5c0-0.199,0.161-0.36,0.36-0.36h22 c0.199,0,0.36,0.161,0.36,0.36v5C30.36,31.199,30.199,31.36,30,31.36z M8.36,30.64h21.28v-4.28H8.36V30.64z M6,31.36H2 c-0.199,0-0.36-0.161-0.36-0.36V1c0-0.199,0.161-0.36,0.36-0.36h11c0.199,0,0.36,0.161,0.36,0.36v9h-0.72V1.36H2.36v29.28H6V31.36z M28.36,30h-0.72v-2h0.721L28.36,30L28.36,30z M26.36,30h-0.72v-2h0.721L26.36,30L26.36,30z M24.36,30h-0.72v-2h0.721L24.36,30 L24.36,30z M22.36,30h-0.72v-2h0.721L22.36,30L22.36,30z M30,24.36H8c-0.199,0-0.36-0.161-0.36-0.36v-5 c0-0.199,0.161-0.36,0.36-0.36h22c0.199,0,0.36,0.161,0.36,0.36v5C30.36,24.199,30.199,24.36,30,24.36z M8.36,23.64h21.28v-4.28 H8.36V23.64z M28.36,23h-0.72v-2h0.721L28.36,23L28.36,23z M26.36,23h-0.72v-2h0.721L26.36,23L26.36,23z M24.36,23h-0.72v-2h0.721 L24.36,23L24.36,23z M22.36,23h-0.72v-2h0.721L22.36,23L22.36,23z M30,17.36H8c-0.199,0-0.36-0.161-0.36-0.36v-5 c0-0.199,0.161-0.36,0.36-0.36h22c0.199,0,0.36,0.161,0.36,0.36v5C30.36,17.199,30.199,17.36,30,17.36z M8.36,16.64h21.28v-4.28 H8.36V16.64z M28.36,16h-0.72v-2h0.721L28.36,16L28.36,16z M26.36,16h-0.72v-2h0.721L26.36,16L26.36,16z M24.36,16h-0.72v-2h0.721 L24.36,16L24.36,16z M22.36,16h-0.72v-2h0.721L22.36,16L22.36,16z M6,4.36H4V3.64h2V4.36z\"></path></svg>\n",
       "</svg>\n",
       "<p>Handle mission-critical workloads while maintaining security, reliability and control of your entire IT infrastructure</p>\n",
       "<c4d-card-footer color-scheme=\"\" cta-type=\"local\" data-autoid=\"c4d--card-footer\" href=\"https://www.ibm.com/servers?lnk=hpfp9us\" icon-placement=\"right\" parent-href=\"https://www.ibm.com/servers?lnk=hpfp9us\" slot=\"footer\" target=\"_self\">\n",
       "</c4d-card-footer>\n",
       "</c4d-card-group-item>\n",
       "<c4d-card-group-item color-scheme=\"\" cta-type=\"local\" data-autoid=\"c4d--card-group-item\" data-video-modal-type=\"media-center\" grid-mode=\"condensed\" href=\"https://www.ibm.com/database?lnk=hpfp10us\" pictogram-placement=\"bottom\" size=\"\" target=\"_self\">\n",
       "<c4d-card-heading aria-level=\"3\" data-autoid=\"c4d--card-heading\" role=\"heading\" slot=\"heading\">\n",
       "                    \n",
       "                    Databases</c4d-card-heading>\n",
       "<svg class=\"cds--card__pictogram\" focusable=\"false\" height=\"48\" role=\"img\" slot=\"pictogram\" style=\"--colorized-background:url('#g2'); fill: var(--colorized-background)\" width=\"48\">\n",
       "<svg id=\"hard--drive--network\" viewbox=\"0 0 32 32\" xmlns=\"http://www.w3.org/2000/svg\"><path d=\"M20,6c-0.552,0-1-0.448-1-1s0.448-1,1-1s1,0.448,1,1S20.552,6,20,6z M21,16 c0-0.552-0.448-1-1-1s-1,0.448-1,1s0.448,1,1,1S21,16.552,21,16z M21,27c0-0.552-0.448-1-1-1s-1,0.448-1,1s0.448,1,1,1 S21,27.552,21,27z M24,31.36H1c-0.199,0-0.36-0.161-0.36-0.36v-8c0-0.199,0.161-0.36,0.36-0.36h23c0.199,0,0.36,0.161,0.36,0.36v8 C24.36,31.199,24.199,31.36,24,31.36z M1.36,30.64h22.28v-7.28H1.36V30.64z M31,27.36h-5v-0.72h4.64V16.36H26v-0.72h4.64V5.36H26 V4.64h5c0.199,0,0.36,0.161,0.36,0.36v22C31.36,27.199,31.199,27.36,31,27.36z M24,20.36H1c-0.199,0-0.36-0.161-0.36-0.36v-8 c0-0.199,0.161-0.36,0.36-0.36h23c0.199,0,0.36,0.161,0.36,0.36v8C24.36,20.199,24.199,20.36,24,20.36z M1.36,19.64h22.28v-7.28 H1.36V19.64z M24,9.36H1C0.801,9.36,0.64,9.199,0.64,9V1c0-0.199,0.161-0.36,0.36-0.36h23c0.199,0,0.36,0.161,0.36,0.36v8 C24.36,9.199,24.199,9.36,24,9.36z M1.36,8.64h22.28V1.36H1.36V8.64z\"></path></svg>\n",
       "</svg>\n",
       "<p>Run your applications, analytics and generative AI with databases on any cloud</p>\n",
       "<c4d-card-footer color-scheme=\"\" cta-type=\"local\" data-autoid=\"c4d--card-footer\" href=\"https://www.ibm.com/database?lnk=hpfp10us\" icon-placement=\"right\" parent-href=\"https://www.ibm.com/database?lnk=hpfp10us\" slot=\"footer\" target=\"_self\">\n",
       "</c4d-card-footer>\n",
       "</c4d-card-group-item>\n",
       "<c4d-card-group-item color-scheme=\"\" cta-type=\"local\" data-autoid=\"c4d--card-group-item\" data-video-modal-type=\"media-center\" grid-mode=\"condensed\" href=\"https://www.ibm.com/security?lnk=hpfp11us\" pictogram-placement=\"bottom\" size=\"\" target=\"_self\">\n",
       "<c4d-card-heading aria-level=\"3\" data-autoid=\"c4d--card-heading\" role=\"heading\" slot=\"heading\">\n",
       "                    \n",
       "                    Security &amp; identity</c4d-card-heading>\n",
       "<svg class=\"cds--card__pictogram\" focusable=\"false\" height=\"48\" role=\"img\" slot=\"pictogram\" style=\"--colorized-background:url('#g2'); fill: var(--colorized-background)\" width=\"48\">\n",
       "<svg id=\"secure--profile\" viewbox=\"0 0 32 32\" xmlns=\"http://www.w3.org/2000/svg\"><path d=\"M23.14,25.415v-1.988c-0.373-0.145-0.64-0.503-0.64-0.927c0-0.552,0.448-1,1-1s1,0.448,1,1 c0,0.424-0.266,0.782-0.64,0.927v1.988c0,0.199-0.161,0.36-0.36,0.36S23.14,25.614,23.14,25.415z M31.36,16v15 c0,0.199-0.161,0.36-0.36,0.36H16c-0.199,0-0.36-0.161-0.36-0.36V19h0.72v11.64h14.28V16.36H1c-0.199,0-0.36-0.161-0.36-0.36V1 c0-0.199,0.161-0.36,0.36-0.36h15c0.199,0,0.36,0.161,0.36,0.36v12h-0.72V1.36H1.36v14.28h2.28v-2.639 c0-1.926,1.166-3.659,2.908-4.427C5.978,8.04,5.643,7.293,5.643,6.5c0-1.577,1.283-2.86,2.86-2.86s2.86,1.283,2.86,2.86 c0,0.794-0.335,1.542-0.907,2.075c1.74,0.77,2.904,2.502,2.904,4.426v2.639h6.28V11.5c0-2.128,1.731-3.86,3.859-3.86 c2.129,0,3.861,1.731,3.861,3.86l-0.001,4.14H31C31.199,15.64,31.36,15.801,31.36,16z M12.64,13.001c0-1.837-1.25-3.47-3.041-3.97 c-0.141-0.04-0.244-0.16-0.261-0.306C9.321,8.58,9.395,8.439,9.523,8.369c0.69-0.379,1.12-1.095,1.12-1.869 c0-1.18-0.96-2.14-2.14-2.14s-2.14,0.96-2.14,2.14c0,0.773,0.429,1.489,1.119,1.868c0.128,0.07,0.201,0.211,0.184,0.357 C7.648,8.87,7.545,8.991,7.404,9.03C5.612,9.529,4.36,11.162,4.36,13.001v2.639h8.28C12.64,15.64,12.64,13.001,12.64,13.001z M26.64,11.5c0-1.731-1.408-3.14-3.14-3.14s-3.14,1.409-3.14,3.14v4.14h6.278L26.64,11.5z\"></path></svg>\n",
       "</svg>\n",
       "<p>Secure hybrid cloud and AI with data and identity-centric cybersecurity solutions</p>\n",
       "<c4d-card-footer color-scheme=\"\" cta-type=\"local\" data-autoid=\"c4d--card-footer\" href=\"https://www.ibm.com/security?lnk=hpfp11us\" icon-placement=\"right\" parent-href=\"https://www.ibm.com/security?lnk=hpfp11us\" slot=\"footer\" target=\"_self\">\n",
       "</c4d-card-footer>\n",
       "</c4d-card-group-item>\n",
       "</c4d-card-group>\n",
       "</div>\n",
       "<div horizontal-ruler=\"\">\n",
       "<c4d-hr></c4d-hr>\n",
       "</div>\n",
       "<script defer=\"\" src=\"/etc.clientlibs/adobe-cms/clientlibs/clientlib-card-group.lc-82f9f811e171443d47259882bce34c39-lc.min.js\"></script>\n",
       "<svg class=\"cds--visually-hidden\">\n",
       "<defs>\n",
       "<lineargradient id=\"g1\" x1=\"0%\" x2=\"0%\" y1=\"0%\" y2=\"100%\">\n",
       "<stop offset=\"0%\" stop-color=\"#0F62FE\"></stop>\n",
       "<stop offset=\"100%\" stop-color=\"#8A3FFC\"></stop>\n",
       "</lineargradient>\n",
       "<lineargradient id=\"g1-dark\" x1=\"0%\" x2=\"0%\" y1=\"0%\" y2=\"100%\">\n",
       "<stop offset=\"0%\" stop-color=\"#4589FF\"></stop>\n",
       "<stop offset=\"100%\" stop-color=\"#A56EFF\"></stop>\n",
       "</lineargradient>\n",
       "<lineargradient id=\"g2\" x1=\"0%\" x2=\"0%\" y1=\"0%\" y2=\"100%\">\n",
       "<stop offset=\"0%\" stop-color=\"#0F62FE\"></stop>\n",
       "<stop offset=\"100%\" stop-color=\"#78A9FF\"></stop>\n",
       "</lineargradient>\n",
       "<lineargradient id=\"g2-dark\" x1=\"0%\" x2=\"0%\" y1=\"0%\" y2=\"100%\">\n",
       "<stop offset=\"0%\" stop-color=\"#0F62FE\"></stop>\n",
       "<stop offset=\"100%\" stop-color=\"#78A9FF\"></stop>\n",
       "</lineargradient>\n",
       "<lineargradient id=\"g3\" x1=\"0%\" x2=\"0%\" y1=\"0%\" y2=\"100%\">\n",
       "<stop offset=\"0%\" stop-color=\"#0F62FE\"></stop>\n",
       "<stop offset=\"100%\" stop-color=\"#08BDBA\"></stop>\n",
       "</lineargradient>\n",
       "<lineargradient id=\"g3-dark\" x1=\"0%\" x2=\"0%\" y1=\"0%\" y2=\"100%\">\n",
       "<stop offset=\"0%\" stop-color=\"#4589FF\"></stop>\n",
       "<stop offset=\"100%\" stop-color=\"#08BDBA\"></stop>\n",
       "</lineargradient>\n",
       "<lineargradient id=\"g4\" x1=\"0%\" x2=\"0%\" y1=\"0%\" y2=\"100%\">\n",
       "<stop offset=\"0%\" stop-color=\"#0F62FE\"></stop>\n",
       "<stop offset=\"100%\" stop-color=\"#FF7EB6\"></stop>\n",
       "</lineargradient>\n",
       "<lineargradient id=\"g4-dark\" x1=\"0%\" x2=\"0%\" y1=\"0%\" y2=\"100%\">\n",
       "<stop offset=\"0%\" stop-color=\"#4589FF\"></stop>\n",
       "<stop offset=\"100%\" stop-color=\"#EE5396\"></stop>\n",
       "</lineargradient>\n",
       "<lineargradient id=\"g5\" x1=\"0%\" x2=\"0%\" y1=\"0%\" y2=\"100%\">\n",
       "<stop offset=\"0%\" stop-color=\"#FA4D56\"></stop>\n",
       "<stop offset=\"100%\" stop-color=\"#A56EFF\"></stop>\n",
       "</lineargradient>\n",
       "<lineargradient id=\"g5-dark\" x1=\"0%\" x2=\"0%\" y1=\"0%\" y2=\"100%\">\n",
       "<stop offset=\"0%\" stop-color=\"#FA4D56\"></stop>\n",
       "<stop offset=\"100%\" stop-color=\"#A56EFF\"></stop>\n",
       "</lineargradient>\n",
       "</defs>\n",
       "</svg></div>\n",
       "<div class=\"cta-section themed-block theme-white thick-stat thin-stat\">\n",
       "<c4d-cta-block class=\"title-plus-3-items-layout\" no-border=\"\">\n",
       "<c4d-content-block-heading class=\"\">\n",
       "            \n",
       "            \n",
       "\n",
       "     \n",
       "    Inside IBM\n",
       "\n",
       "\n",
       "\n",
       "\n",
       "    \n",
       "\n",
       "\n",
       "        </c4d-content-block-heading>\n",
       "<c4d-cta-block-item-row no-border=\"\">\n",
       "<c4d-cta-block-item>\n",
       "<c4d-content-item-heading>\n",
       "        \n",
       "\n",
       "\n",
       "\n",
       "  \n",
       "    Our company\n",
       "\n",
       "\n",
       "\n",
       "\n",
       "\n",
       "\n",
       "    \n",
       "\n",
       "\n",
       "    </c4d-content-item-heading>\n",
       "<c4d-content-item-copy>\n",
       "<c4d-content-item-paragraph>\n",
       "<div class=\"cms-richtext\" data-dynamic-inner-content=\"description\" id=\"rich-text-fa074a9752\">\n",
       "<p>Explore IBM history and culture of putting technology to work in the real world.</p>\n",
       "</div>\n",
       "</c4d-content-item-paragraph>\n",
       "</c4d-content-item-copy>\n",
       "<a href=\"https://www.ibm.com/about?lnk=hpii1us\" slot=\"footer\" style=\"display: contents\" target=\"_self\">\n",
       "<c4d-text-cta cta-type=\"local\" data-dynamic-inner-content=\"ctaLabel\" data-dynamic-properties='{\"ctaUrl\":\"href\"}' data-video-modal-type=\"media-center\" href=\"https://www.ibm.com/about?lnk=hpii1us\" icon-placement=\"right\" target=\"_self\">About IBM\n",
       "                \n",
       "            </c4d-text-cta>\n",
       "</a>\n",
       "<a href=\"https://www.ibm.com/history?lnk=hpii1us\" slot=\"footer\" style=\"display: contents\" target=\"_self\">\n",
       "<c4d-text-cta cta-type=\"local\" data-dynamic-inner-content=\"ctaLabel\" data-dynamic-properties='{\"ctaUrl\":\"href\"}' data-video-modal-type=\"media-center\" href=\"https://www.ibm.com/history?lnk=hpii1us\" icon-placement=\"right\" target=\"_self\">Our history\n",
       "                \n",
       "            </c4d-text-cta>\n",
       "</a>\n",
       "</c4d-cta-block-item>\n",
       "<script defer=\"\" src=\"/etc.clientlibs/adobe-cms/clientlibs/clientlib-cta-block.lc-ecf0ce43aebe9a4834fe111c364979de-lc.min.js\"></script>\n",
       "<c4d-cta-block-item>\n",
       "<c4d-content-item-heading>\n",
       "        \n",
       "\n",
       "\n",
       "\n",
       "  \n",
       "    Our innovations\n",
       "\n",
       "\n",
       "\n",
       "\n",
       "\n",
       "\n",
       "    \n",
       "\n",
       "\n",
       "    </c4d-content-item-heading>\n",
       "<c4d-content-item-copy>\n",
       "<c4d-content-item-paragraph>\n",
       "<div class=\"cms-richtext\" data-dynamic-inner-content=\"description\" id=\"rich-text-77395c58ee\">\n",
       "<p>Visit the IBM lab, and see what's in store for the future of computing.</p>\n",
       "</div>\n",
       "</c4d-content-item-paragraph>\n",
       "</c4d-content-item-copy>\n",
       "<a href=\"https://research.ibm.com?lnk=hpii1us\" slot=\"footer\" style=\"display: contents\" target=\"_blank\">\n",
       "<c4d-text-cta cta-type=\"external\" data-dynamic-inner-content=\"ctaLabel\" data-dynamic-properties='{\"ctaUrl\":\"href\"}' data-video-modal-type=\"media-center\" href=\"https://research.ibm.com?lnk=hpii1us\" icon-placement=\"right\" target=\"_blank\">IBM Research\n",
       "                \n",
       "            </c4d-text-cta>\n",
       "</a>\n",
       "<a href=\"https://www.ibm.com/quantum?lnk=hpii1us\" slot=\"footer\" style=\"display: contents\" target=\"_self\">\n",
       "<c4d-text-cta cta-type=\"local\" data-dynamic-inner-content=\"ctaLabel\" data-dynamic-properties='{\"ctaUrl\":\"href\"}' data-video-modal-type=\"media-center\" href=\"https://www.ibm.com/quantum?lnk=hpii1us\" icon-placement=\"right\" target=\"_self\">Quantum computing\n",
       "                \n",
       "            </c4d-text-cta>\n",
       "</a>\n",
       "</c4d-cta-block-item>\n",
       "<c4d-cta-block-item>\n",
       "<c4d-content-item-heading>\n",
       "        \n",
       "\n",
       "\n",
       "\n",
       "  \n",
       "    Our people\n",
       "\n",
       "\n",
       "\n",
       "\n",
       "\n",
       "\n",
       "    \n",
       "\n",
       "\n",
       "    </c4d-content-item-heading>\n",
       "<c4d-content-item-copy>\n",
       "<c4d-content-item-paragraph>\n",
       "<div class=\"cms-richtext\" data-dynamic-inner-content=\"description\" id=\"rich-text-4b244d2cb1\">\n",
       "<p>See what it takes to become an IBMer, or build your skills with our educational courses.</p>\n",
       "</div>\n",
       "</c4d-content-item-paragraph>\n",
       "</c4d-content-item-copy>\n",
       "<a href=\"https://www.ibm.com/careers?lnk=hpii1us\" slot=\"footer\" style=\"display: contents\" target=\"_self\">\n",
       "<c4d-text-cta cta-type=\"local\" data-dynamic-inner-content=\"ctaLabel\" data-dynamic-properties='{\"ctaUrl\":\"href\"}' data-video-modal-type=\"media-center\" href=\"https://www.ibm.com/careers?lnk=hpii1us\" icon-placement=\"right\" target=\"_self\">Become an IBMer\n",
       "                \n",
       "            </c4d-text-cta>\n",
       "</a>\n",
       "<a href=\"https://skillsbuild.org?lnk=hpii1us\" slot=\"footer\" style=\"display: contents\" target=\"_blank\">\n",
       "<c4d-text-cta cta-type=\"external\" data-dynamic-inner-content=\"ctaLabel\" data-dynamic-properties='{\"ctaUrl\":\"href\"}' data-video-modal-type=\"media-center\" href=\"https://skillsbuild.org?lnk=hpii1us\" icon-placement=\"right\" target=\"_blank\">Start learning\n",
       "                \n",
       "            </c4d-text-cta>\n",
       "</a>\n",
       "</c4d-cta-block-item>\n",
       "</c4d-cta-block-item-row>\n",
       "</c4d-cta-block>\n",
       "</div>\n",
       "<div class=\"modular-container container responsivegrid\">\n",
       "<div class=\"cmp-container\" id=\"modular-container-a52a8f8e58\">\n",
       "<div class=\"standalone-text rich-text text\">\n",
       "</div>\n",
       "</div>\n",
       "</div>\n",
       "<div class=\"accordion-container\">\n",
       "<div class=\"cds--content-block\">\n",
       "<div class=\"cds--full-width-intro-container\">\n",
       "</div>\n",
       "<div class=\"cds--content-item\" data-autoid=\"c4d--content-item\">\n",
       "<cds-accordion role=\"list\" size=\"null\">\n",
       "<cds-accordion-item label=\"Footnotes\" role=\"listitem\" size=\"null\" title=\"Footnotes\">\n",
       "<span slot=\"title\">\n",
       "<strong>Footnotes</strong>\n",
       "</span>\n",
       "<div class=\"accordion-item-container nested-container container responsivegrid\">\n",
       "<div class=\"cms-richtext\" data-dynamic-inner-content=\"description\" id=\"rich-text-64c6404bbc\">\n",
       "<p><sup>1</sup> <a href=\"https://www.ft.com/partnercontent/ibm/how-smaller-industry-tailored-ai-models-can-offer-greater-benefits.html\"><span class=\"ibm_icon_launch_external_after\">https://www.ft.com/partnercontent/ibm/how-smaller-industry-tailored-ai-models-can-offer-greater-benefits.html</span></a></p>\n",
       "</div>\n",
       "</div>\n",
       "</cds-accordion-item>\n",
       "</cds-accordion>\n",
       "<script defer=\"\" src=\"/etc.clientlibs/adobe-cms/clientlibs/clientlib-cweb-accordion.lc-a61a29b6302364d4d4b49e63064d046e-lc.min.js\"></script>\n",
       "</div>\n",
       "</div></div>\n",
       "</div>\n",
       "</c4d-table-of-contents>\n",
       "<script defer=\"\" src=\"/etc.clientlibs/adobe-cms/clientlibs/clientlib-table-of-contents.lc-b78e1d1c82743659196218dac416b46a-lc.min.js\"></script>\n",
       "</div>\n",
       "<div class=\"footer\">\n",
       "<c4d-footer-container class=\"cmp-footer\" data-autoid=\"c4d--footer\" data-children-count=\"0\" data-cmp-is=\"footer\" size=\"tall\"></c4d-footer-container>\n",
       "<script defer=\"\" src=\"/etc.clientlibs/adobe-cms/clientlibs/clientlib-footer.lc-cc76e4207e1b1a08f19998b20bbb9d3a-lc.min.js\"></script>\n",
       "</div>\n",
       "</div>\n",
       "</div>\n",
       "</c4d-video-cta-container>\n",
       "<div aria-hidden=\"true\" class=\"video-modal-overlay\">\n",
       "<div class=\"video-modal-overlay__dialog\">\n",
       "<div class=\"video-modal-overlay__dialog--body\">\n",
       "<div class=\"video-modal-overlay__dialog--body__close-btn\">\n",
       "<svg fill=\"none\" height=\"24\" viewbox=\"0 0 24 24\" width=\"24\" xmlns=\"http://www.w3.org/2000/svg\">\n",
       "<rect fill=\"white\" fill-opacity=\"0.01\" height=\"24\" style=\"mix-blend-mode:multiply\" width=\"24\"></rect>\n",
       "<path d=\"M13.0606 12L19.5 5.56058L18.4394 4.5L12 10.9394L5.56072 4.5L4.5 5.56058L10.9394 12L4.5 18.4394L5.56072 19.5L12 13.0606L18.4394 19.5L19.5 18.4394L13.0606 12Z\" fill=\"#161616\" id=\"Vector\"></path>\n",
       "</svg>\n",
       "</div>\n",
       "<div class=\"video-modal-overlay__dialog--body-content\">\n",
       "<div class=\"video-modal-overlay__loading-container\">\n",
       "<cds-loading></cds-loading>\n",
       "</div>\n",
       "<div class=\"video-wms hide\">\n",
       "<iframe allowfullscreen=\"\" class=\"video-modal-content\" data-original-src=\"https://video.ibm.com/embed/$[wmsChanneId]?volume=0&amp;autoplay=true&amp;controls=true\" frameborder=\"no\" referrerpolicy=\"no-referrer-when-downgrade\" src=\"\" webkitallowfullscreen=\"\"></iframe>\n",
       "</div>\n",
       "<div class=\"video-media-center hide\">\n",
       "<c4d-video-player-container aspect-ratio=\"16x9\" auto-play=\"\" muted=\"\" playing-mode=\"inline\" video-id=\"\"></c4d-video-player-container>\n",
       "</div>\n",
       "</div>\n",
       "</div>\n",
       "</div>\n",
       "</div>\n",
       "<script defer=\"\" src=\"/etc.clientlibs/adobe-cms/clientlibs/clientlib-video-player.lc-9cf8e60f82b47062a05d76f8a2161787-lc.min.js\"></script>\n",
       "<script defer=\"\" src=\"/etc.clientlibs/adobe-cms/clientlibs/clientlib-cweb-loading.lc-ca618eb7785b83e9cfb87f1d1683e7cd-lc.min.js\"></script>\n",
       "<c4d-lightbox-video-player-container></c4d-lightbox-video-player-container>\n",
       "<script src=\"/etc.clientlibs/adobe-cms/clientlibs/clientlib-idlBundle.lc-f720c930f09453060e1c386a0ad5a4d8-lc.min.js\"></script>\n",
       "<script src=\"/etc.clientlibs/adobe-cms/clientlibs/clientlib-base.lc-af096d2ee96db104c83e042c4f605e19-lc.min.js\"></script>\n",
       "<script src=\"/etc.clientlibs/adobe-cms/clientlibs/clientlib-idlStyles.lc-1d648f98e300fe3f89aa86c28a3a69f9-lc.min.js\"></script>\n",
       "<script src=\"/etc.clientlibs/adobe-cms/components/poc/ibm-image-dm/clientlibs/site.lc-96f41d35e09f648917c6d3f54d19b8c1-lc.min.js\"></script>\n",
       "<script async=\"\" defer=\"\" src=\"https://www.ibm.com/common/digitaladvisor/cm-app/latest/cm-app.min.js\"></script>\n",
       "<script defer=\"\" src=\"/etc.clientlibs/adobe-cms/clientlibs/clientlib-cweb-code-snippet.lc-d1f19e3766d5ef4bb40f94c6a51b5bbf-lc.min.js\"></script>\n",
       "<script defer=\"\" src=\"/etc.clientlibs/adobe-cms/clientlibs/clientlib-pdfviewer.lc-5ce3caa19f9ba8fd42f9f97caabf9d34-lc.min.js\"></script>\n",
       "<!-- Added for Adobe analytics implementation ADCMS-5834\n",
       "<script type=\"text/javascript\">\n",
       "\n",
       "    adobeDataLayer.push({\n",
       "        \"event\": \"linkClick\",\n",
       "        \"web\": {\n",
       "            \"webPageDetails\": {\n",
       "                \"URL\": document.URL,\n",
       "                \"name\": \"home\"\n",
       "            },\n",
       "            \"webInteraction\": {\n",
       "                \"linkClick\":\"event\",\n",
       "                \"value\":\"1\",\n",
       "                \"type\": \"other\",\n",
       "                \"URL\": document.URL,\n",
       "                \"name\": \"linkClick: \" +  document.URL\n",
       "            }\n",
       "        },\n",
       "    })\n",
       "</script>  !-->\n",
       "<!-- Added for Adobe analytics implementation ADCMS-5834 & ADCMS-6152 !-->\n",
       "<script type=\"text/javascript\">\n",
       "    document.addEventListener(\"DOMContentLoaded\", function() {\n",
       "        var templatePath = \"\\/conf\\/adobe\\u002Dcms\\u002Deditable\\/settings\\/wcm\\/templates\\/full\\u002Dwidth\\u002Dlayout\";\n",
       "        var templateName = templatePath.split('/').pop();\n",
       "        const currentUrl = document.URL;\n",
       "        const [baseUrl, queryString] = currentUrl.split('?');\n",
       "        const urlWithoutProtocolAndDomain = baseUrl.replace(/^https?:\\/\\/[^\\/]+\\//, '');\n",
       "        const segments = urlWithoutProtocolAndDomain.split('/').filter(segment => segment);\n",
       "        const localePattern = /^[a-z]{2}-[a-z]{2}$/;\n",
       "        const cleanedSegments = segments.filter(segment => !localePattern.test(segment));\n",
       "        const firstSegment = cleanedSegments[0] || \"\";\n",
       "        const secondSegment = cleanedSegments[1] || \"\";\n",
       "        const thirdSegment = cleanedSegments[2] || \"\";\n",
       "        const lastModified = \"Tue May 06 15:47:06 UTC 2025\";\n",
       "        var isoDate=\"\";\n",
       "        if (lastModified.includes(\"UTC\")) {\n",
       "               const date = new Date(lastModified);\n",
       "               isoDate = date.toISOString();\n",
       "        } else {\n",
       "                 isoDate = lastModified;\n",
       "        }\n",
       "\n",
       "        if (currentUrl.includes(\"/products\")) {\n",
       "            callProductPageLoadEvent();\n",
       "        }\n",
       "\n",
       "        function callProductPageLoadEvent(){\n",
       "            adobeDataLayer.push({\n",
       "                \"event\": \"productPageLoad\",\n",
       "                \"commerce\": {\n",
       "                    \"productViews\": {\n",
       "                        \"value\": 1\n",
       "                     }\n",
       "                },\n",
       "                \"productListItems\": {\n",
       "                    \"name\": secondSegment,\n",
       "                    \"productCategories\": {\n",
       "                        \"categoryName\": thirdSegment\n",
       "                    }\n",
       "                },\n",
       "                \"web\": {\n",
       "                    \"webPageDetails\": {\n",
       "                        \"URL\": document.URL,\n",
       "                        \"name\": cleanUrl(window.location.host) + \" | \" + templateName + \" | Homepage\",\n",
       "                        \"siteSection\": firstSegment\n",
       "                    },\n",
       "                    \"webReferrer\": {\n",
       "                        \"URL\": document.referrer\n",
       "                    }\n",
       "                }\n",
       "            });\n",
       "        }\n",
       "\n",
       "        function getCookieByName(name) {\n",
       "            const cookieArr = document.cookie.split(';');\n",
       "            for (let i = 0; i < cookieArr.length; i++) {\n",
       "                const cookie = cookieArr[i].trim();\n",
       "                if (cookie.startsWith(name + \"=\")) {\n",
       "                    return cookie.substring(name.length + 1);\n",
       "                }\n",
       "            }\n",
       "            return null;\n",
       "        }\n",
       "\n",
       "        function getContextCookie(name) {\n",
       "  \t\t    const cookieArr = document.cookie.split(';');\n",
       "            for (let i = 0; i < cookieArr.length; i++) {\n",
       "              const cookie = cookieArr[i].trim();\n",
       "              if (cookie.startsWith(name + \"=\")) {\n",
       "                  const value = cookie.substring(name.length + 1);\n",
       "                  if (value.includes(\"0:\")) return \"false\";\n",
       "                  return (value.includes(\"2:\") || value.includes(\"1:\")) ? \"true\" : \"false\";\n",
       "              }\n",
       "            }\n",
       "            return \"false\";\n",
       "        }\n",
       "\n",
       "        function cleanUrl(url) {\n",
       "            let modifiedUrl = url;\n",
       "            if (modifiedUrl.startsWith(\"www\")) {\n",
       "                modifiedUrl = modifiedUrl.replace(/^www\\.?/, \"\");\n",
       "            }\n",
       "            return modifiedUrl;\n",
       "        }\n",
       "\n",
       "        /* */\n",
       "\n",
       "        window.addEventListener('load', function () {\n",
       "            setTimeout(initializeDDSTracking, 1000);\n",
       "        });\n",
       "\n",
       "        if (!window.ddsVideoTrackingInitialized) {\n",
       "            window.ddsVideoTrackingInitialized = false;\n",
       "        }\n",
       "\n",
       "        function initializeDDSTracking() {\n",
       "            if (window.ddsVideoTrackingInitialized) return;\n",
       "            window.ddsVideoTrackingInitialized = true;\n",
       "            var videoPlayers = document.querySelectorAll('caem-video-player, c4d-video-player');\n",
       "            console.log('Found ' + videoPlayers.length + ' video players.');\n",
       "            for (var i = 0; i < videoPlayers.length; i++) {\n",
       "                (function (videoPlayer, index) {\n",
       "                    var videoName = videoPlayer.getAttribute('name') || \"Video \" + (index + 1);\n",
       "                    var playingMode = videoPlayer.getAttribute('playing-mode') || \"\";\n",
       "                    console.log('Processing video player: ' + videoName);\n",
       "                    function pushVideoEvent(eventType) {\n",
       "                        console.log('Pushing event: ' + eventType + ' for ' + videoName);\n",
       "                            adobeDataLayer.push({\n",
       "                                \"event\": eventType,\n",
       "                                    \"_ibm\": {\n",
       "                                        \"video\": {\n",
       "                                            \"videoName\": videoName,\n",
       "                                            \"videoType\": \"mp4\",\n",
       "                                            \"videoPublishDate\": isoDate,\n",
       "                                            \"videoEditDate\": isoDate,\n",
       "                                            \"videoPlaylistName\": \"\",\n",
       "                                            \"videoPlayType\": playingMode,\n",
       "                                            \"videoTagKeywords\": \"video-container\",\n",
       "                                            [eventType]: {\n",
       "                                                  \"value\": 1\n",
       "                                            }\n",
       "                                        },\n",
       "                                        \"user\": {\n",
       "                                            \"userAgent\": navigator.userAgent,\n",
       "                                            \"loginStatus\": digitalData.user.segment.isAuthenticated ? \"logged in\" : \"logged out\"\n",
       "                                        }\n",
       "                                    },\n",
       "                                    \"web\": {\n",
       "                                        \"webPageDetails\": {\n",
       "                                             \"URL\": document.URL,\n",
       "                                             \"name\": cleanUrl(window.location.host) + \" | \" + templateName + \" | \" + \"Homepage\" ,\n",
       "                                             \"siteSection\": firstSegment\n",
       "                                        },\n",
       "                                        \"webReferrer\": {\n",
       "                                            \"URL\": document.referrer\n",
       "                                        }\n",
       "                                    }\n",
       "                            });\n",
       "                    }\n",
       "\n",
       "                function checkForVideo(container) {\n",
       "                    var iframe = container.querySelector('iframe');\n",
       "                    if (!iframe) return null;\n",
       "\n",
       "                    try {\n",
       "                            return iframe.contentDocument ? iframe.contentDocument.querySelector('video') : null;\n",
       "                        } catch (e) {\n",
       "                            console.error('Unable to access iframe content for ' + videoName + ':', e);\n",
       "                            return null;\n",
       "                        }\n",
       "                }\n",
       "\n",
       "                function trackVideoProgress(video) {\n",
       "                    if (video.hasTracking) return;\n",
       "                    video.hasTracking = true;\n",
       "\n",
       "                    var milestones = {\n",
       "                        reachedStart: false,\n",
       "                        reached25: false,\n",
       "                        reached50: false,\n",
       "                        reached75: false,\n",
       "                        completed: false\n",
       "                    };\n",
       "\n",
       "                    var handleFirstPlay = function () {\n",
       "                            if (!milestones.reachedStart) {\n",
       "                                milestones.reachedStart = true;\n",
       "                                pushVideoEvent(\"videoStart\");\n",
       "                            }\n",
       "                    };\n",
       "\n",
       "                    video.addEventListener(\"playing\", handleFirstPlay, {\n",
       "                        once: true\n",
       "                    });\n",
       "\n",
       "                    if (!video.paused) {\n",
       "                        handleFirstPlay();\n",
       "                    }\n",
       "\n",
       "                    video.addEventListener(\"timeupdate\", function () {\n",
       "                        var percentageWatched = (video.currentTime / video.duration) * 100;\n",
       "\n",
       "                        if (percentageWatched >= 25 && !milestones.reached25) {\n",
       "                            milestones.reached25 = true;\n",
       "                            pushVideoEvent(\"video25\");\n",
       "                        }\n",
       "\n",
       "                        if (percentageWatched >= 50 && !milestones.reached50) {\n",
       "                            milestones.reached50 = true;\n",
       "                            pushVideoEvent(\"video50\");\n",
       "                        }\n",
       "\n",
       "                        if (percentageWatched >= 75 && !milestones.reached75) {\n",
       "                            milestones.reached75 = true;\n",
       "                            pushVideoEvent(\"video75\");\n",
       "                        }\n",
       "\n",
       "                        if (percentageWatched >= 100 && !milestones.completed) {\n",
       "                            milestones.completed = true;\n",
       "                            video.removeEventListener(\"timeupdate\", arguments.callee);\n",
       "                            pushVideoEvent(\"videoComplete\");\n",
       "                        }\n",
       "                    });\n",
       "                }\n",
       "\n",
       "                function setupVideoTracking() {\n",
       "                    setTimeout(function () {\n",
       "                        var container = videoPlayer.querySelector('.kWidgetIframeContainer');\n",
       "                        if (!container) {\n",
       "                            console.log('No video container found inside ' + videoName);\n",
       "                            return;\n",
       "                        }\n",
       "\n",
       "                        var video = checkForVideo(container);\n",
       "                        if (video) {\n",
       "                            trackVideoProgress(video);\n",
       "                        } else {\n",
       "                            console.log('No video found inside ' + videoName);\n",
       "                        }\n",
       "                    }, 3000);\n",
       "                }\n",
       "\n",
       "                var container = videoPlayer.querySelector('.kWidgetIframeContainer');\n",
       "                if (container && checkForVideo(container)) {\n",
       "                    setupVideoTracking();\n",
       "                } else {\n",
       "                         videoPlayer.addEventListener('click', function () {\n",
       "                            if (!videoPlayer.videoTrackingStarted) {\n",
       "                                   videoPlayer.videoTrackingStarted = true;\n",
       "                                    setupVideoTracking();\n",
       "                            }\n",
       "                        }, { once: true });\n",
       "                }\n",
       "\n",
       "              })(videoPlayers[i], i);\n",
       "            }\n",
       "        }\n",
       "        /*  */\n",
       "\n",
       "        function getVisitDepth() {\n",
       "            let pageVisitCount = sessionStorage.getItem('pageVisitCount');\n",
       "            pageVisitCount = pageVisitCount ? parseInt(pageVisitCount, 10) : 0;\n",
       "            pageVisitCount++;\n",
       "            sessionStorage.setItem('pageVisitCount', pageVisitCount);\n",
       "            return pageVisitCount;\n",
       "        }\n",
       "\n",
       "        function getAmPm() {\n",
       "            const date = new Date();\n",
       "            const hours = date.getHours();\n",
       "            return hours >= 12 ? \"PM\" : \"AM\";\n",
       "        }\n",
       "\n",
       "        function getCurrentDay() {\n",
       "            const date = new Date();\n",
       "            return new Intl.DateTimeFormat('en-US', { weekday: 'long' }).format(date);\n",
       "        }\n",
       "\n",
       "        function getDayOfMonth() {\n",
       "            const date = new Date();\n",
       "            return date.getDate();\n",
       "        }\n",
       "\n",
       "        function getDayOfWeekAsInteger() {\n",
       "            const date = new Date();\n",
       "            return date.getDay();\n",
       "        }\n",
       "\n",
       "        function getDayOfYear() {\n",
       "            const date = new Date();\n",
       "            const startOfYear = new Date(date.getFullYear(), 0, 1);\n",
       "            const diffInMillis = date - startOfYear;\n",
       "            const dayOfYear = Math.floor(diffInMillis / (1000 * 60 * 60 * 24)) + 1;\n",
       "            return dayOfYear;\n",
       "        }\n",
       "\n",
       "        function getCurrentHour() {\n",
       "            var currentHour = new Date().getHours();\n",
       "            var formattedHour = (currentHour === 0 ? 24 : currentHour);\n",
       "            return formattedHour + \":00\";\n",
       "        }\n",
       "\n",
       "        function getCurrentHourInADay() {\n",
       "            const date = new Date();\n",
       "            let hours = date.getHours();\n",
       "            const period = hours >= 12 ? \"PM\" : \"AM\";\n",
       "            hours = hours % 12 || 12;\n",
       "            return hours +\":00\" +\" \" + period;\n",
       "        }\n",
       "\n",
       "        function getCurrentMinute() {\n",
       "            const date = new Date();\n",
       "            return date.getMinutes();\n",
       "        }\n",
       "\n",
       "        function getCurrentMonth() {\n",
       "            const date = new Date();\n",
       "            return date.getMonth() + 1;\n",
       "        }\n",
       "\n",
       "        function printCurrentMonthName() {\n",
       "            const months = [\"January\", \"February\", \"March\", \"April\", \"May\", \"June\",\n",
       "                    \"July\", \"August\", \"September\", \"October\", \"November\", \"December\"];\n",
       "            const date = new Date();\n",
       "            const monthName = months[date.getMonth()];\n",
       "            return monthName;\n",
       "        }\n",
       "\n",
       "        function getQuarter(date = new Date()) {\n",
       "            var year = date.getFullYear();\n",
       "            var quarters = [\n",
       "                            { start: \"Jan\", end: \"Mar\" },\n",
       "                            { start: \"Apr\", end: \"Jun\" },\n",
       "                            { start: \"Jul\", end: \"Sep\" },\n",
       "                            { start: \"Oct\", end: \"Dec\" }\n",
       "                           ];\n",
       "\n",
       "            var quarterIndex = Math.floor(date.getMonth() / 3);\n",
       "            var start = quarters[quarterIndex].start;\n",
       "            var end = quarters[quarterIndex].end;\n",
       "            return start + \" \" + year + \" - \" + end + \" \" + year;\n",
       "        }\n",
       "\n",
       "        function getCurrentQuarter() {\n",
       "            const date = new Date();\n",
       "            const month = date.getMonth();\n",
       "            const quarter = Math.floor(month / 3) + 1;\n",
       "            return quarter;\n",
       "        }\n",
       "\n",
       "        function getCurrentWeek() {\n",
       "            const date = new Date();\n",
       "            const startOfYear = new Date(date.getFullYear(), 0, 1);\n",
       "            const diff = date - startOfYear;\n",
       "            const oneWeekInMillis = 1000 * 60 * 60 * 24 * 7;\n",
       "            const weekNumber = Math.ceil(diff / oneWeekInMillis);\n",
       "            return weekNumber;\n",
       "        }\n",
       "\n",
       "        function getDayType() {\n",
       "            const date = new Date();\n",
       "            const dayOfWeek = date.getDay();\n",
       "             if (dayOfWeek === 0 || dayOfWeek === 6) {\n",
       "                return \"Weekend\";\n",
       "             } else {\n",
       "                        return \"Weekday\";\n",
       "                    }\n",
       "        }\n",
       "\n",
       "        function getCurrentYear() {\n",
       "            const date = new Date();\n",
       "            return date.getFullYear();\n",
       "        }\n",
       "\n",
       "        function generateUtCodesObject() {\n",
       "            const utCodesMeta = document.querySelector('meta[name=\"ut-codes\"]');\n",
       "            const utCodesIdMeta = document.querySelector('meta[name=\"ut-codes-id\"]');\n",
       "            if (utCodesMeta && utCodesIdMeta) {\n",
       "                const utCodesContent = utCodesMeta.getAttribute('content');\n",
       "                const utCodesIdContent = utCodesIdMeta.getAttribute('content');\n",
       "                const utCodesArray = utCodesContent.split(\" > \");\n",
       "                const utCodesIdArray = utCodesIdContent.split(\" > \");\n",
       "                let utCodes = {};\n",
       "                utCodesArray.forEach((code, index) => {\n",
       "                    const firstTwoLetters = code.substring(0, 2);\n",
       "                    let prefix = '';\n",
       "                    switch (firstTwoLetters) {\n",
       "                        case '10':\n",
       "                        prefix = 'BusinessUnit';\n",
       "                        break;\n",
       "                        case '15':\n",
       "                        prefix = 'LineOfBusiness';\n",
       "                        break;\n",
       "                        case '17':\n",
       "                        prefix = 'Market';\n",
       "                        break;\n",
       "                        case '20':\n",
       "                        prefix = 'OfferingPortfolio';\n",
       "                        break;\n",
       "                        case '30':\n",
       "                        prefix = 'Offering';\n",
       "                        break;\n",
       "                        default:\n",
       "                        prefix = 'Unknown';\n",
       "                    }\n",
       "\n",
       "                    const codeKey = 'ut' + firstTwoLetters + prefix;\n",
       "                    const codeName = code + ':' + (utCodesIdArray[index] || \"\");\n",
       "                    utCodes[codeKey] = codeName;\n",
       "                });\n",
       "\n",
       "                return utCodes;\n",
       "            }\n",
       "\n",
       "            return {};\n",
       "        }\n",
       "\n",
       "        function isFirstPageVisited() {\n",
       "            const domainKey = 'firstPageVisited_' + window.location.hostname;\n",
       "            if (!localStorage.getItem(domainKey)) {\n",
       "                localStorage.setItem(domainKey, 'true');\n",
       "                return true;\n",
       "            }\n",
       "            return false;\n",
       "        }\n",
       "\n",
       "        function getQueryParamWithKey(paramName) {\n",
       "            const urlObj = new URL(window.location.href);\n",
       "            const value = urlObj.searchParams.get(paramName);\n",
       "            if (urlObj.searchParams.has(paramName)) {\n",
       "                return paramName + '=' + value;\n",
       "            }\n",
       "            return '';\n",
       "        }\n",
       "\n",
       "        function getQueryParam(name) {\n",
       "            const queryString = window.location.search.substring(1);\n",
       "            if (name === '?') {\n",
       "                return queryString;\n",
       "            }\n",
       "\n",
       "            const urlParams = new URLSearchParams(queryString);\n",
       "            return urlParams.get(name);\n",
       "        }\n",
       "\n",
       "        const utCodes = generateUtCodesObject();\n",
       "        adobeDataLayer.push({\n",
       "            \"event\": \"pageLoad\",\n",
       "            \"_ibm\": {\n",
       "                \"page\": {\n",
       "                    utCodes: utCodes,\n",
       "                    \"pageQueryString\":{\n",
       "                            \"pageQueryString\": getQueryParam('?') || \"\" ,\n",
       "                            \"utm_content\": getQueryParam('utm_content') || \"\",\n",
       "                            \"utm_term\": getQueryParam('utm_term') || \"\",\n",
       "                            \"utm_medium\": getQueryParam('utm_medium') || \"\",\n",
       "                            \"utm_source\": getQueryParam('utm_source') || \"\",\n",
       "                            \"utm_campaign\": getQueryParam('utm_campaign') || \"\",\n",
       "                            \"utm_id\": getQueryParam('utm_id') || \"\",\n",
       "                            \"p1\": getQueryParam('p1') || \"\",\n",
       "                            \"p2\": getQueryParam('p2') || \"\",\n",
       "                            \"p3\": getQueryParam('p3') || \"\",\n",
       "                            \"p4\": getQueryParam('p4') || \"\",\n",
       "                            \"p5\": getQueryParam('p5') || \"\",\n",
       "                            \"p6\": getQueryParam('p6') || \"\",\n",
       "                            \"p7\": getQueryParam('p7') || \"\",\n",
       "                            \"p8\": getQueryParam('p8') || \"\",\n",
       "                            \"p9\": getQueryParam('p9') || \"\",\n",
       "                    },\n",
       "                    \"firstPageFlag\": isFirstPageVisited(),\n",
       "                    \"internalCampaign\": getQueryParamWithKey(\"intcmp\"),\n",
       "                    \"siteSection2\": secondSegment,\n",
       "                    \"siteSection3\": thirdSegment,\n",
       "                    \"pageType\": templateName,\n",
       "                    \"domain\": cleanUrl(window.location.host),\n",
       "                    \"siteLanguage\": \"en\",\n",
       "                    \"pageName\": \"Homepage\",\n",
       "                    \"siteCountry\": \"us\"\n",
       "                },\n",
       "\n",
       "                \"siteActivity\": {\n",
       "                    \"visitDepth\": getVisitDepth()\n",
       "        \t    },\n",
       "                \"timeParting\": {\n",
       "                    \"t_AmPM\": getAmPm(),\n",
       "                    \"t_Day\": getCurrentDay(),\n",
       "                    \"t_DayOfMonth\": getDayOfMonth(),\n",
       "                    \"t_DayOfWeek\": getDayOfWeekAsInteger(),\n",
       "                    \"t_DayOfYear\": getDayOfYear(),\n",
       "                    \"t_Hour\": getCurrentHour(),\n",
       " \t\t            \"t_HourOfDay\": getCurrentHourInADay(),\n",
       "                    \"t_Minute\": getCurrentMinute(),\n",
       "                    \"t_Month\": getCurrentMonth(),\n",
       "                    \"t_MonthOfYear\": printCurrentMonthName(),\n",
       "                    \"t_Quarter\": getQuarter(date = new Date()),\n",
       "                    \"t_QuarterOfYear\": getCurrentQuarter(),\n",
       "                    \"t_Week\": getCurrentWeek(),\n",
       "                    \"t_Weekday_Weekend\": getDayType(),\n",
       "                    \"t_Year\": getCurrentYear()\n",
       "        \t    }\n",
       "\n",
       "            },\n",
       "            \"web\": {\n",
       "                \"webPageDetails\": {\n",
       "                    \"pageViews\": { \"value\": 1 },\n",
       "                    \"URL\": document.URL,\n",
       "                    \"name\": cleanUrl(window.location.host) + \" | \" + templateName + \" | Homepage\",\n",
       "                    \"siteSection\": firstSegment\n",
       "                },\n",
       "                \"webReferrer\": {\n",
       "                    \"URL\": document.referrer\n",
       "                }\n",
       "            }\n",
       "        });\n",
       "\n",
       "        document.addEventListener('click', function(event) {\n",
       "            if (event.target.closest('.WACLauncher__ButtonContainer')) {\n",
       "                handleClick(event);\n",
       "            }\n",
       "        });\n",
       "\n",
       "        function handleClick(event) {\n",
       "            adobeDataLayer.push({\n",
       "                \"event\": \"contactLoad\",\n",
       "                \"_ibm\": {\n",
       "                    \"contact\": {\n",
       "                        \"contactBotClick\": { \"value\": 1 },\n",
       "                        \"contactExperienceType\": \"Support or Sales\",\n",
       "                        \"contactLanguage\": \"en\",\n",
       "                        \"contactCountry\": \"us\"\n",
       "                    },\n",
       "                    \"click\": {\n",
       "                        \"linkTileNumber\": 1\n",
       "                    }\n",
       "                },\n",
       "                \"web\": {\n",
       "                    \"webPageDetails\": {\n",
       "                        \"URL\": document.URL,\n",
       "                        \"name\": cleanUrl(window.location.host) + \" | \" + templateName + \" | Homepage\",\n",
       "                    },\n",
       "                    \"webInteraction\": {\n",
       "                        \"name\": \"contactLoad\",\n",
       "                        \"URL\": document.URL,\n",
       "                        \"type\": \"other\"\n",
       "                    }\n",
       "                }\n",
       "            });\n",
       "        }\n",
       "\n",
       "        const legalNavItems = document.getElementsByTagName('c4d-legal-nav-item');\n",
       "        for (let item of legalNavItems) {\n",
       "            const hrefValue = item.getAttribute('href');\n",
       "            if (hrefValue && hrefValue.includes('/contact')) {\n",
       "                item.addEventListener('click', function(event) {\n",
       "                     handleClick(event);\n",
       "                });\n",
       "            }\n",
       "        }\n",
       "\n",
       "        const mastheadItems = document.getElementsByTagName('c4d-masthead-contact');\n",
       "        for (let item of mastheadItems) {\n",
       "            if (item.getAttribute('data-ibm-contact') === 'contact-link') {\n",
       "                item.addEventListener('click', function(event) {\n",
       "                    handleClick(event);\n",
       "\n",
       "                });\n",
       "            }\n",
       "        }\n",
       "    });\n",
       "</script>\n",
       "<script src=\"/S8lqkdZVNfMQ7/6R/dN_lFlm0nwlo/EiGYVL4Q4wtN/WxUOJSAB/Nl/9SRHhRLxg\" type=\"text/javascript\"></script><link href=\"/S8lqkdZVNfMQ7/6R/dN_lFlm0nwlo/kV/BxJ3JCAB/DF/x8G2AaTjhY\" rel=\"stylesheet\" type=\"text/css\"/><script async=\"\" defer=\"\" src=\"/S8lqkdZVNfMQ7/6R/dN_lFlm0nwlo/kV/BxJ3JCAB/QB/8WKQJZFjIq\"></script><div id=\"sec-overlay\" style=\"display:none;\"><div id=\"sec-container\"></div></div></body>\n",
       "</html>"
      ]
     },
     "execution_count": 201,
     "metadata": {},
     "output_type": "execute_result"
    }
   ],
   "source": [
    "soup = BeautifulSoup(data, 'lxml')\n",
    "soup"
   ]
  },
  {
   "cell_type": "code",
   "execution_count": null,
   "id": "724d90c0",
   "metadata": {},
   "outputs": [
    {
     "name": "stdout",
     "output_type": "stream",
     "text": [
      "https://www.ibm.com/events/think?lnk=hpls1us\n",
      "https://www.ibm.com/thought-leadership/institute-business-value/c-suite-study/ceo?lnk=hpls2us\n",
      "https://www.ibm.com/granite?lnk=hpad1us\n",
      "https://developer.ibm.com/technologies/artificial-intelligence?lnk=hpad2us\n",
      "https://www.ibm.com/products/watsonx-code-assistant?lnk=hpad3us\n",
      "https://www.ibm.com/watsonx/developer/?lnk=hpad4us\n",
      "https://www.ibm.com/thought-leadership/institute-business-value/report/ceo-generative-ai?lnk=hpab1us\n",
      "https://www.ibm.com/think/reports/ai-in-action?lnk=hpab2us\n",
      "https://www.ibm.com/reports/threat-intelligence?lnk=hpab3us\n",
      "https://www.ibm.com/thought-leadership/institute-business-value/report/great-tech-reset-book?lnk=hpab4us\n",
      "https://www.ibm.com/products/offers-and-discounts?lnk=hpdo1us\n",
      "https://www.ibm.com/artificial-intelligence?lnk=hpfp1us\n",
      "https://www.ibm.com/hybrid-cloud?lnk=hpfp2us\n",
      "https://www.ibm.com/consulting?lnk=hpfp3us\n",
      "https://www.ibm.com/about?lnk=hpii1us\n",
      "https://www.ibm.com/history?lnk=hpii1us\n",
      "https://research.ibm.com?lnk=hpii1us\n",
      "https://www.ibm.com/quantum?lnk=hpii1us\n",
      "https://www.ibm.com/careers?lnk=hpii1us\n",
      "https://skillsbuild.org?lnk=hpii1us\n",
      "https://www.ft.com/partnercontent/ibm/how-smaller-industry-tailored-ai-models-can-offer-greater-benefits.html\n"
     ]
    }
   ],
   "source": [
    "# Scrape All links\n",
    "for link in soup.find_all('a', href=True): # in html anchor/link is represented by the tag <a>\n",
    "    print(link.get('href'))"
   ]
  },
  {
   "cell_type": "markdown",
   "id": "37d82c21",
   "metadata": {},
   "source": [
    "#### Scrape all images Tags"
   ]
  },
  {
   "cell_type": "code",
   "execution_count": null,
   "id": "c7e3291f",
   "metadata": {},
   "outputs": [],
   "source": [
    "for link in soup.find_all('img'):  # in html image is represented by the tag <img>\n",
    "    print(link)\n",
    "    print(link.get('src'))"
   ]
  },
  {
   "cell_type": "markdown",
   "id": "f43ac811",
   "metadata": {},
   "source": [
    "#### Scrape data from HTML tables\n"
   ]
  },
  {
   "cell_type": "code",
   "execution_count": null,
   "id": "72d7a982",
   "metadata": {},
   "outputs": [],
   "source": [
    "#The below url contains an html table with data about colors and color codes.\n",
    "url = \"https://cf-courses-data.s3.us.cloud-object-storage.appdomain.cloud/IBM-DA0321EN-SkillsNetwork/labs/datasets/HTMLColorCodes.html\""
   ]
  },
  {
   "cell_type": "code",
   "execution_count": null,
   "id": "85e8096f",
   "metadata": {},
   "outputs": [],
   "source": [
    "# get the contents of the webpage in text format\n",
    "data = requests.get(url).text"
   ]
  },
  {
   "cell_type": "code",
   "execution_count": null,
   "id": "5585c005",
   "metadata": {},
   "outputs": [],
   "source": [
    "soup = BeautifulSoup(data, 'lxml')"
   ]
  },
  {
   "cell_type": "code",
   "execution_count": null,
   "id": "485d9b11",
   "metadata": {},
   "outputs": [],
   "source": [
    "# Find all table in the webpage\n",
    "table = soup.find_all('table') # in html table is represented by the tag <table>"
   ]
  },
  {
   "cell_type": "code",
   "execution_count": null,
   "id": "4d241301",
   "metadata": {},
   "outputs": [
    {
     "ename": "AttributeError",
     "evalue": "ResultSet object has no attribute 'find_all'. You're probably treating a list of elements like a single element. Did you call find_all() when you meant to call find()?",
     "output_type": "error",
     "traceback": [
      "\u001b[1;31m---------------------------------------------------------------------------\u001b[0m",
      "\u001b[1;31mAttributeError\u001b[0m                            Traceback (most recent call last)",
      "Cell \u001b[1;32mIn[225], line 1\u001b[0m\n\u001b[1;32m----> 1\u001b[0m table\u001b[38;5;241m.\u001b[39mfind_all(\u001b[38;5;124m'\u001b[39m\u001b[38;5;124mtr\u001b[39m\u001b[38;5;124m'\u001b[39m)\n",
      "File \u001b[1;32mc:\\Users\\nhoct\\anaconda3\\Lib\\site-packages\\bs4\\element.py:2433\u001b[0m, in \u001b[0;36mResultSet.__getattr__\u001b[1;34m(self, key)\u001b[0m\n\u001b[0;32m   2431\u001b[0m \u001b[38;5;28;01mdef\u001b[39;00m \u001b[38;5;21m__getattr__\u001b[39m(\u001b[38;5;28mself\u001b[39m, key):\n\u001b[0;32m   2432\u001b[0m \u001b[38;5;250m    \u001b[39m\u001b[38;5;124;03m\"\"\"Raise a helpful exception to explain a common code fix.\"\"\"\u001b[39;00m\n\u001b[1;32m-> 2433\u001b[0m     \u001b[38;5;28;01mraise\u001b[39;00m \u001b[38;5;167;01mAttributeError\u001b[39;00m(\n\u001b[0;32m   2434\u001b[0m         \u001b[38;5;124m\"\u001b[39m\u001b[38;5;124mResultSet object has no attribute \u001b[39m\u001b[38;5;124m'\u001b[39m\u001b[38;5;132;01m%s\u001b[39;00m\u001b[38;5;124m'\u001b[39m\u001b[38;5;124m. You\u001b[39m\u001b[38;5;124m'\u001b[39m\u001b[38;5;124mre probably treating a list of elements like a single element. Did you call find_all() when you meant to call find()?\u001b[39m\u001b[38;5;124m\"\u001b[39m \u001b[38;5;241m%\u001b[39m key\n\u001b[0;32m   2435\u001b[0m     )\n",
      "\u001b[1;31mAttributeError\u001b[0m: ResultSet object has no attribute 'find_all'. You're probably treating a list of elements like a single element. Did you call find_all() when you meant to call find()?"
     ]
    }
   ],
   "source": [
    "table.find_all('tr')"
   ]
  },
  {
   "cell_type": "code",
   "execution_count": null,
   "id": "6409ae19",
   "metadata": {},
   "outputs": [
    {
     "ename": "AttributeError",
     "evalue": "ResultSet object has no attribute 'find_all'. You're probably treating a list of elements like a single element. Did you call find_all() when you meant to call find()?",
     "output_type": "error",
     "traceback": [
      "\u001b[1;31m---------------------------------------------------------------------------\u001b[0m",
      "\u001b[1;31mAttributeError\u001b[0m                            Traceback (most recent call last)",
      "Cell \u001b[1;32mIn[224], line 2\u001b[0m\n\u001b[0;32m      1\u001b[0m \u001b[38;5;66;03m# Giả sử bạn đã có đối tượng `table` chứa bảng HTML\u001b[39;00m\n\u001b[1;32m----> 2\u001b[0m \u001b[38;5;28;01mfor\u001b[39;00m row \u001b[38;5;129;01min\u001b[39;00m table\u001b[38;5;241m.\u001b[39mfind_all(\u001b[38;5;124m'\u001b[39m\u001b[38;5;124mtr\u001b[39m\u001b[38;5;124m'\u001b[39m):  \u001b[38;5;66;03m# Tìm tất cả các dòng trong bảng\u001b[39;00m\n\u001b[0;32m      3\u001b[0m     cols \u001b[38;5;241m=\u001b[39m row\u001b[38;5;241m.\u001b[39mfind_all(\u001b[38;5;124m'\u001b[39m\u001b[38;5;124mtd\u001b[39m\u001b[38;5;124m'\u001b[39m)  \u001b[38;5;66;03m# Tìm tất cả các cột trong mỗi dòng\u001b[39;00m\n\u001b[0;32m      4\u001b[0m     \u001b[38;5;28;01mif\u001b[39;00m \u001b[38;5;28mlen\u001b[39m(cols) \u001b[38;5;241m>\u001b[39m \u001b[38;5;241m2\u001b[39m:  \u001b[38;5;66;03m# Kiểm tra xem dòng có đủ số lượng cột không\u001b[39;00m\n",
      "File \u001b[1;32mc:\\Users\\nhoct\\anaconda3\\Lib\\site-packages\\bs4\\element.py:2433\u001b[0m, in \u001b[0;36mResultSet.__getattr__\u001b[1;34m(self, key)\u001b[0m\n\u001b[0;32m   2431\u001b[0m \u001b[38;5;28;01mdef\u001b[39;00m \u001b[38;5;21m__getattr__\u001b[39m(\u001b[38;5;28mself\u001b[39m, key):\n\u001b[0;32m   2432\u001b[0m \u001b[38;5;250m    \u001b[39m\u001b[38;5;124;03m\"\"\"Raise a helpful exception to explain a common code fix.\"\"\"\u001b[39;00m\n\u001b[1;32m-> 2433\u001b[0m     \u001b[38;5;28;01mraise\u001b[39;00m \u001b[38;5;167;01mAttributeError\u001b[39;00m(\n\u001b[0;32m   2434\u001b[0m         \u001b[38;5;124m\"\u001b[39m\u001b[38;5;124mResultSet object has no attribute \u001b[39m\u001b[38;5;124m'\u001b[39m\u001b[38;5;132;01m%s\u001b[39;00m\u001b[38;5;124m'\u001b[39m\u001b[38;5;124m. You\u001b[39m\u001b[38;5;124m'\u001b[39m\u001b[38;5;124mre probably treating a list of elements like a single element. Did you call find_all() when you meant to call find()?\u001b[39m\u001b[38;5;124m\"\u001b[39m \u001b[38;5;241m%\u001b[39m key\n\u001b[0;32m   2435\u001b[0m     )\n",
      "\u001b[1;31mAttributeError\u001b[0m: ResultSet object has no attribute 'find_all'. You're probably treating a list of elements like a single element. Did you call find_all() when you meant to call find()?"
     ]
    }
   ],
   "source": [
    "# Giả sử bạn đã có đối tượng `table` chứa bảng HTML\n",
    "for row in table.find_all('tr'):  # Tìm tất cả các dòng trong bảng\n",
    "    cols = row.find_all('td')  # Tìm tất cả các cột trong mỗi dòng\n",
    "    if len(cols) > 2:  # Kiểm tra xem dòng có đủ số lượng cột không\n",
    "        colour_name = cols[2].string  # Lấy tên màu từ cột thứ 3\n",
    "        print(colour_name)  # Hoặc xử lý dữ liệu"
   ]
  },
  {
   "cell_type": "code",
   "execution_count": null,
   "id": "2ce1cb85",
   "metadata": {},
   "outputs": [
    {
     "ename": "AttributeError",
     "evalue": "ResultSet object has no attribute 'find_all'. You're probably treating a list of elements like a single element. Did you call find_all() when you meant to call find()?",
     "output_type": "error",
     "traceback": [
      "\u001b[1;31m---------------------------------------------------------------------------\u001b[0m",
      "\u001b[1;31mAttributeError\u001b[0m                            Traceback (most recent call last)",
      "Cell \u001b[1;32mIn[223], line 2\u001b[0m\n\u001b[0;32m      1\u001b[0m \u001b[38;5;66;03m# Get all rows from the table\u001b[39;00m\n\u001b[1;32m----> 2\u001b[0m \u001b[38;5;28;01mfor\u001b[39;00m row \u001b[38;5;129;01min\u001b[39;00m table\u001b[38;5;241m.\u001b[39mfind_all(\u001b[38;5;124m'\u001b[39m\u001b[38;5;124mtr\u001b[39m\u001b[38;5;124m'\u001b[39m):\n\u001b[0;32m      3\u001b[0m     \u001b[38;5;66;03m# Get all column in each row\u001b[39;00m\n\u001b[0;32m      4\u001b[0m     cols \u001b[38;5;241m=\u001b[39m row\u001b[38;5;241m.\u001b[39mfind_all(\u001b[38;5;124m'\u001b[39m\u001b[38;5;124mtd\u001b[39m\u001b[38;5;124m'\u001b[39m)\n\u001b[0;32m      5\u001b[0m     colour_name \u001b[38;5;241m=\u001b[39m cols[\u001b[38;5;241m2\u001b[39m]\u001b[38;5;241m.\u001b[39mstring\n",
      "File \u001b[1;32mc:\\Users\\nhoct\\anaconda3\\Lib\\site-packages\\bs4\\element.py:2433\u001b[0m, in \u001b[0;36mResultSet.__getattr__\u001b[1;34m(self, key)\u001b[0m\n\u001b[0;32m   2431\u001b[0m \u001b[38;5;28;01mdef\u001b[39;00m \u001b[38;5;21m__getattr__\u001b[39m(\u001b[38;5;28mself\u001b[39m, key):\n\u001b[0;32m   2432\u001b[0m \u001b[38;5;250m    \u001b[39m\u001b[38;5;124;03m\"\"\"Raise a helpful exception to explain a common code fix.\"\"\"\u001b[39;00m\n\u001b[1;32m-> 2433\u001b[0m     \u001b[38;5;28;01mraise\u001b[39;00m \u001b[38;5;167;01mAttributeError\u001b[39;00m(\n\u001b[0;32m   2434\u001b[0m         \u001b[38;5;124m\"\u001b[39m\u001b[38;5;124mResultSet object has no attribute \u001b[39m\u001b[38;5;124m'\u001b[39m\u001b[38;5;132;01m%s\u001b[39;00m\u001b[38;5;124m'\u001b[39m\u001b[38;5;124m. You\u001b[39m\u001b[38;5;124m'\u001b[39m\u001b[38;5;124mre probably treating a list of elements like a single element. Did you call find_all() when you meant to call find()?\u001b[39m\u001b[38;5;124m\"\u001b[39m \u001b[38;5;241m%\u001b[39m key\n\u001b[0;32m   2435\u001b[0m     )\n",
      "\u001b[1;31mAttributeError\u001b[0m: ResultSet object has no attribute 'find_all'. You're probably treating a list of elements like a single element. Did you call find_all() when you meant to call find()?"
     ]
    }
   ],
   "source": [
    "# Get all rows from the table\n",
    "for row in table.find_all('tr'):\n",
    "    # Get all column in each row\n",
    "    cols = row.find_all('td')\n",
    "    colour_name = cols[2].string\n",
    "    colour_code = cols[3].string\n",
    "    print('{}----->{}'.format(colour_name, colour_code))\n",
    "    # print(f'{colour_name}----->{colour_code}')"
   ]
  },
  {
   "cell_type": "markdown",
   "id": "96e3856e",
   "metadata": {},
   "source": [
    "### Working with different file formats"
   ]
  },
  {
   "cell_type": "markdown",
   "id": "5112a828",
   "metadata": {},
   "source": [
    "#### JSON"
   ]
  },
  {
   "cell_type": "markdown",
   "id": "5fc3a38d",
   "metadata": {},
   "source": [
    "##### Writing JSON to a File or *SERIALIZATION*"
   ]
  },
  {
   "cell_type": "markdown",
   "id": "2760c2f3",
   "metadata": {},
   "source": [
    "__json.dump()__ method can be used for writing to JSON file while __json.dumps()__ that helps in converting a dictionary to a JSON object. <br>\n",
    "`dump() thì ghi vào tệp, còn dumps() thì trả về str`"
   ]
  },
  {
   "cell_type": "code",
   "execution_count": 3,
   "id": "2a18fedc",
   "metadata": {},
   "outputs": [],
   "source": [
    "import json\n",
    "person = {\n",
    "    'first_name' : 'Mark',\n",
    "    'last_name' : 'abc',\n",
    "    'age' : 27,\n",
    "    'address': {\n",
    "        \"streetAddress\": \"21 2nd Street\",\n",
    "        \"city\": \"New York\",\n",
    "        \"state\": \"NY\",\n",
    "        \"postalCode\": \"10021-3100\"\n",
    "    }\n",
    "}"
   ]
  },
  {
   "cell_type": "code",
   "execution_count": null,
   "id": "42f5a334",
   "metadata": {},
   "outputs": [],
   "source": [
    "# json.dump()\n",
    "with open('person.json', 'w') as f:\n",
    "    json.dump(person, f)"
   ]
  },
  {
   "cell_type": "code",
   "execution_count": 5,
   "id": "41118773",
   "metadata": {},
   "outputs": [],
   "source": [
    "# Serializing json\n",
    "json_object = json.dumps(person, indent=4)\n",
    "\n",
    "# Writing to sample.json\n",
    "with open('sample.json', 'w') as outfile:\n",
    "    outfile.write(json_object)"
   ]
  },
  {
   "cell_type": "code",
   "execution_count": 6,
   "id": "7d0b2e8d",
   "metadata": {},
   "outputs": [
    {
     "name": "stdout",
     "output_type": "stream",
     "text": [
      "{\n",
      "    \"first_name\": \"Mark\",\n",
      "    \"last_name\": \"abc\",\n",
      "    \"age\": 27,\n",
      "    \"address\": {\n",
      "        \"streetAddress\": \"21 2nd Street\",\n",
      "        \"city\": \"New York\",\n",
      "        \"state\": \"NY\",\n",
      "        \"postalCode\": \"10021-3100\"\n",
      "    }\n",
      "}\n"
     ]
    }
   ],
   "source": [
    "print(json_object)"
   ]
  },
  {
   "cell_type": "markdown",
   "id": "bbc3e514",
   "metadata": {},
   "source": [
    "##### Reading JSON to a File or *DESERIALIZATION*"
   ]
  },
  {
   "cell_type": "code",
   "execution_count": 10,
   "id": "5c4da615",
   "metadata": {},
   "outputs": [
    {
     "name": "stdout",
     "output_type": "stream",
     "text": [
      "{'first_name': 'Mark', 'last_name': 'abc', 'age': 27, 'address': {'streetAddress': '21 2nd Street', 'city': 'New York', 'state': 'NY', 'postalCode': '10021-3100'}}\n",
      "<class 'dict'>\n"
     ]
    }
   ],
   "source": [
    "import json\n",
    "\n",
    "# Open JSON file\n",
    "with open('sample.json', 'r') as openfile:\n",
    "\n",
    "    #Reading from the json file\n",
    "    json_object = json.load(openfile)\n",
    "\n",
    "print(json_object)\n",
    "print(type(json_object))"
   ]
  },
  {
   "cell_type": "markdown",
   "id": "704079ab",
   "metadata": {},
   "source": [
    "#### XLSX file format"
   ]
  },
  {
   "cell_type": "markdown",
   "id": "97b64cad",
   "metadata": {},
   "source": [
    "##### Reading the data from XLSX file"
   ]
  },
  {
   "cell_type": "code",
   "execution_count": 14,
   "id": "43de24cc",
   "metadata": {},
   "outputs": [
    {
     "data": {
      "text/plain": [
       "('sample.xlsx', <http.client.HTTPMessage at 0x211d8e15490>)"
      ]
     },
     "execution_count": 14,
     "metadata": {},
     "output_type": "execute_result"
    }
   ],
   "source": [
    "import pandas as pd \n",
    "import requests\n",
    "import urllib.request # because run locally\n",
    "urllib.request.urlretrieve(\"https://cf-courses-data.s3.us.cloud-object-storage.appdomain.cloud/IBMDeveloperSkillsNetwork-PY0101EN-SkillsNetwork/labs/Module%205/data/file_example_XLSX_10.xlsx\", \"sample.xlsx\")"
   ]
  },
  {
   "cell_type": "code",
   "execution_count": 21,
   "id": "fac136f5",
   "metadata": {},
   "outputs": [
    {
     "data": {
      "text/html": [
       "<div>\n",
       "<style scoped>\n",
       "    .dataframe tbody tr th:only-of-type {\n",
       "        vertical-align: middle;\n",
       "    }\n",
       "\n",
       "    .dataframe tbody tr th {\n",
       "        vertical-align: top;\n",
       "    }\n",
       "\n",
       "    .dataframe thead th {\n",
       "        text-align: right;\n",
       "    }\n",
       "</style>\n",
       "<table border=\"1\" class=\"dataframe\">\n",
       "  <thead>\n",
       "    <tr style=\"text-align: right;\">\n",
       "      <th></th>\n",
       "      <th>0</th>\n",
       "      <th>First Name</th>\n",
       "      <th>Last Name</th>\n",
       "      <th>Gender</th>\n",
       "      <th>Country</th>\n",
       "      <th>Age</th>\n",
       "      <th>Date</th>\n",
       "      <th>Id</th>\n",
       "    </tr>\n",
       "  </thead>\n",
       "  <tbody>\n",
       "    <tr>\n",
       "      <th>0</th>\n",
       "      <td>1</td>\n",
       "      <td>Dulce</td>\n",
       "      <td>Abril</td>\n",
       "      <td>Female</td>\n",
       "      <td>United States</td>\n",
       "      <td>32</td>\n",
       "      <td>15/10/2017</td>\n",
       "      <td>1562</td>\n",
       "    </tr>\n",
       "    <tr>\n",
       "      <th>1</th>\n",
       "      <td>2</td>\n",
       "      <td>Mara</td>\n",
       "      <td>Hashimoto</td>\n",
       "      <td>Female</td>\n",
       "      <td>Great Britain</td>\n",
       "      <td>25</td>\n",
       "      <td>16/08/2016</td>\n",
       "      <td>1582</td>\n",
       "    </tr>\n",
       "    <tr>\n",
       "      <th>2</th>\n",
       "      <td>3</td>\n",
       "      <td>Philip</td>\n",
       "      <td>Gent</td>\n",
       "      <td>Male</td>\n",
       "      <td>France</td>\n",
       "      <td>36</td>\n",
       "      <td>21/05/2015</td>\n",
       "      <td>2587</td>\n",
       "    </tr>\n",
       "    <tr>\n",
       "      <th>3</th>\n",
       "      <td>4</td>\n",
       "      <td>Kathleen</td>\n",
       "      <td>Hanner</td>\n",
       "      <td>Female</td>\n",
       "      <td>United States</td>\n",
       "      <td>25</td>\n",
       "      <td>15/10/2017</td>\n",
       "      <td>3549</td>\n",
       "    </tr>\n",
       "    <tr>\n",
       "      <th>4</th>\n",
       "      <td>5</td>\n",
       "      <td>Nereida</td>\n",
       "      <td>Magwood</td>\n",
       "      <td>Female</td>\n",
       "      <td>United States</td>\n",
       "      <td>58</td>\n",
       "      <td>16/08/2016</td>\n",
       "      <td>2468</td>\n",
       "    </tr>\n",
       "    <tr>\n",
       "      <th>5</th>\n",
       "      <td>6</td>\n",
       "      <td>Gaston</td>\n",
       "      <td>Brumm</td>\n",
       "      <td>Male</td>\n",
       "      <td>United States</td>\n",
       "      <td>24</td>\n",
       "      <td>21/05/2015</td>\n",
       "      <td>2554</td>\n",
       "    </tr>\n",
       "    <tr>\n",
       "      <th>6</th>\n",
       "      <td>7</td>\n",
       "      <td>Etta</td>\n",
       "      <td>Hurn</td>\n",
       "      <td>Female</td>\n",
       "      <td>Great Britain</td>\n",
       "      <td>56</td>\n",
       "      <td>15/10/2017</td>\n",
       "      <td>3598</td>\n",
       "    </tr>\n",
       "    <tr>\n",
       "      <th>7</th>\n",
       "      <td>8</td>\n",
       "      <td>Earlean</td>\n",
       "      <td>Melgar</td>\n",
       "      <td>Female</td>\n",
       "      <td>United States</td>\n",
       "      <td>27</td>\n",
       "      <td>16/08/2016</td>\n",
       "      <td>2456</td>\n",
       "    </tr>\n",
       "    <tr>\n",
       "      <th>8</th>\n",
       "      <td>9</td>\n",
       "      <td>Vincenza</td>\n",
       "      <td>Weiland</td>\n",
       "      <td>Female</td>\n",
       "      <td>United States</td>\n",
       "      <td>40</td>\n",
       "      <td>21/05/2015</td>\n",
       "      <td>6548</td>\n",
       "    </tr>\n",
       "  </tbody>\n",
       "</table>\n",
       "</div>"
      ],
      "text/plain": [
       "   0 First Name  Last Name  Gender        Country  Age        Date    Id\n",
       "0  1      Dulce      Abril  Female  United States   32  15/10/2017  1562\n",
       "1  2       Mara  Hashimoto  Female  Great Britain   25  16/08/2016  1582\n",
       "2  3     Philip       Gent    Male         France   36  21/05/2015  2587\n",
       "3  4   Kathleen     Hanner  Female  United States   25  15/10/2017  3549\n",
       "4  5    Nereida    Magwood  Female  United States   58  16/08/2016  2468\n",
       "5  6     Gaston      Brumm    Male  United States   24  21/05/2015  2554\n",
       "6  7       Etta       Hurn  Female  Great Britain   56  15/10/2017  3598\n",
       "7  8    Earlean     Melgar  Female  United States   27  16/08/2016  2456\n",
       "8  9   Vincenza    Weiland  Female  United States   40  21/05/2015  6548"
      ]
     },
     "execution_count": 21,
     "metadata": {},
     "output_type": "execute_result"
    }
   ],
   "source": [
    "df = pd.read_excel('sample.xlsx')\n",
    "df"
   ]
  },
  {
   "cell_type": "markdown",
   "id": "2124b006",
   "metadata": {},
   "source": [
    "#### XML file format"
   ]
  },
  {
   "cell_type": "markdown",
   "id": "3d8412e5",
   "metadata": {},
   "source": [
    "##### Writing with xml.etree.ElementTree"
   ]
  },
  {
   "cell_type": "code",
   "execution_count": 22,
   "id": "0b714058",
   "metadata": {},
   "outputs": [],
   "source": [
    "import xml.etree.ElementTree as ET\n",
    "\n",
    "# Create the file structure\n",
    "employee = ET.Element('employee')\n",
    "details = ET.SubElement(employee, 'details')\n",
    "first = ET.SubElement(details, 'firstname')\n",
    "second = ET.SubElement(details, 'lastname')\n",
    "third = ET.SubElement(details, 'age')\n",
    "first.text = 'Shiv'\n",
    "second.text = 'Mishra'\n",
    "third.text = '23'\n",
    "\n",
    "# Create a new XML file with the results\n",
    "mydata1 = ET.ElementTree(employee)\n",
    "\n",
    "with open('myfile.xml', 'wb') as files:\n",
    "    mydata1.write(files)"
   ]
  },
  {
   "cell_type": "markdown",
   "id": "611091ef",
   "metadata": {},
   "source": [
    "##### Reading with xml.etree.ElementTree"
   ]
  },
  {
   "cell_type": "code",
   "execution_count": null,
   "id": "ad8fd687",
   "metadata": {},
   "outputs": [
    {
     "name": "stderr",
     "output_type": "stream",
     "text": [
      "  % Total    % Received % Xferd  Average Speed   Time    Time     Time  Current\n",
      "                                 Dload  Upload   Total   Spent    Left  Speed\n",
      "\n",
      "  0     0    0     0    0     0      0      0 --:--:-- --:--:-- --:--:--     0\n",
      "  0     0    0     0    0     0      0      0 --:--:-- --:--:-- --:--:--     0\n",
      "100  1016  100  1016    0     0    598      0  0:00:01  0:00:01 --:--:--   599\n",
      "100  1016  100  1016    0     0    598      0  0:00:01  0:00:01 --:--:--   599\n"
     ]
    }
   ],
   "source": [
    "!curl -O https://cf-courses-data.s3.us.cloud-object-storage.appdomain.cloud/IBMDeveloperSkillsNetwork-PY0101EN-SkillsNetwork/labs/Module%205/data/Sample-employee-XML-file.xml"
   ]
  },
  {
   "cell_type": "code",
   "execution_count": 36,
   "id": "82f8dd5f",
   "metadata": {},
   "outputs": [],
   "source": [
    "import xml.etree.ElementTree as etree"
   ]
  },
  {
   "cell_type": "code",
   "execution_count": 37,
   "id": "d904161b",
   "metadata": {},
   "outputs": [],
   "source": [
    "# Parse the XML file\n",
    "tree = etree.parse('Sample-employee-XML-file.xml')\n",
    "\n",
    "# Get the root of the XML file\n",
    "root = tree.getroot()\n",
    "\n",
    "# Define the columns for the DataFrame\n",
    "columns = [\"firstname\", \"lastname\", \"title\", \"division\", \"building\", \"room\"]\n",
    "\n",
    "# Initialise an empty DataFrame\n",
    "dataframe = pd.DataFrame(columns=columns)\n",
    "\n",
    "# Iterate through each node in the XML root\n",
    "for node in root:\n",
    "    # Extract text from each element\n",
    "    firstname = node.find('firstname').text\n",
    "    lastname = node.find(\"lastname\").text\n",
    "    title = node.find(\"title\").text\n",
    "    division = node.find(\"division\").text\n",
    "    building = node.find(\"building\").text\n",
    "    room = node.find(\"room\").text\n",
    "\n",
    "    # Create a DataFrame for the current row\n",
    "    row_df = pd.DataFrame([[firstname, lastname, title, division, building, room]], columns=columns)\n",
    "\n",
    "    # Concatenate with the existing DataFrame\n",
    "    dataframe = pd.concat([dataframe, row_df], ignore_index=True)"
   ]
  },
  {
   "cell_type": "code",
   "execution_count": 38,
   "id": "bfc8f37a",
   "metadata": {},
   "outputs": [
    {
     "data": {
      "text/html": [
       "<div>\n",
       "<style scoped>\n",
       "    .dataframe tbody tr th:only-of-type {\n",
       "        vertical-align: middle;\n",
       "    }\n",
       "\n",
       "    .dataframe tbody tr th {\n",
       "        vertical-align: top;\n",
       "    }\n",
       "\n",
       "    .dataframe thead th {\n",
       "        text-align: right;\n",
       "    }\n",
       "</style>\n",
       "<table border=\"1\" class=\"dataframe\">\n",
       "  <thead>\n",
       "    <tr style=\"text-align: right;\">\n",
       "      <th></th>\n",
       "      <th>firstname</th>\n",
       "      <th>lastname</th>\n",
       "      <th>title</th>\n",
       "      <th>division</th>\n",
       "      <th>building</th>\n",
       "      <th>room</th>\n",
       "    </tr>\n",
       "  </thead>\n",
       "  <tbody>\n",
       "    <tr>\n",
       "      <th>0</th>\n",
       "      <td>Shiv</td>\n",
       "      <td>Mishra</td>\n",
       "      <td>Engineer</td>\n",
       "      <td>Computer</td>\n",
       "      <td>301</td>\n",
       "      <td>11</td>\n",
       "    </tr>\n",
       "    <tr>\n",
       "      <th>1</th>\n",
       "      <td>Yuh</td>\n",
       "      <td>Datta</td>\n",
       "      <td>developer</td>\n",
       "      <td>Computer</td>\n",
       "      <td>303</td>\n",
       "      <td>02</td>\n",
       "    </tr>\n",
       "    <tr>\n",
       "      <th>2</th>\n",
       "      <td>Rahil</td>\n",
       "      <td>Khan</td>\n",
       "      <td>Tester</td>\n",
       "      <td>Computer</td>\n",
       "      <td>304</td>\n",
       "      <td>10</td>\n",
       "    </tr>\n",
       "    <tr>\n",
       "      <th>3</th>\n",
       "      <td>Deep</td>\n",
       "      <td>Parekh</td>\n",
       "      <td>Designer</td>\n",
       "      <td>Computer</td>\n",
       "      <td>305</td>\n",
       "      <td>14</td>\n",
       "    </tr>\n",
       "  </tbody>\n",
       "</table>\n",
       "</div>"
      ],
      "text/plain": [
       "  firstname lastname      title  division building room\n",
       "0      Shiv   Mishra   Engineer  Computer      301   11\n",
       "1       Yuh    Datta  developer  Computer      303   02\n",
       "2     Rahil     Khan     Tester  Computer      304   10\n",
       "3      Deep   Parekh   Designer  Computer      305   14"
      ]
     },
     "execution_count": 38,
     "metadata": {},
     "output_type": "execute_result"
    }
   ],
   "source": [
    "dataframe"
   ]
  },
  {
   "cell_type": "markdown",
   "id": "f54bf73b",
   "metadata": {},
   "source": [
    "##### Reading XML file using pandas.read_xml function "
   ]
  },
  {
   "cell_type": "code",
   "execution_count": 40,
   "id": "bf2f1c43",
   "metadata": {},
   "outputs": [
    {
     "data": {
      "text/html": [
       "<div>\n",
       "<style scoped>\n",
       "    .dataframe tbody tr th:only-of-type {\n",
       "        vertical-align: middle;\n",
       "    }\n",
       "\n",
       "    .dataframe tbody tr th {\n",
       "        vertical-align: top;\n",
       "    }\n",
       "\n",
       "    .dataframe thead th {\n",
       "        text-align: right;\n",
       "    }\n",
       "</style>\n",
       "<table border=\"1\" class=\"dataframe\">\n",
       "  <thead>\n",
       "    <tr style=\"text-align: right;\">\n",
       "      <th></th>\n",
       "      <th>firstname</th>\n",
       "      <th>lastname</th>\n",
       "      <th>title</th>\n",
       "      <th>division</th>\n",
       "      <th>building</th>\n",
       "      <th>room</th>\n",
       "    </tr>\n",
       "  </thead>\n",
       "  <tbody>\n",
       "    <tr>\n",
       "      <th>0</th>\n",
       "      <td>Shiv</td>\n",
       "      <td>Mishra</td>\n",
       "      <td>Engineer</td>\n",
       "      <td>Computer</td>\n",
       "      <td>301</td>\n",
       "      <td>11</td>\n",
       "    </tr>\n",
       "    <tr>\n",
       "      <th>1</th>\n",
       "      <td>Yuh</td>\n",
       "      <td>Datta</td>\n",
       "      <td>developer</td>\n",
       "      <td>Computer</td>\n",
       "      <td>303</td>\n",
       "      <td>2</td>\n",
       "    </tr>\n",
       "    <tr>\n",
       "      <th>2</th>\n",
       "      <td>Rahil</td>\n",
       "      <td>Khan</td>\n",
       "      <td>Tester</td>\n",
       "      <td>Computer</td>\n",
       "      <td>304</td>\n",
       "      <td>10</td>\n",
       "    </tr>\n",
       "    <tr>\n",
       "      <th>3</th>\n",
       "      <td>Deep</td>\n",
       "      <td>Parekh</td>\n",
       "      <td>Designer</td>\n",
       "      <td>Computer</td>\n",
       "      <td>305</td>\n",
       "      <td>14</td>\n",
       "    </tr>\n",
       "  </tbody>\n",
       "</table>\n",
       "</div>"
      ],
      "text/plain": [
       "  firstname lastname      title  division  building  room\n",
       "0      Shiv   Mishra   Engineer  Computer       301    11\n",
       "1       Yuh    Datta  developer  Computer       303     2\n",
       "2     Rahil     Khan     Tester  Computer       304    10\n",
       "3      Deep   Parekh   Designer  Computer       305    14"
      ]
     },
     "execution_count": 40,
     "metadata": {},
     "output_type": "execute_result"
    }
   ],
   "source": [
    "# Herein xpath we mention the set of xml nodes to be considered for migrating  to the dataframe which in this case is details node under employees.\n",
    "df=pd.read_xml(\"Sample-employee-XML-file.xml\", xpath=\"/employees/details\") \n",
    "df"
   ]
  },
  {
   "cell_type": "markdown",
   "id": "a6343bca",
   "metadata": {},
   "source": [
    "##### Save Data"
   ]
  },
  {
   "cell_type": "code",
   "execution_count": 41,
   "id": "9f548305",
   "metadata": {},
   "outputs": [],
   "source": [
    "dataframe.to_csv('employee.csv', index=False)"
   ]
  },
  {
   "cell_type": "markdown",
   "id": "f727aac3",
   "metadata": {},
   "source": [
    "#### Other Data format"
   ]
  },
  {
   "cell_type": "markdown",
   "id": "48b9727d",
   "metadata": {},
   "source": [
    "| Data Formats | Read | Save |\n",
    "|--------------|------|------|\n",
    "| csv | `pd.read_csv()` | `df.to_csv()` |\n",
    "| json | `pd.read_json()` | `df.to_json()` |\n",
    "| excel | `pd.read_excel()` | `df.to_excel()` |\n",
    "| hdf | `pd.read_hdf()` | `df.to_hdf()` |\n",
    "| sql | `pd.read_sql()` | `df.to_sql()` |\n",
    "| ... | ... | ... |"
   ]
  },
  {
   "cell_type": "markdown",
   "id": "ec9e9017",
   "metadata": {},
   "source": [
    "#### Binary File Format"
   ]
  },
  {
   "cell_type": "markdown",
   "id": "f7fde239",
   "metadata": {},
   "source": [
    "##### Reading the Image file"
   ]
  },
  {
   "cell_type": "code",
   "execution_count": null,
   "id": "4d345c6d",
   "metadata": {},
   "outputs": [
    {
     "name": "stdout",
     "output_type": "stream",
     "text": [
      "Collecting PTL\n",
      "  Downloading ptl-0.3.0-py3-none-any.whl.metadata (12 kB)\n",
      "Downloading ptl-0.3.0-py3-none-any.whl (22 kB)\n",
      "Installing collected packages: PTL\n",
      "Successfully installed PTL-0.3.0\n"
     ]
    }
   ],
   "source": [
    "!pip install PTL"
   ]
  },
  {
   "cell_type": "code",
   "execution_count": 45,
   "id": "84dc89c2",
   "metadata": {},
   "outputs": [
    {
     "data": {
      "text/plain": [
       "('dog.jpg', <http.client.HTTPMessage at 0x211de4b8170>)"
      ]
     },
     "execution_count": 45,
     "metadata": {},
     "output_type": "execute_result"
    }
   ],
   "source": [
    "# Importing PTL (Python Imaging Library)\n",
    "from PIL import Image\n",
    "import urllib.request\n",
    "urllib.request.urlretrieve(\"https://hips.hearstapps.com/hmg-prod.s3.amazonaws.com/images/dog-puppy-on-garden-royalty-free-image-1586966191.jpg\", \"dog.jpg\")"
   ]
  },
  {
   "cell_type": "code",
   "execution_count": 46,
   "id": "c8dfd35b",
   "metadata": {},
   "outputs": [],
   "source": [
    "# Read image\n",
    "img = Image.open('./dog.jpg', 'r')\n",
    "\n",
    "# Output Images\n",
    "img.show()"
   ]
  },
  {
   "cell_type": "markdown",
   "id": "2c8c3545",
   "metadata": {},
   "source": [
    "#### Data Analysis\n"
   ]
  },
  {
   "cell_type": "code",
   "execution_count": 48,
   "id": "04b31432",
   "metadata": {},
   "outputs": [],
   "source": [
    "# Import pandas library\n",
    "import pandas as pd"
   ]
  },
  {
   "cell_type": "code",
   "execution_count": null,
   "id": "c3581763",
   "metadata": {},
   "outputs": [],
   "source": [
    "filename = pd.read_csv(\"https://cf-courses-data.s3.us.cloud-object-storage.appdomain.cloud/IBMDeveloperSkillsNetwork-PY0101EN-SkillsNetwork/labs/Module%205/data/diabetes.csv\")\n",
    "filename.to_csv('dia_datasets.csv', index=False)"
   ]
  },
  {
   "cell_type": "code",
   "execution_count": 54,
   "id": "16a1461e",
   "metadata": {},
   "outputs": [
    {
     "data": {
      "text/html": [
       "<div>\n",
       "<style scoped>\n",
       "    .dataframe tbody tr th:only-of-type {\n",
       "        vertical-align: middle;\n",
       "    }\n",
       "\n",
       "    .dataframe tbody tr th {\n",
       "        vertical-align: top;\n",
       "    }\n",
       "\n",
       "    .dataframe thead th {\n",
       "        text-align: right;\n",
       "    }\n",
       "</style>\n",
       "<table border=\"1\" class=\"dataframe\">\n",
       "  <thead>\n",
       "    <tr style=\"text-align: right;\">\n",
       "      <th></th>\n",
       "      <th>Pregnancies</th>\n",
       "      <th>Glucose</th>\n",
       "      <th>BloodPressure</th>\n",
       "      <th>SkinThickness</th>\n",
       "      <th>Insulin</th>\n",
       "      <th>BMI</th>\n",
       "      <th>DiabetesPedigreeFunction</th>\n",
       "      <th>Age</th>\n",
       "      <th>Outcome</th>\n",
       "    </tr>\n",
       "  </thead>\n",
       "  <tbody>\n",
       "    <tr>\n",
       "      <th>0</th>\n",
       "      <td>6</td>\n",
       "      <td>148</td>\n",
       "      <td>72</td>\n",
       "      <td>35</td>\n",
       "      <td>0</td>\n",
       "      <td>33.6</td>\n",
       "      <td>0.627</td>\n",
       "      <td>50</td>\n",
       "      <td>1</td>\n",
       "    </tr>\n",
       "    <tr>\n",
       "      <th>1</th>\n",
       "      <td>1</td>\n",
       "      <td>85</td>\n",
       "      <td>66</td>\n",
       "      <td>29</td>\n",
       "      <td>0</td>\n",
       "      <td>26.6</td>\n",
       "      <td>0.351</td>\n",
       "      <td>31</td>\n",
       "      <td>0</td>\n",
       "    </tr>\n",
       "    <tr>\n",
       "      <th>2</th>\n",
       "      <td>8</td>\n",
       "      <td>183</td>\n",
       "      <td>64</td>\n",
       "      <td>0</td>\n",
       "      <td>0</td>\n",
       "      <td>23.3</td>\n",
       "      <td>0.672</td>\n",
       "      <td>32</td>\n",
       "      <td>1</td>\n",
       "    </tr>\n",
       "    <tr>\n",
       "      <th>3</th>\n",
       "      <td>1</td>\n",
       "      <td>89</td>\n",
       "      <td>66</td>\n",
       "      <td>23</td>\n",
       "      <td>94</td>\n",
       "      <td>28.1</td>\n",
       "      <td>0.167</td>\n",
       "      <td>21</td>\n",
       "      <td>0</td>\n",
       "    </tr>\n",
       "    <tr>\n",
       "      <th>4</th>\n",
       "      <td>0</td>\n",
       "      <td>137</td>\n",
       "      <td>40</td>\n",
       "      <td>35</td>\n",
       "      <td>168</td>\n",
       "      <td>43.1</td>\n",
       "      <td>2.288</td>\n",
       "      <td>33</td>\n",
       "      <td>1</td>\n",
       "    </tr>\n",
       "  </tbody>\n",
       "</table>\n",
       "</div>"
      ],
      "text/plain": [
       "   Pregnancies  Glucose  BloodPressure  SkinThickness  Insulin   BMI  \\\n",
       "0            6      148             72             35        0  33.6   \n",
       "1            1       85             66             29        0  26.6   \n",
       "2            8      183             64              0        0  23.3   \n",
       "3            1       89             66             23       94  28.1   \n",
       "4            0      137             40             35      168  43.1   \n",
       "\n",
       "   DiabetesPedigreeFunction  Age  Outcome  \n",
       "0                     0.627   50        1  \n",
       "1                     0.351   31        0  \n",
       "2                     0.672   32        1  \n",
       "3                     0.167   21        0  \n",
       "4                     2.288   33        1  "
      ]
     },
     "execution_count": 54,
     "metadata": {},
     "output_type": "execute_result"
    }
   ],
   "source": [
    "# Show the first 5 row using dataframe.head() method\n",
    "df = pd.read_csv('dia_datasets.csv')\n",
    "df.head(5)"
   ]
  },
  {
   "cell_type": "code",
   "execution_count": 55,
   "id": "65be3d74",
   "metadata": {},
   "outputs": [
    {
     "data": {
      "text/plain": [
       "(768, 9)"
      ]
     },
     "execution_count": 55,
     "metadata": {},
     "output_type": "execute_result"
    }
   ],
   "source": [
    "df.shape"
   ]
  },
  {
   "cell_type": "code",
   "execution_count": 61,
   "id": "f82ab579",
   "metadata": {},
   "outputs": [
    {
     "name": "stdout",
     "output_type": "stream",
     "text": [
      "<class 'pandas.core.frame.DataFrame'>\n",
      "RangeIndex: 768 entries, 0 to 767\n",
      "Data columns (total 9 columns):\n",
      " #   Column                    Non-Null Count  Dtype  \n",
      "---  ------                    --------------  -----  \n",
      " 0   Pregnancies               768 non-null    int64  \n",
      " 1   Glucose                   768 non-null    int64  \n",
      " 2   BloodPressure             768 non-null    int64  \n",
      " 3   SkinThickness             768 non-null    int64  \n",
      " 4   Insulin                   768 non-null    int64  \n",
      " 5   BMI                       768 non-null    float64\n",
      " 6   DiabetesPedigreeFunction  768 non-null    float64\n",
      " 7   Age                       768 non-null    int64  \n",
      " 8   Outcome                   768 non-null    int64  \n",
      "dtypes: float64(2), int64(7)\n",
      "memory usage: 54.1 KB\n"
     ]
    }
   ],
   "source": [
    "# Statistical Overview of dataset\n",
    "df.info()"
   ]
  },
  {
   "cell_type": "code",
   "execution_count": 65,
   "id": "8aaef387",
   "metadata": {},
   "outputs": [
    {
     "data": {
      "text/html": [
       "<div>\n",
       "<style scoped>\n",
       "    .dataframe tbody tr th:only-of-type {\n",
       "        vertical-align: middle;\n",
       "    }\n",
       "\n",
       "    .dataframe tbody tr th {\n",
       "        vertical-align: top;\n",
       "    }\n",
       "\n",
       "    .dataframe thead th {\n",
       "        text-align: right;\n",
       "    }\n",
       "</style>\n",
       "<table border=\"1\" class=\"dataframe\">\n",
       "  <thead>\n",
       "    <tr style=\"text-align: right;\">\n",
       "      <th></th>\n",
       "      <th>Pregnancies</th>\n",
       "      <th>Glucose</th>\n",
       "      <th>BloodPressure</th>\n",
       "      <th>SkinThickness</th>\n",
       "      <th>Insulin</th>\n",
       "      <th>BMI</th>\n",
       "      <th>DiabetesPedigreeFunction</th>\n",
       "      <th>Age</th>\n",
       "      <th>Outcome</th>\n",
       "    </tr>\n",
       "  </thead>\n",
       "  <tbody>\n",
       "    <tr>\n",
       "      <th>count</th>\n",
       "      <td>768.000</td>\n",
       "      <td>768.000</td>\n",
       "      <td>768.000</td>\n",
       "      <td>768.000</td>\n",
       "      <td>768.000</td>\n",
       "      <td>768.000</td>\n",
       "      <td>768.000</td>\n",
       "      <td>768.000</td>\n",
       "      <td>768.000</td>\n",
       "    </tr>\n",
       "    <tr>\n",
       "      <th>mean</th>\n",
       "      <td>3.845</td>\n",
       "      <td>120.895</td>\n",
       "      <td>69.105</td>\n",
       "      <td>20.536</td>\n",
       "      <td>79.799</td>\n",
       "      <td>31.993</td>\n",
       "      <td>0.472</td>\n",
       "      <td>33.241</td>\n",
       "      <td>0.349</td>\n",
       "    </tr>\n",
       "    <tr>\n",
       "      <th>std</th>\n",
       "      <td>3.370</td>\n",
       "      <td>31.973</td>\n",
       "      <td>19.356</td>\n",
       "      <td>15.952</td>\n",
       "      <td>115.244</td>\n",
       "      <td>7.884</td>\n",
       "      <td>0.331</td>\n",
       "      <td>11.760</td>\n",
       "      <td>0.477</td>\n",
       "    </tr>\n",
       "    <tr>\n",
       "      <th>min</th>\n",
       "      <td>0.000</td>\n",
       "      <td>0.000</td>\n",
       "      <td>0.000</td>\n",
       "      <td>0.000</td>\n",
       "      <td>0.000</td>\n",
       "      <td>0.000</td>\n",
       "      <td>0.078</td>\n",
       "      <td>21.000</td>\n",
       "      <td>0.000</td>\n",
       "    </tr>\n",
       "    <tr>\n",
       "      <th>25%</th>\n",
       "      <td>1.000</td>\n",
       "      <td>99.000</td>\n",
       "      <td>62.000</td>\n",
       "      <td>0.000</td>\n",
       "      <td>0.000</td>\n",
       "      <td>27.300</td>\n",
       "      <td>0.244</td>\n",
       "      <td>24.000</td>\n",
       "      <td>0.000</td>\n",
       "    </tr>\n",
       "    <tr>\n",
       "      <th>50%</th>\n",
       "      <td>3.000</td>\n",
       "      <td>117.000</td>\n",
       "      <td>72.000</td>\n",
       "      <td>23.000</td>\n",
       "      <td>30.500</td>\n",
       "      <td>32.000</td>\n",
       "      <td>0.372</td>\n",
       "      <td>29.000</td>\n",
       "      <td>0.000</td>\n",
       "    </tr>\n",
       "    <tr>\n",
       "      <th>75%</th>\n",
       "      <td>6.000</td>\n",
       "      <td>140.250</td>\n",
       "      <td>80.000</td>\n",
       "      <td>32.000</td>\n",
       "      <td>127.250</td>\n",
       "      <td>36.600</td>\n",
       "      <td>0.626</td>\n",
       "      <td>41.000</td>\n",
       "      <td>1.000</td>\n",
       "    </tr>\n",
       "    <tr>\n",
       "      <th>max</th>\n",
       "      <td>17.000</td>\n",
       "      <td>199.000</td>\n",
       "      <td>122.000</td>\n",
       "      <td>99.000</td>\n",
       "      <td>846.000</td>\n",
       "      <td>67.100</td>\n",
       "      <td>2.420</td>\n",
       "      <td>81.000</td>\n",
       "      <td>1.000</td>\n",
       "    </tr>\n",
       "  </tbody>\n",
       "</table>\n",
       "</div>"
      ],
      "text/plain": [
       "       Pregnancies  Glucose  BloodPressure  SkinThickness  Insulin      BMI  \\\n",
       "count      768.000  768.000        768.000        768.000  768.000  768.000   \n",
       "mean         3.845  120.895         69.105         20.536   79.799   31.993   \n",
       "std          3.370   31.973         19.356         15.952  115.244    7.884   \n",
       "min          0.000    0.000          0.000          0.000    0.000    0.000   \n",
       "25%          1.000   99.000         62.000          0.000    0.000   27.300   \n",
       "50%          3.000  117.000         72.000         23.000   30.500   32.000   \n",
       "75%          6.000  140.250         80.000         32.000  127.250   36.600   \n",
       "max         17.000  199.000        122.000         99.000  846.000   67.100   \n",
       "\n",
       "       DiabetesPedigreeFunction      Age  Outcome  \n",
       "count                   768.000  768.000  768.000  \n",
       "mean                      0.472   33.241    0.349  \n",
       "std                       0.331   11.760    0.477  \n",
       "min                       0.078   21.000    0.000  \n",
       "25%                       0.244   24.000    0.000  \n",
       "50%                       0.372   29.000    0.000  \n",
       "75%                       0.626   41.000    1.000  \n",
       "max                       2.420   81.000    1.000  "
      ]
     },
     "execution_count": 65,
     "metadata": {},
     "output_type": "execute_result"
    }
   ],
   "source": [
    "df.describe().round(3)"
   ]
  },
  {
   "cell_type": "code",
   "execution_count": 68,
   "id": "693603f1",
   "metadata": {},
   "outputs": [
    {
     "data": {
      "text/html": [
       "<div>\n",
       "<style scoped>\n",
       "    .dataframe tbody tr th:only-of-type {\n",
       "        vertical-align: middle;\n",
       "    }\n",
       "\n",
       "    .dataframe tbody tr th {\n",
       "        vertical-align: top;\n",
       "    }\n",
       "\n",
       "    .dataframe thead th {\n",
       "        text-align: right;\n",
       "    }\n",
       "</style>\n",
       "<table border=\"1\" class=\"dataframe\">\n",
       "  <thead>\n",
       "    <tr style=\"text-align: right;\">\n",
       "      <th></th>\n",
       "      <th>Pregnancies</th>\n",
       "      <th>Glucose</th>\n",
       "      <th>BloodPressure</th>\n",
       "      <th>SkinThickness</th>\n",
       "      <th>Insulin</th>\n",
       "      <th>BMI</th>\n",
       "      <th>DiabetesPedigreeFunction</th>\n",
       "      <th>Age</th>\n",
       "      <th>Outcome</th>\n",
       "    </tr>\n",
       "  </thead>\n",
       "  <tbody>\n",
       "    <tr>\n",
       "      <th>0</th>\n",
       "      <td>False</td>\n",
       "      <td>False</td>\n",
       "      <td>False</td>\n",
       "      <td>False</td>\n",
       "      <td>False</td>\n",
       "      <td>False</td>\n",
       "      <td>False</td>\n",
       "      <td>False</td>\n",
       "      <td>False</td>\n",
       "    </tr>\n",
       "    <tr>\n",
       "      <th>1</th>\n",
       "      <td>False</td>\n",
       "      <td>False</td>\n",
       "      <td>False</td>\n",
       "      <td>False</td>\n",
       "      <td>False</td>\n",
       "      <td>False</td>\n",
       "      <td>False</td>\n",
       "      <td>False</td>\n",
       "      <td>False</td>\n",
       "    </tr>\n",
       "    <tr>\n",
       "      <th>2</th>\n",
       "      <td>False</td>\n",
       "      <td>False</td>\n",
       "      <td>False</td>\n",
       "      <td>False</td>\n",
       "      <td>False</td>\n",
       "      <td>False</td>\n",
       "      <td>False</td>\n",
       "      <td>False</td>\n",
       "      <td>False</td>\n",
       "    </tr>\n",
       "    <tr>\n",
       "      <th>3</th>\n",
       "      <td>False</td>\n",
       "      <td>False</td>\n",
       "      <td>False</td>\n",
       "      <td>False</td>\n",
       "      <td>False</td>\n",
       "      <td>False</td>\n",
       "      <td>False</td>\n",
       "      <td>False</td>\n",
       "      <td>False</td>\n",
       "    </tr>\n",
       "    <tr>\n",
       "      <th>4</th>\n",
       "      <td>False</td>\n",
       "      <td>False</td>\n",
       "      <td>False</td>\n",
       "      <td>False</td>\n",
       "      <td>False</td>\n",
       "      <td>False</td>\n",
       "      <td>False</td>\n",
       "      <td>False</td>\n",
       "      <td>False</td>\n",
       "    </tr>\n",
       "  </tbody>\n",
       "</table>\n",
       "</div>"
      ],
      "text/plain": [
       "   Pregnancies  Glucose  BloodPressure  SkinThickness  Insulin    BMI  \\\n",
       "0        False    False          False          False    False  False   \n",
       "1        False    False          False          False    False  False   \n",
       "2        False    False          False          False    False  False   \n",
       "3        False    False          False          False    False  False   \n",
       "4        False    False          False          False    False  False   \n",
       "\n",
       "   DiabetesPedigreeFunction    Age  Outcome  \n",
       "0                     False  False    False  \n",
       "1                     False  False    False  \n",
       "2                     False  False    False  \n",
       "3                     False  False    False  \n",
       "4                     False  False    False  "
      ]
     },
     "execution_count": 68,
     "metadata": {},
     "output_type": "execute_result"
    }
   ],
   "source": [
    "# Identify and handle missing values by .isnull() and .notnull()\n",
    "missing_data = df.isnull()\n",
    "missing_data.head(5)\n"
   ]
  },
  {
   "cell_type": "code",
   "execution_count": 75,
   "id": "986ccd69",
   "metadata": {},
   "outputs": [
    {
     "data": {
      "text/plain": [
       "['Pregnancies',\n",
       " 'Glucose',\n",
       " 'BloodPressure',\n",
       " 'SkinThickness',\n",
       " 'Insulin',\n",
       " 'BMI',\n",
       " 'DiabetesPedigreeFunction',\n",
       " 'Age',\n",
       " 'Outcome']"
      ]
     },
     "execution_count": 75,
     "metadata": {},
     "output_type": "execute_result"
    }
   ],
   "source": [
    "missing_data.columns.values.tolist()"
   ]
  },
  {
   "cell_type": "code",
   "execution_count": 76,
   "id": "8bb90643",
   "metadata": {},
   "outputs": [
    {
     "name": "stdout",
     "output_type": "stream",
     "text": [
      "Pregnancies\n",
      "Pregnancies\n",
      "False    768\n",
      "Name: count, dtype: int64\n",
      "\n",
      "Glucose\n",
      "Glucose\n",
      "False    768\n",
      "Name: count, dtype: int64\n",
      "\n",
      "BloodPressure\n",
      "BloodPressure\n",
      "False    768\n",
      "Name: count, dtype: int64\n",
      "\n",
      "SkinThickness\n",
      "SkinThickness\n",
      "False    768\n",
      "Name: count, dtype: int64\n",
      "\n",
      "Insulin\n",
      "Insulin\n",
      "False    768\n",
      "Name: count, dtype: int64\n",
      "\n",
      "BMI\n",
      "BMI\n",
      "False    768\n",
      "Name: count, dtype: int64\n",
      "\n",
      "DiabetesPedigreeFunction\n",
      "DiabetesPedigreeFunction\n",
      "False    768\n",
      "Name: count, dtype: int64\n",
      "\n",
      "Age\n",
      "Age\n",
      "False    768\n",
      "Name: count, dtype: int64\n",
      "\n",
      "Outcome\n",
      "Outcome\n",
      "False    768\n",
      "Name: count, dtype: int64\n",
      "\n"
     ]
    }
   ],
   "source": [
    "# Count missing value in each column\n",
    "for column in missing_data.columns.values.tolist():\n",
    "    print(column)\n",
    "    print(missing_data[column].value_counts())\n",
    "    print(\"\")\n"
   ]
  },
  {
   "cell_type": "code",
   "execution_count": 78,
   "id": "4ede5135",
   "metadata": {},
   "outputs": [
    {
     "data": {
      "text/plain": [
       "Pregnancies                   int64\n",
       "Glucose                       int64\n",
       "BloodPressure                 int64\n",
       "SkinThickness                 int64\n",
       "Insulin                       int64\n",
       "BMI                         float64\n",
       "DiabetesPedigreeFunction    float64\n",
       "Age                           int64\n",
       "Outcome                       int64\n",
       "dtype: object"
      ]
     },
     "execution_count": 78,
     "metadata": {},
     "output_type": "execute_result"
    }
   ],
   "source": [
    "# Correct data format .dtype() and .astype()\n",
    "df.dtypes\n"
   ]
  },
  {
   "cell_type": "markdown",
   "id": "63be16b6",
   "metadata": {},
   "source": [
    "#### Visualisation"
   ]
  },
  {
   "cell_type": "code",
   "execution_count": 82,
   "id": "80a491c0",
   "metadata": {},
   "outputs": [],
   "source": [
    "# Import libraries\n",
    "import matplotlib.pyplot as plt\n",
    "import seaborn as sns"
   ]
  },
  {
   "cell_type": "code",
   "execution_count": 83,
   "id": "42df926e",
   "metadata": {},
   "outputs": [
    {
     "data": {
      "image/png": "[encoded data removed]",
      "text/plain": [
       "<Figure size 640x480 with 1 Axes>"
      ]
     },
     "metadata": {},
     "output_type": "display_data"
    }
   ],
   "source": [
    "labels = 'Not Diabetic', 'Diabetic'\n",
    "plt.pie(df['Outcome'].value_counts(), labels=labels, autopct='%0.02f%%')\n",
    "plt.legend()\n",
    "plt.show()"
   ]
  },
  {
   "cell_type": "code",
   "execution_count": 111,
   "id": "3aa7af0d",
   "metadata": {},
   "outputs": [
    {
     "name": "stdout",
     "output_type": "stream",
     "text": [
      "0\n",
      "1\n"
     ]
    }
   ],
   "source": [
    "for n in range(0, 2):\n",
    "    print(n)"
   ]
  }
 ],
 "metadata": {
  "kernelspec": {
   "display_name": "base",
   "language": "python",
   "name": "python3"
  },
  "language_info": {
   "codemirror_mode": {
    "name": "ipython",
    "version": 3
   },
   "file_extension": ".py",
   "mimetype": "text/x-python",
   "name": "python",
   "nbconvert_exporter": "python",
   "pygments_lexer": "ipython3",
   "version": "3.12.3"
  }
 },
 "nbformat": 4,
 "nbformat_minor": 5
}
